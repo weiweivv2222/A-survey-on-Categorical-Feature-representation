{
 "cells": [
  {
   "cell_type": "code",
   "execution_count": 1,
   "id": "5605e253-ab93-42c7-a4f5-e411dbeccf45",
   "metadata": {},
   "outputs": [
    {
     "name": "stderr",
     "output_type": "stream",
     "text": [
      "C:\\Users\\P70071469\\AppData\\Local\\anaconda3\\envs\\SLR\\lib\\site-packages\\paramiko\\pkey.py:82: CryptographyDeprecationWarning: TripleDES has been moved to cryptography.hazmat.decrepit.ciphers.algorithms.TripleDES and will be removed from this module in 48.0.0.\n",
      "  \"cipher\": algorithms.TripleDES,\n",
      "C:\\Users\\P70071469\\AppData\\Local\\anaconda3\\envs\\SLR\\lib\\site-packages\\paramiko\\transport.py:219: CryptographyDeprecationWarning: Blowfish has been moved to cryptography.hazmat.decrepit.ciphers.algorithms.Blowfish and will be removed from this module in 45.0.0.\n",
      "  \"class\": algorithms.Blowfish,\n",
      "C:\\Users\\P70071469\\AppData\\Local\\anaconda3\\envs\\SLR\\lib\\site-packages\\paramiko\\transport.py:243: CryptographyDeprecationWarning: TripleDES has been moved to cryptography.hazmat.decrepit.ciphers.algorithms.TripleDES and will be removed from this module in 48.0.0.\n",
      "  \"class\": algorithms.TripleDES,\n"
     ]
    },
    {
     "name": "stdout",
     "output_type": "stream",
     "text": [
      "Classifier: LR\n"
     ]
    },
    {
     "data": {
      "application/vnd.jupyter.widget-view+json": {
       "model_id": "19538479912742e8af15f40ab1fd31c8",
       "version_major": 2,
       "version_minor": 0
      },
      "text/plain": [
       "Computing transition probabilities:   0%|          | 0/44 [00:00<?, ?it/s]"
      ]
     },
     "metadata": {},
     "output_type": "display_data"
    },
    {
     "data": {
      "application/vnd.jupyter.widget-view+json": {
       "model_id": "cd09458c97c945e798715c10efb87abd",
       "version_major": 2,
       "version_minor": 0
      },
      "text/plain": [
       "Computing transition probabilities:   0%|          | 0/44 [00:00<?, ?it/s]"
      ]
     },
     "metadata": {},
     "output_type": "display_data"
    },
    {
     "data": {
      "application/vnd.jupyter.widget-view+json": {
       "model_id": "46dc896d789a4a46a49d3f928e7094bc",
       "version_major": 2,
       "version_minor": 0
      },
      "text/plain": [
       "Computing transition probabilities:   0%|          | 0/44 [00:00<?, ?it/s]"
      ]
     },
     "metadata": {},
     "output_type": "display_data"
    },
    {
     "data": {
      "application/vnd.jupyter.widget-view+json": {
       "model_id": "5d48150a165f4d1e95e0b1651db78f49",
       "version_major": 2,
       "version_minor": 0
      },
      "text/plain": [
       "Computing transition probabilities:   0%|          | 0/44 [00:00<?, ?it/s]"
      ]
     },
     "metadata": {},
     "output_type": "display_data"
    },
    {
     "data": {
      "application/vnd.jupyter.widget-view+json": {
       "model_id": "6497cda87e714dda99118b7270a9f956",
       "version_major": 2,
       "version_minor": 0
      },
      "text/plain": [
       "Computing transition probabilities:   0%|          | 0/44 [00:00<?, ?it/s]"
      ]
     },
     "metadata": {},
     "output_type": "display_data"
    },
    {
     "data": {
      "application/vnd.jupyter.widget-view+json": {
       "model_id": "f9cdc2ae8cc14f5682109adedead7f1d",
       "version_major": 2,
       "version_minor": 0
      },
      "text/plain": [
       "Computing transition probabilities:   0%|          | 0/44 [00:00<?, ?it/s]"
      ]
     },
     "metadata": {},
     "output_type": "display_data"
    },
    {
     "data": {
      "application/vnd.jupyter.widget-view+json": {
       "model_id": "f4fced02e9b14a079a3d19465601e660",
       "version_major": 2,
       "version_minor": 0
      },
      "text/plain": [
       "Computing transition probabilities:   0%|          | 0/44 [00:00<?, ?it/s]"
      ]
     },
     "metadata": {},
     "output_type": "display_data"
    },
    {
     "data": {
      "application/vnd.jupyter.widget-view+json": {
       "model_id": "988d0c7c557b4068af421b7dcc17ef97",
       "version_major": 2,
       "version_minor": 0
      },
      "text/plain": [
       "Computing transition probabilities:   0%|          | 0/44 [00:00<?, ?it/s]"
      ]
     },
     "metadata": {},
     "output_type": "display_data"
    },
    {
     "data": {
      "application/vnd.jupyter.widget-view+json": {
       "model_id": "41ed095e69a34eaab86199f9956aaeff",
       "version_major": 2,
       "version_minor": 0
      },
      "text/plain": [
       "Computing transition probabilities:   0%|          | 0/44 [00:00<?, ?it/s]"
      ]
     },
     "metadata": {},
     "output_type": "display_data"
    },
    {
     "data": {
      "application/vnd.jupyter.widget-view+json": {
       "model_id": "2c5c66cd1b184adfa04a0a88fb9f9220",
       "version_major": 2,
       "version_minor": 0
      },
      "text/plain": [
       "Computing transition probabilities:   0%|          | 0/44 [00:00<?, ?it/s]"
      ]
     },
     "metadata": {},
     "output_type": "display_data"
    },
    {
     "data": {
      "application/vnd.jupyter.widget-view+json": {
       "model_id": "59e6a2edc95845ebb58789ddae7511d4",
       "version_major": 2,
       "version_minor": 0
      },
      "text/plain": [
       "Computing transition probabilities:   0%|          | 0/44 [00:00<?, ?it/s]"
      ]
     },
     "metadata": {},
     "output_type": "display_data"
    },
    {
     "data": {
      "application/vnd.jupyter.widget-view+json": {
       "model_id": "b75c42ab1ea94ad385851ca9fa1b6f67",
       "version_major": 2,
       "version_minor": 0
      },
      "text/plain": [
       "Computing transition probabilities:   0%|          | 0/44 [00:00<?, ?it/s]"
      ]
     },
     "metadata": {},
     "output_type": "display_data"
    },
    {
     "data": {
      "application/vnd.jupyter.widget-view+json": {
       "model_id": "db999f7855c34ada9b57686d06dc65e3",
       "version_major": 2,
       "version_minor": 0
      },
      "text/plain": [
       "Computing transition probabilities:   0%|          | 0/44 [00:00<?, ?it/s]"
      ]
     },
     "metadata": {},
     "output_type": "display_data"
    },
    {
     "data": {
      "application/vnd.jupyter.widget-view+json": {
       "model_id": "41f44fc82f934e73b51085ab44dd3f38",
       "version_major": 2,
       "version_minor": 0
      },
      "text/plain": [
       "Computing transition probabilities:   0%|          | 0/44 [00:00<?, ?it/s]"
      ]
     },
     "metadata": {},
     "output_type": "display_data"
    },
    {
     "data": {
      "application/vnd.jupyter.widget-view+json": {
       "model_id": "fa032f73ac274fa89882400507ed4c88",
       "version_major": 2,
       "version_minor": 0
      },
      "text/plain": [
       "Computing transition probabilities:   0%|          | 0/44 [00:00<?, ?it/s]"
      ]
     },
     "metadata": {},
     "output_type": "display_data"
    },
    {
     "data": {
      "application/vnd.jupyter.widget-view+json": {
       "model_id": "295fae5195604233acd4048dde837c38",
       "version_major": 2,
       "version_minor": 0
      },
      "text/plain": [
       "Computing transition probabilities:   0%|          | 0/44 [00:00<?, ?it/s]"
      ]
     },
     "metadata": {},
     "output_type": "display_data"
    },
    {
     "data": {
      "application/vnd.jupyter.widget-view+json": {
       "model_id": "093db615d76d4b618b35aeaa47ccf6fa",
       "version_major": 2,
       "version_minor": 0
      },
      "text/plain": [
       "Computing transition probabilities:   0%|          | 0/44 [00:00<?, ?it/s]"
      ]
     },
     "metadata": {},
     "output_type": "display_data"
    },
    {
     "data": {
      "application/vnd.jupyter.widget-view+json": {
       "model_id": "442ba773c0a34e38931d2435d98e68cd",
       "version_major": 2,
       "version_minor": 0
      },
      "text/plain": [
       "Computing transition probabilities:   0%|          | 0/44 [00:00<?, ?it/s]"
      ]
     },
     "metadata": {},
     "output_type": "display_data"
    },
    {
     "data": {
      "application/vnd.jupyter.widget-view+json": {
       "model_id": "07359452538d4a118935f8bc468edda0",
       "version_major": 2,
       "version_minor": 0
      },
      "text/plain": [
       "Computing transition probabilities:   0%|          | 0/44 [00:00<?, ?it/s]"
      ]
     },
     "metadata": {},
     "output_type": "display_data"
    },
    {
     "data": {
      "application/vnd.jupyter.widget-view+json": {
       "model_id": "db6edf6793d7428e881975b9b7bb7aa5",
       "version_major": 2,
       "version_minor": 0
      },
      "text/plain": [
       "Computing transition probabilities:   0%|          | 0/44 [00:00<?, ?it/s]"
      ]
     },
     "metadata": {},
     "output_type": "display_data"
    },
    {
     "name": "stdout",
     "output_type": "stream",
     "text": [
      "Accuracy: 0.907 (95% CI: 0.904 - 0.909)\n",
      "Precision: 0.658 (95% CI: 0.639 - 0.677)\n",
      "Recall: 0.359 (95% CI: 0.340 - 0.377)\n",
      "F1 Score: 0.463 (95% CI: 0.445 - 0.481)\n",
      "ROC AUC: 0.913 (95% CI: 0.908 - 0.918)\n",
      "Total Computation Time: 201.597 seconds\n",
      "\n",
      "Classifier: DT\n"
     ]
    },
    {
     "data": {
      "application/vnd.jupyter.widget-view+json": {
       "model_id": "c6770a5ef8974c3b96c407db9b9993e2",
       "version_major": 2,
       "version_minor": 0
      },
      "text/plain": [
       "Computing transition probabilities:   0%|          | 0/44 [00:00<?, ?it/s]"
      ]
     },
     "metadata": {},
     "output_type": "display_data"
    },
    {
     "data": {
      "application/vnd.jupyter.widget-view+json": {
       "model_id": "d7dca1da12614516bf36ad4e417ce67f",
       "version_major": 2,
       "version_minor": 0
      },
      "text/plain": [
       "Computing transition probabilities:   0%|          | 0/44 [00:00<?, ?it/s]"
      ]
     },
     "metadata": {},
     "output_type": "display_data"
    },
    {
     "data": {
      "application/vnd.jupyter.widget-view+json": {
       "model_id": "d80b94bdd4b949a1b5298c1319fbf528",
       "version_major": 2,
       "version_minor": 0
      },
      "text/plain": [
       "Computing transition probabilities:   0%|          | 0/44 [00:00<?, ?it/s]"
      ]
     },
     "metadata": {},
     "output_type": "display_data"
    },
    {
     "data": {
      "application/vnd.jupyter.widget-view+json": {
       "model_id": "c4a2482a99c0482da12d9b55ef9f03dd",
       "version_major": 2,
       "version_minor": 0
      },
      "text/plain": [
       "Computing transition probabilities:   0%|          | 0/44 [00:00<?, ?it/s]"
      ]
     },
     "metadata": {},
     "output_type": "display_data"
    },
    {
     "data": {
      "application/vnd.jupyter.widget-view+json": {
       "model_id": "470903c30b294d1b9aa7b5187a05ac4c",
       "version_major": 2,
       "version_minor": 0
      },
      "text/plain": [
       "Computing transition probabilities:   0%|          | 0/44 [00:00<?, ?it/s]"
      ]
     },
     "metadata": {},
     "output_type": "display_data"
    },
    {
     "data": {
      "application/vnd.jupyter.widget-view+json": {
       "model_id": "18fba2df2a824c60a00d54e83b586c7d",
       "version_major": 2,
       "version_minor": 0
      },
      "text/plain": [
       "Computing transition probabilities:   0%|          | 0/44 [00:00<?, ?it/s]"
      ]
     },
     "metadata": {},
     "output_type": "display_data"
    },
    {
     "data": {
      "application/vnd.jupyter.widget-view+json": {
       "model_id": "d32c628d2f4f4263ad42f84e4c92ebd3",
       "version_major": 2,
       "version_minor": 0
      },
      "text/plain": [
       "Computing transition probabilities:   0%|          | 0/44 [00:00<?, ?it/s]"
      ]
     },
     "metadata": {},
     "output_type": "display_data"
    },
    {
     "data": {
      "application/vnd.jupyter.widget-view+json": {
       "model_id": "1e00ea264cbb45d787cd38d70501881e",
       "version_major": 2,
       "version_minor": 0
      },
      "text/plain": [
       "Computing transition probabilities:   0%|          | 0/44 [00:00<?, ?it/s]"
      ]
     },
     "metadata": {},
     "output_type": "display_data"
    },
    {
     "data": {
      "application/vnd.jupyter.widget-view+json": {
       "model_id": "5405aee867e845f280bbf61c6cfbf918",
       "version_major": 2,
       "version_minor": 0
      },
      "text/plain": [
       "Computing transition probabilities:   0%|          | 0/44 [00:00<?, ?it/s]"
      ]
     },
     "metadata": {},
     "output_type": "display_data"
    },
    {
     "data": {
      "application/vnd.jupyter.widget-view+json": {
       "model_id": "0620d76a74024d9c913c298cfa41544a",
       "version_major": 2,
       "version_minor": 0
      },
      "text/plain": [
       "Computing transition probabilities:   0%|          | 0/44 [00:00<?, ?it/s]"
      ]
     },
     "metadata": {},
     "output_type": "display_data"
    },
    {
     "data": {
      "application/vnd.jupyter.widget-view+json": {
       "model_id": "07fc30ded8a9408eba82aa4535a9e83d",
       "version_major": 2,
       "version_minor": 0
      },
      "text/plain": [
       "Computing transition probabilities:   0%|          | 0/44 [00:00<?, ?it/s]"
      ]
     },
     "metadata": {},
     "output_type": "display_data"
    },
    {
     "data": {
      "application/vnd.jupyter.widget-view+json": {
       "model_id": "228b033831564f7397e1f5b8965b7d17",
       "version_major": 2,
       "version_minor": 0
      },
      "text/plain": [
       "Computing transition probabilities:   0%|          | 0/44 [00:00<?, ?it/s]"
      ]
     },
     "metadata": {},
     "output_type": "display_data"
    },
    {
     "data": {
      "application/vnd.jupyter.widget-view+json": {
       "model_id": "c003d0dd306d47f3be6a03501a35fa56",
       "version_major": 2,
       "version_minor": 0
      },
      "text/plain": [
       "Computing transition probabilities:   0%|          | 0/44 [00:00<?, ?it/s]"
      ]
     },
     "metadata": {},
     "output_type": "display_data"
    },
    {
     "data": {
      "application/vnd.jupyter.widget-view+json": {
       "model_id": "140f0d59e1844189bf05cd119a46ec96",
       "version_major": 2,
       "version_minor": 0
      },
      "text/plain": [
       "Computing transition probabilities:   0%|          | 0/44 [00:00<?, ?it/s]"
      ]
     },
     "metadata": {},
     "output_type": "display_data"
    },
    {
     "data": {
      "application/vnd.jupyter.widget-view+json": {
       "model_id": "34c02ac22c03476087c8cdd3371c0d0e",
       "version_major": 2,
       "version_minor": 0
      },
      "text/plain": [
       "Computing transition probabilities:   0%|          | 0/44 [00:00<?, ?it/s]"
      ]
     },
     "metadata": {},
     "output_type": "display_data"
    },
    {
     "data": {
      "application/vnd.jupyter.widget-view+json": {
       "model_id": "c3e1cd4e6dfb4184b1c8e0aed450ef75",
       "version_major": 2,
       "version_minor": 0
      },
      "text/plain": [
       "Computing transition probabilities:   0%|          | 0/44 [00:00<?, ?it/s]"
      ]
     },
     "metadata": {},
     "output_type": "display_data"
    },
    {
     "data": {
      "application/vnd.jupyter.widget-view+json": {
       "model_id": "2c519fcc519d45d683bc5e137e1018de",
       "version_major": 2,
       "version_minor": 0
      },
      "text/plain": [
       "Computing transition probabilities:   0%|          | 0/44 [00:00<?, ?it/s]"
      ]
     },
     "metadata": {},
     "output_type": "display_data"
    },
    {
     "data": {
      "application/vnd.jupyter.widget-view+json": {
       "model_id": "805834b8f17946f9972e11e0eadfbe47",
       "version_major": 2,
       "version_minor": 0
      },
      "text/plain": [
       "Computing transition probabilities:   0%|          | 0/44 [00:00<?, ?it/s]"
      ]
     },
     "metadata": {},
     "output_type": "display_data"
    },
    {
     "data": {
      "application/vnd.jupyter.widget-view+json": {
       "model_id": "3d01701061c8408194dc773e6b8300b0",
       "version_major": 2,
       "version_minor": 0
      },
      "text/plain": [
       "Computing transition probabilities:   0%|          | 0/44 [00:00<?, ?it/s]"
      ]
     },
     "metadata": {},
     "output_type": "display_data"
    },
    {
     "data": {
      "application/vnd.jupyter.widget-view+json": {
       "model_id": "3007d9bfa1e94bdb9561b67b83aca296",
       "version_major": 2,
       "version_minor": 0
      },
      "text/plain": [
       "Computing transition probabilities:   0%|          | 0/44 [00:00<?, ?it/s]"
      ]
     },
     "metadata": {},
     "output_type": "display_data"
    },
    {
     "name": "stdout",
     "output_type": "stream",
     "text": [
      "Accuracy: 0.906 (95% CI: 0.904 - 0.908)\n",
      "Precision: 0.650 (95% CI: 0.632 - 0.668)\n",
      "Recall: 0.358 (95% CI: 0.342 - 0.374)\n",
      "F1 Score: 0.461 (95% CI: 0.445 - 0.478)\n",
      "ROC AUC: 0.843 (95% CI: 0.835 - 0.850)\n",
      "Total Computation Time: 204.837 seconds\n",
      "\n",
      "Classifier: RF\n"
     ]
    },
    {
     "data": {
      "application/vnd.jupyter.widget-view+json": {
       "model_id": "36a82401b2c0491c9168b0e2e8dbce1a",
       "version_major": 2,
       "version_minor": 0
      },
      "text/plain": [
       "Computing transition probabilities:   0%|          | 0/44 [00:00<?, ?it/s]"
      ]
     },
     "metadata": {},
     "output_type": "display_data"
    },
    {
     "data": {
      "application/vnd.jupyter.widget-view+json": {
       "model_id": "15f3f4a3e8f340c7b2cc14caa63d1403",
       "version_major": 2,
       "version_minor": 0
      },
      "text/plain": [
       "Computing transition probabilities:   0%|          | 0/44 [00:00<?, ?it/s]"
      ]
     },
     "metadata": {},
     "output_type": "display_data"
    },
    {
     "data": {
      "application/vnd.jupyter.widget-view+json": {
       "model_id": "ccd812ec906d4d52bfa3160e129777ac",
       "version_major": 2,
       "version_minor": 0
      },
      "text/plain": [
       "Computing transition probabilities:   0%|          | 0/44 [00:00<?, ?it/s]"
      ]
     },
     "metadata": {},
     "output_type": "display_data"
    },
    {
     "data": {
      "application/vnd.jupyter.widget-view+json": {
       "model_id": "5f064dde96324f97825d2272b1d3ff05",
       "version_major": 2,
       "version_minor": 0
      },
      "text/plain": [
       "Computing transition probabilities:   0%|          | 0/44 [00:00<?, ?it/s]"
      ]
     },
     "metadata": {},
     "output_type": "display_data"
    },
    {
     "data": {
      "application/vnd.jupyter.widget-view+json": {
       "model_id": "8c86d96d3e0b4b689ed91113be023ef7",
       "version_major": 2,
       "version_minor": 0
      },
      "text/plain": [
       "Computing transition probabilities:   0%|          | 0/44 [00:00<?, ?it/s]"
      ]
     },
     "metadata": {},
     "output_type": "display_data"
    },
    {
     "data": {
      "application/vnd.jupyter.widget-view+json": {
       "model_id": "c8c501b5c0cd411ca5221f36bed1893e",
       "version_major": 2,
       "version_minor": 0
      },
      "text/plain": [
       "Computing transition probabilities:   0%|          | 0/44 [00:00<?, ?it/s]"
      ]
     },
     "metadata": {},
     "output_type": "display_data"
    },
    {
     "data": {
      "application/vnd.jupyter.widget-view+json": {
       "model_id": "16ef0d86506248b08597cafdb7ef47c3",
       "version_major": 2,
       "version_minor": 0
      },
      "text/plain": [
       "Computing transition probabilities:   0%|          | 0/44 [00:00<?, ?it/s]"
      ]
     },
     "metadata": {},
     "output_type": "display_data"
    },
    {
     "data": {
      "application/vnd.jupyter.widget-view+json": {
       "model_id": "4ce74880f5544cb59bcd47509a3e97dc",
       "version_major": 2,
       "version_minor": 0
      },
      "text/plain": [
       "Computing transition probabilities:   0%|          | 0/44 [00:00<?, ?it/s]"
      ]
     },
     "metadata": {},
     "output_type": "display_data"
    },
    {
     "data": {
      "application/vnd.jupyter.widget-view+json": {
       "model_id": "c50219fef47e4a658dcb0717b9f021eb",
       "version_major": 2,
       "version_minor": 0
      },
      "text/plain": [
       "Computing transition probabilities:   0%|          | 0/44 [00:00<?, ?it/s]"
      ]
     },
     "metadata": {},
     "output_type": "display_data"
    },
    {
     "data": {
      "application/vnd.jupyter.widget-view+json": {
       "model_id": "826e908a2b404a99b4cc2c305fad0460",
       "version_major": 2,
       "version_minor": 0
      },
      "text/plain": [
       "Computing transition probabilities:   0%|          | 0/44 [00:00<?, ?it/s]"
      ]
     },
     "metadata": {},
     "output_type": "display_data"
    },
    {
     "data": {
      "application/vnd.jupyter.widget-view+json": {
       "model_id": "c29278cf1a6b4b3eaba83831c174d9b6",
       "version_major": 2,
       "version_minor": 0
      },
      "text/plain": [
       "Computing transition probabilities:   0%|          | 0/44 [00:00<?, ?it/s]"
      ]
     },
     "metadata": {},
     "output_type": "display_data"
    },
    {
     "data": {
      "application/vnd.jupyter.widget-view+json": {
       "model_id": "89053a85dbcb4062b2264fa8d86cfb94",
       "version_major": 2,
       "version_minor": 0
      },
      "text/plain": [
       "Computing transition probabilities:   0%|          | 0/44 [00:00<?, ?it/s]"
      ]
     },
     "metadata": {},
     "output_type": "display_data"
    },
    {
     "data": {
      "application/vnd.jupyter.widget-view+json": {
       "model_id": "2bb6374a257e40f6a1abc4de67fdc165",
       "version_major": 2,
       "version_minor": 0
      },
      "text/plain": [
       "Computing transition probabilities:   0%|          | 0/44 [00:00<?, ?it/s]"
      ]
     },
     "metadata": {},
     "output_type": "display_data"
    },
    {
     "data": {
      "application/vnd.jupyter.widget-view+json": {
       "model_id": "3d6d78b3c62747458216696dd7e0455f",
       "version_major": 2,
       "version_minor": 0
      },
      "text/plain": [
       "Computing transition probabilities:   0%|          | 0/44 [00:00<?, ?it/s]"
      ]
     },
     "metadata": {},
     "output_type": "display_data"
    },
    {
     "data": {
      "application/vnd.jupyter.widget-view+json": {
       "model_id": "17f47c7367a84d5091f197e3b24de4e2",
       "version_major": 2,
       "version_minor": 0
      },
      "text/plain": [
       "Computing transition probabilities:   0%|          | 0/44 [00:00<?, ?it/s]"
      ]
     },
     "metadata": {},
     "output_type": "display_data"
    },
    {
     "data": {
      "application/vnd.jupyter.widget-view+json": {
       "model_id": "6a47a4e51f9449a79e3c1529bc95495e",
       "version_major": 2,
       "version_minor": 0
      },
      "text/plain": [
       "Computing transition probabilities:   0%|          | 0/44 [00:00<?, ?it/s]"
      ]
     },
     "metadata": {},
     "output_type": "display_data"
    },
    {
     "data": {
      "application/vnd.jupyter.widget-view+json": {
       "model_id": "9787638d2030409680012585521bad62",
       "version_major": 2,
       "version_minor": 0
      },
      "text/plain": [
       "Computing transition probabilities:   0%|          | 0/44 [00:00<?, ?it/s]"
      ]
     },
     "metadata": {},
     "output_type": "display_data"
    },
    {
     "data": {
      "application/vnd.jupyter.widget-view+json": {
       "model_id": "95bab498c4204cb1b0c7c6693322ff43",
       "version_major": 2,
       "version_minor": 0
      },
      "text/plain": [
       "Computing transition probabilities:   0%|          | 0/44 [00:00<?, ?it/s]"
      ]
     },
     "metadata": {},
     "output_type": "display_data"
    },
    {
     "data": {
      "application/vnd.jupyter.widget-view+json": {
       "model_id": "ada0be76f34044dca080f7fc059d02e2",
       "version_major": 2,
       "version_minor": 0
      },
      "text/plain": [
       "Computing transition probabilities:   0%|          | 0/44 [00:00<?, ?it/s]"
      ]
     },
     "metadata": {},
     "output_type": "display_data"
    },
    {
     "data": {
      "application/vnd.jupyter.widget-view+json": {
       "model_id": "7b241aae01cb46668221b1a9e2c202ac",
       "version_major": 2,
       "version_minor": 0
      },
      "text/plain": [
       "Computing transition probabilities:   0%|          | 0/44 [00:00<?, ?it/s]"
      ]
     },
     "metadata": {},
     "output_type": "display_data"
    },
    {
     "name": "stdout",
     "output_type": "stream",
     "text": [
      "Accuracy: 0.896 (95% CI: 0.895 - 0.897)\n",
      "Precision: 0.809 (95% CI: 0.778 - 0.839)\n",
      "Recall: 0.099 (95% CI: 0.087 - 0.110)\n",
      "F1 Score: 0.175 (95% CI: 0.156 - 0.194)\n",
      "ROC AUC: 0.890 (95% CI: 0.885 - 0.895)\n",
      "Total Computation Time: 666.358 seconds\n",
      "\n",
      "Classifier: KNN\n"
     ]
    },
    {
     "data": {
      "application/vnd.jupyter.widget-view+json": {
       "model_id": "ed72b49e6347486a8e778050aaa05268",
       "version_major": 2,
       "version_minor": 0
      },
      "text/plain": [
       "Computing transition probabilities:   0%|          | 0/44 [00:00<?, ?it/s]"
      ]
     },
     "metadata": {},
     "output_type": "display_data"
    },
    {
     "data": {
      "application/vnd.jupyter.widget-view+json": {
       "model_id": "76e61c95fd8f408eb08ea071e4b5a765",
       "version_major": 2,
       "version_minor": 0
      },
      "text/plain": [
       "Computing transition probabilities:   0%|          | 0/44 [00:00<?, ?it/s]"
      ]
     },
     "metadata": {},
     "output_type": "display_data"
    },
    {
     "data": {
      "application/vnd.jupyter.widget-view+json": {
       "model_id": "719611693e0045fbbf98e62dd42e8429",
       "version_major": 2,
       "version_minor": 0
      },
      "text/plain": [
       "Computing transition probabilities:   0%|          | 0/44 [00:00<?, ?it/s]"
      ]
     },
     "metadata": {},
     "output_type": "display_data"
    },
    {
     "data": {
      "application/vnd.jupyter.widget-view+json": {
       "model_id": "850d9d4d23594c37bf674bea2a501824",
       "version_major": 2,
       "version_minor": 0
      },
      "text/plain": [
       "Computing transition probabilities:   0%|          | 0/44 [00:00<?, ?it/s]"
      ]
     },
     "metadata": {},
     "output_type": "display_data"
    },
    {
     "data": {
      "application/vnd.jupyter.widget-view+json": {
       "model_id": "ffdb5456f697452ca4f41096b773f8e9",
       "version_major": 2,
       "version_minor": 0
      },
      "text/plain": [
       "Computing transition probabilities:   0%|          | 0/44 [00:00<?, ?it/s]"
      ]
     },
     "metadata": {},
     "output_type": "display_data"
    },
    {
     "data": {
      "application/vnd.jupyter.widget-view+json": {
       "model_id": "df70eb0451d24feda8aaf77da4415259",
       "version_major": 2,
       "version_minor": 0
      },
      "text/plain": [
       "Computing transition probabilities:   0%|          | 0/44 [00:00<?, ?it/s]"
      ]
     },
     "metadata": {},
     "output_type": "display_data"
    },
    {
     "data": {
      "application/vnd.jupyter.widget-view+json": {
       "model_id": "67f88e19b0a44b0da34e8c7965acf48c",
       "version_major": 2,
       "version_minor": 0
      },
      "text/plain": [
       "Computing transition probabilities:   0%|          | 0/44 [00:00<?, ?it/s]"
      ]
     },
     "metadata": {},
     "output_type": "display_data"
    },
    {
     "data": {
      "application/vnd.jupyter.widget-view+json": {
       "model_id": "ef98b6b04e3f469bb1373a65fc9ff8f5",
       "version_major": 2,
       "version_minor": 0
      },
      "text/plain": [
       "Computing transition probabilities:   0%|          | 0/44 [00:00<?, ?it/s]"
      ]
     },
     "metadata": {},
     "output_type": "display_data"
    },
    {
     "data": {
      "application/vnd.jupyter.widget-view+json": {
       "model_id": "ff0cccbf10ce442bb5d7a5a970dc55bf",
       "version_major": 2,
       "version_minor": 0
      },
      "text/plain": [
       "Computing transition probabilities:   0%|          | 0/44 [00:00<?, ?it/s]"
      ]
     },
     "metadata": {},
     "output_type": "display_data"
    },
    {
     "data": {
      "application/vnd.jupyter.widget-view+json": {
       "model_id": "19743a74729f4a539e200475cada5eb8",
       "version_major": 2,
       "version_minor": 0
      },
      "text/plain": [
       "Computing transition probabilities:   0%|          | 0/44 [00:00<?, ?it/s]"
      ]
     },
     "metadata": {},
     "output_type": "display_data"
    },
    {
     "data": {
      "application/vnd.jupyter.widget-view+json": {
       "model_id": "529447c291d241309fc0e395a9c6e60d",
       "version_major": 2,
       "version_minor": 0
      },
      "text/plain": [
       "Computing transition probabilities:   0%|          | 0/44 [00:00<?, ?it/s]"
      ]
     },
     "metadata": {},
     "output_type": "display_data"
    },
    {
     "data": {
      "application/vnd.jupyter.widget-view+json": {
       "model_id": "18f0816c6d4845f79f694537386f5199",
       "version_major": 2,
       "version_minor": 0
      },
      "text/plain": [
       "Computing transition probabilities:   0%|          | 0/44 [00:00<?, ?it/s]"
      ]
     },
     "metadata": {},
     "output_type": "display_data"
    },
    {
     "data": {
      "application/vnd.jupyter.widget-view+json": {
       "model_id": "5fc2d603e6ae4e7688907e0b8eb16619",
       "version_major": 2,
       "version_minor": 0
      },
      "text/plain": [
       "Computing transition probabilities:   0%|          | 0/44 [00:00<?, ?it/s]"
      ]
     },
     "metadata": {},
     "output_type": "display_data"
    },
    {
     "data": {
      "application/vnd.jupyter.widget-view+json": {
       "model_id": "0882877320f5441d8a68fca934aef3de",
       "version_major": 2,
       "version_minor": 0
      },
      "text/plain": [
       "Computing transition probabilities:   0%|          | 0/44 [00:00<?, ?it/s]"
      ]
     },
     "metadata": {},
     "output_type": "display_data"
    },
    {
     "data": {
      "application/vnd.jupyter.widget-view+json": {
       "model_id": "a7e0f543479349b08163967881e0d3e9",
       "version_major": 2,
       "version_minor": 0
      },
      "text/plain": [
       "Computing transition probabilities:   0%|          | 0/44 [00:00<?, ?it/s]"
      ]
     },
     "metadata": {},
     "output_type": "display_data"
    },
    {
     "data": {
      "application/vnd.jupyter.widget-view+json": {
       "model_id": "4b078bef62fe4e4ca1f1065827501afe",
       "version_major": 2,
       "version_minor": 0
      },
      "text/plain": [
       "Computing transition probabilities:   0%|          | 0/44 [00:00<?, ?it/s]"
      ]
     },
     "metadata": {},
     "output_type": "display_data"
    },
    {
     "data": {
      "application/vnd.jupyter.widget-view+json": {
       "model_id": "dc7dac5854da4f6c8c9fbcb3d0f8d0f8",
       "version_major": 2,
       "version_minor": 0
      },
      "text/plain": [
       "Computing transition probabilities:   0%|          | 0/44 [00:00<?, ?it/s]"
      ]
     },
     "metadata": {},
     "output_type": "display_data"
    },
    {
     "data": {
      "application/vnd.jupyter.widget-view+json": {
       "model_id": "75fc21d0b2e744adb49294752ee04b23",
       "version_major": 2,
       "version_minor": 0
      },
      "text/plain": [
       "Computing transition probabilities:   0%|          | 0/44 [00:00<?, ?it/s]"
      ]
     },
     "metadata": {},
     "output_type": "display_data"
    },
    {
     "data": {
      "application/vnd.jupyter.widget-view+json": {
       "model_id": "46923dc4b66e4d35a31a0ecf9cf6464c",
       "version_major": 2,
       "version_minor": 0
      },
      "text/plain": [
       "Computing transition probabilities:   0%|          | 0/44 [00:00<?, ?it/s]"
      ]
     },
     "metadata": {},
     "output_type": "display_data"
    },
    {
     "data": {
      "application/vnd.jupyter.widget-view+json": {
       "model_id": "7a6573d276f947079fd5dc4a5b4907d5",
       "version_major": 2,
       "version_minor": 0
      },
      "text/plain": [
       "Computing transition probabilities:   0%|          | 0/44 [00:00<?, ?it/s]"
      ]
     },
     "metadata": {},
     "output_type": "display_data"
    },
    {
     "name": "stdout",
     "output_type": "stream",
     "text": [
      "Accuracy: 0.893 (95% CI: 0.891 - 0.894)\n",
      "Precision: 0.542 (95% CI: 0.526 - 0.558)\n",
      "Recall: 0.294 (95% CI: 0.279 - 0.309)\n",
      "F1 Score: 0.380 (95% CI: 0.365 - 0.396)\n",
      "ROC AUC: 0.740 (95% CI: 0.731 - 0.749)\n",
      "Total Computation Time: 193.197 seconds\n",
      "\n",
      "Classifier: XGB\n"
     ]
    },
    {
     "data": {
      "application/vnd.jupyter.widget-view+json": {
       "model_id": "b8469d20f33b45b3ab49683228c97331",
       "version_major": 2,
       "version_minor": 0
      },
      "text/plain": [
       "Computing transition probabilities:   0%|          | 0/44 [00:00<?, ?it/s]"
      ]
     },
     "metadata": {},
     "output_type": "display_data"
    },
    {
     "data": {
      "application/vnd.jupyter.widget-view+json": {
       "model_id": "99cd92e576e34463a74be2271aae352f",
       "version_major": 2,
       "version_minor": 0
      },
      "text/plain": [
       "Computing transition probabilities:   0%|          | 0/44 [00:00<?, ?it/s]"
      ]
     },
     "metadata": {},
     "output_type": "display_data"
    },
    {
     "data": {
      "application/vnd.jupyter.widget-view+json": {
       "model_id": "fb2f19a20a8a4d4594a5e364a4501fd2",
       "version_major": 2,
       "version_minor": 0
      },
      "text/plain": [
       "Computing transition probabilities:   0%|          | 0/44 [00:00<?, ?it/s]"
      ]
     },
     "metadata": {},
     "output_type": "display_data"
    },
    {
     "data": {
      "application/vnd.jupyter.widget-view+json": {
       "model_id": "5484d993b2184c6e8ef79ecd252da0ec",
       "version_major": 2,
       "version_minor": 0
      },
      "text/plain": [
       "Computing transition probabilities:   0%|          | 0/44 [00:00<?, ?it/s]"
      ]
     },
     "metadata": {},
     "output_type": "display_data"
    },
    {
     "data": {
      "application/vnd.jupyter.widget-view+json": {
       "model_id": "57c088c3aea2432e887fc81e5ed7c68d",
       "version_major": 2,
       "version_minor": 0
      },
      "text/plain": [
       "Computing transition probabilities:   0%|          | 0/44 [00:00<?, ?it/s]"
      ]
     },
     "metadata": {},
     "output_type": "display_data"
    },
    {
     "data": {
      "application/vnd.jupyter.widget-view+json": {
       "model_id": "7b0963344eeb495d877ed62e59b86ca6",
       "version_major": 2,
       "version_minor": 0
      },
      "text/plain": [
       "Computing transition probabilities:   0%|          | 0/44 [00:00<?, ?it/s]"
      ]
     },
     "metadata": {},
     "output_type": "display_data"
    },
    {
     "data": {
      "application/vnd.jupyter.widget-view+json": {
       "model_id": "d23e562d92164c3488741450d0c7c62e",
       "version_major": 2,
       "version_minor": 0
      },
      "text/plain": [
       "Computing transition probabilities:   0%|          | 0/44 [00:00<?, ?it/s]"
      ]
     },
     "metadata": {},
     "output_type": "display_data"
    },
    {
     "data": {
      "application/vnd.jupyter.widget-view+json": {
       "model_id": "b6c61bbd525142449b419af5d0651101",
       "version_major": 2,
       "version_minor": 0
      },
      "text/plain": [
       "Computing transition probabilities:   0%|          | 0/44 [00:00<?, ?it/s]"
      ]
     },
     "metadata": {},
     "output_type": "display_data"
    },
    {
     "data": {
      "application/vnd.jupyter.widget-view+json": {
       "model_id": "287b977004f84e98b75a9676cb10589f",
       "version_major": 2,
       "version_minor": 0
      },
      "text/plain": [
       "Computing transition probabilities:   0%|          | 0/44 [00:00<?, ?it/s]"
      ]
     },
     "metadata": {},
     "output_type": "display_data"
    },
    {
     "data": {
      "application/vnd.jupyter.widget-view+json": {
       "model_id": "d54c07d7c0e347509aea0b25a3dadace",
       "version_major": 2,
       "version_minor": 0
      },
      "text/plain": [
       "Computing transition probabilities:   0%|          | 0/44 [00:00<?, ?it/s]"
      ]
     },
     "metadata": {},
     "output_type": "display_data"
    },
    {
     "data": {
      "application/vnd.jupyter.widget-view+json": {
       "model_id": "0de1b6ae40c742e48311d5d530f487dd",
       "version_major": 2,
       "version_minor": 0
      },
      "text/plain": [
       "Computing transition probabilities:   0%|          | 0/44 [00:00<?, ?it/s]"
      ]
     },
     "metadata": {},
     "output_type": "display_data"
    },
    {
     "data": {
      "application/vnd.jupyter.widget-view+json": {
       "model_id": "a5158dea71a44d959f45dd8658e4abf0",
       "version_major": 2,
       "version_minor": 0
      },
      "text/plain": [
       "Computing transition probabilities:   0%|          | 0/44 [00:00<?, ?it/s]"
      ]
     },
     "metadata": {},
     "output_type": "display_data"
    },
    {
     "data": {
      "application/vnd.jupyter.widget-view+json": {
       "model_id": "286ec694774348ddb82442066298d3d6",
       "version_major": 2,
       "version_minor": 0
      },
      "text/plain": [
       "Computing transition probabilities:   0%|          | 0/44 [00:00<?, ?it/s]"
      ]
     },
     "metadata": {},
     "output_type": "display_data"
    },
    {
     "data": {
      "application/vnd.jupyter.widget-view+json": {
       "model_id": "c88a319f020847878a56e8aa6cf60416",
       "version_major": 2,
       "version_minor": 0
      },
      "text/plain": [
       "Computing transition probabilities:   0%|          | 0/44 [00:00<?, ?it/s]"
      ]
     },
     "metadata": {},
     "output_type": "display_data"
    },
    {
     "data": {
      "application/vnd.jupyter.widget-view+json": {
       "model_id": "990a070cb39641b5bdfcf649900849e3",
       "version_major": 2,
       "version_minor": 0
      },
      "text/plain": [
       "Computing transition probabilities:   0%|          | 0/44 [00:00<?, ?it/s]"
      ]
     },
     "metadata": {},
     "output_type": "display_data"
    },
    {
     "data": {
      "application/vnd.jupyter.widget-view+json": {
       "model_id": "9486b2c5512946cab20aec95d20c5ace",
       "version_major": 2,
       "version_minor": 0
      },
      "text/plain": [
       "Computing transition probabilities:   0%|          | 0/44 [00:00<?, ?it/s]"
      ]
     },
     "metadata": {},
     "output_type": "display_data"
    },
    {
     "data": {
      "application/vnd.jupyter.widget-view+json": {
       "model_id": "b9e2c002aff24afe8fb7c141a12127fd",
       "version_major": 2,
       "version_minor": 0
      },
      "text/plain": [
       "Computing transition probabilities:   0%|          | 0/44 [00:00<?, ?it/s]"
      ]
     },
     "metadata": {},
     "output_type": "display_data"
    },
    {
     "data": {
      "application/vnd.jupyter.widget-view+json": {
       "model_id": "c8e7169835b040f9bb21e1d908f2e497",
       "version_major": 2,
       "version_minor": 0
      },
      "text/plain": [
       "Computing transition probabilities:   0%|          | 0/44 [00:00<?, ?it/s]"
      ]
     },
     "metadata": {},
     "output_type": "display_data"
    },
    {
     "data": {
      "application/vnd.jupyter.widget-view+json": {
       "model_id": "a1ab4b16fe26423d9759b9959ed35e60",
       "version_major": 2,
       "version_minor": 0
      },
      "text/plain": [
       "Computing transition probabilities:   0%|          | 0/44 [00:00<?, ?it/s]"
      ]
     },
     "metadata": {},
     "output_type": "display_data"
    },
    {
     "data": {
      "application/vnd.jupyter.widget-view+json": {
       "model_id": "982db9cc46a3489b8423a21ebcc21d38",
       "version_major": 2,
       "version_minor": 0
      },
      "text/plain": [
       "Computing transition probabilities:   0%|          | 0/44 [00:00<?, ?it/s]"
      ]
     },
     "metadata": {},
     "output_type": "display_data"
    },
    {
     "name": "stdout",
     "output_type": "stream",
     "text": [
      "Accuracy: 0.905 (95% CI: 0.902 - 0.908)\n",
      "Precision: 0.607 (95% CI: 0.588 - 0.625)\n",
      "Recall: 0.441 (95% CI: 0.419 - 0.462)\n",
      "F1 Score: 0.510 (95% CI: 0.490 - 0.530)\n",
      "ROC AUC: 0.914 (95% CI: 0.909 - 0.918)\n",
      "Total Computation Time: 210.338 seconds\n",
      "\n",
      "Classifier: MLP\n"
     ]
    },
    {
     "data": {
      "application/vnd.jupyter.widget-view+json": {
       "model_id": "db3c235742ad4bef947d32b02daf414e",
       "version_major": 2,
       "version_minor": 0
      },
      "text/plain": [
       "Computing transition probabilities:   0%|          | 0/44 [00:00<?, ?it/s]"
      ]
     },
     "metadata": {},
     "output_type": "display_data"
    },
    {
     "data": {
      "application/vnd.jupyter.widget-view+json": {
       "model_id": "fae980010603416d987714585424624c",
       "version_major": 2,
       "version_minor": 0
      },
      "text/plain": [
       "Computing transition probabilities:   0%|          | 0/44 [00:00<?, ?it/s]"
      ]
     },
     "metadata": {},
     "output_type": "display_data"
    },
    {
     "data": {
      "application/vnd.jupyter.widget-view+json": {
       "model_id": "515771a81408402394bd131a7507f47e",
       "version_major": 2,
       "version_minor": 0
      },
      "text/plain": [
       "Computing transition probabilities:   0%|          | 0/44 [00:00<?, ?it/s]"
      ]
     },
     "metadata": {},
     "output_type": "display_data"
    },
    {
     "data": {
      "application/vnd.jupyter.widget-view+json": {
       "model_id": "2358a4f8a1df4b92b8774cfe7a8e5775",
       "version_major": 2,
       "version_minor": 0
      },
      "text/plain": [
       "Computing transition probabilities:   0%|          | 0/44 [00:00<?, ?it/s]"
      ]
     },
     "metadata": {},
     "output_type": "display_data"
    },
    {
     "data": {
      "application/vnd.jupyter.widget-view+json": {
       "model_id": "8219d3a03211428e9d912d13f9197a54",
       "version_major": 2,
       "version_minor": 0
      },
      "text/plain": [
       "Computing transition probabilities:   0%|          | 0/44 [00:00<?, ?it/s]"
      ]
     },
     "metadata": {},
     "output_type": "display_data"
    },
    {
     "data": {
      "application/vnd.jupyter.widget-view+json": {
       "model_id": "3af0bd3f966f42bcac408822dcd48811",
       "version_major": 2,
       "version_minor": 0
      },
      "text/plain": [
       "Computing transition probabilities:   0%|          | 0/44 [00:00<?, ?it/s]"
      ]
     },
     "metadata": {},
     "output_type": "display_data"
    },
    {
     "data": {
      "application/vnd.jupyter.widget-view+json": {
       "model_id": "1f315ea1d1c041bc8a97f5b2e373e860",
       "version_major": 2,
       "version_minor": 0
      },
      "text/plain": [
       "Computing transition probabilities:   0%|          | 0/44 [00:00<?, ?it/s]"
      ]
     },
     "metadata": {},
     "output_type": "display_data"
    },
    {
     "data": {
      "application/vnd.jupyter.widget-view+json": {
       "model_id": "f28800c8f3ee47f9bb247e426da66f44",
       "version_major": 2,
       "version_minor": 0
      },
      "text/plain": [
       "Computing transition probabilities:   0%|          | 0/44 [00:00<?, ?it/s]"
      ]
     },
     "metadata": {},
     "output_type": "display_data"
    },
    {
     "data": {
      "application/vnd.jupyter.widget-view+json": {
       "model_id": "2827def2e6a649c0880413264fb2c90a",
       "version_major": 2,
       "version_minor": 0
      },
      "text/plain": [
       "Computing transition probabilities:   0%|          | 0/44 [00:00<?, ?it/s]"
      ]
     },
     "metadata": {},
     "output_type": "display_data"
    },
    {
     "data": {
      "application/vnd.jupyter.widget-view+json": {
       "model_id": "89934463c55641faaf82510d30533f0c",
       "version_major": 2,
       "version_minor": 0
      },
      "text/plain": [
       "Computing transition probabilities:   0%|          | 0/44 [00:00<?, ?it/s]"
      ]
     },
     "metadata": {},
     "output_type": "display_data"
    },
    {
     "data": {
      "application/vnd.jupyter.widget-view+json": {
       "model_id": "5877c83607b2442790227bac265e186b",
       "version_major": 2,
       "version_minor": 0
      },
      "text/plain": [
       "Computing transition probabilities:   0%|          | 0/44 [00:00<?, ?it/s]"
      ]
     },
     "metadata": {},
     "output_type": "display_data"
    },
    {
     "data": {
      "application/vnd.jupyter.widget-view+json": {
       "model_id": "5e9e38fb5be646a58ef0fd26b087fde4",
       "version_major": 2,
       "version_minor": 0
      },
      "text/plain": [
       "Computing transition probabilities:   0%|          | 0/44 [00:00<?, ?it/s]"
      ]
     },
     "metadata": {},
     "output_type": "display_data"
    },
    {
     "data": {
      "application/vnd.jupyter.widget-view+json": {
       "model_id": "e6ecf88fd30c48bc9e6aebd188d87943",
       "version_major": 2,
       "version_minor": 0
      },
      "text/plain": [
       "Computing transition probabilities:   0%|          | 0/44 [00:00<?, ?it/s]"
      ]
     },
     "metadata": {},
     "output_type": "display_data"
    },
    {
     "data": {
      "application/vnd.jupyter.widget-view+json": {
       "model_id": "d4fc77923ce3421d8d70e4d2041aeb1f",
       "version_major": 2,
       "version_minor": 0
      },
      "text/plain": [
       "Computing transition probabilities:   0%|          | 0/44 [00:00<?, ?it/s]"
      ]
     },
     "metadata": {},
     "output_type": "display_data"
    },
    {
     "data": {
      "application/vnd.jupyter.widget-view+json": {
       "model_id": "752f622829a74d04b640f36c7d2d6588",
       "version_major": 2,
       "version_minor": 0
      },
      "text/plain": [
       "Computing transition probabilities:   0%|          | 0/44 [00:00<?, ?it/s]"
      ]
     },
     "metadata": {},
     "output_type": "display_data"
    },
    {
     "data": {
      "application/vnd.jupyter.widget-view+json": {
       "model_id": "62456542a49e4081ab045487b86cfb5f",
       "version_major": 2,
       "version_minor": 0
      },
      "text/plain": [
       "Computing transition probabilities:   0%|          | 0/44 [00:00<?, ?it/s]"
      ]
     },
     "metadata": {},
     "output_type": "display_data"
    },
    {
     "data": {
      "application/vnd.jupyter.widget-view+json": {
       "model_id": "b6428209104e4f998c984ca7cde86c7a",
       "version_major": 2,
       "version_minor": 0
      },
      "text/plain": [
       "Computing transition probabilities:   0%|          | 0/44 [00:00<?, ?it/s]"
      ]
     },
     "metadata": {},
     "output_type": "display_data"
    },
    {
     "data": {
      "application/vnd.jupyter.widget-view+json": {
       "model_id": "9a06eeba71564838878731c036d345b7",
       "version_major": 2,
       "version_minor": 0
      },
      "text/plain": [
       "Computing transition probabilities:   0%|          | 0/44 [00:00<?, ?it/s]"
      ]
     },
     "metadata": {},
     "output_type": "display_data"
    },
    {
     "data": {
      "application/vnd.jupyter.widget-view+json": {
       "model_id": "f12043b3a11e4cf6ad776d9839c566ee",
       "version_major": 2,
       "version_minor": 0
      },
      "text/plain": [
       "Computing transition probabilities:   0%|          | 0/44 [00:00<?, ?it/s]"
      ]
     },
     "metadata": {},
     "output_type": "display_data"
    },
    {
     "data": {
      "application/vnd.jupyter.widget-view+json": {
       "model_id": "a610909d893d40d5b49afa3c79a63745",
       "version_major": 2,
       "version_minor": 0
      },
      "text/plain": [
       "Computing transition probabilities:   0%|          | 0/44 [00:00<?, ?it/s]"
      ]
     },
     "metadata": {},
     "output_type": "display_data"
    },
    {
     "name": "stdout",
     "output_type": "stream",
     "text": [
      "Accuracy: 0.897 (95% CI: 0.895 - 0.899)\n",
      "Precision: 0.559 (95% CI: 0.542 - 0.576)\n",
      "Recall: 0.439 (95% CI: 0.419 - 0.459)\n",
      "F1 Score: 0.490 (95% CI: 0.478 - 0.501)\n",
      "ROC AUC: 0.908 (95% CI: 0.904 - 0.913)\n",
      "Total Computation Time: 1966.931 seconds\n",
      "\n"
     ]
    }
   ],
   "source": [
    "import config_cat_embedding\n",
    "import numpy as np\n",
    "import pandas as pd\n",
    "import random\n",
    "import time\n",
    "\n",
    "from gensim.models import Word2Vec\n",
    "from sklearn.model_selection import StratifiedKFold\n",
    "from sklearn.linear_model import LogisticRegression\n",
    "from sklearn.tree import DecisionTreeClassifier\n",
    "from sklearn.neighbors import KNeighborsClassifier\n",
    "# from sklearn.svm import SVC\n",
    "from sklearn.ensemble import RandomForestClassifier\n",
    "from xgboost import XGBClassifier\n",
    "from scikeras.wrappers import KerasClassifier\n",
    "from sklearn.preprocessing import StandardScaler\n",
    "from sklearn.metrics import (accuracy_score, precision_score, recall_score,\n",
    "                             f1_score, roc_auc_score)\n",
    "import networkx as nx\n",
    "from node2vec import Node2Vec\n",
    "import matplotlib.pyplot as plt\n",
    "\n",
    "from scipy.sparse import coo_matrix, csr_matrix\n",
    "\n",
    "from tqdm.notebook import tqdm\n",
    "from data_prep import bank_data_prep, adult_data_prep\n",
    "from embedding_helper import create_network\n",
    "\n",
    "from scipy import stats  # For confidence intervals\n",
    "\n",
    "# Set the random seed for reproducibility\n",
    "random.seed(42)\n",
    "np.random.seed(42)\n",
    "\n",
    "def create_cooccurrence_matrix_diag(df_cat):\n",
    "    # Get unique categories\n",
    "    categories = np.unique(df_cat)\n",
    "\n",
    "    # Create a dictionary to map category to index\n",
    "    category_to_index = {cat: i for i, cat in enumerate(categories)}\n",
    "\n",
    "    # Calculate co-occurrence matrix\n",
    "    matrix = np.zeros((len(categories), len(categories)))\n",
    "    for row in df_cat.itertuples(index=False):\n",
    "        for i, cat1 in enumerate(row):\n",
    "            for j, cat2 in enumerate(row):\n",
    "                if i != j:\n",
    "                    matrix[category_to_index[cat1], category_to_index[cat2]] += 1\n",
    "\n",
    "    # Calculate the diagonal values\n",
    "    diagonal_values = []\n",
    "    for cat in categories:\n",
    "        count = df_cat.stack().value_counts()[cat]\n",
    "        diagonal_values.append(count)\n",
    "\n",
    "    # Set diagonal values to category counts\n",
    "    np.fill_diagonal(matrix, diagonal_values)\n",
    "\n",
    "    # Convert the matrix to a sparse matrix\n",
    "    sparse_matrix = coo_matrix(matrix)\n",
    "\n",
    "    # Normalize the matrix\n",
    "    normalized_matrix = csr_matrix(sparse_matrix / sparse_matrix.sum(axis=1))\n",
    "\n",
    "    # Convert to DataFrame for easier handling\n",
    "    co_occurrence_matrix_norm = pd.DataFrame(normalized_matrix.toarray(), index=categories, columns=categories)\n",
    "\n",
    "    return co_occurrence_matrix_norm\n",
    "\n",
    "# get_embeddings function outside the loop\n",
    "def get_embeddings(df, model):\n",
    "    embeddings = []\n",
    "    for index, row in df.iterrows():\n",
    "        node_vectors = []\n",
    "        for cat in row:\n",
    "            if str(cat) in model.wv:\n",
    "                node_vectors.append(model.wv[str(cat)])\n",
    "            else:\n",
    "                node_vectors.append(np.zeros(model.vector_size))\n",
    "        embeddings.append(np.mean(node_vectors, axis=0))\n",
    "    return np.array(embeddings)\n",
    "\n",
    "# =============================================\n",
    "# Start of the adapted code for cross-validation\n",
    "# =============================================\n",
    "\n",
    "# Load and preprocess data\n",
    "data_path = config_cat_embedding.paths['data']\n",
    "bank_data = pd.read_csv(data_path + 'bank-additional-full.csv', sep=';')\n",
    "\n",
    "# Preprocess the data (you should define bank_data_prep accordingly)\n",
    "df_bank, cat_cols = bank_data_prep(bank_data)\n",
    "\n",
    "X = df_bank.iloc[:, :-1]\n",
    "y = df_bank.y\n",
    "\n",
    "# Define the classifiers\n",
    "seed = 42\n",
    "\n",
    "models = [\n",
    "    ('LR', LogisticRegression(solver='lbfgs', random_state=seed, max_iter=1000)),\n",
    "    ('DT', DecisionTreeClassifier(criterion='entropy', max_depth=3, random_state=seed)),\n",
    "    ('RF', RandomForestClassifier(n_estimators=200, max_depth=5, random_state=seed, min_samples_leaf=3)),\n",
    "    ('KNN', KNeighborsClassifier(n_neighbors=3)),\n",
    "    ('XGB', XGBClassifier(eval_metric='logloss', random_state=seed)),\n",
    "    ('MLP', KerasClassifier(\n",
    "        model=create_network,\n",
    "        epochs=100, batch_size=100, verbose=0, random_state=seed))\n",
    "]\n",
    "\n",
    "# Cross-validation setup\n",
    "cv = StratifiedKFold(n_splits=20, shuffle=True, random_state=seed)\n",
    "\n",
    "# Function to calculate confidence intervals\n",
    "def confidence_interval(data, confidence=0.95):\n",
    "    n = len(data)\n",
    "    m = np.mean(data)\n",
    "    std_err = stats.sem(data)\n",
    "    h = std_err * stats.t.ppf((1 + confidence) / 2, n - 1)\n",
    "    return m, m - h, m + h\n",
    "\n",
    "# Loop over models\n",
    "for name, model in models:\n",
    "    print(f\"Classifier: {name}\")\n",
    "    # Lists to store metrics for each fold\n",
    "    accuracies = []\n",
    "    precisions = []\n",
    "    recalls = []\n",
    "    f1s = []\n",
    "    roc_aucs = []\n",
    "\n",
    "    # Start the timer before cross-validation\n",
    "    start_time = time.time()\n",
    "\n",
    "    fold = 1\n",
    "    for train_index, test_index in cv.split(X, y):\n",
    "        # Split the data into training and testing sets for this fold\n",
    "        X_train_fold, X_test_fold = X.iloc[train_index].copy(), X.iloc[test_index].copy()\n",
    "        y_train_fold, y_test_fold = y.iloc[train_index], y.iloc[test_index]\n",
    "\n",
    "        # Preprocess data within the fold\n",
    "        # Handle categorical variables\n",
    "        cat_data_train = X_train_fold[cat_cols]\n",
    "        cat_data_test = X_test_fold[cat_cols]\n",
    "\n",
    "        # Create co-occurrence matrix using the training data\n",
    "        co_occurrence_matrix = create_cooccurrence_matrix_diag(cat_data_train)\n",
    "\n",
    "        # Use Node2Vec or another method to create embeddings from the co-occurrence matrix\n",
    "        # Here, we will create a graph and compute embeddings\n",
    "        G = nx.from_pandas_adjacency(co_occurrence_matrix)\n",
    "\n",
    "        node2vec = Node2Vec(G, dimensions=50, walk_length=10, num_walks=20, workers=4, seed=seed)\n",
    "        node2vec_model = node2vec.fit(window=10, min_count=1, batch_words=4)\n",
    "\n",
    "        # Map embeddings to the categorical data\n",
    "        X_train_emb = get_embeddings(cat_data_train, node2vec_model)\n",
    "        X_test_emb = get_embeddings(cat_data_test, node2vec_model)\n",
    "\n",
    "        # If there are numerical features, include them\n",
    "        num_cols = X_train_fold.drop(columns=cat_cols).columns.tolist()\n",
    "        if num_cols:\n",
    "            num_data_train = X_train_fold[num_cols].values\n",
    "            num_data_test = X_test_fold[num_cols].values\n",
    "\n",
    "            # Combine numerical and embedding features\n",
    "            X_train_combined = np.hstack((X_train_emb, num_data_train))\n",
    "            X_test_combined = np.hstack((X_test_emb, num_data_test))\n",
    "        else:\n",
    "            X_train_combined = X_train_emb\n",
    "            X_test_combined = X_test_emb\n",
    "\n",
    "        # Standard scaling\n",
    "        stc = StandardScaler()\n",
    "        X_train_scaled = stc.fit_transform(X_train_combined)\n",
    "        X_test_scaled = stc.transform(X_test_combined)\n",
    "\n",
    "        # Update number_of_features for MLP\n",
    "        number_of_features = X_train_scaled.shape[1]\n",
    "        if name == 'MLP':\n",
    "            # Update the model with the correct number of features\n",
    "            model.set_params(model__number_of_features=number_of_features)\n",
    "\n",
    "        # Fit the model\n",
    "        model.fit(X_train_scaled, y_train_fold)\n",
    "        # Predict on the test fold\n",
    "        y_pred_fold = model.predict(X_test_scaled)\n",
    "\n",
    "        # Get prediction probabilities for ROC AUC\n",
    "        if hasattr(model, \"predict_proba\"):\n",
    "            y_pred_prob_fold = model.predict_proba(X_test_scaled)[:, 1]\n",
    "        else:\n",
    "            # For classifiers without predict_proba, use decision_function\n",
    "            y_pred_prob_fold = model.decision_function(X_test_scaled)\n",
    "            # Normalize the decision function output to [0,1] range\n",
    "            y_pred_prob_fold = (y_pred_prob_fold - y_pred_prob_fold.min()) / (y_pred_prob_fold.max() - y_pred_prob_fold.min())\n",
    "\n",
    "        # Calculate metrics\n",
    "        accuracies.append(accuracy_score(y_test_fold, y_pred_fold))\n",
    "        precisions.append(precision_score(y_test_fold, y_pred_fold, zero_division=0))\n",
    "        recalls.append(recall_score(y_test_fold, y_pred_fold))\n",
    "        f1s.append(f1_score(y_test_fold, y_pred_fold))\n",
    "        roc_aucs.append(roc_auc_score(y_test_fold, y_pred_prob_fold))\n",
    "\n",
    "        # print(f\"Fold {fold} completed.\")\n",
    "        fold += 1\n",
    "\n",
    "    # Stop the timer after cross-validation\n",
    "    end_time = time.time()\n",
    "    total_computation_time = end_time - start_time  # Total time for the model\n",
    "\n",
    "    # Calculate mean and confidence intervals\n",
    "    acc_mean, acc_ci_lower, acc_ci_upper = confidence_interval(accuracies)\n",
    "    prec_mean, prec_ci_lower, prec_ci_upper = confidence_interval(precisions)\n",
    "    rec_mean, rec_ci_lower, rec_ci_upper = confidence_interval(recalls)\n",
    "    f1_mean, f1_ci_lower, f1_ci_upper = confidence_interval(f1s)\n",
    "    roc_mean, roc_ci_lower, roc_ci_upper = confidence_interval(roc_aucs)\n",
    "\n",
    "    # Print results\n",
    "    print(f\"Accuracy: {acc_mean:.3f} (95% CI: {acc_ci_lower:.3f} - {acc_ci_upper:.3f})\")\n",
    "    print(f\"Precision: {prec_mean:.3f} (95% CI: {prec_ci_lower:.3f} - {prec_ci_upper:.3f})\")\n",
    "    print(f\"Recall: {rec_mean:.3f} (95% CI: {rec_ci_lower:.3f} - {rec_ci_upper:.3f})\")\n",
    "    print(f\"F1 Score: {f1_mean:.3f} (95% CI: {f1_ci_lower:.3f} - {f1_ci_upper:.3f})\")\n",
    "    print(f\"ROC AUC: {roc_mean:.3f} (95% CI: {roc_ci_lower:.3f} - {roc_ci_upper:.3f})\")\n",
    "    print(f\"Total Computation Time: {total_computation_time:.3f} seconds\\n\")\n"
   ]
  },
  {
   "cell_type": "code",
   "execution_count": 1,
   "id": "921a41f5-8206-48b2-9abf-e21ddd8777b2",
   "metadata": {},
   "outputs": [
    {
     "name": "stdout",
     "output_type": "stream",
     "text": [
      "Classifier: LR\n"
     ]
    },
    {
     "data": {
      "application/vnd.jupyter.widget-view+json": {
       "model_id": "2708a29b9a644d12a3141b557eb85cd2",
       "version_major": 2,
       "version_minor": 0
      },
      "text/plain": [
       "Computing transition probabilities:   0%|          | 0/44 [00:00<?, ?it/s]"
      ]
     },
     "metadata": {},
     "output_type": "display_data"
    },
    {
     "data": {
      "application/vnd.jupyter.widget-view+json": {
       "model_id": "e2d2f71d51cb4e5b857cd0037ac960b9",
       "version_major": 2,
       "version_minor": 0
      },
      "text/plain": [
       "Computing transition probabilities:   0%|          | 0/44 [00:00<?, ?it/s]"
      ]
     },
     "metadata": {},
     "output_type": "display_data"
    },
    {
     "data": {
      "application/vnd.jupyter.widget-view+json": {
       "model_id": "8eff16aa475e4b899a05dbc3fd5c2962",
       "version_major": 2,
       "version_minor": 0
      },
      "text/plain": [
       "Computing transition probabilities:   0%|          | 0/44 [00:00<?, ?it/s]"
      ]
     },
     "metadata": {},
     "output_type": "display_data"
    },
    {
     "data": {
      "application/vnd.jupyter.widget-view+json": {
       "model_id": "a6b635bc422d4667924a4f8fa5675c6c",
       "version_major": 2,
       "version_minor": 0
      },
      "text/plain": [
       "Computing transition probabilities:   0%|          | 0/44 [00:00<?, ?it/s]"
      ]
     },
     "metadata": {},
     "output_type": "display_data"
    },
    {
     "data": {
      "application/vnd.jupyter.widget-view+json": {
       "model_id": "468c4aae55b0406f83d1bf05d1ae4589",
       "version_major": 2,
       "version_minor": 0
      },
      "text/plain": [
       "Computing transition probabilities:   0%|          | 0/44 [00:00<?, ?it/s]"
      ]
     },
     "metadata": {},
     "output_type": "display_data"
    },
    {
     "data": {
      "application/vnd.jupyter.widget-view+json": {
       "model_id": "39e8c7cf78e24bc3a9a2a8410d1d2392",
       "version_major": 2,
       "version_minor": 0
      },
      "text/plain": [
       "Computing transition probabilities:   0%|          | 0/44 [00:00<?, ?it/s]"
      ]
     },
     "metadata": {},
     "output_type": "display_data"
    },
    {
     "data": {
      "application/vnd.jupyter.widget-view+json": {
       "model_id": "f11f6aaa10144b79a6edc5eba5838de4",
       "version_major": 2,
       "version_minor": 0
      },
      "text/plain": [
       "Computing transition probabilities:   0%|          | 0/44 [00:00<?, ?it/s]"
      ]
     },
     "metadata": {},
     "output_type": "display_data"
    },
    {
     "data": {
      "application/vnd.jupyter.widget-view+json": {
       "model_id": "cb4b576493b3495d9119294a59af159a",
       "version_major": 2,
       "version_minor": 0
      },
      "text/plain": [
       "Computing transition probabilities:   0%|          | 0/44 [00:00<?, ?it/s]"
      ]
     },
     "metadata": {},
     "output_type": "display_data"
    },
    {
     "data": {
      "application/vnd.jupyter.widget-view+json": {
       "model_id": "a64c3b289a214472832bac9cf0ef4698",
       "version_major": 2,
       "version_minor": 0
      },
      "text/plain": [
       "Computing transition probabilities:   0%|          | 0/44 [00:00<?, ?it/s]"
      ]
     },
     "metadata": {},
     "output_type": "display_data"
    },
    {
     "data": {
      "application/vnd.jupyter.widget-view+json": {
       "model_id": "7b24e10c581c4a49bed4ad56bbcd0e0f",
       "version_major": 2,
       "version_minor": 0
      },
      "text/plain": [
       "Computing transition probabilities:   0%|          | 0/44 [00:00<?, ?it/s]"
      ]
     },
     "metadata": {},
     "output_type": "display_data"
    },
    {
     "data": {
      "application/vnd.jupyter.widget-view+json": {
       "model_id": "d3ab9b13ba454e6c887dbaaa9ec7cb0e",
       "version_major": 2,
       "version_minor": 0
      },
      "text/plain": [
       "Computing transition probabilities:   0%|          | 0/44 [00:00<?, ?it/s]"
      ]
     },
     "metadata": {},
     "output_type": "display_data"
    },
    {
     "data": {
      "application/vnd.jupyter.widget-view+json": {
       "model_id": "541f117e08254c7bb9af4b62fac3c131",
       "version_major": 2,
       "version_minor": 0
      },
      "text/plain": [
       "Computing transition probabilities:   0%|          | 0/44 [00:00<?, ?it/s]"
      ]
     },
     "metadata": {},
     "output_type": "display_data"
    },
    {
     "data": {
      "application/vnd.jupyter.widget-view+json": {
       "model_id": "ed9ef52ab3d74e21a88054f1655acce6",
       "version_major": 2,
       "version_minor": 0
      },
      "text/plain": [
       "Computing transition probabilities:   0%|          | 0/44 [00:00<?, ?it/s]"
      ]
     },
     "metadata": {},
     "output_type": "display_data"
    },
    {
     "data": {
      "application/vnd.jupyter.widget-view+json": {
       "model_id": "5c4878ed65d34277bba149bfcb4e936b",
       "version_major": 2,
       "version_minor": 0
      },
      "text/plain": [
       "Computing transition probabilities:   0%|          | 0/44 [00:00<?, ?it/s]"
      ]
     },
     "metadata": {},
     "output_type": "display_data"
    },
    {
     "data": {
      "application/vnd.jupyter.widget-view+json": {
       "model_id": "25e3cd14bf6d454eae3132f87b9f2b07",
       "version_major": 2,
       "version_minor": 0
      },
      "text/plain": [
       "Computing transition probabilities:   0%|          | 0/44 [00:00<?, ?it/s]"
      ]
     },
     "metadata": {},
     "output_type": "display_data"
    },
    {
     "data": {
      "application/vnd.jupyter.widget-view+json": {
       "model_id": "4313b0fe2fdf494897be9d42ac00ee71",
       "version_major": 2,
       "version_minor": 0
      },
      "text/plain": [
       "Computing transition probabilities:   0%|          | 0/44 [00:00<?, ?it/s]"
      ]
     },
     "metadata": {},
     "output_type": "display_data"
    },
    {
     "data": {
      "application/vnd.jupyter.widget-view+json": {
       "model_id": "6c456ff5ad484376bb37444fe3b36a4a",
       "version_major": 2,
       "version_minor": 0
      },
      "text/plain": [
       "Computing transition probabilities:   0%|          | 0/44 [00:00<?, ?it/s]"
      ]
     },
     "metadata": {},
     "output_type": "display_data"
    },
    {
     "data": {
      "application/vnd.jupyter.widget-view+json": {
       "model_id": "9111c1a8b6db4ae6bd7a517dc5b405bd",
       "version_major": 2,
       "version_minor": 0
      },
      "text/plain": [
       "Computing transition probabilities:   0%|          | 0/44 [00:00<?, ?it/s]"
      ]
     },
     "metadata": {},
     "output_type": "display_data"
    },
    {
     "data": {
      "application/vnd.jupyter.widget-view+json": {
       "model_id": "3176bc51383346a587a3f00c7bef6b6e",
       "version_major": 2,
       "version_minor": 0
      },
      "text/plain": [
       "Computing transition probabilities:   0%|          | 0/44 [00:00<?, ?it/s]"
      ]
     },
     "metadata": {},
     "output_type": "display_data"
    },
    {
     "data": {
      "application/vnd.jupyter.widget-view+json": {
       "model_id": "8aa24d9f279d4a06b194446c79b39d5e",
       "version_major": 2,
       "version_minor": 0
      },
      "text/plain": [
       "Computing transition probabilities:   0%|          | 0/44 [00:00<?, ?it/s]"
      ]
     },
     "metadata": {},
     "output_type": "display_data"
    },
    {
     "name": "stdout",
     "output_type": "stream",
     "text": [
      "Accuracy: 0.906 (95% CI: 0.904 - 0.908)\n",
      "Precision: 0.655 (95% CI: 0.636 - 0.674)\n",
      "Recall: 0.347 (95% CI: 0.331 - 0.363)\n",
      "F1 Score: 0.453 (95% CI: 0.436 - 0.470)\n",
      "ROC AUC: 0.906 (95% CI: 0.901 - 0.911)\n",
      "Total Computation Time: 244.964 seconds\n",
      "\n",
      "Classifier: DT\n"
     ]
    },
    {
     "data": {
      "application/vnd.jupyter.widget-view+json": {
       "model_id": "142829c1abf449fb84b013660aa90e47",
       "version_major": 2,
       "version_minor": 0
      },
      "text/plain": [
       "Computing transition probabilities:   0%|          | 0/44 [00:00<?, ?it/s]"
      ]
     },
     "metadata": {},
     "output_type": "display_data"
    },
    {
     "data": {
      "application/vnd.jupyter.widget-view+json": {
       "model_id": "0b7e6ab74c744d9c8e118f987f1d3cd2",
       "version_major": 2,
       "version_minor": 0
      },
      "text/plain": [
       "Computing transition probabilities:   0%|          | 0/44 [00:00<?, ?it/s]"
      ]
     },
     "metadata": {},
     "output_type": "display_data"
    },
    {
     "data": {
      "application/vnd.jupyter.widget-view+json": {
       "model_id": "7d32d117282c4f719c12af06d31e5c2c",
       "version_major": 2,
       "version_minor": 0
      },
      "text/plain": [
       "Computing transition probabilities:   0%|          | 0/44 [00:00<?, ?it/s]"
      ]
     },
     "metadata": {},
     "output_type": "display_data"
    },
    {
     "data": {
      "application/vnd.jupyter.widget-view+json": {
       "model_id": "09f8b249691142cf8ccb927914a13ce9",
       "version_major": 2,
       "version_minor": 0
      },
      "text/plain": [
       "Computing transition probabilities:   0%|          | 0/44 [00:00<?, ?it/s]"
      ]
     },
     "metadata": {},
     "output_type": "display_data"
    },
    {
     "data": {
      "application/vnd.jupyter.widget-view+json": {
       "model_id": "7c90d4bec9564c1f9b3cbe7e87fc92e2",
       "version_major": 2,
       "version_minor": 0
      },
      "text/plain": [
       "Computing transition probabilities:   0%|          | 0/44 [00:00<?, ?it/s]"
      ]
     },
     "metadata": {},
     "output_type": "display_data"
    },
    {
     "data": {
      "application/vnd.jupyter.widget-view+json": {
       "model_id": "691cb48d5d2f4d41b9deff64a41ad300",
       "version_major": 2,
       "version_minor": 0
      },
      "text/plain": [
       "Computing transition probabilities:   0%|          | 0/44 [00:00<?, ?it/s]"
      ]
     },
     "metadata": {},
     "output_type": "display_data"
    },
    {
     "data": {
      "application/vnd.jupyter.widget-view+json": {
       "model_id": "c63e273a21db40649befc12fa3d9bd97",
       "version_major": 2,
       "version_minor": 0
      },
      "text/plain": [
       "Computing transition probabilities:   0%|          | 0/44 [00:00<?, ?it/s]"
      ]
     },
     "metadata": {},
     "output_type": "display_data"
    },
    {
     "data": {
      "application/vnd.jupyter.widget-view+json": {
       "model_id": "3b236c2c5a0c4d1cb997d55acffd972c",
       "version_major": 2,
       "version_minor": 0
      },
      "text/plain": [
       "Computing transition probabilities:   0%|          | 0/44 [00:00<?, ?it/s]"
      ]
     },
     "metadata": {},
     "output_type": "display_data"
    },
    {
     "data": {
      "application/vnd.jupyter.widget-view+json": {
       "model_id": "d423550ec4054a1db6c76c45d632b576",
       "version_major": 2,
       "version_minor": 0
      },
      "text/plain": [
       "Computing transition probabilities:   0%|          | 0/44 [00:00<?, ?it/s]"
      ]
     },
     "metadata": {},
     "output_type": "display_data"
    },
    {
     "data": {
      "application/vnd.jupyter.widget-view+json": {
       "model_id": "2f20e6b30cff4d3e87e39e0fe096f181",
       "version_major": 2,
       "version_minor": 0
      },
      "text/plain": [
       "Computing transition probabilities:   0%|          | 0/44 [00:00<?, ?it/s]"
      ]
     },
     "metadata": {},
     "output_type": "display_data"
    },
    {
     "data": {
      "application/vnd.jupyter.widget-view+json": {
       "model_id": "e6d7b39be1724c669caba4320b4e6ac2",
       "version_major": 2,
       "version_minor": 0
      },
      "text/plain": [
       "Computing transition probabilities:   0%|          | 0/44 [00:00<?, ?it/s]"
      ]
     },
     "metadata": {},
     "output_type": "display_data"
    },
    {
     "data": {
      "application/vnd.jupyter.widget-view+json": {
       "model_id": "f81e844ff92c47ebbeedaeaa0acf3adf",
       "version_major": 2,
       "version_minor": 0
      },
      "text/plain": [
       "Computing transition probabilities:   0%|          | 0/44 [00:00<?, ?it/s]"
      ]
     },
     "metadata": {},
     "output_type": "display_data"
    },
    {
     "data": {
      "application/vnd.jupyter.widget-view+json": {
       "model_id": "1e2ef7330f6e4421a68074d59c34cf58",
       "version_major": 2,
       "version_minor": 0
      },
      "text/plain": [
       "Computing transition probabilities:   0%|          | 0/44 [00:00<?, ?it/s]"
      ]
     },
     "metadata": {},
     "output_type": "display_data"
    },
    {
     "data": {
      "application/vnd.jupyter.widget-view+json": {
       "model_id": "aa02c43ce6dc4eba9671f3a7c1030bd6",
       "version_major": 2,
       "version_minor": 0
      },
      "text/plain": [
       "Computing transition probabilities:   0%|          | 0/44 [00:00<?, ?it/s]"
      ]
     },
     "metadata": {},
     "output_type": "display_data"
    },
    {
     "data": {
      "application/vnd.jupyter.widget-view+json": {
       "model_id": "905b7c137ebc42a4a4bb3053852c73af",
       "version_major": 2,
       "version_minor": 0
      },
      "text/plain": [
       "Computing transition probabilities:   0%|          | 0/44 [00:00<?, ?it/s]"
      ]
     },
     "metadata": {},
     "output_type": "display_data"
    },
    {
     "data": {
      "application/vnd.jupyter.widget-view+json": {
       "model_id": "40b5e3f3fc1e48c9803e2d94a0a78f22",
       "version_major": 2,
       "version_minor": 0
      },
      "text/plain": [
       "Computing transition probabilities:   0%|          | 0/44 [00:00<?, ?it/s]"
      ]
     },
     "metadata": {},
     "output_type": "display_data"
    },
    {
     "data": {
      "application/vnd.jupyter.widget-view+json": {
       "model_id": "9dcdfa1e609d4990a69913a0e1f28f76",
       "version_major": 2,
       "version_minor": 0
      },
      "text/plain": [
       "Computing transition probabilities:   0%|          | 0/44 [00:00<?, ?it/s]"
      ]
     },
     "metadata": {},
     "output_type": "display_data"
    },
    {
     "data": {
      "application/vnd.jupyter.widget-view+json": {
       "model_id": "66b40de6b8b343079741c1a73eaaecc4",
       "version_major": 2,
       "version_minor": 0
      },
      "text/plain": [
       "Computing transition probabilities:   0%|          | 0/44 [00:00<?, ?it/s]"
      ]
     },
     "metadata": {},
     "output_type": "display_data"
    },
    {
     "data": {
      "application/vnd.jupyter.widget-view+json": {
       "model_id": "ca7b8a5db28642d0a837f6a24e61d600",
       "version_major": 2,
       "version_minor": 0
      },
      "text/plain": [
       "Computing transition probabilities:   0%|          | 0/44 [00:00<?, ?it/s]"
      ]
     },
     "metadata": {},
     "output_type": "display_data"
    },
    {
     "data": {
      "application/vnd.jupyter.widget-view+json": {
       "model_id": "c15de9f852ab4db0a06493a4776a8db5",
       "version_major": 2,
       "version_minor": 0
      },
      "text/plain": [
       "Computing transition probabilities:   0%|          | 0/44 [00:00<?, ?it/s]"
      ]
     },
     "metadata": {},
     "output_type": "display_data"
    },
    {
     "name": "stdout",
     "output_type": "stream",
     "text": [
      "Accuracy: 0.906 (95% CI: 0.904 - 0.908)\n",
      "Precision: 0.650 (95% CI: 0.632 - 0.668)\n",
      "Recall: 0.358 (95% CI: 0.342 - 0.374)\n",
      "F1 Score: 0.461 (95% CI: 0.445 - 0.478)\n",
      "ROC AUC: 0.842 (95% CI: 0.835 - 0.849)\n",
      "Total Computation Time: 283.498 seconds\n",
      "\n",
      "Classifier: RF\n"
     ]
    },
    {
     "data": {
      "application/vnd.jupyter.widget-view+json": {
       "model_id": "fd01af3376ea46f5bab3af99b887e67f",
       "version_major": 2,
       "version_minor": 0
      },
      "text/plain": [
       "Computing transition probabilities:   0%|          | 0/44 [00:00<?, ?it/s]"
      ]
     },
     "metadata": {},
     "output_type": "display_data"
    },
    {
     "data": {
      "application/vnd.jupyter.widget-view+json": {
       "model_id": "0e1780dd12f1461bb831ddcd8f07d61b",
       "version_major": 2,
       "version_minor": 0
      },
      "text/plain": [
       "Computing transition probabilities:   0%|          | 0/44 [00:00<?, ?it/s]"
      ]
     },
     "metadata": {},
     "output_type": "display_data"
    },
    {
     "data": {
      "application/vnd.jupyter.widget-view+json": {
       "model_id": "b033629758aa47158f9060a80bea62fd",
       "version_major": 2,
       "version_minor": 0
      },
      "text/plain": [
       "Computing transition probabilities:   0%|          | 0/44 [00:00<?, ?it/s]"
      ]
     },
     "metadata": {},
     "output_type": "display_data"
    },
    {
     "data": {
      "application/vnd.jupyter.widget-view+json": {
       "model_id": "d04c11019e15452793aa6b573d6a130d",
       "version_major": 2,
       "version_minor": 0
      },
      "text/plain": [
       "Computing transition probabilities:   0%|          | 0/44 [00:00<?, ?it/s]"
      ]
     },
     "metadata": {},
     "output_type": "display_data"
    },
    {
     "data": {
      "application/vnd.jupyter.widget-view+json": {
       "model_id": "68b4d4efc7ef41c28fdb29d4bbd3abe4",
       "version_major": 2,
       "version_minor": 0
      },
      "text/plain": [
       "Computing transition probabilities:   0%|          | 0/44 [00:00<?, ?it/s]"
      ]
     },
     "metadata": {},
     "output_type": "display_data"
    },
    {
     "data": {
      "application/vnd.jupyter.widget-view+json": {
       "model_id": "1ecb2d4ffdcd43919f38b2dd213a977a",
       "version_major": 2,
       "version_minor": 0
      },
      "text/plain": [
       "Computing transition probabilities:   0%|          | 0/44 [00:00<?, ?it/s]"
      ]
     },
     "metadata": {},
     "output_type": "display_data"
    },
    {
     "data": {
      "application/vnd.jupyter.widget-view+json": {
       "model_id": "c66818b327714d238d64e87391e1626c",
       "version_major": 2,
       "version_minor": 0
      },
      "text/plain": [
       "Computing transition probabilities:   0%|          | 0/44 [00:00<?, ?it/s]"
      ]
     },
     "metadata": {},
     "output_type": "display_data"
    },
    {
     "data": {
      "application/vnd.jupyter.widget-view+json": {
       "model_id": "7c0032f027de44c4aee6b73ed905accd",
       "version_major": 2,
       "version_minor": 0
      },
      "text/plain": [
       "Computing transition probabilities:   0%|          | 0/44 [00:00<?, ?it/s]"
      ]
     },
     "metadata": {},
     "output_type": "display_data"
    },
    {
     "data": {
      "application/vnd.jupyter.widget-view+json": {
       "model_id": "751687f7a5b8495c8822e8b086b31f14",
       "version_major": 2,
       "version_minor": 0
      },
      "text/plain": [
       "Computing transition probabilities:   0%|          | 0/44 [00:00<?, ?it/s]"
      ]
     },
     "metadata": {},
     "output_type": "display_data"
    },
    {
     "data": {
      "application/vnd.jupyter.widget-view+json": {
       "model_id": "30390980c5bc4c3db4270435e14e5e5e",
       "version_major": 2,
       "version_minor": 0
      },
      "text/plain": [
       "Computing transition probabilities:   0%|          | 0/44 [00:00<?, ?it/s]"
      ]
     },
     "metadata": {},
     "output_type": "display_data"
    },
    {
     "data": {
      "application/vnd.jupyter.widget-view+json": {
       "model_id": "9205654d9d104e03b97df1ae5e507818",
       "version_major": 2,
       "version_minor": 0
      },
      "text/plain": [
       "Computing transition probabilities:   0%|          | 0/44 [00:00<?, ?it/s]"
      ]
     },
     "metadata": {},
     "output_type": "display_data"
    },
    {
     "data": {
      "application/vnd.jupyter.widget-view+json": {
       "model_id": "078001b5850a4481a11e268df0ecab08",
       "version_major": 2,
       "version_minor": 0
      },
      "text/plain": [
       "Computing transition probabilities:   0%|          | 0/44 [00:00<?, ?it/s]"
      ]
     },
     "metadata": {},
     "output_type": "display_data"
    },
    {
     "data": {
      "application/vnd.jupyter.widget-view+json": {
       "model_id": "cf28a01801354f759bcf97f9861d3d9e",
       "version_major": 2,
       "version_minor": 0
      },
      "text/plain": [
       "Computing transition probabilities:   0%|          | 0/44 [00:00<?, ?it/s]"
      ]
     },
     "metadata": {},
     "output_type": "display_data"
    },
    {
     "data": {
      "application/vnd.jupyter.widget-view+json": {
       "model_id": "338689167da649fbbfb2c50bff814881",
       "version_major": 2,
       "version_minor": 0
      },
      "text/plain": [
       "Computing transition probabilities:   0%|          | 0/44 [00:00<?, ?it/s]"
      ]
     },
     "metadata": {},
     "output_type": "display_data"
    },
    {
     "data": {
      "application/vnd.jupyter.widget-view+json": {
       "model_id": "da37b479a6b84180873cda2e820a5d3c",
       "version_major": 2,
       "version_minor": 0
      },
      "text/plain": [
       "Computing transition probabilities:   0%|          | 0/44 [00:00<?, ?it/s]"
      ]
     },
     "metadata": {},
     "output_type": "display_data"
    },
    {
     "data": {
      "application/vnd.jupyter.widget-view+json": {
       "model_id": "545a028e9b9a428fb9368a902cdbb34c",
       "version_major": 2,
       "version_minor": 0
      },
      "text/plain": [
       "Computing transition probabilities:   0%|          | 0/44 [00:00<?, ?it/s]"
      ]
     },
     "metadata": {},
     "output_type": "display_data"
    },
    {
     "data": {
      "application/vnd.jupyter.widget-view+json": {
       "model_id": "4109d2d21395402eb9121ae8bfee536e",
       "version_major": 2,
       "version_minor": 0
      },
      "text/plain": [
       "Computing transition probabilities:   0%|          | 0/44 [00:00<?, ?it/s]"
      ]
     },
     "metadata": {},
     "output_type": "display_data"
    },
    {
     "data": {
      "application/vnd.jupyter.widget-view+json": {
       "model_id": "732c9894da8f4bc9b16671908a0240e1",
       "version_major": 2,
       "version_minor": 0
      },
      "text/plain": [
       "Computing transition probabilities:   0%|          | 0/44 [00:00<?, ?it/s]"
      ]
     },
     "metadata": {},
     "output_type": "display_data"
    },
    {
     "data": {
      "application/vnd.jupyter.widget-view+json": {
       "model_id": "df5e5cfa7fc34903877c800b54397677",
       "version_major": 2,
       "version_minor": 0
      },
      "text/plain": [
       "Computing transition probabilities:   0%|          | 0/44 [00:00<?, ?it/s]"
      ]
     },
     "metadata": {},
     "output_type": "display_data"
    },
    {
     "data": {
      "application/vnd.jupyter.widget-view+json": {
       "model_id": "48754799f9b143ae8bf8bbdab9501b76",
       "version_major": 2,
       "version_minor": 0
      },
      "text/plain": [
       "Computing transition probabilities:   0%|          | 0/44 [00:00<?, ?it/s]"
      ]
     },
     "metadata": {},
     "output_type": "display_data"
    },
    {
     "name": "stdout",
     "output_type": "stream",
     "text": [
      "Accuracy: 0.897 (95% CI: 0.895 - 0.898)\n",
      "Precision: 0.801 (95% CI: 0.770 - 0.833)\n",
      "Recall: 0.110 (95% CI: 0.097 - 0.122)\n",
      "F1 Score: 0.192 (95% CI: 0.173 - 0.212)\n",
      "ROC AUC: 0.886 (95% CI: 0.881 - 0.892)\n",
      "Total Computation Time: 591.078 seconds\n",
      "\n",
      "Classifier: KNN\n"
     ]
    },
    {
     "data": {
      "application/vnd.jupyter.widget-view+json": {
       "model_id": "d56466ccbbfc4bcdbc33b7d729c534f9",
       "version_major": 2,
       "version_minor": 0
      },
      "text/plain": [
       "Computing transition probabilities:   0%|          | 0/44 [00:00<?, ?it/s]"
      ]
     },
     "metadata": {},
     "output_type": "display_data"
    },
    {
     "data": {
      "application/vnd.jupyter.widget-view+json": {
       "model_id": "262fd399762e41b3bc15ac90fef6e58f",
       "version_major": 2,
       "version_minor": 0
      },
      "text/plain": [
       "Computing transition probabilities:   0%|          | 0/44 [00:00<?, ?it/s]"
      ]
     },
     "metadata": {},
     "output_type": "display_data"
    },
    {
     "data": {
      "application/vnd.jupyter.widget-view+json": {
       "model_id": "13fbf5f49ff2409aa39ddf3318c7e9b2",
       "version_major": 2,
       "version_minor": 0
      },
      "text/plain": [
       "Computing transition probabilities:   0%|          | 0/44 [00:00<?, ?it/s]"
      ]
     },
     "metadata": {},
     "output_type": "display_data"
    },
    {
     "data": {
      "application/vnd.jupyter.widget-view+json": {
       "model_id": "dadc411d59734894ad5fd0929d1fe555",
       "version_major": 2,
       "version_minor": 0
      },
      "text/plain": [
       "Computing transition probabilities:   0%|          | 0/44 [00:00<?, ?it/s]"
      ]
     },
     "metadata": {},
     "output_type": "display_data"
    },
    {
     "data": {
      "application/vnd.jupyter.widget-view+json": {
       "model_id": "4189d3a071334fbd94cf75de65d8ecbd",
       "version_major": 2,
       "version_minor": 0
      },
      "text/plain": [
       "Computing transition probabilities:   0%|          | 0/44 [00:00<?, ?it/s]"
      ]
     },
     "metadata": {},
     "output_type": "display_data"
    },
    {
     "data": {
      "application/vnd.jupyter.widget-view+json": {
       "model_id": "88a7bd91679c4768b4d75cdc8c4e8d1b",
       "version_major": 2,
       "version_minor": 0
      },
      "text/plain": [
       "Computing transition probabilities:   0%|          | 0/44 [00:00<?, ?it/s]"
      ]
     },
     "metadata": {},
     "output_type": "display_data"
    },
    {
     "data": {
      "application/vnd.jupyter.widget-view+json": {
       "model_id": "2a765c989fec4ffbac071d09a027b3b1",
       "version_major": 2,
       "version_minor": 0
      },
      "text/plain": [
       "Computing transition probabilities:   0%|          | 0/44 [00:00<?, ?it/s]"
      ]
     },
     "metadata": {},
     "output_type": "display_data"
    },
    {
     "data": {
      "application/vnd.jupyter.widget-view+json": {
       "model_id": "668d694646da4bbab4318677ce0653ed",
       "version_major": 2,
       "version_minor": 0
      },
      "text/plain": [
       "Computing transition probabilities:   0%|          | 0/44 [00:00<?, ?it/s]"
      ]
     },
     "metadata": {},
     "output_type": "display_data"
    },
    {
     "data": {
      "application/vnd.jupyter.widget-view+json": {
       "model_id": "292f5ad087664eee822edbf51d49f08a",
       "version_major": 2,
       "version_minor": 0
      },
      "text/plain": [
       "Computing transition probabilities:   0%|          | 0/44 [00:00<?, ?it/s]"
      ]
     },
     "metadata": {},
     "output_type": "display_data"
    },
    {
     "data": {
      "application/vnd.jupyter.widget-view+json": {
       "model_id": "e6b05a410bd64728849fe8891de34aad",
       "version_major": 2,
       "version_minor": 0
      },
      "text/plain": [
       "Computing transition probabilities:   0%|          | 0/44 [00:00<?, ?it/s]"
      ]
     },
     "metadata": {},
     "output_type": "display_data"
    },
    {
     "data": {
      "application/vnd.jupyter.widget-view+json": {
       "model_id": "d7e8d6af92c94a7997f240a71fef2e02",
       "version_major": 2,
       "version_minor": 0
      },
      "text/plain": [
       "Computing transition probabilities:   0%|          | 0/44 [00:00<?, ?it/s]"
      ]
     },
     "metadata": {},
     "output_type": "display_data"
    },
    {
     "data": {
      "application/vnd.jupyter.widget-view+json": {
       "model_id": "0e2a4ddd759d428d9ed01597f619a9f7",
       "version_major": 2,
       "version_minor": 0
      },
      "text/plain": [
       "Computing transition probabilities:   0%|          | 0/44 [00:00<?, ?it/s]"
      ]
     },
     "metadata": {},
     "output_type": "display_data"
    },
    {
     "data": {
      "application/vnd.jupyter.widget-view+json": {
       "model_id": "90c4b899969f47d281d6d245bb44b3c4",
       "version_major": 2,
       "version_minor": 0
      },
      "text/plain": [
       "Computing transition probabilities:   0%|          | 0/44 [00:00<?, ?it/s]"
      ]
     },
     "metadata": {},
     "output_type": "display_data"
    },
    {
     "data": {
      "application/vnd.jupyter.widget-view+json": {
       "model_id": "aee9dbb70f744b5ea1fa9b07e2a5c1a9",
       "version_major": 2,
       "version_minor": 0
      },
      "text/plain": [
       "Computing transition probabilities:   0%|          | 0/44 [00:00<?, ?it/s]"
      ]
     },
     "metadata": {},
     "output_type": "display_data"
    },
    {
     "data": {
      "application/vnd.jupyter.widget-view+json": {
       "model_id": "50344164e3a64985b34382ff0a4cce12",
       "version_major": 2,
       "version_minor": 0
      },
      "text/plain": [
       "Computing transition probabilities:   0%|          | 0/44 [00:00<?, ?it/s]"
      ]
     },
     "metadata": {},
     "output_type": "display_data"
    },
    {
     "data": {
      "application/vnd.jupyter.widget-view+json": {
       "model_id": "e8f3478b626d495885dd2a507de8516a",
       "version_major": 2,
       "version_minor": 0
      },
      "text/plain": [
       "Computing transition probabilities:   0%|          | 0/44 [00:00<?, ?it/s]"
      ]
     },
     "metadata": {},
     "output_type": "display_data"
    },
    {
     "data": {
      "application/vnd.jupyter.widget-view+json": {
       "model_id": "ecfb74b2e6a141d18a715b13bbc62304",
       "version_major": 2,
       "version_minor": 0
      },
      "text/plain": [
       "Computing transition probabilities:   0%|          | 0/44 [00:00<?, ?it/s]"
      ]
     },
     "metadata": {},
     "output_type": "display_data"
    },
    {
     "data": {
      "application/vnd.jupyter.widget-view+json": {
       "model_id": "a5835270f8114cd4942b8e57444c5947",
       "version_major": 2,
       "version_minor": 0
      },
      "text/plain": [
       "Computing transition probabilities:   0%|          | 0/44 [00:00<?, ?it/s]"
      ]
     },
     "metadata": {},
     "output_type": "display_data"
    },
    {
     "data": {
      "application/vnd.jupyter.widget-view+json": {
       "model_id": "0489a128c9b3441faa4efff179b9178e",
       "version_major": 2,
       "version_minor": 0
      },
      "text/plain": [
       "Computing transition probabilities:   0%|          | 0/44 [00:00<?, ?it/s]"
      ]
     },
     "metadata": {},
     "output_type": "display_data"
    },
    {
     "data": {
      "application/vnd.jupyter.widget-view+json": {
       "model_id": "7fb926269e5548a3b4bea66ec9c96eca",
       "version_major": 2,
       "version_minor": 0
      },
      "text/plain": [
       "Computing transition probabilities:   0%|          | 0/44 [00:00<?, ?it/s]"
      ]
     },
     "metadata": {},
     "output_type": "display_data"
    },
    {
     "name": "stdout",
     "output_type": "stream",
     "text": [
      "Accuracy: 0.894 (95% CI: 0.891 - 0.896)\n",
      "Precision: 0.549 (95% CI: 0.531 - 0.566)\n",
      "Recall: 0.314 (95% CI: 0.297 - 0.332)\n",
      "F1 Score: 0.399 (95% CI: 0.381 - 0.417)\n",
      "ROC AUC: 0.753 (95% CI: 0.743 - 0.763)\n",
      "Total Computation Time: 251.815 seconds\n",
      "\n",
      "Classifier: XGB\n"
     ]
    },
    {
     "data": {
      "application/vnd.jupyter.widget-view+json": {
       "model_id": "b2ebdcbefbd247f394e5633a1d17b47f",
       "version_major": 2,
       "version_minor": 0
      },
      "text/plain": [
       "Computing transition probabilities:   0%|          | 0/44 [00:00<?, ?it/s]"
      ]
     },
     "metadata": {},
     "output_type": "display_data"
    },
    {
     "data": {
      "application/vnd.jupyter.widget-view+json": {
       "model_id": "589d64488fe34204b9fd0892114e13e1",
       "version_major": 2,
       "version_minor": 0
      },
      "text/plain": [
       "Computing transition probabilities:   0%|          | 0/44 [00:00<?, ?it/s]"
      ]
     },
     "metadata": {},
     "output_type": "display_data"
    },
    {
     "data": {
      "application/vnd.jupyter.widget-view+json": {
       "model_id": "7e3827b096f5468a8467698eef9b6044",
       "version_major": 2,
       "version_minor": 0
      },
      "text/plain": [
       "Computing transition probabilities:   0%|          | 0/44 [00:00<?, ?it/s]"
      ]
     },
     "metadata": {},
     "output_type": "display_data"
    },
    {
     "data": {
      "application/vnd.jupyter.widget-view+json": {
       "model_id": "2862992e3862415b909c4969f5022f90",
       "version_major": 2,
       "version_minor": 0
      },
      "text/plain": [
       "Computing transition probabilities:   0%|          | 0/44 [00:00<?, ?it/s]"
      ]
     },
     "metadata": {},
     "output_type": "display_data"
    },
    {
     "data": {
      "application/vnd.jupyter.widget-view+json": {
       "model_id": "9326e7669d364885ade6019d37b9bce5",
       "version_major": 2,
       "version_minor": 0
      },
      "text/plain": [
       "Computing transition probabilities:   0%|          | 0/44 [00:00<?, ?it/s]"
      ]
     },
     "metadata": {},
     "output_type": "display_data"
    },
    {
     "data": {
      "application/vnd.jupyter.widget-view+json": {
       "model_id": "7973fc75501246698ad590a93e232c3e",
       "version_major": 2,
       "version_minor": 0
      },
      "text/plain": [
       "Computing transition probabilities:   0%|          | 0/44 [00:00<?, ?it/s]"
      ]
     },
     "metadata": {},
     "output_type": "display_data"
    },
    {
     "data": {
      "application/vnd.jupyter.widget-view+json": {
       "model_id": "a2ae55a40ddd4d53bf4326046ab01986",
       "version_major": 2,
       "version_minor": 0
      },
      "text/plain": [
       "Computing transition probabilities:   0%|          | 0/44 [00:00<?, ?it/s]"
      ]
     },
     "metadata": {},
     "output_type": "display_data"
    },
    {
     "data": {
      "application/vnd.jupyter.widget-view+json": {
       "model_id": "1926d31c3bc9430fbf2c762cafaa0ae6",
       "version_major": 2,
       "version_minor": 0
      },
      "text/plain": [
       "Computing transition probabilities:   0%|          | 0/44 [00:00<?, ?it/s]"
      ]
     },
     "metadata": {},
     "output_type": "display_data"
    },
    {
     "data": {
      "application/vnd.jupyter.widget-view+json": {
       "model_id": "55fd56289703423eb550e6cb5842df58",
       "version_major": 2,
       "version_minor": 0
      },
      "text/plain": [
       "Computing transition probabilities:   0%|          | 0/44 [00:00<?, ?it/s]"
      ]
     },
     "metadata": {},
     "output_type": "display_data"
    },
    {
     "data": {
      "application/vnd.jupyter.widget-view+json": {
       "model_id": "a4b2a2dac6eb4fe6a1e85e8a35145787",
       "version_major": 2,
       "version_minor": 0
      },
      "text/plain": [
       "Computing transition probabilities:   0%|          | 0/44 [00:00<?, ?it/s]"
      ]
     },
     "metadata": {},
     "output_type": "display_data"
    },
    {
     "data": {
      "application/vnd.jupyter.widget-view+json": {
       "model_id": "491d98452c51471ca315d905e72f0578",
       "version_major": 2,
       "version_minor": 0
      },
      "text/plain": [
       "Computing transition probabilities:   0%|          | 0/44 [00:00<?, ?it/s]"
      ]
     },
     "metadata": {},
     "output_type": "display_data"
    },
    {
     "data": {
      "application/vnd.jupyter.widget-view+json": {
       "model_id": "cf0fd573c7414c5795815d628e65719e",
       "version_major": 2,
       "version_minor": 0
      },
      "text/plain": [
       "Computing transition probabilities:   0%|          | 0/44 [00:00<?, ?it/s]"
      ]
     },
     "metadata": {},
     "output_type": "display_data"
    },
    {
     "data": {
      "application/vnd.jupyter.widget-view+json": {
       "model_id": "f5a4e392b69741d4b9b9e798422b2b24",
       "version_major": 2,
       "version_minor": 0
      },
      "text/plain": [
       "Computing transition probabilities:   0%|          | 0/44 [00:00<?, ?it/s]"
      ]
     },
     "metadata": {},
     "output_type": "display_data"
    },
    {
     "data": {
      "application/vnd.jupyter.widget-view+json": {
       "model_id": "63ae4a50a2e847229148bc0c03aac188",
       "version_major": 2,
       "version_minor": 0
      },
      "text/plain": [
       "Computing transition probabilities:   0%|          | 0/44 [00:00<?, ?it/s]"
      ]
     },
     "metadata": {},
     "output_type": "display_data"
    },
    {
     "data": {
      "application/vnd.jupyter.widget-view+json": {
       "model_id": "eb350ed01f17479c8fa466c66218c999",
       "version_major": 2,
       "version_minor": 0
      },
      "text/plain": [
       "Computing transition probabilities:   0%|          | 0/44 [00:00<?, ?it/s]"
      ]
     },
     "metadata": {},
     "output_type": "display_data"
    },
    {
     "data": {
      "application/vnd.jupyter.widget-view+json": {
       "model_id": "db27efe4105d4c4f9dc1cdb5c19b93b2",
       "version_major": 2,
       "version_minor": 0
      },
      "text/plain": [
       "Computing transition probabilities:   0%|          | 0/44 [00:00<?, ?it/s]"
      ]
     },
     "metadata": {},
     "output_type": "display_data"
    },
    {
     "data": {
      "application/vnd.jupyter.widget-view+json": {
       "model_id": "2a37a57324d443faba9fcc4885e32c6f",
       "version_major": 2,
       "version_minor": 0
      },
      "text/plain": [
       "Computing transition probabilities:   0%|          | 0/44 [00:00<?, ?it/s]"
      ]
     },
     "metadata": {},
     "output_type": "display_data"
    },
    {
     "data": {
      "application/vnd.jupyter.widget-view+json": {
       "model_id": "8481b769bc4e44b891e9de84dd2c3da8",
       "version_major": 2,
       "version_minor": 0
      },
      "text/plain": [
       "Computing transition probabilities:   0%|          | 0/44 [00:00<?, ?it/s]"
      ]
     },
     "metadata": {},
     "output_type": "display_data"
    },
    {
     "data": {
      "application/vnd.jupyter.widget-view+json": {
       "model_id": "1d3c520723874950952c88fe227750b8",
       "version_major": 2,
       "version_minor": 0
      },
      "text/plain": [
       "Computing transition probabilities:   0%|          | 0/44 [00:00<?, ?it/s]"
      ]
     },
     "metadata": {},
     "output_type": "display_data"
    },
    {
     "data": {
      "application/vnd.jupyter.widget-view+json": {
       "model_id": "6b14f5c7a4f642cba20967ae776cdd39",
       "version_major": 2,
       "version_minor": 0
      },
      "text/plain": [
       "Computing transition probabilities:   0%|          | 0/44 [00:00<?, ?it/s]"
      ]
     },
     "metadata": {},
     "output_type": "display_data"
    },
    {
     "name": "stdout",
     "output_type": "stream",
     "text": [
      "Accuracy: 0.903 (95% CI: 0.901 - 0.906)\n",
      "Precision: 0.596 (95% CI: 0.581 - 0.612)\n",
      "Recall: 0.434 (95% CI: 0.416 - 0.451)\n",
      "F1 Score: 0.501 (95% CI: 0.486 - 0.517)\n",
      "ROC AUC: 0.912 (95% CI: 0.908 - 0.916)\n",
      "Total Computation Time: 205.504 seconds\n",
      "\n",
      "Classifier: MLP\n"
     ]
    },
    {
     "data": {
      "application/vnd.jupyter.widget-view+json": {
       "model_id": "99e174f0d3d2423f9f49444161d34eb8",
       "version_major": 2,
       "version_minor": 0
      },
      "text/plain": [
       "Computing transition probabilities:   0%|          | 0/44 [00:00<?, ?it/s]"
      ]
     },
     "metadata": {},
     "output_type": "display_data"
    },
    {
     "data": {
      "application/vnd.jupyter.widget-view+json": {
       "model_id": "7966d1c2e6074d37b5e43dca6163fbb1",
       "version_major": 2,
       "version_minor": 0
      },
      "text/plain": [
       "Computing transition probabilities:   0%|          | 0/44 [00:00<?, ?it/s]"
      ]
     },
     "metadata": {},
     "output_type": "display_data"
    },
    {
     "data": {
      "application/vnd.jupyter.widget-view+json": {
       "model_id": "0da496f11f1d4bdc8720174f08db7047",
       "version_major": 2,
       "version_minor": 0
      },
      "text/plain": [
       "Computing transition probabilities:   0%|          | 0/44 [00:00<?, ?it/s]"
      ]
     },
     "metadata": {},
     "output_type": "display_data"
    },
    {
     "data": {
      "application/vnd.jupyter.widget-view+json": {
       "model_id": "387ae49b633448ccb8b5eacaebd269b6",
       "version_major": 2,
       "version_minor": 0
      },
      "text/plain": [
       "Computing transition probabilities:   0%|          | 0/44 [00:00<?, ?it/s]"
      ]
     },
     "metadata": {},
     "output_type": "display_data"
    },
    {
     "data": {
      "application/vnd.jupyter.widget-view+json": {
       "model_id": "2e5c424f3b3f4668b77265c522c43a7f",
       "version_major": 2,
       "version_minor": 0
      },
      "text/plain": [
       "Computing transition probabilities:   0%|          | 0/44 [00:00<?, ?it/s]"
      ]
     },
     "metadata": {},
     "output_type": "display_data"
    },
    {
     "data": {
      "application/vnd.jupyter.widget-view+json": {
       "model_id": "562cf1a7ab6c41e6aadfdac3c0fde9b8",
       "version_major": 2,
       "version_minor": 0
      },
      "text/plain": [
       "Computing transition probabilities:   0%|          | 0/44 [00:00<?, ?it/s]"
      ]
     },
     "metadata": {},
     "output_type": "display_data"
    },
    {
     "data": {
      "application/vnd.jupyter.widget-view+json": {
       "model_id": "518dd184dfee4625ab341a2b3d543c53",
       "version_major": 2,
       "version_minor": 0
      },
      "text/plain": [
       "Computing transition probabilities:   0%|          | 0/44 [00:00<?, ?it/s]"
      ]
     },
     "metadata": {},
     "output_type": "display_data"
    },
    {
     "data": {
      "application/vnd.jupyter.widget-view+json": {
       "model_id": "6474910874cc4318b80e147b84226b9a",
       "version_major": 2,
       "version_minor": 0
      },
      "text/plain": [
       "Computing transition probabilities:   0%|          | 0/44 [00:00<?, ?it/s]"
      ]
     },
     "metadata": {},
     "output_type": "display_data"
    },
    {
     "data": {
      "application/vnd.jupyter.widget-view+json": {
       "model_id": "511a19b5ff474bdc8cda11da8f12c7ca",
       "version_major": 2,
       "version_minor": 0
      },
      "text/plain": [
       "Computing transition probabilities:   0%|          | 0/44 [00:00<?, ?it/s]"
      ]
     },
     "metadata": {},
     "output_type": "display_data"
    },
    {
     "data": {
      "application/vnd.jupyter.widget-view+json": {
       "model_id": "6e127d8593a043d0a649a88c9cbf94a0",
       "version_major": 2,
       "version_minor": 0
      },
      "text/plain": [
       "Computing transition probabilities:   0%|          | 0/44 [00:00<?, ?it/s]"
      ]
     },
     "metadata": {},
     "output_type": "display_data"
    },
    {
     "data": {
      "application/vnd.jupyter.widget-view+json": {
       "model_id": "8c936f9228a340709259745e98bbab9c",
       "version_major": 2,
       "version_minor": 0
      },
      "text/plain": [
       "Computing transition probabilities:   0%|          | 0/44 [00:00<?, ?it/s]"
      ]
     },
     "metadata": {},
     "output_type": "display_data"
    },
    {
     "data": {
      "application/vnd.jupyter.widget-view+json": {
       "model_id": "9d52562576b641dd9eac4f785be79669",
       "version_major": 2,
       "version_minor": 0
      },
      "text/plain": [
       "Computing transition probabilities:   0%|          | 0/44 [00:00<?, ?it/s]"
      ]
     },
     "metadata": {},
     "output_type": "display_data"
    },
    {
     "data": {
      "application/vnd.jupyter.widget-view+json": {
       "model_id": "58d7a64ef6394acba95c40eb89ef4fc3",
       "version_major": 2,
       "version_minor": 0
      },
      "text/plain": [
       "Computing transition probabilities:   0%|          | 0/44 [00:00<?, ?it/s]"
      ]
     },
     "metadata": {},
     "output_type": "display_data"
    },
    {
     "data": {
      "application/vnd.jupyter.widget-view+json": {
       "model_id": "02d2ccb75e7b4f41805ca00d77a0d374",
       "version_major": 2,
       "version_minor": 0
      },
      "text/plain": [
       "Computing transition probabilities:   0%|          | 0/44 [00:00<?, ?it/s]"
      ]
     },
     "metadata": {},
     "output_type": "display_data"
    },
    {
     "data": {
      "application/vnd.jupyter.widget-view+json": {
       "model_id": "8af4fdfc6fcd4d5daa07cb30f894bdcc",
       "version_major": 2,
       "version_minor": 0
      },
      "text/plain": [
       "Computing transition probabilities:   0%|          | 0/44 [00:00<?, ?it/s]"
      ]
     },
     "metadata": {},
     "output_type": "display_data"
    },
    {
     "data": {
      "application/vnd.jupyter.widget-view+json": {
       "model_id": "b30626061ff046f1b575ddf8d79a3c27",
       "version_major": 2,
       "version_minor": 0
      },
      "text/plain": [
       "Computing transition probabilities:   0%|          | 0/44 [00:00<?, ?it/s]"
      ]
     },
     "metadata": {},
     "output_type": "display_data"
    },
    {
     "data": {
      "application/vnd.jupyter.widget-view+json": {
       "model_id": "287624d8ca3a474784406af216b2f019",
       "version_major": 2,
       "version_minor": 0
      },
      "text/plain": [
       "Computing transition probabilities:   0%|          | 0/44 [00:00<?, ?it/s]"
      ]
     },
     "metadata": {},
     "output_type": "display_data"
    },
    {
     "data": {
      "application/vnd.jupyter.widget-view+json": {
       "model_id": "a1e6982b750549078fdc12a484cec4ac",
       "version_major": 2,
       "version_minor": 0
      },
      "text/plain": [
       "Computing transition probabilities:   0%|          | 0/44 [00:00<?, ?it/s]"
      ]
     },
     "metadata": {},
     "output_type": "display_data"
    },
    {
     "data": {
      "application/vnd.jupyter.widget-view+json": {
       "model_id": "51badf259bc04762b5c9577f1c7e64e4",
       "version_major": 2,
       "version_minor": 0
      },
      "text/plain": [
       "Computing transition probabilities:   0%|          | 0/44 [00:00<?, ?it/s]"
      ]
     },
     "metadata": {},
     "output_type": "display_data"
    },
    {
     "data": {
      "application/vnd.jupyter.widget-view+json": {
       "model_id": "bfe3465809dd46e0a53913c3989dcaad",
       "version_major": 2,
       "version_minor": 0
      },
      "text/plain": [
       "Computing transition probabilities:   0%|          | 0/44 [00:00<?, ?it/s]"
      ]
     },
     "metadata": {},
     "output_type": "display_data"
    },
    {
     "name": "stdout",
     "output_type": "stream",
     "text": [
      "Accuracy: 0.900 (95% CI: 0.897 - 0.904)\n",
      "Precision: 0.580 (95% CI: 0.556 - 0.603)\n",
      "Recall: 0.439 (95% CI: 0.420 - 0.459)\n",
      "F1 Score: 0.498 (95% CI: 0.482 - 0.515)\n",
      "ROC AUC: 0.909 (95% CI: 0.904 - 0.914)\n",
      "Total Computation Time: 1878.769 seconds\n",
      "\n"
     ]
    }
   ],
   "source": [
    "import config_cat_embedding\n",
    "import numpy as np\n",
    "import pandas as pd\n",
    "import random\n",
    "import time\n",
    "\n",
    "from gensim.models import Word2Vec\n",
    "from sklearn.model_selection import StratifiedKFold\n",
    "from sklearn.linear_model import LogisticRegression\n",
    "from sklearn.tree import DecisionTreeClassifier\n",
    "from sklearn.neighbors import KNeighborsClassifier\n",
    "# from sklearn.svm import SVC\n",
    "from sklearn.ensemble import RandomForestClassifier\n",
    "from xgboost import XGBClassifier\n",
    "from scikeras.wrappers import KerasClassifier\n",
    "from sklearn.preprocessing import StandardScaler\n",
    "from sklearn.metrics import (accuracy_score, precision_score, recall_score,\n",
    "                             f1_score, roc_auc_score)\n",
    "import networkx as nx\n",
    "from node2vec import Node2Vec\n",
    "import matplotlib.pyplot as plt\n",
    "\n",
    "from scipy.sparse import coo_matrix, csr_matrix\n",
    "\n",
    "from tqdm.notebook import tqdm\n",
    "from data_prep import bank_data_prep, adult_data_prep\n",
    "from embedding_helper import create_network\n",
    "\n",
    "from scipy import stats  # For confidence intervals\n",
    "\n",
    "# Set the random seed for reproducibility\n",
    "random.seed(42)\n",
    "np.random.seed(42)\n",
    "\n",
    "def create_cooccurrence_matrix_diag(df_cat):\n",
    "    # Get unique categories\n",
    "    categories = np.unique(df_cat)\n",
    "\n",
    "    # Create a dictionary to map category to index\n",
    "    category_to_index = {cat: i for i, cat in enumerate(categories)}\n",
    "\n",
    "    # Calculate co-occurrence matrix\n",
    "    matrix = np.zeros((len(categories), len(categories)))\n",
    "    for row in df_cat.itertuples(index=False):\n",
    "        for i, cat1 in enumerate(row):\n",
    "            for j, cat2 in enumerate(row):\n",
    "                if i != j:\n",
    "                    matrix[category_to_index[cat1], category_to_index[cat2]] += 1\n",
    "\n",
    "    # Calculate the diagonal values\n",
    "    diagonal_values = []\n",
    "    for cat in categories:\n",
    "        count = df_cat.stack().value_counts()[cat]\n",
    "        diagonal_values.append(count)\n",
    "\n",
    "    # Set diagonal values to category counts\n",
    "    np.fill_diagonal(matrix, diagonal_values)\n",
    "\n",
    "    # Convert the matrix to a sparse matrix\n",
    "    sparse_matrix = coo_matrix(matrix)\n",
    "\n",
    "    # Normalize the matrix\n",
    "    normalized_matrix = csr_matrix(sparse_matrix / sparse_matrix.sum(axis=1))\n",
    "\n",
    "    # Convert to DataFrame for easier handling\n",
    "    co_occurrence_matrix_norm = pd.DataFrame(normalized_matrix.toarray(), index=categories, columns=categories)\n",
    "\n",
    "    return co_occurrence_matrix_norm\n",
    "\n",
    "# get_embeddings function outside the loop\n",
    "def get_embeddings(df, model):\n",
    "    embeddings = []\n",
    "    for index, row in df.iterrows():\n",
    "        node_vectors = []\n",
    "        for cat in row:\n",
    "            if str(cat) in model.wv:\n",
    "                node_vectors.append(model.wv[str(cat)])\n",
    "            else:\n",
    "                node_vectors.append(np.zeros(model.vector_size))\n",
    "        embeddings.append(np.mean(node_vectors, axis=0))\n",
    "    return np.array(embeddings)\n",
    "\n",
    "# =============================================\n",
    "# Start of the adapted code for cross-validation\n",
    "# =============================================\n",
    "\n",
    "# Load and preprocess data\n",
    "data_path = config_cat_embedding.paths['data']\n",
    "bank_data = pd.read_csv(data_path + 'bank-additional-full.csv', sep=';')\n",
    "\n",
    "# Preprocess the data (you should define bank_data_prep accordingly)\n",
    "df_bank, cat_cols = bank_data_prep(bank_data)\n",
    "\n",
    "X = df_bank.iloc[:, :-1]\n",
    "y = df_bank.y\n",
    "\n",
    "# Define the classifiers\n",
    "seed = 42\n",
    "\n",
    "models = [\n",
    "    ('LR', LogisticRegression(solver='lbfgs', random_state=seed, max_iter=1000)),\n",
    "    ('DT', DecisionTreeClassifier(criterion='entropy', max_depth=3, random_state=seed)),\n",
    "    ('RF', RandomForestClassifier(n_estimators=200, max_depth=5, random_state=seed, min_samples_leaf=3)),\n",
    "    ('KNN', KNeighborsClassifier(n_neighbors=3)),\n",
    "    ('XGB', XGBClassifier(eval_metric='logloss', random_state=seed)),\n",
    "    ('MLP', KerasClassifier(\n",
    "        model=create_network,\n",
    "        epochs=100, batch_size=100, verbose=0, random_state=seed))\n",
    "]\n",
    "\n",
    "# Cross-validation setup\n",
    "cv = StratifiedKFold(n_splits=20, shuffle=True, random_state=seed)\n",
    "\n",
    "# Function to calculate confidence intervals\n",
    "def confidence_interval(data, confidence=0.95):\n",
    "    n = len(data)\n",
    "    m = np.mean(data)\n",
    "    std_err = stats.sem(data)\n",
    "    h = std_err * stats.t.ppf((1 + confidence) / 2, n - 1)\n",
    "    return m, m - h, m + h\n",
    "\n",
    "# Loop over models\n",
    "for name, model in models:\n",
    "    print(f\"Classifier: {name}\")\n",
    "    # Lists to store metrics for each fold\n",
    "    accuracies = []\n",
    "    precisions = []\n",
    "    recalls = []\n",
    "    f1s = []\n",
    "    roc_aucs = []\n",
    "\n",
    "    # Start the timer before cross-validation\n",
    "    start_time = time.time()\n",
    "\n",
    "    fold = 1\n",
    "    for train_index, test_index in cv.split(X, y):\n",
    "        # Split the data into training and testing sets for this fold\n",
    "        X_train_fold, X_test_fold = X.iloc[train_index].copy(), X.iloc[test_index].copy()\n",
    "        y_train_fold, y_test_fold = y.iloc[train_index], y.iloc[test_index]\n",
    "\n",
    "        # Preprocess data within the fold\n",
    "        # Handle categorical variables\n",
    "        cat_data_train = X_train_fold[cat_cols]\n",
    "        cat_data_test = X_test_fold[cat_cols]\n",
    "\n",
    "        # Create co-occurrence matrix using the training data\n",
    "        co_occurrence_matrix = create_cooccurrence_matrix_diag(cat_data_train)\n",
    "\n",
    "        # Use Node2Vec or another method to create embeddings from the co-occurrence matrix\n",
    "        # Here, we will create a graph and compute embeddings\n",
    "        G = nx.from_pandas_adjacency(co_occurrence_matrix)\n",
    "\n",
    "        node2vec = Node2Vec(G, dimensions=30, walk_length=30, num_walks=10, workers=4, seed=seed)\n",
    "        node2vec_model = node2vec.fit(window=10, min_count=1, batch_words=4)\n",
    "\n",
    "        # Map embeddings to the categorical data\n",
    "        X_train_emb = get_embeddings(cat_data_train, node2vec_model)\n",
    "        X_test_emb = get_embeddings(cat_data_test, node2vec_model)\n",
    "\n",
    "        # If there are numerical features, include them\n",
    "        num_cols = X_train_fold.drop(columns=cat_cols).columns.tolist()\n",
    "        if num_cols:\n",
    "            num_data_train = X_train_fold[num_cols].values\n",
    "            num_data_test = X_test_fold[num_cols].values\n",
    "\n",
    "            # Combine numerical and embedding features\n",
    "            X_train_combined = np.hstack((X_train_emb, num_data_train))\n",
    "            X_test_combined = np.hstack((X_test_emb, num_data_test))\n",
    "        else:\n",
    "            X_train_combined = X_train_emb\n",
    "            X_test_combined = X_test_emb\n",
    "\n",
    "        # Standard scaling\n",
    "        stc = StandardScaler()\n",
    "        X_train_scaled = stc.fit_transform(X_train_combined)\n",
    "        X_test_scaled = stc.transform(X_test_combined)\n",
    "\n",
    "        # Update number_of_features for MLP\n",
    "        number_of_features = X_train_scaled.shape[1]\n",
    "        if name == 'MLP':\n",
    "            # Update the model with the correct number of features\n",
    "            model.set_params(model__number_of_features=number_of_features)\n",
    "\n",
    "        # Fit the model\n",
    "        model.fit(X_train_scaled, y_train_fold)\n",
    "        # Predict on the test fold\n",
    "        y_pred_fold = model.predict(X_test_scaled)\n",
    "\n",
    "        # Get prediction probabilities for ROC AUC\n",
    "        if hasattr(model, \"predict_proba\"):\n",
    "            y_pred_prob_fold = model.predict_proba(X_test_scaled)[:, 1]\n",
    "        else:\n",
    "            # For classifiers without predict_proba, use decision_function\n",
    "            y_pred_prob_fold = model.decision_function(X_test_scaled)\n",
    "            # Normalize the decision function output to [0,1] range\n",
    "            y_pred_prob_fold = (y_pred_prob_fold - y_pred_prob_fold.min()) / (y_pred_prob_fold.max() - y_pred_prob_fold.min())\n",
    "\n",
    "        # Calculate metrics\n",
    "        accuracies.append(accuracy_score(y_test_fold, y_pred_fold))\n",
    "        precisions.append(precision_score(y_test_fold, y_pred_fold, zero_division=0))\n",
    "        recalls.append(recall_score(y_test_fold, y_pred_fold))\n",
    "        f1s.append(f1_score(y_test_fold, y_pred_fold))\n",
    "        roc_aucs.append(roc_auc_score(y_test_fold, y_pred_prob_fold))\n",
    "\n",
    "        # print(f\"Fold {fold} completed.\")\n",
    "        fold += 1\n",
    "\n",
    "    # Stop the timer after cross-validation\n",
    "    end_time = time.time()\n",
    "    total_computation_time = end_time - start_time  # Total time for the model\n",
    "\n",
    "    # Calculate mean and confidence intervals\n",
    "    acc_mean, acc_ci_lower, acc_ci_upper = confidence_interval(accuracies)\n",
    "    prec_mean, prec_ci_lower, prec_ci_upper = confidence_interval(precisions)\n",
    "    rec_mean, rec_ci_lower, rec_ci_upper = confidence_interval(recalls)\n",
    "    f1_mean, f1_ci_lower, f1_ci_upper = confidence_interval(f1s)\n",
    "    roc_mean, roc_ci_lower, roc_ci_upper = confidence_interval(roc_aucs)\n",
    "\n",
    "    # Print results\n",
    "    print(f\"Accuracy: {acc_mean:.3f} (95% CI: {acc_ci_lower:.3f} - {acc_ci_upper:.3f})\")\n",
    "    print(f\"Precision: {prec_mean:.3f} (95% CI: {prec_ci_lower:.3f} - {prec_ci_upper:.3f})\")\n",
    "    print(f\"Recall: {rec_mean:.3f} (95% CI: {rec_ci_lower:.3f} - {rec_ci_upper:.3f})\")\n",
    "    print(f\"F1 Score: {f1_mean:.3f} (95% CI: {f1_ci_lower:.3f} - {f1_ci_upper:.3f})\")\n",
    "    print(f\"ROC AUC: {roc_mean:.3f} (95% CI: {roc_ci_lower:.3f} - {roc_ci_upper:.3f})\")\n",
    "    print(f\"Total Computation Time: {total_computation_time:.3f} seconds\\n\")\n"
   ]
  },
  {
   "cell_type": "code",
   "execution_count": 1,
   "id": "a5e5176d",
   "metadata": {},
   "outputs": [],
   "source": [
    "import config_cat_embedding\n",
    "import numpy as np\n",
    "import pandas as pd\n",
    "import random\n",
    "import time\n",
    "\n",
    "from gensim.models import Word2Vec\n",
    "from sklearn.model_selection import train_test_split\n",
    "from sklearn.linear_model import LogisticRegression\n",
    "from sklearn.tree import DecisionTreeClassifier\n",
    "from sklearn.neighbors import KNeighborsClassifier\n",
    "from sklearn.svm import SVC\n",
    "from sklearn.ensemble import RandomForestClassifier\n",
    "from xgboost import XGBClassifier\n",
    "from keras.wrappers.scikit_learn import KerasClassifier\n",
    "from sklearn.preprocessing import StandardScaler\n",
    "from sklearn.metrics import confusion_matrix, classification_report, auc, roc_auc_score\n",
    "import networkx as nx\n",
    "from node2vec import Node2Vec\n",
    "import matplotlib.pyplot as plt\n",
    "\n",
    "from scipy.sparse import coo_matrix, csr_matrix\n",
    "\n",
    "from tqdm import tqdm_notebook as tqdm\n",
    "from data_prep import bank_data_prep\n",
    "from embedding_helper import create_network\n",
    "\n",
    "# Set the random seed for reproducibility\n",
    "random.seed(42)\n",
    "np.random.seed(42)\n",
    "\n",
    "def create_cooccurrence_matrix_diag(df_cat):\n",
    "    # Get unique categories\n",
    "    categories = np.unique(df_cat)\n",
    "\n",
    "    # Create a dictionary to map category to index\n",
    "    category_to_index = {cat: i for i, cat in enumerate(categories)}\n",
    "\n",
    "    # Calculate co-occurrence matrix\n",
    "    matrix = np.zeros((len(categories), len(categories)))\n",
    "    for row in df_cat.itertuples(index=False):\n",
    "        for i, cat1 in enumerate(row):\n",
    "            for j, cat2 in enumerate(row):\n",
    "                if i != j:\n",
    "                    matrix[category_to_index[cat1], category_to_index[cat2]] += 1\n",
    "\n",
    "    # Calculate the diagonal values\n",
    "    diagonal_values = []\n",
    "    for cat in categories:\n",
    "        count = df_cat.stack().value_counts()[cat]\n",
    "        diagonal_values.append(count)\n",
    "\n",
    "    # Calculate co-occurrence matrix\n",
    "    matrix = np.zeros((len(categories), len(categories)))\n",
    "    for row in df_cat.values:\n",
    "        for i, cat1 in enumerate(row):\n",
    "            for j, cat2 in enumerate(row):\n",
    "                if i != j:\n",
    "                    matrix[category_to_index[cat1], category_to_index[cat2]] += 1\n",
    "\n",
    "    # Set diagonal values to category counts\n",
    "    np.fill_diagonal(matrix, diagonal_values)\n",
    "\n",
    "    # Convert the matrix to a sparse matrix\n",
    "    sparse_matrix = coo_matrix(matrix)\n",
    "\n",
    "    # Normalize the matrix\n",
    "    normalized_matrix = csr_matrix(sparse_matrix / sparse_matrix.sum(axis=1))\n",
    "\n",
    "    # Print the normalized matrix\n",
    "   # print(normalized_matrix.toarray())\n",
    "\n",
    "    # Print the matrix with row and column labels\n",
    "    co_occurrence_matrix_norm = pd.DataFrame(normalized_matrix.toarray(), index=categories, columns=categories)\n",
    "    #print(co_occurrence_matrix_norm)\n",
    "    return co_occurrence_matrix_norm\n",
    "\n",
    "\n"
   ]
  },
  {
   "cell_type": "code",
   "execution_count": 2,
   "id": "275a36c9",
   "metadata": {},
   "outputs": [
    {
     "data": {
      "image/png": "[encoded data removed]",
      "text/plain": [
       "<Figure size 640x480 with 1 Axes>"
      ]
     },
     "metadata": {},
     "output_type": "display_data"
    }
   ],
   "source": [
    "# Load the data and complete the data pre-processing\n",
    "data_path = config_cat_embedding.paths['data']\n",
    "data_path_out = config_cat_embedding.paths['data_output']\n",
    "bank_data = pd.read_csv(data_path + 'bank-additional-full.csv', sep=';')\n",
    "\n",
    "dat_bank, cat_cols = bank_data_prep(bank_data)\n",
    "\n",
    "X = dat_bank.iloc[:, :-1]\n",
    "target = dat_bank.y\n",
    "\n",
    "X_train, X_test, y_train, y_test = train_test_split(X, target, test_size=0.2, random_state=1500)\n",
    "X_train_cat = X_train[cat_cols]\n",
    "\n",
    "co_occurrence_matrix_norm = create_cooccurrence_matrix_diag(X_train_cat)\n",
    "\n",
    "categories = np.unique(X_train_cat)\n",
    "\n",
    "# Build the graph\n",
    "graph = nx.from_numpy_array(co_occurrence_matrix_norm.values)\n",
    "\n",
    "# Set the layout for the visualization\n",
    "pos = nx.spring_layout(graph)\n",
    "\n",
    "# Draw the nodes and edges\n",
    "nx.draw_networkx_nodes(graph, pos)\n",
    "nx.draw_networkx_edges(graph, pos)\n",
    "\n",
    "# Add labels for the nodes\n",
    "labels = {i: categories[i] for i in range(len(categories))}\n",
    "nx.draw_networkx_labels(graph, pos, labels)\n",
    "\n",
    "# Display the visualization\n",
    "plt.show()\n",
    "\n"
   ]
  },
  {
   "cell_type": "code",
   "execution_count": 3,
   "id": "6e7bc3ab",
   "metadata": {},
   "outputs": [
    {
     "data": {
      "application/vnd.jupyter.widget-view+json": {
       "model_id": "ccc89d1cd8e84b36a3d7307ad5a1461e",
       "version_major": 2,
       "version_minor": 0
      },
      "text/plain": [
       "Computing transition probabilities:   0%|          | 0/44 [00:00<?, ?it/s]"
      ]
     },
     "metadata": {},
     "output_type": "display_data"
    },
    {
     "name": "stderr",
     "output_type": "stream",
     "text": [
      "Generating walks (CPU: 1): 100%|██████████████████████████████████████████████████████| 10/10 [00:00<00:00, 140.85it/s]"
     ]
    },
    {
     "name": "stdout",
     "output_type": "stream",
     "text": [
      "Vocabulary:  ['23', '7', '24', '20', '36', '37', '32', '41', '13', '35', '43', '21', '27', '40', '38', '42', '0', '12', '25', '28', '22', '30', '31', '33', '39', '34', '29', '6', '11', '16', '26', '9', '5', '3', '2', '17', '19', '18', '15', '1', '14', '10', '8', '4']\n"
     ]
    },
    {
     "name": "stderr",
     "output_type": "stream",
     "text": [
      "\n"
     ]
    },
    {
     "data": {
      "text/plain": [
       "{'admin.': array([-0.32300377,  0.05355858,  0.5520876 ,  0.00808737, -0.02157714,\n",
       "        -0.03616333, -0.00745006,  0.10700499, -0.3407889 , -0.11256903,\n",
       "         0.12746482, -0.02349862, -0.02957859, -0.23080026, -0.02921377,\n",
       "        -0.27580965,  0.10947858,  0.05184115, -0.31738883, -0.06627129,\n",
       "         0.15985376, -0.07838798, -0.05758762,  0.25780043,  0.20716502,\n",
       "         0.08423071,  0.30546668,  0.26154274, -0.17156081, -0.41249946],\n",
       "       dtype=float32),\n",
       " 'apr': array([-0.42367935,  0.05104844,  0.63403624, -0.06327459, -0.01241615,\n",
       "        -0.01122407,  0.02909229,  0.07031772, -0.2519781 , -0.08918539,\n",
       "         0.06124468,  0.04432788, -0.05945424, -0.28268418, -0.10348296,\n",
       "        -0.3125742 ,  0.07349849,  0.05472609, -0.23988178, -0.00252019,\n",
       "         0.08518278, -0.04152798, -0.05331353,  0.30204198,  0.17983156,\n",
       "         0.11341942,  0.3324368 ,  0.22156873, -0.18884398, -0.2925338 ],\n",
       "       dtype=float32),\n",
       " 'aug': array([-0.34441346,  0.06501077,  0.5546518 , -0.04957858,  0.01498132,\n",
       "         0.01221873, -0.00921563,  0.10229532, -0.3170106 , -0.09119105,\n",
       "         0.11170516,  0.0169606 , -0.03086056, -0.30638993, -0.00510337,\n",
       "        -0.290463  ,  0.12347351,  0.05286399, -0.28279704, -0.0533688 ,\n",
       "         0.12037791, -0.07515977, -0.05737195,  0.31169125,  0.16490404,\n",
       "         0.13024662,  0.33593768,  0.22888827, -0.16730246, -0.34898883],\n",
       "       dtype=float32),\n",
       " 'basic.4y': array([-0.33286893,  0.05313525,  0.554143  , -0.01405266,  0.04139511,\n",
       "         0.01131256, -0.00750558,  0.08276658, -0.29813373, -0.07184005,\n",
       "         0.05255904, -0.00463086, -0.01558937, -0.2334164 , -0.00930166,\n",
       "        -0.2983801 ,  0.09356141,  0.06459332, -0.27747455, -0.05414557,\n",
       "         0.12010098, -0.10803153, -0.08503918,  0.28984955,  0.18274602,\n",
       "         0.12524085,  0.33620748,  0.2702346 , -0.18614393, -0.3738363 ],\n",
       "       dtype=float32),\n",
       " 'basic.6y': array([-0.3353741 ,  0.04627908,  0.594874  , -0.07331247,  0.03710156,\n",
       "        -0.00373175, -0.03588472,  0.13100083, -0.2862592 , -0.06035249,\n",
       "         0.11987421, -0.01054741, -0.03313796, -0.30268818, -0.04418607,\n",
       "        -0.28341073,  0.12034365,  0.03552912, -0.23012465,  0.00083872,\n",
       "         0.17082779, -0.10222904, -0.10479464,  0.26152527,  0.18185343,\n",
       "         0.14982358,  0.30982247,  0.25162995, -0.1325963 , -0.35929686],\n",
       "       dtype=float32),\n",
       " 'basic.9y': array([-3.4861213e-01,  4.4714924e-02,  5.8824342e-01, -6.5441020e-03,\n",
       "         6.6994745e-03,  2.2278998e-02,  1.8643344e-02,  1.3342555e-01,\n",
       "        -2.7843770e-01, -6.5904155e-02,  5.5390470e-02, -3.0480654e-03,\n",
       "        -4.6671070e-02, -2.8346130e-01, -4.3409184e-02, -2.8794909e-01,\n",
       "         1.4209029e-01,  4.7650267e-04, -2.6009649e-01,  9.5672812e-03,\n",
       "         1.3192046e-01, -1.2676905e-01, -3.6067583e-02,  2.9655698e-01,\n",
       "         1.9770800e-01,  1.0716211e-01,  2.8411201e-01,  2.5511259e-01,\n",
       "        -1.5114149e-01, -3.9076596e-01], dtype=float32),\n",
       " 'blue-collar': array([-0.3805836 ,  0.07224602,  0.5945176 , -0.02861838,  0.008958  ,\n",
       "        -0.00875045,  0.01035701,  0.06768835, -0.2710563 , -0.10688057,\n",
       "         0.11252446, -0.02567755, -0.01479161, -0.2947123 , -0.04719556,\n",
       "        -0.2634873 ,  0.10630289,  0.00949514, -0.2858472 , -0.00127091,\n",
       "         0.10050792, -0.04707786, -0.08705977,  0.2824877 ,  0.20842494,\n",
       "         0.15527567,  0.2859304 ,  0.25678945, -0.18280433, -0.34125125],\n",
       "       dtype=float32),\n",
       " 'cellular': array([-0.35992762,  0.05716317,  0.60457283, -0.00524504,  0.06360403,\n",
       "        -0.0283551 ,  0.02814535,  0.17674007, -0.29728854, -0.10257839,\n",
       "         0.05494751, -0.02095343, -0.05850286, -0.2870852 ,  0.02351805,\n",
       "        -0.29424542,  0.1198783 ,  0.05932123, -0.26983237,  0.00984571,\n",
       "         0.1443422 , -0.10704263, -0.10683993,  0.2558914 ,  0.13569228,\n",
       "         0.13074869,  0.29880735,  0.2734071 , -0.13868868, -0.35863617],\n",
       "       dtype=float32),\n",
       " 'dec': array([-0.36788028,  0.05921067,  0.5693893 ,  0.00782449, -0.00837613,\n",
       "         0.02836636,  0.00982902,  0.06349098, -0.31113112, -0.08895025,\n",
       "         0.13275887, -0.00624901, -0.02992791, -0.28522688, -0.0846414 ,\n",
       "        -0.27236512,  0.08790225, -0.0251428 , -0.2759697 , -0.03841209,\n",
       "         0.11089335, -0.04493889, -0.05315023,  0.2971486 ,  0.15526585,\n",
       "         0.14122832,  0.32537514,  0.23084329, -0.19507559, -0.35127333],\n",
       "       dtype=float32),\n",
       " 'divorced': array([-3.2962462e-01,  8.0448300e-02,  5.8918905e-01, -1.3801866e-02,\n",
       "         7.7588167e-03,  2.0287450e-02,  2.9931147e-02,  1.3647988e-01,\n",
       "        -3.0702779e-01, -9.2373870e-02,  1.1043221e-01, -4.3788139e-02,\n",
       "        -5.0607413e-02, -2.7133071e-01, -1.5300435e-02, -2.9553419e-01,\n",
       "         7.3123299e-02, -2.4400235e-04, -2.3944582e-01, -1.2946958e-02,\n",
       "         1.0908671e-01, -5.1420812e-02, -5.6870520e-02,  2.5441086e-01,\n",
       "         2.0008154e-01,  1.4881749e-01,  3.2829270e-01,  2.5822857e-01,\n",
       "        -1.1622108e-01, -4.0869084e-01], dtype=float32),\n",
       " 'entrepreneur': array([-0.37359884,  0.09605325,  0.55457217, -0.0106242 ,  0.00626174,\n",
       "        -0.0368482 ,  0.01256699,  0.13926083, -0.24796933, -0.11834826,\n",
       "         0.13862842,  0.000571  , -0.01642148, -0.26926786, -0.0362556 ,\n",
       "        -0.28789145,  0.11422749, -0.0042433 , -0.28834587,  0.00103295,\n",
       "         0.12413149, -0.06714934, -0.01630285,  0.2906179 ,  0.15383169,\n",
       "         0.11265422,  0.3094512 ,  0.26575264, -0.15652925, -0.3615668 ],\n",
       "       dtype=float32),\n",
       " 'failure': array([-0.3243391 ,  0.04240602,  0.54379195, -0.03497629,  0.02905078,\n",
       "         0.02944777,  0.04180484,  0.07968403, -0.33536085, -0.06314008,\n",
       "         0.12072196, -0.02489235,  0.00916694, -0.2956927 , -0.00551311,\n",
       "        -0.26052898,  0.0946426 ,  0.03838511, -0.27616435, -0.03901101,\n",
       "         0.1235277 , -0.06050179, -0.10941906,  0.24683474,  0.17065458,\n",
       "         0.13639615,  0.31835574,  0.2821733 , -0.14175986, -0.4017147 ],\n",
       "       dtype=float32),\n",
       " 'fri': array([-0.3232996 ,  0.07218432,  0.57645935, -0.00703382,  0.00283089,\n",
       "        -0.02783843, -0.02199155,  0.12689324, -0.28405046, -0.11499666,\n",
       "         0.11788784, -0.03046226, -0.01729616, -0.20828669, -0.05028768,\n",
       "        -0.28864273,  0.07575964,  0.04898679, -0.2856371 , -0.01366921,\n",
       "         0.11449058, -0.05199409, -0.04999934,  0.2666014 ,  0.18251881,\n",
       "         0.09922108,  0.3194917 ,  0.250163  , -0.15372267, -0.39944237],\n",
       "       dtype=float32),\n",
       " 'high.school': array([-0.38766274,  0.06201342,  0.5789377 , -0.02676634,  0.0048268 ,\n",
       "        -0.01644288, -0.01264506,  0.06162412, -0.28771946, -0.10512278,\n",
       "         0.09402636,  0.00083568, -0.0320297 , -0.25723436, -0.08938146,\n",
       "        -0.2729756 ,  0.10216476,  0.01941524, -0.29522008, -0.01450686,\n",
       "         0.12561567, -0.04993075, -0.07852978,  0.28512913,  0.1794786 ,\n",
       "         0.08815037,  0.30488804,  0.2575898 , -0.15883334, -0.39952707],\n",
       "       dtype=float32),\n",
       " 'housemaid': array([-0.32761052,  0.03428463,  0.5893495 ,  0.00470809,  0.00603259,\n",
       "        -0.00452305,  0.00135062,  0.12583427, -0.29202443, -0.08237138,\n",
       "         0.12391987, -0.01624785, -0.01139674, -0.29434517, -0.01274274,\n",
       "        -0.28706875,  0.06126935,  0.04969826, -0.24826498, -0.02170029,\n",
       "         0.11582917, -0.07753047, -0.10494693,  0.29110956,  0.18914479,\n",
       "         0.10875444,  0.30219775,  0.25003934, -0.13280848, -0.38189214],\n",
       "       dtype=float32),\n",
       " 'illiterate': array([-0.31342858,  0.07412665,  0.5845048 , -0.01222287, -0.01885684,\n",
       "        -0.03716454, -0.05537984,  0.02495932, -0.29915315, -0.11668259,\n",
       "         0.13949567, -0.05264543,  0.00878072, -0.2422999 , -0.0568421 ,\n",
       "        -0.264205  ,  0.12307035,  0.05039612, -0.3057305 ,  0.01016121,\n",
       "         0.09696824, -0.03588793, -0.09607808,  0.27031484,  0.20697738,\n",
       "         0.13137881,  0.2935479 ,  0.25482807, -0.11192208, -0.42002302],\n",
       "       dtype=float32),\n",
       " 'jul': array([-0.3724445 ,  0.02756128,  0.57608193, -0.03887741, -0.04555109,\n",
       "        -0.01373152,  0.0210497 ,  0.09178416, -0.32591066, -0.08685802,\n",
       "         0.12646073, -0.00091113,  0.00841852, -0.2777856 , -0.06073458,\n",
       "        -0.28706315,  0.11699194,  0.01955807, -0.24528965, -0.02589551,\n",
       "         0.09775607, -0.0360655 , -0.07535565,  0.25401083,  0.13883069,\n",
       "         0.09583133,  0.3180351 ,  0.22924428, -0.19251992, -0.38651744],\n",
       "       dtype=float32),\n",
       " 'jun': array([-0.37748054,  0.05964904,  0.5678109 , -0.03716205, -0.01198704,\n",
       "        -0.04752036, -0.0421756 ,  0.09608949, -0.28646395, -0.08508693,\n",
       "         0.09349731, -0.02001253,  0.02173818, -0.22839673, -0.09572736,\n",
       "        -0.2918142 ,  0.09148646,  0.0016941 , -0.28340754, -0.00239848,\n",
       "         0.16754816, -0.08513577, -0.09033562,  0.23865676,  0.19509922,\n",
       "         0.15378003,  0.33261806,  0.26328564, -0.13552989, -0.4046021 ],\n",
       "       dtype=float32),\n",
       " 'management': array([-0.31570825,  0.02550015,  0.5397408 , -0.04351529,  0.00195191,\n",
       "        -0.0208768 , -0.01341026,  0.13794722, -0.2759231 , -0.09778298,\n",
       "         0.10198775, -0.04110439,  0.00496606, -0.22710648, -0.10525875,\n",
       "        -0.28448108,  0.14274481, -0.00189797, -0.30373093, -0.0601414 ,\n",
       "         0.15981764, -0.08734854, -0.01682808,  0.2472052 ,  0.21286055,\n",
       "         0.11943158,  0.3159777 ,  0.25453308, -0.2019909 , -0.42073813],\n",
       "       dtype=float32),\n",
       " 'mar': array([-0.3349587 ,  0.08142255,  0.58643585,  0.00640467, -0.02343015,\n",
       "         0.01885491, -0.0554641 ,  0.10184867, -0.27658102, -0.07204562,\n",
       "         0.1371879 , -0.03209196, -0.00104964, -0.26325423, -0.07683019,\n",
       "        -0.30056423,  0.08636566,  0.03645076, -0.28306782, -0.01359175,\n",
       "         0.16365838, -0.02857028, -0.08954035,  0.25215644,  0.22463073,\n",
       "         0.12389571,  0.2919412 ,  0.19620681, -0.1377778 , -0.3976925 ],\n",
       "       dtype=float32),\n",
       " 'married': array([-0.32091224,  0.03345197,  0.5834427 , -0.02537771,  0.00341466,\n",
       "         0.01777989,  0.02992943,  0.096292  , -0.32347336, -0.08306441,\n",
       "         0.11819803,  0.01321093, -0.01739709, -0.24464276, -0.04601306,\n",
       "        -0.28071296,  0.1323069 ,  0.05320868, -0.26460013, -0.0548888 ,\n",
       "         0.11806187, -0.0777946 , -0.04721051,  0.29004127,  0.19432312,\n",
       "         0.1291491 ,  0.3104936 ,  0.21633297, -0.16595502, -0.3941554 ],\n",
       "       dtype=float32),\n",
       " 'may': array([-0.318993  ,  0.09841877,  0.56150126, -0.00286228, -0.01966689,\n",
       "        -0.00555295, -0.04175034,  0.05816191, -0.30334437, -0.12426724,\n",
       "         0.13256165, -0.04392021,  0.00857759, -0.27715608, -0.04506513,\n",
       "        -0.25799835,  0.06730564, -0.00252412, -0.2991069 , -0.02283178,\n",
       "         0.13162656, -0.09838942, -0.10673773,  0.27611807,  0.17934048,\n",
       "         0.08824773,  0.29849544,  0.21099503, -0.1625605 , -0.40940765],\n",
       "       dtype=float32),\n",
       " 'mon': array([-0.33194026,  0.04716156,  0.56967825, -0.00479913, -0.01682039,\n",
       "         0.0241066 , -0.02648604,  0.06238977, -0.30954155, -0.10031987,\n",
       "         0.10023007, -0.0019726 , -0.02449681, -0.25381514, -0.02048902,\n",
       "        -0.2910168 ,  0.11270936,  0.0342204 , -0.27489686,  0.01137034,\n",
       "         0.13316998, -0.08937635, -0.09776919,  0.28240392,  0.19303066,\n",
       "         0.09335043,  0.32755277,  0.2061536 , -0.16698647, -0.37633958],\n",
       "       dtype=float32),\n",
       " 'no': array([-0.3484861 ,  0.06301997,  0.56552345, -0.0193733 , -0.01347498,\n",
       "         0.00220913,  0.03946096,  0.08754899, -0.2979662 , -0.0785901 ,\n",
       "         0.14857683, -0.02457704,  0.01243395, -0.23318997, -0.05805106,\n",
       "        -0.2668527 ,  0.1049493 , -0.00122437, -0.28777647, -0.0626483 ,\n",
       "         0.10308911, -0.04680659, -0.04613595,  0.27681315,  0.1827946 ,\n",
       "         0.1242559 ,  0.31544596,  0.24747863, -0.19454212, -0.41446233],\n",
       "       dtype=float32),\n",
       " 'nonexistent': array([-0.33041704,  0.07319213,  0.5727409 , -0.07245672, -0.0327585 ,\n",
       "         0.03634184, -0.01900886,  0.11614245, -0.32042843, -0.04854389,\n",
       "         0.0967649 , -0.00726101, -0.0071712 , -0.30908749, -0.07700888,\n",
       "        -0.27574182,  0.07154318,  0.0091867 , -0.28087157, -0.03999438,\n",
       "         0.16452932, -0.06030425, -0.08011213,  0.28667992,  0.22574605,\n",
       "         0.11091777,  0.27742618,  0.23232163, -0.13682592, -0.38372785],\n",
       "       dtype=float32),\n",
       " 'nov': array([-0.37220842,  0.06166519,  0.5808781 , -0.01966586, -0.02920913,\n",
       "         0.02781797, -0.03339246,  0.1063142 , -0.28092277, -0.0683429 ,\n",
       "         0.15065126, -0.02665405, -0.01652534, -0.21260938, -0.05781297,\n",
       "        -0.2386632 ,  0.05002895,  0.03661795, -0.27670932, -0.04731903,\n",
       "         0.12589787, -0.04609777, -0.0531109 ,  0.26707307,  0.15615146,\n",
       "         0.11288726,  0.33584923,  0.20866315, -0.17098883, -0.39976168],\n",
       "       dtype=float32),\n",
       " 'oct': array([-0.3850891 ,  0.06687381,  0.5505546 , -0.0020162 ,  0.00477245,\n",
       "        -0.01339375,  0.02215332,  0.14594041, -0.25611967, -0.10681845,\n",
       "         0.12357066, -0.02764172, -0.06013674, -0.25487128, -0.0589348 ,\n",
       "        -0.2854704 ,  0.08872215, -0.0010732 , -0.24916537, -0.03305687,\n",
       "         0.08127025, -0.02632868, -0.04944314,  0.32154867,  0.19488136,\n",
       "         0.13019447,  0.34564975,  0.2213479 , -0.20037833, -0.34469426],\n",
       "       dtype=float32),\n",
       " 'professional.course': array([-0.33886206,  0.03863663,  0.61379206, -0.03906344,  0.01523275,\n",
       "        -0.00683488, -0.02989404,  0.08722329, -0.2952246 , -0.07719336,\n",
       "         0.11274363,  0.02183761,  0.02973593, -0.27152735, -0.06600805,\n",
       "        -0.26531938,  0.07160138,  0.00121046, -0.25246847, -0.05161571,\n",
       "         0.14459002, -0.0628636 , -0.04634116,  0.290033  ,  0.16487832,\n",
       "         0.144773  ,  0.29534355,  0.27125642, -0.13685162, -0.39111716],\n",
       "       dtype=float32),\n",
       " 'retired': array([-0.3581128 ,  0.07192059,  0.5852174 , -0.0211241 , -0.00331136,\n",
       "         0.00076938,  0.01458649,  0.12858064, -0.29863656, -0.09458724,\n",
       "         0.10954314, -0.01626311, -0.01887092, -0.29889512, -0.02090525,\n",
       "        -0.29194695,  0.10353804,  0.02757724, -0.22594832, -0.0504887 ,\n",
       "         0.09760699, -0.09280852, -0.03042755,  0.27712685,  0.13830999,\n",
       "         0.1285815 ,  0.3001394 ,  0.27209562, -0.20272532, -0.36906016],\n",
       "       dtype=float32),\n",
       " 'self-employed': array([-0.3539246 ,  0.05786679,  0.5889924 , -0.00331677, -0.01639239,\n",
       "        -0.01591123, -0.03093763,  0.06260554, -0.3109162 , -0.08387022,\n",
       "         0.08629198, -0.0428849 ,  0.00891449, -0.25696102, -0.02887944,\n",
       "        -0.2666032 ,  0.091268  ,  0.00321024, -0.26437017, -0.0064935 ,\n",
       "         0.10560732, -0.07512996, -0.05393383,  0.25792766,  0.2303419 ,\n",
       "         0.16284911,  0.28866085,  0.2663818 , -0.11031015, -0.38888374],\n",
       "       dtype=float32),\n",
       " 'sep': array([-0.361135  ,  0.03999146,  0.56464034,  0.00774416, -0.02111309,\n",
       "        -0.01376611, -0.01833482,  0.10779799, -0.31744456, -0.09802711,\n",
       "         0.12112866, -0.01840405, -0.02516448, -0.2718327 , -0.05278756,\n",
       "        -0.2495311 ,  0.10220435, -0.01869357, -0.25523356, -0.05185494,\n",
       "         0.12223212, -0.04918919, -0.0990755 ,  0.28090805,  0.2275542 ,\n",
       "         0.09560481,  0.28487116,  0.26747718, -0.16607659, -0.41408598],\n",
       "       dtype=float32),\n",
       " 'services': array([-0.33071622,  0.07559296,  0.594907  ,  0.00852634, -0.03007836,\n",
       "        -0.00105663,  0.0084111 ,  0.12666366, -0.26378796, -0.07308484,\n",
       "         0.12796281, -0.00359346, -0.02977517, -0.2761404 , -0.08890173,\n",
       "        -0.28890857,  0.09062977,  0.0493214 , -0.2676399 , -0.00063206,\n",
       "         0.14405605, -0.0290971 , -0.04584898,  0.2899263 ,  0.2008133 ,\n",
       "         0.1022136 ,  0.28962976,  0.26423016, -0.14536624, -0.36988184],\n",
       "       dtype=float32),\n",
       " 'single': array([-0.37936267,  0.08449244,  0.6232471 , -0.03396312, -0.02608536,\n",
       "        -0.01523494, -0.01014937,  0.06256753, -0.2733659 , -0.10178025,\n",
       "         0.09428541,  0.02944381, -0.06096281, -0.3065976 , -0.05118219,\n",
       "        -0.31698877,  0.10631076,  0.0073077 , -0.22923322, -0.02276606,\n",
       "         0.1281461 , -0.09071979, -0.07217001,  0.32297096,  0.18334042,\n",
       "         0.08843154,  0.28084964,  0.25381082, -0.15113677, -0.32429332],\n",
       "       dtype=float32),\n",
       " 'student': array([-0.39281082,  0.10360014,  0.59862924, -0.01295697,  0.02865987,\n",
       "        -0.04361654, -0.08401678,  0.13739346, -0.1963015 , -0.05456476,\n",
       "         0.11853424, -0.02586004,  0.00705163, -0.2927946 , -0.14744109,\n",
       "        -0.3300184 ,  0.06745747,  0.03433126, -0.2744911 , -0.06049287,\n",
       "         0.19399193, -0.08092496, -0.01857347,  0.2258595 ,  0.21664329,\n",
       "         0.16000806,  0.28058636,  0.2517565 , -0.11451653, -0.38524657],\n",
       "       dtype=float32),\n",
       " 'success': array([-0.3963757 ,  0.06200086,  0.6264509 , -0.02810574, -0.04000066,\n",
       "        -0.00183051, -0.01940909,  0.0990307 , -0.22831184, -0.06430755,\n",
       "         0.08247073,  0.00510041,  0.00367759, -0.21976858, -0.07519964,\n",
       "        -0.2946631 ,  0.10434528,  0.02793706, -0.28782114, -0.01915107,\n",
       "         0.13870208, -0.06890673, -0.06583575,  0.29263887,  0.15878263,\n",
       "         0.09650112,  0.30187267,  0.24422947, -0.18917394, -0.35754126],\n",
       "       dtype=float32),\n",
       " 'technician': array([-0.37387624,  0.06189299,  0.5676399 , -0.01933245, -0.00063941,\n",
       "         0.00566353, -0.01513062,  0.09839759, -0.27835262, -0.06857594,\n",
       "         0.1006865 , -0.01183616, -0.00464143, -0.26561773, -0.09447174,\n",
       "        -0.26341036,  0.06385539, -0.00917693, -0.2606107 , -0.0468704 ,\n",
       "         0.14644298, -0.01332419, -0.09374391,  0.3124179 ,  0.1915925 ,\n",
       "         0.15284325,  0.33286116,  0.21633913, -0.17402977, -0.3668815 ],\n",
       "       dtype=float32),\n",
       " 'telephone': array([-0.35582754,  0.09276967,  0.61336666,  0.02213005, -0.08102471,\n",
       "         0.01514385, -0.01542889,  0.08579443, -0.266083  , -0.05496129,\n",
       "         0.17098027,  0.02274534, -0.00354486, -0.24268883, -0.11267592,\n",
       "        -0.264395  ,  0.11412525, -0.02983204, -0.2232562 , -0.06150828,\n",
       "         0.15300062,  0.00668472, -0.05270519,  0.29149055,  0.15871863,\n",
       "         0.08779432,  0.30240488,  0.2596618 , -0.1942493 , -0.37212476],\n",
       "       dtype=float32),\n",
       " 'thu': array([-0.32687926,  0.06308505,  0.56020707, -0.01715333,  0.00224247,\n",
       "        -0.0240013 , -0.0097386 ,  0.06810574, -0.3223912 , -0.11106124,\n",
       "         0.12910633, -0.04747609,  0.01468816, -0.28860974, -0.10293284,\n",
       "        -0.28008595,  0.05881383,  0.04078916, -0.25672728, -0.04478667,\n",
       "         0.1175006 , -0.06013852, -0.05995457,  0.28261766,  0.16828607,\n",
       "         0.11729118,  0.31874365,  0.24670321, -0.20729227, -0.40648505],\n",
       "       dtype=float32),\n",
       " 'tue': array([-0.41127485,  0.07644391,  0.6033463 ,  0.00321227, -0.0023598 ,\n",
       "        -0.03159311,  0.04454   ,  0.12316078, -0.24686901, -0.05419667,\n",
       "         0.09811681, -0.01591795,  0.00089278, -0.23474327, -0.10081981,\n",
       "        -0.29288074,  0.05423046,  0.07465222, -0.25597787, -0.00414148,\n",
       "         0.137061  , -0.05899948, -0.06158485,  0.2567672 ,  0.11242692,\n",
       "         0.14648779,  0.32345906,  0.30673018, -0.20084366, -0.30910742],\n",
       "       dtype=float32),\n",
       " 'unemployed': array([-0.38934252,  0.12413146,  0.60688365, -0.01146849,  0.03861007,\n",
       "         0.04860816, -0.01320822,  0.1591923 , -0.2798601 , -0.10404056,\n",
       "         0.05303091,  0.06991842, -0.09343925, -0.28995728, -0.01341443,\n",
       "        -0.30093744,  0.04617   ,  0.00105309, -0.21128622,  0.00954018,\n",
       "         0.15610294, -0.10547759, -0.1203623 ,  0.30570865,  0.20221168,\n",
       "         0.09783623,  0.26982433,  0.2303953 , -0.20068923, -0.3488127 ],\n",
       "       dtype=float32),\n",
       " 'university.degree': array([-0.41794676,  0.05905549,  0.66542804, -0.10509888,  0.02026961,\n",
       "         0.01602404, -0.03067465,  0.18127398, -0.1531223 , -0.06704219,\n",
       "         0.05864854, -0.01716092, -0.07030854, -0.30406955, -0.19375625,\n",
       "        -0.37867162,  0.09537315,  0.02763663, -0.23483469, -0.04812134,\n",
       "         0.16240391, -0.05800222, -0.01568864,  0.29255876,  0.18920398,\n",
       "         0.20424026,  0.23289669,  0.3096598 , -0.13193578, -0.27376056],\n",
       "       dtype=float32),\n",
       " 'unknown': array([-0.4460121 ,  0.11976574,  0.6007173 , -0.00824187, -0.05630946,\n",
       "        -0.11297438, -0.10180873,  0.10875972, -0.18033257, -0.08316657,\n",
       "         0.0735997 ,  0.0586996 , -0.08258566, -0.24190816, -0.20735334,\n",
       "        -0.43137228,  0.16164471, -0.03594522, -0.3187437 ,  0.02242022,\n",
       "         0.24160703, -0.12806055, -0.00148869,  0.19175674,  0.22193028,\n",
       "         0.07682765,  0.23985027,  0.28668365, -0.04376161, -0.30675164],\n",
       "       dtype=float32),\n",
       " 'wed': array([-0.46075267,  0.00725191,  0.63191956, -0.01218482, -0.13386872,\n",
       "        -0.0144004 ,  0.06932652,  0.00090514, -0.33658162, -0.08449124,\n",
       "         0.22899774,  0.070814  ,  0.03912728, -0.23569869, -0.17605574,\n",
       "        -0.20843437,  0.09581718, -0.12932143, -0.33025768, -0.02617578,\n",
       "         0.00776856,  0.11300845, -0.07553224,  0.3604864 ,  0.13727097,\n",
       "         0.06591947,  0.34991434,  0.1363332 , -0.20683433, -0.3397066 ],\n",
       "       dtype=float32),\n",
       " 'yes': array([-0.33809435,  0.05718925,  0.62559474, -0.06441305,  0.0110036 ,\n",
       "         0.01608409,  0.02819236,  0.12996335, -0.26413468, -0.04780732,\n",
       "         0.06198878,  0.04633033, -0.0603031 , -0.295259  , -0.06369819,\n",
       "        -0.30472547,  0.05684168, -0.0262984 , -0.25471658, -0.03715027,\n",
       "         0.10796005, -0.05377589, -0.10832729,  0.2618055 ,  0.2179347 ,\n",
       "         0.16001585,  0.32431737,  0.2610328 , -0.15057582, -0.39121556],\n",
       "       dtype=float32)}"
      ]
     },
     "execution_count": 3,
     "metadata": {},
     "output_type": "execute_result"
    }
   ],
   "source": [
    "# Generate node2vec embeddings\n",
    "node2vec = Node2Vec(graph, dimensions=30, walk_length=30, num_walks=10)\n",
    "model = node2vec.fit(window=10, min_count=1)\n",
    "model.save(\"node2vec.model.bank\")\n",
    "\n",
    "# Get the vocabulary\n",
    "vocabulary = model.wv.index_to_key\n",
    "print(\"Vocabulary: \", vocabulary)\n",
    "\n",
    "# Create a dictionary to map category to index\n",
    "category_to_index = {cat: i for i, cat in enumerate(categories)}\n",
    "category_to_index\n",
    "\n",
    "cat2vec = {}\n",
    "for i in range(len(categories)):\n",
    "    cat2vec[categories[i]] = model.wv[model.wv.index_to_key[i]]\n",
    "    \n",
    "cat2vec"
   ]
  },
  {
   "cell_type": "code",
   "execution_count": 4,
   "id": "90fd6682",
   "metadata": {},
   "outputs": [
    {
     "name": "stderr",
     "output_type": "stream",
     "text": [
      "C:\\Users\\xg16060\\AppData\\Local\\Temp\\1\\ipykernel_17332\\3506753142.py:3: TqdmDeprecationWarning: This function will be removed in tqdm==5.0.0\n",
      "Please use `tqdm.notebook.tqdm` instead of `tqdm.tqdm_notebook`\n",
      "  for row in tqdm(X_train.iterrows()):\n"
     ]
    },
    {
     "data": {
      "application/vnd.jupyter.widget-view+json": {
       "model_id": "2ec6da2ccc854049be7295c3730c66ad",
       "version_major": 2,
       "version_minor": 0
      },
      "text/plain": [
       "0it [00:00, ?it/s]"
      ]
     },
     "metadata": {},
     "output_type": "display_data"
    }
   ],
   "source": [
    "dimpool = 30\n",
    "elements = []\n",
    "for row in tqdm(X_train.iterrows()):\n",
    "    categorical_embeddings = []\n",
    "    for i in cat_cols:\n",
    "        try:\n",
    "            categorical_embeddings.append(cat2vec[row[1][i]])\n",
    "        except:\n",
    "            categorical_embeddings.append(np.zeros((dimpool)))\n",
    "    elements.append(np.array(categorical_embeddings))\n",
    "#elements \n",
    "reshaped_x = (np.reshape(elements,(len(elements),len(cat_cols)*dimpool)))   \n",
    "# Get the numerical columns\n",
    "numerical_cols = np.where(X_train.dtypes!=\"object\")[0]\n",
    "my_data = pd.concat([X_train.iloc[:, numerical_cols].reset_index(drop=True), pd.DataFrame(reshaped_x)], axis=1)\n",
    "# due to the new index of my_data, we have to change the index of y_train\n",
    "y_train = y_train.reset_index(drop=True)\n"
   ]
  },
  {
   "cell_type": "code",
   "execution_count": 5,
   "id": "4d04e526",
   "metadata": {},
   "outputs": [
    {
     "data": {
      "text/plain": [
       "(32950, 300)"
      ]
     },
     "execution_count": 5,
     "metadata": {},
     "output_type": "execute_result"
    }
   ],
   "source": [
    "np.shape(reshaped_x)"
   ]
  },
  {
   "cell_type": "code",
   "execution_count": 6,
   "id": "b8c5a10b",
   "metadata": {},
   "outputs": [
    {
     "data": {
      "text/plain": [
       "(41188, 15)"
      ]
     },
     "execution_count": 6,
     "metadata": {},
     "output_type": "execute_result"
    }
   ],
   "source": [
    "X.shape"
   ]
  },
  {
   "cell_type": "code",
   "execution_count": 7,
   "id": "fbc6fdc5",
   "metadata": {},
   "outputs": [
    {
     "name": "stderr",
     "output_type": "stream",
     "text": [
      "C:\\Users\\xg16060\\AppData\\Local\\Temp\\1\\ipykernel_17332\\2029421698.py:3: TqdmDeprecationWarning: This function will be removed in tqdm==5.0.0\n",
      "Please use `tqdm.notebook.tqdm` instead of `tqdm.tqdm_notebook`\n",
      "  for row in tqdm(X_test.iterrows()):\n"
     ]
    },
    {
     "data": {
      "application/vnd.jupyter.widget-view+json": {
       "model_id": "97cac8d89c62403ca9a72635c30ecd3c",
       "version_major": 2,
       "version_minor": 0
      },
      "text/plain": [
       "0it [00:00, ?it/s]"
      ]
     },
     "metadata": {},
     "output_type": "display_data"
    }
   ],
   "source": [
    "\n",
    "#%% apply it on the X_test dataset \n",
    "elements_test = []\n",
    "for row in tqdm(X_test.iterrows()):\n",
    "    categorical_embeddings = []\n",
    "    for i in cat_cols:\n",
    "        #print(i,row[1][i])\n",
    "        try:\n",
    "            categorical_embeddings.append(cat2vec[row[1][i]])\n",
    "        except:\n",
    "            categorical_embeddings.append(np.zeros((dimpool)))\n",
    "    elements_test .append(np.array(categorical_embeddings))\n",
    "\n",
    "#elements \n",
    "reshaped_x_test = (np.reshape(elements_test ,(len(elements_test ),len(cat_cols)*dimpool)))   \n",
    "# Get the numerical columns\n",
    "my_test_data = pd.concat([X_test.iloc[:, numerical_cols].reset_index(drop=True), pd.DataFrame(reshaped_x_test)], axis=1)\n",
    "# due to the new index of my_data, we have to change the index of y_train\n",
    "y_test = y_test.reset_index(drop=True)"
   ]
  },
  {
   "cell_type": "code",
   "execution_count": 8,
   "id": "3792d41c",
   "metadata": {},
   "outputs": [
    {
     "data": {
      "text/html": [
       "<div>\n",
       "<style scoped>\n",
       "    .dataframe tbody tr th:only-of-type {\n",
       "        vertical-align: middle;\n",
       "    }\n",
       "\n",
       "    .dataframe tbody tr th {\n",
       "        vertical-align: top;\n",
       "    }\n",
       "\n",
       "    .dataframe thead th {\n",
       "        text-align: right;\n",
       "    }\n",
       "</style>\n",
       "<table border=\"1\" class=\"dataframe\">\n",
       "  <thead>\n",
       "    <tr style=\"text-align: right;\">\n",
       "      <th></th>\n",
       "      <th>age</th>\n",
       "      <th>duration</th>\n",
       "      <th>campaign</th>\n",
       "      <th>pdays</th>\n",
       "      <th>previous</th>\n",
       "      <th>0</th>\n",
       "      <th>1</th>\n",
       "      <th>2</th>\n",
       "      <th>3</th>\n",
       "      <th>4</th>\n",
       "      <th>5</th>\n",
       "      <th>6</th>\n",
       "      <th>7</th>\n",
       "      <th>8</th>\n",
       "      <th>9</th>\n",
       "      <th>10</th>\n",
       "      <th>11</th>\n",
       "      <th>12</th>\n",
       "      <th>13</th>\n",
       "      <th>14</th>\n",
       "      <th>15</th>\n",
       "      <th>16</th>\n",
       "      <th>17</th>\n",
       "      <th>18</th>\n",
       "      <th>19</th>\n",
       "      <th>20</th>\n",
       "      <th>21</th>\n",
       "      <th>22</th>\n",
       "      <th>23</th>\n",
       "      <th>24</th>\n",
       "      <th>25</th>\n",
       "      <th>26</th>\n",
       "      <th>27</th>\n",
       "      <th>28</th>\n",
       "      <th>29</th>\n",
       "      <th>30</th>\n",
       "      <th>31</th>\n",
       "      <th>32</th>\n",
       "      <th>33</th>\n",
       "      <th>34</th>\n",
       "      <th>35</th>\n",
       "      <th>36</th>\n",
       "      <th>37</th>\n",
       "      <th>38</th>\n",
       "      <th>39</th>\n",
       "      <th>40</th>\n",
       "      <th>41</th>\n",
       "      <th>42</th>\n",
       "      <th>43</th>\n",
       "      <th>44</th>\n",
       "      <th>45</th>\n",
       "      <th>46</th>\n",
       "      <th>47</th>\n",
       "      <th>48</th>\n",
       "      <th>49</th>\n",
       "      <th>50</th>\n",
       "      <th>51</th>\n",
       "      <th>52</th>\n",
       "      <th>53</th>\n",
       "      <th>54</th>\n",
       "      <th>55</th>\n",
       "      <th>56</th>\n",
       "      <th>57</th>\n",
       "      <th>58</th>\n",
       "      <th>59</th>\n",
       "      <th>60</th>\n",
       "      <th>61</th>\n",
       "      <th>62</th>\n",
       "      <th>63</th>\n",
       "      <th>64</th>\n",
       "      <th>65</th>\n",
       "      <th>66</th>\n",
       "      <th>67</th>\n",
       "      <th>68</th>\n",
       "      <th>69</th>\n",
       "      <th>70</th>\n",
       "      <th>71</th>\n",
       "      <th>72</th>\n",
       "      <th>73</th>\n",
       "      <th>74</th>\n",
       "      <th>75</th>\n",
       "      <th>76</th>\n",
       "      <th>77</th>\n",
       "      <th>78</th>\n",
       "      <th>79</th>\n",
       "      <th>80</th>\n",
       "      <th>81</th>\n",
       "      <th>82</th>\n",
       "      <th>83</th>\n",
       "      <th>84</th>\n",
       "      <th>85</th>\n",
       "      <th>86</th>\n",
       "      <th>87</th>\n",
       "      <th>88</th>\n",
       "      <th>89</th>\n",
       "      <th>90</th>\n",
       "      <th>91</th>\n",
       "      <th>92</th>\n",
       "      <th>93</th>\n",
       "      <th>94</th>\n",
       "      <th>95</th>\n",
       "      <th>96</th>\n",
       "      <th>97</th>\n",
       "      <th>98</th>\n",
       "      <th>99</th>\n",
       "      <th>100</th>\n",
       "      <th>101</th>\n",
       "      <th>102</th>\n",
       "      <th>103</th>\n",
       "      <th>104</th>\n",
       "      <th>105</th>\n",
       "      <th>106</th>\n",
       "      <th>107</th>\n",
       "      <th>108</th>\n",
       "      <th>109</th>\n",
       "      <th>110</th>\n",
       "      <th>111</th>\n",
       "      <th>112</th>\n",
       "      <th>113</th>\n",
       "      <th>114</th>\n",
       "      <th>115</th>\n",
       "      <th>116</th>\n",
       "      <th>117</th>\n",
       "      <th>118</th>\n",
       "      <th>119</th>\n",
       "      <th>120</th>\n",
       "      <th>121</th>\n",
       "      <th>122</th>\n",
       "      <th>123</th>\n",
       "      <th>124</th>\n",
       "      <th>125</th>\n",
       "      <th>126</th>\n",
       "      <th>127</th>\n",
       "      <th>128</th>\n",
       "      <th>129</th>\n",
       "      <th>130</th>\n",
       "      <th>131</th>\n",
       "      <th>132</th>\n",
       "      <th>133</th>\n",
       "      <th>134</th>\n",
       "      <th>135</th>\n",
       "      <th>136</th>\n",
       "      <th>137</th>\n",
       "      <th>138</th>\n",
       "      <th>139</th>\n",
       "      <th>140</th>\n",
       "      <th>141</th>\n",
       "      <th>142</th>\n",
       "      <th>143</th>\n",
       "      <th>144</th>\n",
       "      <th>145</th>\n",
       "      <th>146</th>\n",
       "      <th>147</th>\n",
       "      <th>148</th>\n",
       "      <th>149</th>\n",
       "      <th>150</th>\n",
       "      <th>151</th>\n",
       "      <th>152</th>\n",
       "      <th>153</th>\n",
       "      <th>154</th>\n",
       "      <th>155</th>\n",
       "      <th>156</th>\n",
       "      <th>157</th>\n",
       "      <th>158</th>\n",
       "      <th>159</th>\n",
       "      <th>160</th>\n",
       "      <th>161</th>\n",
       "      <th>162</th>\n",
       "      <th>163</th>\n",
       "      <th>164</th>\n",
       "      <th>165</th>\n",
       "      <th>166</th>\n",
       "      <th>167</th>\n",
       "      <th>168</th>\n",
       "      <th>169</th>\n",
       "      <th>170</th>\n",
       "      <th>171</th>\n",
       "      <th>172</th>\n",
       "      <th>173</th>\n",
       "      <th>174</th>\n",
       "      <th>175</th>\n",
       "      <th>176</th>\n",
       "      <th>177</th>\n",
       "      <th>178</th>\n",
       "      <th>179</th>\n",
       "      <th>180</th>\n",
       "      <th>181</th>\n",
       "      <th>182</th>\n",
       "      <th>183</th>\n",
       "      <th>184</th>\n",
       "      <th>185</th>\n",
       "      <th>186</th>\n",
       "      <th>187</th>\n",
       "      <th>188</th>\n",
       "      <th>189</th>\n",
       "      <th>190</th>\n",
       "      <th>191</th>\n",
       "      <th>192</th>\n",
       "      <th>193</th>\n",
       "      <th>194</th>\n",
       "      <th>195</th>\n",
       "      <th>196</th>\n",
       "      <th>197</th>\n",
       "      <th>198</th>\n",
       "      <th>199</th>\n",
       "      <th>200</th>\n",
       "      <th>201</th>\n",
       "      <th>202</th>\n",
       "      <th>203</th>\n",
       "      <th>204</th>\n",
       "      <th>205</th>\n",
       "      <th>206</th>\n",
       "      <th>207</th>\n",
       "      <th>208</th>\n",
       "      <th>209</th>\n",
       "      <th>210</th>\n",
       "      <th>211</th>\n",
       "      <th>212</th>\n",
       "      <th>213</th>\n",
       "      <th>214</th>\n",
       "      <th>215</th>\n",
       "      <th>216</th>\n",
       "      <th>217</th>\n",
       "      <th>218</th>\n",
       "      <th>219</th>\n",
       "      <th>220</th>\n",
       "      <th>221</th>\n",
       "      <th>222</th>\n",
       "      <th>223</th>\n",
       "      <th>224</th>\n",
       "      <th>225</th>\n",
       "      <th>226</th>\n",
       "      <th>227</th>\n",
       "      <th>228</th>\n",
       "      <th>229</th>\n",
       "      <th>230</th>\n",
       "      <th>231</th>\n",
       "      <th>232</th>\n",
       "      <th>233</th>\n",
       "      <th>234</th>\n",
       "      <th>235</th>\n",
       "      <th>236</th>\n",
       "      <th>237</th>\n",
       "      <th>238</th>\n",
       "      <th>239</th>\n",
       "      <th>240</th>\n",
       "      <th>241</th>\n",
       "      <th>242</th>\n",
       "      <th>243</th>\n",
       "      <th>244</th>\n",
       "      <th>245</th>\n",
       "      <th>246</th>\n",
       "      <th>247</th>\n",
       "      <th>248</th>\n",
       "      <th>249</th>\n",
       "      <th>250</th>\n",
       "      <th>251</th>\n",
       "      <th>252</th>\n",
       "      <th>253</th>\n",
       "      <th>254</th>\n",
       "      <th>255</th>\n",
       "      <th>256</th>\n",
       "      <th>257</th>\n",
       "      <th>258</th>\n",
       "      <th>259</th>\n",
       "      <th>260</th>\n",
       "      <th>261</th>\n",
       "      <th>262</th>\n",
       "      <th>263</th>\n",
       "      <th>264</th>\n",
       "      <th>265</th>\n",
       "      <th>266</th>\n",
       "      <th>267</th>\n",
       "      <th>268</th>\n",
       "      <th>269</th>\n",
       "      <th>270</th>\n",
       "      <th>271</th>\n",
       "      <th>272</th>\n",
       "      <th>273</th>\n",
       "      <th>274</th>\n",
       "      <th>275</th>\n",
       "      <th>276</th>\n",
       "      <th>277</th>\n",
       "      <th>278</th>\n",
       "      <th>279</th>\n",
       "      <th>280</th>\n",
       "      <th>281</th>\n",
       "      <th>282</th>\n",
       "      <th>283</th>\n",
       "      <th>284</th>\n",
       "      <th>285</th>\n",
       "      <th>286</th>\n",
       "      <th>287</th>\n",
       "      <th>288</th>\n",
       "      <th>289</th>\n",
       "      <th>290</th>\n",
       "      <th>291</th>\n",
       "      <th>292</th>\n",
       "      <th>293</th>\n",
       "      <th>294</th>\n",
       "      <th>295</th>\n",
       "      <th>296</th>\n",
       "      <th>297</th>\n",
       "      <th>298</th>\n",
       "      <th>299</th>\n",
       "    </tr>\n",
       "  </thead>\n",
       "  <tbody>\n",
       "    <tr>\n",
       "      <th>0</th>\n",
       "      <td>32</td>\n",
       "      <td>216</td>\n",
       "      <td>1</td>\n",
       "      <td>999</td>\n",
       "      <td>0</td>\n",
       "      <td>-0.380584</td>\n",
       "      <td>0.072246</td>\n",
       "      <td>0.594518</td>\n",
       "      <td>-0.028618</td>\n",
       "      <td>0.008958</td>\n",
       "      <td>-0.008750</td>\n",
       "      <td>0.010357</td>\n",
       "      <td>0.067688</td>\n",
       "      <td>-0.271056</td>\n",
       "      <td>-0.106881</td>\n",
       "      <td>0.112524</td>\n",
       "      <td>-0.025678</td>\n",
       "      <td>-0.014792</td>\n",
       "      <td>-0.294712</td>\n",
       "      <td>-0.047196</td>\n",
       "      <td>-0.263487</td>\n",
       "      <td>0.106303</td>\n",
       "      <td>0.009495</td>\n",
       "      <td>-0.285847</td>\n",
       "      <td>-0.001271</td>\n",
       "      <td>0.100508</td>\n",
       "      <td>-0.047078</td>\n",
       "      <td>-0.087060</td>\n",
       "      <td>0.282488</td>\n",
       "      <td>0.208425</td>\n",
       "      <td>0.155276</td>\n",
       "      <td>0.285930</td>\n",
       "      <td>0.256789</td>\n",
       "      <td>-0.182804</td>\n",
       "      <td>-0.341251</td>\n",
       "      <td>-0.379363</td>\n",
       "      <td>0.084492</td>\n",
       "      <td>0.623247</td>\n",
       "      <td>-0.033963</td>\n",
       "      <td>-0.026085</td>\n",
       "      <td>-0.015235</td>\n",
       "      <td>-0.010149</td>\n",
       "      <td>0.062568</td>\n",
       "      <td>-0.273366</td>\n",
       "      <td>-0.10178</td>\n",
       "      <td>0.094285</td>\n",
       "      <td>0.029444</td>\n",
       "      <td>-0.060963</td>\n",
       "      <td>-0.306598</td>\n",
       "      <td>-0.051182</td>\n",
       "      <td>-0.316989</td>\n",
       "      <td>0.106311</td>\n",
       "      <td>0.007308</td>\n",
       "      <td>-0.229233</td>\n",
       "      <td>-0.022766</td>\n",
       "      <td>0.128146</td>\n",
       "      <td>-0.09072</td>\n",
       "      <td>-0.07217</td>\n",
       "      <td>0.322971</td>\n",
       "      <td>0.18334</td>\n",
       "      <td>0.088432</td>\n",
       "      <td>0.28085</td>\n",
       "      <td>0.253811</td>\n",
       "      <td>-0.151137</td>\n",
       "      <td>-0.324293</td>\n",
       "      <td>-0.387663</td>\n",
       "      <td>0.062013</td>\n",
       "      <td>0.578938</td>\n",
       "      <td>-0.026766</td>\n",
       "      <td>0.004827</td>\n",
       "      <td>-0.016443</td>\n",
       "      <td>-0.012645</td>\n",
       "      <td>0.061624</td>\n",
       "      <td>-0.287719</td>\n",
       "      <td>-0.105123</td>\n",
       "      <td>0.094026</td>\n",
       "      <td>0.000836</td>\n",
       "      <td>-0.032030</td>\n",
       "      <td>-0.257234</td>\n",
       "      <td>-0.089381</td>\n",
       "      <td>-0.272976</td>\n",
       "      <td>0.102165</td>\n",
       "      <td>0.019415</td>\n",
       "      <td>-0.295220</td>\n",
       "      <td>-0.014507</td>\n",
       "      <td>0.125616</td>\n",
       "      <td>-0.049931</td>\n",
       "      <td>-0.078530</td>\n",
       "      <td>0.285129</td>\n",
       "      <td>0.179479</td>\n",
       "      <td>0.088150</td>\n",
       "      <td>0.304888</td>\n",
       "      <td>0.257590</td>\n",
       "      <td>-0.158833</td>\n",
       "      <td>-0.399527</td>\n",
       "      <td>-0.348486</td>\n",
       "      <td>0.06302</td>\n",
       "      <td>0.565523</td>\n",
       "      <td>-0.019373</td>\n",
       "      <td>-0.013475</td>\n",
       "      <td>0.002209</td>\n",
       "      <td>0.039461</td>\n",
       "      <td>0.087549</td>\n",
       "      <td>-0.297966</td>\n",
       "      <td>-0.07859</td>\n",
       "      <td>0.148577</td>\n",
       "      <td>-0.024577</td>\n",
       "      <td>0.012434</td>\n",
       "      <td>-0.23319</td>\n",
       "      <td>-0.058051</td>\n",
       "      <td>-0.266853</td>\n",
       "      <td>0.104949</td>\n",
       "      <td>-0.001224</td>\n",
       "      <td>-0.287776</td>\n",
       "      <td>-0.062648</td>\n",
       "      <td>0.103089</td>\n",
       "      <td>-0.046807</td>\n",
       "      <td>-0.046136</td>\n",
       "      <td>0.276813</td>\n",
       "      <td>0.182795</td>\n",
       "      <td>0.124256</td>\n",
       "      <td>0.315446</td>\n",
       "      <td>0.247479</td>\n",
       "      <td>-0.194542</td>\n",
       "      <td>-0.414462</td>\n",
       "      <td>-0.338094</td>\n",
       "      <td>0.057189</td>\n",
       "      <td>0.625595</td>\n",
       "      <td>-0.064413</td>\n",
       "      <td>0.011004</td>\n",
       "      <td>0.016084</td>\n",
       "      <td>0.028192</td>\n",
       "      <td>0.129963</td>\n",
       "      <td>-0.264135</td>\n",
       "      <td>-0.047807</td>\n",
       "      <td>0.061989</td>\n",
       "      <td>0.046330</td>\n",
       "      <td>-0.060303</td>\n",
       "      <td>-0.295259</td>\n",
       "      <td>-0.063698</td>\n",
       "      <td>-0.304725</td>\n",
       "      <td>0.056842</td>\n",
       "      <td>-0.026298</td>\n",
       "      <td>-0.254717</td>\n",
       "      <td>-0.037150</td>\n",
       "      <td>0.107960</td>\n",
       "      <td>-0.053776</td>\n",
       "      <td>-0.108327</td>\n",
       "      <td>0.261806</td>\n",
       "      <td>0.217935</td>\n",
       "      <td>0.160016</td>\n",
       "      <td>0.324317</td>\n",
       "      <td>0.261033</td>\n",
       "      <td>-0.150576</td>\n",
       "      <td>-0.391216</td>\n",
       "      <td>-0.348486</td>\n",
       "      <td>0.063020</td>\n",
       "      <td>0.565523</td>\n",
       "      <td>-0.019373</td>\n",
       "      <td>-0.013475</td>\n",
       "      <td>0.002209</td>\n",
       "      <td>0.039461</td>\n",
       "      <td>0.087549</td>\n",
       "      <td>-0.297966</td>\n",
       "      <td>-0.078590</td>\n",
       "      <td>0.148577</td>\n",
       "      <td>-0.024577</td>\n",
       "      <td>0.012434</td>\n",
       "      <td>-0.233190</td>\n",
       "      <td>-0.058051</td>\n",
       "      <td>-0.266853</td>\n",
       "      <td>0.104949</td>\n",
       "      <td>-0.001224</td>\n",
       "      <td>-0.287776</td>\n",
       "      <td>-0.062648</td>\n",
       "      <td>0.103089</td>\n",
       "      <td>-0.046807</td>\n",
       "      <td>-0.046136</td>\n",
       "      <td>0.276813</td>\n",
       "      <td>0.182795</td>\n",
       "      <td>0.124256</td>\n",
       "      <td>0.315446</td>\n",
       "      <td>0.247479</td>\n",
       "      <td>-0.194542</td>\n",
       "      <td>-0.414462</td>\n",
       "      <td>-0.359928</td>\n",
       "      <td>0.057163</td>\n",
       "      <td>0.604573</td>\n",
       "      <td>-0.005245</td>\n",
       "      <td>0.063604</td>\n",
       "      <td>-0.028355</td>\n",
       "      <td>0.028145</td>\n",
       "      <td>0.176740</td>\n",
       "      <td>-0.297289</td>\n",
       "      <td>-0.102578</td>\n",
       "      <td>0.054948</td>\n",
       "      <td>-0.020953</td>\n",
       "      <td>-0.058503</td>\n",
       "      <td>-0.287085</td>\n",
       "      <td>0.023518</td>\n",
       "      <td>-0.294245</td>\n",
       "      <td>0.119878</td>\n",
       "      <td>0.059321</td>\n",
       "      <td>-0.269832</td>\n",
       "      <td>0.009846</td>\n",
       "      <td>0.144342</td>\n",
       "      <td>-0.107043</td>\n",
       "      <td>-0.106840</td>\n",
       "      <td>0.255891</td>\n",
       "      <td>0.135692</td>\n",
       "      <td>0.130749</td>\n",
       "      <td>0.298807</td>\n",
       "      <td>0.273407</td>\n",
       "      <td>-0.138689</td>\n",
       "      <td>-0.358636</td>\n",
       "      <td>-0.318993</td>\n",
       "      <td>0.098419</td>\n",
       "      <td>0.561501</td>\n",
       "      <td>-0.002862</td>\n",
       "      <td>-0.019667</td>\n",
       "      <td>-0.005553</td>\n",
       "      <td>-0.041750</td>\n",
       "      <td>0.058162</td>\n",
       "      <td>-0.303344</td>\n",
       "      <td>-0.124267</td>\n",
       "      <td>0.132562</td>\n",
       "      <td>-0.043920</td>\n",
       "      <td>0.008578</td>\n",
       "      <td>-0.277156</td>\n",
       "      <td>-0.045065</td>\n",
       "      <td>-0.257998</td>\n",
       "      <td>0.067306</td>\n",
       "      <td>-0.002524</td>\n",
       "      <td>-0.299107</td>\n",
       "      <td>-0.022832</td>\n",
       "      <td>0.131627</td>\n",
       "      <td>-0.098389</td>\n",
       "      <td>-0.106738</td>\n",
       "      <td>0.276118</td>\n",
       "      <td>0.179340</td>\n",
       "      <td>0.088248</td>\n",
       "      <td>0.298495</td>\n",
       "      <td>0.210995</td>\n",
       "      <td>-0.16256</td>\n",
       "      <td>-0.409408</td>\n",
       "      <td>-0.326879</td>\n",
       "      <td>0.063085</td>\n",
       "      <td>0.560207</td>\n",
       "      <td>-0.017153</td>\n",
       "      <td>0.002242</td>\n",
       "      <td>-0.024001</td>\n",
       "      <td>-0.009739</td>\n",
       "      <td>0.068106</td>\n",
       "      <td>-0.322391</td>\n",
       "      <td>-0.111061</td>\n",
       "      <td>0.129106</td>\n",
       "      <td>-0.047476</td>\n",
       "      <td>0.014688</td>\n",
       "      <td>-0.288610</td>\n",
       "      <td>-0.102933</td>\n",
       "      <td>-0.280086</td>\n",
       "      <td>0.058814</td>\n",
       "      <td>0.040789</td>\n",
       "      <td>-0.256727</td>\n",
       "      <td>-0.044787</td>\n",
       "      <td>0.117501</td>\n",
       "      <td>-0.060139</td>\n",
       "      <td>-0.059955</td>\n",
       "      <td>0.282618</td>\n",
       "      <td>0.168286</td>\n",
       "      <td>0.117291</td>\n",
       "      <td>0.318744</td>\n",
       "      <td>0.246703</td>\n",
       "      <td>-0.207292</td>\n",
       "      <td>-0.406485</td>\n",
       "      <td>-0.330417</td>\n",
       "      <td>0.073192</td>\n",
       "      <td>0.572741</td>\n",
       "      <td>-0.072457</td>\n",
       "      <td>-0.032759</td>\n",
       "      <td>0.036342</td>\n",
       "      <td>-0.019009</td>\n",
       "      <td>0.116142</td>\n",
       "      <td>-0.320428</td>\n",
       "      <td>-0.048544</td>\n",
       "      <td>0.096765</td>\n",
       "      <td>-0.007261</td>\n",
       "      <td>-0.007171</td>\n",
       "      <td>-0.309087</td>\n",
       "      <td>-0.077009</td>\n",
       "      <td>-0.275742</td>\n",
       "      <td>0.071543</td>\n",
       "      <td>0.009187</td>\n",
       "      <td>-0.280872</td>\n",
       "      <td>-0.039994</td>\n",
       "      <td>0.164529</td>\n",
       "      <td>-0.060304</td>\n",
       "      <td>-0.080112</td>\n",
       "      <td>0.28668</td>\n",
       "      <td>0.225746</td>\n",
       "      <td>0.110918</td>\n",
       "      <td>0.277426</td>\n",
       "      <td>0.232322</td>\n",
       "      <td>-0.136826</td>\n",
       "      <td>-0.383728</td>\n",
       "    </tr>\n",
       "    <tr>\n",
       "      <th>1</th>\n",
       "      <td>21</td>\n",
       "      <td>106</td>\n",
       "      <td>1</td>\n",
       "      <td>999</td>\n",
       "      <td>0</td>\n",
       "      <td>-0.315708</td>\n",
       "      <td>0.025500</td>\n",
       "      <td>0.539741</td>\n",
       "      <td>-0.043515</td>\n",
       "      <td>0.001952</td>\n",
       "      <td>-0.020877</td>\n",
       "      <td>-0.013410</td>\n",
       "      <td>0.137947</td>\n",
       "      <td>-0.275923</td>\n",
       "      <td>-0.097783</td>\n",
       "      <td>0.101988</td>\n",
       "      <td>-0.041104</td>\n",
       "      <td>0.004966</td>\n",
       "      <td>-0.227106</td>\n",
       "      <td>-0.105259</td>\n",
       "      <td>-0.284481</td>\n",
       "      <td>0.142745</td>\n",
       "      <td>-0.001898</td>\n",
       "      <td>-0.303731</td>\n",
       "      <td>-0.060141</td>\n",
       "      <td>0.159818</td>\n",
       "      <td>-0.087349</td>\n",
       "      <td>-0.016828</td>\n",
       "      <td>0.247205</td>\n",
       "      <td>0.212861</td>\n",
       "      <td>0.119432</td>\n",
       "      <td>0.315978</td>\n",
       "      <td>0.254533</td>\n",
       "      <td>-0.201991</td>\n",
       "      <td>-0.420738</td>\n",
       "      <td>-0.379363</td>\n",
       "      <td>0.084492</td>\n",
       "      <td>0.623247</td>\n",
       "      <td>-0.033963</td>\n",
       "      <td>-0.026085</td>\n",
       "      <td>-0.015235</td>\n",
       "      <td>-0.010149</td>\n",
       "      <td>0.062568</td>\n",
       "      <td>-0.273366</td>\n",
       "      <td>-0.10178</td>\n",
       "      <td>0.094285</td>\n",
       "      <td>0.029444</td>\n",
       "      <td>-0.060963</td>\n",
       "      <td>-0.306598</td>\n",
       "      <td>-0.051182</td>\n",
       "      <td>-0.316989</td>\n",
       "      <td>0.106311</td>\n",
       "      <td>0.007308</td>\n",
       "      <td>-0.229233</td>\n",
       "      <td>-0.022766</td>\n",
       "      <td>0.128146</td>\n",
       "      <td>-0.09072</td>\n",
       "      <td>-0.07217</td>\n",
       "      <td>0.322971</td>\n",
       "      <td>0.18334</td>\n",
       "      <td>0.088432</td>\n",
       "      <td>0.28085</td>\n",
       "      <td>0.253811</td>\n",
       "      <td>-0.151137</td>\n",
       "      <td>-0.324293</td>\n",
       "      <td>-0.417947</td>\n",
       "      <td>0.059055</td>\n",
       "      <td>0.665428</td>\n",
       "      <td>-0.105099</td>\n",
       "      <td>0.020270</td>\n",
       "      <td>0.016024</td>\n",
       "      <td>-0.030675</td>\n",
       "      <td>0.181274</td>\n",
       "      <td>-0.153122</td>\n",
       "      <td>-0.067042</td>\n",
       "      <td>0.058649</td>\n",
       "      <td>-0.017161</td>\n",
       "      <td>-0.070309</td>\n",
       "      <td>-0.304070</td>\n",
       "      <td>-0.193756</td>\n",
       "      <td>-0.378672</td>\n",
       "      <td>0.095373</td>\n",
       "      <td>0.027637</td>\n",
       "      <td>-0.234835</td>\n",
       "      <td>-0.048121</td>\n",
       "      <td>0.162404</td>\n",
       "      <td>-0.058002</td>\n",
       "      <td>-0.015689</td>\n",
       "      <td>0.292559</td>\n",
       "      <td>0.189204</td>\n",
       "      <td>0.204240</td>\n",
       "      <td>0.232897</td>\n",
       "      <td>0.309660</td>\n",
       "      <td>-0.131936</td>\n",
       "      <td>-0.273761</td>\n",
       "      <td>-0.348486</td>\n",
       "      <td>0.06302</td>\n",
       "      <td>0.565523</td>\n",
       "      <td>-0.019373</td>\n",
       "      <td>-0.013475</td>\n",
       "      <td>0.002209</td>\n",
       "      <td>0.039461</td>\n",
       "      <td>0.087549</td>\n",
       "      <td>-0.297966</td>\n",
       "      <td>-0.07859</td>\n",
       "      <td>0.148577</td>\n",
       "      <td>-0.024577</td>\n",
       "      <td>0.012434</td>\n",
       "      <td>-0.23319</td>\n",
       "      <td>-0.058051</td>\n",
       "      <td>-0.266853</td>\n",
       "      <td>0.104949</td>\n",
       "      <td>-0.001224</td>\n",
       "      <td>-0.287776</td>\n",
       "      <td>-0.062648</td>\n",
       "      <td>0.103089</td>\n",
       "      <td>-0.046807</td>\n",
       "      <td>-0.046136</td>\n",
       "      <td>0.276813</td>\n",
       "      <td>0.182795</td>\n",
       "      <td>0.124256</td>\n",
       "      <td>0.315446</td>\n",
       "      <td>0.247479</td>\n",
       "      <td>-0.194542</td>\n",
       "      <td>-0.414462</td>\n",
       "      <td>-0.446012</td>\n",
       "      <td>0.119766</td>\n",
       "      <td>0.600717</td>\n",
       "      <td>-0.008242</td>\n",
       "      <td>-0.056309</td>\n",
       "      <td>-0.112974</td>\n",
       "      <td>-0.101809</td>\n",
       "      <td>0.108760</td>\n",
       "      <td>-0.180333</td>\n",
       "      <td>-0.083167</td>\n",
       "      <td>0.073600</td>\n",
       "      <td>0.058700</td>\n",
       "      <td>-0.082586</td>\n",
       "      <td>-0.241908</td>\n",
       "      <td>-0.207353</td>\n",
       "      <td>-0.431372</td>\n",
       "      <td>0.161645</td>\n",
       "      <td>-0.035945</td>\n",
       "      <td>-0.318744</td>\n",
       "      <td>0.022420</td>\n",
       "      <td>0.241607</td>\n",
       "      <td>-0.128061</td>\n",
       "      <td>-0.001489</td>\n",
       "      <td>0.191757</td>\n",
       "      <td>0.221930</td>\n",
       "      <td>0.076828</td>\n",
       "      <td>0.239850</td>\n",
       "      <td>0.286684</td>\n",
       "      <td>-0.043762</td>\n",
       "      <td>-0.306752</td>\n",
       "      <td>-0.446012</td>\n",
       "      <td>0.119766</td>\n",
       "      <td>0.600717</td>\n",
       "      <td>-0.008242</td>\n",
       "      <td>-0.056309</td>\n",
       "      <td>-0.112974</td>\n",
       "      <td>-0.101809</td>\n",
       "      <td>0.108760</td>\n",
       "      <td>-0.180333</td>\n",
       "      <td>-0.083167</td>\n",
       "      <td>0.073600</td>\n",
       "      <td>0.058700</td>\n",
       "      <td>-0.082586</td>\n",
       "      <td>-0.241908</td>\n",
       "      <td>-0.207353</td>\n",
       "      <td>-0.431372</td>\n",
       "      <td>0.161645</td>\n",
       "      <td>-0.035945</td>\n",
       "      <td>-0.318744</td>\n",
       "      <td>0.022420</td>\n",
       "      <td>0.241607</td>\n",
       "      <td>-0.128061</td>\n",
       "      <td>-0.001489</td>\n",
       "      <td>0.191757</td>\n",
       "      <td>0.221930</td>\n",
       "      <td>0.076828</td>\n",
       "      <td>0.239850</td>\n",
       "      <td>0.286684</td>\n",
       "      <td>-0.043762</td>\n",
       "      <td>-0.306752</td>\n",
       "      <td>-0.359928</td>\n",
       "      <td>0.057163</td>\n",
       "      <td>0.604573</td>\n",
       "      <td>-0.005245</td>\n",
       "      <td>0.063604</td>\n",
       "      <td>-0.028355</td>\n",
       "      <td>0.028145</td>\n",
       "      <td>0.176740</td>\n",
       "      <td>-0.297289</td>\n",
       "      <td>-0.102578</td>\n",
       "      <td>0.054948</td>\n",
       "      <td>-0.020953</td>\n",
       "      <td>-0.058503</td>\n",
       "      <td>-0.287085</td>\n",
       "      <td>0.023518</td>\n",
       "      <td>-0.294245</td>\n",
       "      <td>0.119878</td>\n",
       "      <td>0.059321</td>\n",
       "      <td>-0.269832</td>\n",
       "      <td>0.009846</td>\n",
       "      <td>0.144342</td>\n",
       "      <td>-0.107043</td>\n",
       "      <td>-0.106840</td>\n",
       "      <td>0.255891</td>\n",
       "      <td>0.135692</td>\n",
       "      <td>0.130749</td>\n",
       "      <td>0.298807</td>\n",
       "      <td>0.273407</td>\n",
       "      <td>-0.138689</td>\n",
       "      <td>-0.358636</td>\n",
       "      <td>-0.377481</td>\n",
       "      <td>0.059649</td>\n",
       "      <td>0.567811</td>\n",
       "      <td>-0.037162</td>\n",
       "      <td>-0.011987</td>\n",
       "      <td>-0.047520</td>\n",
       "      <td>-0.042176</td>\n",
       "      <td>0.096089</td>\n",
       "      <td>-0.286464</td>\n",
       "      <td>-0.085087</td>\n",
       "      <td>0.093497</td>\n",
       "      <td>-0.020013</td>\n",
       "      <td>0.021738</td>\n",
       "      <td>-0.228397</td>\n",
       "      <td>-0.095727</td>\n",
       "      <td>-0.291814</td>\n",
       "      <td>0.091486</td>\n",
       "      <td>0.001694</td>\n",
       "      <td>-0.283408</td>\n",
       "      <td>-0.002398</td>\n",
       "      <td>0.167548</td>\n",
       "      <td>-0.085136</td>\n",
       "      <td>-0.090336</td>\n",
       "      <td>0.238657</td>\n",
       "      <td>0.195099</td>\n",
       "      <td>0.153780</td>\n",
       "      <td>0.332618</td>\n",
       "      <td>0.263286</td>\n",
       "      <td>-0.13553</td>\n",
       "      <td>-0.404602</td>\n",
       "      <td>-0.411275</td>\n",
       "      <td>0.076444</td>\n",
       "      <td>0.603346</td>\n",
       "      <td>0.003212</td>\n",
       "      <td>-0.002360</td>\n",
       "      <td>-0.031593</td>\n",
       "      <td>0.044540</td>\n",
       "      <td>0.123161</td>\n",
       "      <td>-0.246869</td>\n",
       "      <td>-0.054197</td>\n",
       "      <td>0.098117</td>\n",
       "      <td>-0.015918</td>\n",
       "      <td>0.000893</td>\n",
       "      <td>-0.234743</td>\n",
       "      <td>-0.100820</td>\n",
       "      <td>-0.292881</td>\n",
       "      <td>0.054230</td>\n",
       "      <td>0.074652</td>\n",
       "      <td>-0.255978</td>\n",
       "      <td>-0.004141</td>\n",
       "      <td>0.137061</td>\n",
       "      <td>-0.058999</td>\n",
       "      <td>-0.061585</td>\n",
       "      <td>0.256767</td>\n",
       "      <td>0.112427</td>\n",
       "      <td>0.146488</td>\n",
       "      <td>0.323459</td>\n",
       "      <td>0.306730</td>\n",
       "      <td>-0.200844</td>\n",
       "      <td>-0.309107</td>\n",
       "      <td>-0.330417</td>\n",
       "      <td>0.073192</td>\n",
       "      <td>0.572741</td>\n",
       "      <td>-0.072457</td>\n",
       "      <td>-0.032759</td>\n",
       "      <td>0.036342</td>\n",
       "      <td>-0.019009</td>\n",
       "      <td>0.116142</td>\n",
       "      <td>-0.320428</td>\n",
       "      <td>-0.048544</td>\n",
       "      <td>0.096765</td>\n",
       "      <td>-0.007261</td>\n",
       "      <td>-0.007171</td>\n",
       "      <td>-0.309087</td>\n",
       "      <td>-0.077009</td>\n",
       "      <td>-0.275742</td>\n",
       "      <td>0.071543</td>\n",
       "      <td>0.009187</td>\n",
       "      <td>-0.280872</td>\n",
       "      <td>-0.039994</td>\n",
       "      <td>0.164529</td>\n",
       "      <td>-0.060304</td>\n",
       "      <td>-0.080112</td>\n",
       "      <td>0.28668</td>\n",
       "      <td>0.225746</td>\n",
       "      <td>0.110918</td>\n",
       "      <td>0.277426</td>\n",
       "      <td>0.232322</td>\n",
       "      <td>-0.136826</td>\n",
       "      <td>-0.383728</td>\n",
       "    </tr>\n",
       "    <tr>\n",
       "      <th>2</th>\n",
       "      <td>41</td>\n",
       "      <td>369</td>\n",
       "      <td>1</td>\n",
       "      <td>999</td>\n",
       "      <td>0</td>\n",
       "      <td>-0.446012</td>\n",
       "      <td>0.119766</td>\n",
       "      <td>0.600717</td>\n",
       "      <td>-0.008242</td>\n",
       "      <td>-0.056309</td>\n",
       "      <td>-0.112974</td>\n",
       "      <td>-0.101809</td>\n",
       "      <td>0.108760</td>\n",
       "      <td>-0.180333</td>\n",
       "      <td>-0.083167</td>\n",
       "      <td>0.073600</td>\n",
       "      <td>0.058700</td>\n",
       "      <td>-0.082586</td>\n",
       "      <td>-0.241908</td>\n",
       "      <td>-0.207353</td>\n",
       "      <td>-0.431372</td>\n",
       "      <td>0.161645</td>\n",
       "      <td>-0.035945</td>\n",
       "      <td>-0.318744</td>\n",
       "      <td>0.022420</td>\n",
       "      <td>0.241607</td>\n",
       "      <td>-0.128061</td>\n",
       "      <td>-0.001489</td>\n",
       "      <td>0.191757</td>\n",
       "      <td>0.221930</td>\n",
       "      <td>0.076828</td>\n",
       "      <td>0.239850</td>\n",
       "      <td>0.286684</td>\n",
       "      <td>-0.043762</td>\n",
       "      <td>-0.306752</td>\n",
       "      <td>-0.379363</td>\n",
       "      <td>0.084492</td>\n",
       "      <td>0.623247</td>\n",
       "      <td>-0.033963</td>\n",
       "      <td>-0.026085</td>\n",
       "      <td>-0.015235</td>\n",
       "      <td>-0.010149</td>\n",
       "      <td>0.062568</td>\n",
       "      <td>-0.273366</td>\n",
       "      <td>-0.10178</td>\n",
       "      <td>0.094285</td>\n",
       "      <td>0.029444</td>\n",
       "      <td>-0.060963</td>\n",
       "      <td>-0.306598</td>\n",
       "      <td>-0.051182</td>\n",
       "      <td>-0.316989</td>\n",
       "      <td>0.106311</td>\n",
       "      <td>0.007308</td>\n",
       "      <td>-0.229233</td>\n",
       "      <td>-0.022766</td>\n",
       "      <td>0.128146</td>\n",
       "      <td>-0.09072</td>\n",
       "      <td>-0.07217</td>\n",
       "      <td>0.322971</td>\n",
       "      <td>0.18334</td>\n",
       "      <td>0.088432</td>\n",
       "      <td>0.28085</td>\n",
       "      <td>0.253811</td>\n",
       "      <td>-0.151137</td>\n",
       "      <td>-0.324293</td>\n",
       "      <td>-0.348612</td>\n",
       "      <td>0.044715</td>\n",
       "      <td>0.588243</td>\n",
       "      <td>-0.006544</td>\n",
       "      <td>0.006699</td>\n",
       "      <td>0.022279</td>\n",
       "      <td>0.018643</td>\n",
       "      <td>0.133426</td>\n",
       "      <td>-0.278438</td>\n",
       "      <td>-0.065904</td>\n",
       "      <td>0.055390</td>\n",
       "      <td>-0.003048</td>\n",
       "      <td>-0.046671</td>\n",
       "      <td>-0.283461</td>\n",
       "      <td>-0.043409</td>\n",
       "      <td>-0.287949</td>\n",
       "      <td>0.142090</td>\n",
       "      <td>0.000477</td>\n",
       "      <td>-0.260096</td>\n",
       "      <td>0.009567</td>\n",
       "      <td>0.131920</td>\n",
       "      <td>-0.126769</td>\n",
       "      <td>-0.036068</td>\n",
       "      <td>0.296557</td>\n",
       "      <td>0.197708</td>\n",
       "      <td>0.107162</td>\n",
       "      <td>0.284112</td>\n",
       "      <td>0.255113</td>\n",
       "      <td>-0.151141</td>\n",
       "      <td>-0.390766</td>\n",
       "      <td>-0.348486</td>\n",
       "      <td>0.06302</td>\n",
       "      <td>0.565523</td>\n",
       "      <td>-0.019373</td>\n",
       "      <td>-0.013475</td>\n",
       "      <td>0.002209</td>\n",
       "      <td>0.039461</td>\n",
       "      <td>0.087549</td>\n",
       "      <td>-0.297966</td>\n",
       "      <td>-0.07859</td>\n",
       "      <td>0.148577</td>\n",
       "      <td>-0.024577</td>\n",
       "      <td>0.012434</td>\n",
       "      <td>-0.23319</td>\n",
       "      <td>-0.058051</td>\n",
       "      <td>-0.266853</td>\n",
       "      <td>0.104949</td>\n",
       "      <td>-0.001224</td>\n",
       "      <td>-0.287776</td>\n",
       "      <td>-0.062648</td>\n",
       "      <td>0.103089</td>\n",
       "      <td>-0.046807</td>\n",
       "      <td>-0.046136</td>\n",
       "      <td>0.276813</td>\n",
       "      <td>0.182795</td>\n",
       "      <td>0.124256</td>\n",
       "      <td>0.315446</td>\n",
       "      <td>0.247479</td>\n",
       "      <td>-0.194542</td>\n",
       "      <td>-0.414462</td>\n",
       "      <td>-0.348486</td>\n",
       "      <td>0.063020</td>\n",
       "      <td>0.565523</td>\n",
       "      <td>-0.019373</td>\n",
       "      <td>-0.013475</td>\n",
       "      <td>0.002209</td>\n",
       "      <td>0.039461</td>\n",
       "      <td>0.087549</td>\n",
       "      <td>-0.297966</td>\n",
       "      <td>-0.078590</td>\n",
       "      <td>0.148577</td>\n",
       "      <td>-0.024577</td>\n",
       "      <td>0.012434</td>\n",
       "      <td>-0.233190</td>\n",
       "      <td>-0.058051</td>\n",
       "      <td>-0.266853</td>\n",
       "      <td>0.104949</td>\n",
       "      <td>-0.001224</td>\n",
       "      <td>-0.287776</td>\n",
       "      <td>-0.062648</td>\n",
       "      <td>0.103089</td>\n",
       "      <td>-0.046807</td>\n",
       "      <td>-0.046136</td>\n",
       "      <td>0.276813</td>\n",
       "      <td>0.182795</td>\n",
       "      <td>0.124256</td>\n",
       "      <td>0.315446</td>\n",
       "      <td>0.247479</td>\n",
       "      <td>-0.194542</td>\n",
       "      <td>-0.414462</td>\n",
       "      <td>-0.338094</td>\n",
       "      <td>0.057189</td>\n",
       "      <td>0.625595</td>\n",
       "      <td>-0.064413</td>\n",
       "      <td>0.011004</td>\n",
       "      <td>0.016084</td>\n",
       "      <td>0.028192</td>\n",
       "      <td>0.129963</td>\n",
       "      <td>-0.264135</td>\n",
       "      <td>-0.047807</td>\n",
       "      <td>0.061989</td>\n",
       "      <td>0.046330</td>\n",
       "      <td>-0.060303</td>\n",
       "      <td>-0.295259</td>\n",
       "      <td>-0.063698</td>\n",
       "      <td>-0.304725</td>\n",
       "      <td>0.056842</td>\n",
       "      <td>-0.026298</td>\n",
       "      <td>-0.254717</td>\n",
       "      <td>-0.037150</td>\n",
       "      <td>0.107960</td>\n",
       "      <td>-0.053776</td>\n",
       "      <td>-0.108327</td>\n",
       "      <td>0.261806</td>\n",
       "      <td>0.217935</td>\n",
       "      <td>0.160016</td>\n",
       "      <td>0.324317</td>\n",
       "      <td>0.261033</td>\n",
       "      <td>-0.150576</td>\n",
       "      <td>-0.391216</td>\n",
       "      <td>-0.355828</td>\n",
       "      <td>0.092770</td>\n",
       "      <td>0.613367</td>\n",
       "      <td>0.022130</td>\n",
       "      <td>-0.081025</td>\n",
       "      <td>0.015144</td>\n",
       "      <td>-0.015429</td>\n",
       "      <td>0.085794</td>\n",
       "      <td>-0.266083</td>\n",
       "      <td>-0.054961</td>\n",
       "      <td>0.170980</td>\n",
       "      <td>0.022745</td>\n",
       "      <td>-0.003545</td>\n",
       "      <td>-0.242689</td>\n",
       "      <td>-0.112676</td>\n",
       "      <td>-0.264395</td>\n",
       "      <td>0.114125</td>\n",
       "      <td>-0.029832</td>\n",
       "      <td>-0.223256</td>\n",
       "      <td>-0.061508</td>\n",
       "      <td>0.153001</td>\n",
       "      <td>0.006685</td>\n",
       "      <td>-0.052705</td>\n",
       "      <td>0.291491</td>\n",
       "      <td>0.158719</td>\n",
       "      <td>0.087794</td>\n",
       "      <td>0.302405</td>\n",
       "      <td>0.259662</td>\n",
       "      <td>-0.194249</td>\n",
       "      <td>-0.372125</td>\n",
       "      <td>-0.318993</td>\n",
       "      <td>0.098419</td>\n",
       "      <td>0.561501</td>\n",
       "      <td>-0.002862</td>\n",
       "      <td>-0.019667</td>\n",
       "      <td>-0.005553</td>\n",
       "      <td>-0.041750</td>\n",
       "      <td>0.058162</td>\n",
       "      <td>-0.303344</td>\n",
       "      <td>-0.124267</td>\n",
       "      <td>0.132562</td>\n",
       "      <td>-0.043920</td>\n",
       "      <td>0.008578</td>\n",
       "      <td>-0.277156</td>\n",
       "      <td>-0.045065</td>\n",
       "      <td>-0.257998</td>\n",
       "      <td>0.067306</td>\n",
       "      <td>-0.002524</td>\n",
       "      <td>-0.299107</td>\n",
       "      <td>-0.022832</td>\n",
       "      <td>0.131627</td>\n",
       "      <td>-0.098389</td>\n",
       "      <td>-0.106738</td>\n",
       "      <td>0.276118</td>\n",
       "      <td>0.179340</td>\n",
       "      <td>0.088248</td>\n",
       "      <td>0.298495</td>\n",
       "      <td>0.210995</td>\n",
       "      <td>-0.16256</td>\n",
       "      <td>-0.409408</td>\n",
       "      <td>-0.331940</td>\n",
       "      <td>0.047162</td>\n",
       "      <td>0.569678</td>\n",
       "      <td>-0.004799</td>\n",
       "      <td>-0.016820</td>\n",
       "      <td>0.024107</td>\n",
       "      <td>-0.026486</td>\n",
       "      <td>0.062390</td>\n",
       "      <td>-0.309542</td>\n",
       "      <td>-0.100320</td>\n",
       "      <td>0.100230</td>\n",
       "      <td>-0.001973</td>\n",
       "      <td>-0.024497</td>\n",
       "      <td>-0.253815</td>\n",
       "      <td>-0.020489</td>\n",
       "      <td>-0.291017</td>\n",
       "      <td>0.112709</td>\n",
       "      <td>0.034220</td>\n",
       "      <td>-0.274897</td>\n",
       "      <td>0.011370</td>\n",
       "      <td>0.133170</td>\n",
       "      <td>-0.089376</td>\n",
       "      <td>-0.097769</td>\n",
       "      <td>0.282404</td>\n",
       "      <td>0.193031</td>\n",
       "      <td>0.093350</td>\n",
       "      <td>0.327553</td>\n",
       "      <td>0.206154</td>\n",
       "      <td>-0.166986</td>\n",
       "      <td>-0.376340</td>\n",
       "      <td>-0.330417</td>\n",
       "      <td>0.073192</td>\n",
       "      <td>0.572741</td>\n",
       "      <td>-0.072457</td>\n",
       "      <td>-0.032759</td>\n",
       "      <td>0.036342</td>\n",
       "      <td>-0.019009</td>\n",
       "      <td>0.116142</td>\n",
       "      <td>-0.320428</td>\n",
       "      <td>-0.048544</td>\n",
       "      <td>0.096765</td>\n",
       "      <td>-0.007261</td>\n",
       "      <td>-0.007171</td>\n",
       "      <td>-0.309087</td>\n",
       "      <td>-0.077009</td>\n",
       "      <td>-0.275742</td>\n",
       "      <td>0.071543</td>\n",
       "      <td>0.009187</td>\n",
       "      <td>-0.280872</td>\n",
       "      <td>-0.039994</td>\n",
       "      <td>0.164529</td>\n",
       "      <td>-0.060304</td>\n",
       "      <td>-0.080112</td>\n",
       "      <td>0.28668</td>\n",
       "      <td>0.225746</td>\n",
       "      <td>0.110918</td>\n",
       "      <td>0.277426</td>\n",
       "      <td>0.232322</td>\n",
       "      <td>-0.136826</td>\n",
       "      <td>-0.383728</td>\n",
       "    </tr>\n",
       "  </tbody>\n",
       "</table>\n",
       "</div>"
      ],
      "text/plain": [
       "   age  duration  campaign  pdays  previous         0         1         2  \\\n",
       "0   32       216         1    999         0 -0.380584  0.072246  0.594518   \n",
       "1   21       106         1    999         0 -0.315708  0.025500  0.539741   \n",
       "2   41       369         1    999         0 -0.446012  0.119766  0.600717   \n",
       "\n",
       "          3         4         5         6         7         8         9  \\\n",
       "0 -0.028618  0.008958 -0.008750  0.010357  0.067688 -0.271056 -0.106881   \n",
       "1 -0.043515  0.001952 -0.020877 -0.013410  0.137947 -0.275923 -0.097783   \n",
       "2 -0.008242 -0.056309 -0.112974 -0.101809  0.108760 -0.180333 -0.083167   \n",
       "\n",
       "         10        11        12        13        14        15        16  \\\n",
       "0  0.112524 -0.025678 -0.014792 -0.294712 -0.047196 -0.263487  0.106303   \n",
       "1  0.101988 -0.041104  0.004966 -0.227106 -0.105259 -0.284481  0.142745   \n",
       "2  0.073600  0.058700 -0.082586 -0.241908 -0.207353 -0.431372  0.161645   \n",
       "\n",
       "         17        18        19        20        21        22        23  \\\n",
       "0  0.009495 -0.285847 -0.001271  0.100508 -0.047078 -0.087060  0.282488   \n",
       "1 -0.001898 -0.303731 -0.060141  0.159818 -0.087349 -0.016828  0.247205   \n",
       "2 -0.035945 -0.318744  0.022420  0.241607 -0.128061 -0.001489  0.191757   \n",
       "\n",
       "         24        25        26        27        28        29        30  \\\n",
       "0  0.208425  0.155276  0.285930  0.256789 -0.182804 -0.341251 -0.379363   \n",
       "1  0.212861  0.119432  0.315978  0.254533 -0.201991 -0.420738 -0.379363   \n",
       "2  0.221930  0.076828  0.239850  0.286684 -0.043762 -0.306752 -0.379363   \n",
       "\n",
       "         31        32        33        34        35        36        37  \\\n",
       "0  0.084492  0.623247 -0.033963 -0.026085 -0.015235 -0.010149  0.062568   \n",
       "1  0.084492  0.623247 -0.033963 -0.026085 -0.015235 -0.010149  0.062568   \n",
       "2  0.084492  0.623247 -0.033963 -0.026085 -0.015235 -0.010149  0.062568   \n",
       "\n",
       "         38       39        40        41        42        43        44  \\\n",
       "0 -0.273366 -0.10178  0.094285  0.029444 -0.060963 -0.306598 -0.051182   \n",
       "1 -0.273366 -0.10178  0.094285  0.029444 -0.060963 -0.306598 -0.051182   \n",
       "2 -0.273366 -0.10178  0.094285  0.029444 -0.060963 -0.306598 -0.051182   \n",
       "\n",
       "         45        46        47        48        49        50       51  \\\n",
       "0 -0.316989  0.106311  0.007308 -0.229233 -0.022766  0.128146 -0.09072   \n",
       "1 -0.316989  0.106311  0.007308 -0.229233 -0.022766  0.128146 -0.09072   \n",
       "2 -0.316989  0.106311  0.007308 -0.229233 -0.022766  0.128146 -0.09072   \n",
       "\n",
       "        52        53       54        55       56        57        58  \\\n",
       "0 -0.07217  0.322971  0.18334  0.088432  0.28085  0.253811 -0.151137   \n",
       "1 -0.07217  0.322971  0.18334  0.088432  0.28085  0.253811 -0.151137   \n",
       "2 -0.07217  0.322971  0.18334  0.088432  0.28085  0.253811 -0.151137   \n",
       "\n",
       "         59        60        61        62        63        64        65  \\\n",
       "0 -0.324293 -0.387663  0.062013  0.578938 -0.026766  0.004827 -0.016443   \n",
       "1 -0.324293 -0.417947  0.059055  0.665428 -0.105099  0.020270  0.016024   \n",
       "2 -0.324293 -0.348612  0.044715  0.588243 -0.006544  0.006699  0.022279   \n",
       "\n",
       "         66        67        68        69        70        71        72  \\\n",
       "0 -0.012645  0.061624 -0.287719 -0.105123  0.094026  0.000836 -0.032030   \n",
       "1 -0.030675  0.181274 -0.153122 -0.067042  0.058649 -0.017161 -0.070309   \n",
       "2  0.018643  0.133426 -0.278438 -0.065904  0.055390 -0.003048 -0.046671   \n",
       "\n",
       "         73        74        75        76        77        78        79  \\\n",
       "0 -0.257234 -0.089381 -0.272976  0.102165  0.019415 -0.295220 -0.014507   \n",
       "1 -0.304070 -0.193756 -0.378672  0.095373  0.027637 -0.234835 -0.048121   \n",
       "2 -0.283461 -0.043409 -0.287949  0.142090  0.000477 -0.260096  0.009567   \n",
       "\n",
       "         80        81        82        83        84        85        86  \\\n",
       "0  0.125616 -0.049931 -0.078530  0.285129  0.179479  0.088150  0.304888   \n",
       "1  0.162404 -0.058002 -0.015689  0.292559  0.189204  0.204240  0.232897   \n",
       "2  0.131920 -0.126769 -0.036068  0.296557  0.197708  0.107162  0.284112   \n",
       "\n",
       "         87        88        89        90       91        92        93  \\\n",
       "0  0.257590 -0.158833 -0.399527 -0.348486  0.06302  0.565523 -0.019373   \n",
       "1  0.309660 -0.131936 -0.273761 -0.348486  0.06302  0.565523 -0.019373   \n",
       "2  0.255113 -0.151141 -0.390766 -0.348486  0.06302  0.565523 -0.019373   \n",
       "\n",
       "         94        95        96        97        98       99       100  \\\n",
       "0 -0.013475  0.002209  0.039461  0.087549 -0.297966 -0.07859  0.148577   \n",
       "1 -0.013475  0.002209  0.039461  0.087549 -0.297966 -0.07859  0.148577   \n",
       "2 -0.013475  0.002209  0.039461  0.087549 -0.297966 -0.07859  0.148577   \n",
       "\n",
       "        101       102      103       104       105       106       107  \\\n",
       "0 -0.024577  0.012434 -0.23319 -0.058051 -0.266853  0.104949 -0.001224   \n",
       "1 -0.024577  0.012434 -0.23319 -0.058051 -0.266853  0.104949 -0.001224   \n",
       "2 -0.024577  0.012434 -0.23319 -0.058051 -0.266853  0.104949 -0.001224   \n",
       "\n",
       "        108       109       110       111       112       113       114  \\\n",
       "0 -0.287776 -0.062648  0.103089 -0.046807 -0.046136  0.276813  0.182795   \n",
       "1 -0.287776 -0.062648  0.103089 -0.046807 -0.046136  0.276813  0.182795   \n",
       "2 -0.287776 -0.062648  0.103089 -0.046807 -0.046136  0.276813  0.182795   \n",
       "\n",
       "        115       116       117       118       119       120       121  \\\n",
       "0  0.124256  0.315446  0.247479 -0.194542 -0.414462 -0.338094  0.057189   \n",
       "1  0.124256  0.315446  0.247479 -0.194542 -0.414462 -0.446012  0.119766   \n",
       "2  0.124256  0.315446  0.247479 -0.194542 -0.414462 -0.348486  0.063020   \n",
       "\n",
       "        122       123       124       125       126       127       128  \\\n",
       "0  0.625595 -0.064413  0.011004  0.016084  0.028192  0.129963 -0.264135   \n",
       "1  0.600717 -0.008242 -0.056309 -0.112974 -0.101809  0.108760 -0.180333   \n",
       "2  0.565523 -0.019373 -0.013475  0.002209  0.039461  0.087549 -0.297966   \n",
       "\n",
       "        129       130       131       132       133       134       135  \\\n",
       "0 -0.047807  0.061989  0.046330 -0.060303 -0.295259 -0.063698 -0.304725   \n",
       "1 -0.083167  0.073600  0.058700 -0.082586 -0.241908 -0.207353 -0.431372   \n",
       "2 -0.078590  0.148577 -0.024577  0.012434 -0.233190 -0.058051 -0.266853   \n",
       "\n",
       "        136       137       138       139       140       141       142  \\\n",
       "0  0.056842 -0.026298 -0.254717 -0.037150  0.107960 -0.053776 -0.108327   \n",
       "1  0.161645 -0.035945 -0.318744  0.022420  0.241607 -0.128061 -0.001489   \n",
       "2  0.104949 -0.001224 -0.287776 -0.062648  0.103089 -0.046807 -0.046136   \n",
       "\n",
       "        143       144       145       146       147       148       149  \\\n",
       "0  0.261806  0.217935  0.160016  0.324317  0.261033 -0.150576 -0.391216   \n",
       "1  0.191757  0.221930  0.076828  0.239850  0.286684 -0.043762 -0.306752   \n",
       "2  0.276813  0.182795  0.124256  0.315446  0.247479 -0.194542 -0.414462   \n",
       "\n",
       "        150       151       152       153       154       155       156  \\\n",
       "0 -0.348486  0.063020  0.565523 -0.019373 -0.013475  0.002209  0.039461   \n",
       "1 -0.446012  0.119766  0.600717 -0.008242 -0.056309 -0.112974 -0.101809   \n",
       "2 -0.338094  0.057189  0.625595 -0.064413  0.011004  0.016084  0.028192   \n",
       "\n",
       "        157       158       159       160       161       162       163  \\\n",
       "0  0.087549 -0.297966 -0.078590  0.148577 -0.024577  0.012434 -0.233190   \n",
       "1  0.108760 -0.180333 -0.083167  0.073600  0.058700 -0.082586 -0.241908   \n",
       "2  0.129963 -0.264135 -0.047807  0.061989  0.046330 -0.060303 -0.295259   \n",
       "\n",
       "        164       165       166       167       168       169       170  \\\n",
       "0 -0.058051 -0.266853  0.104949 -0.001224 -0.287776 -0.062648  0.103089   \n",
       "1 -0.207353 -0.431372  0.161645 -0.035945 -0.318744  0.022420  0.241607   \n",
       "2 -0.063698 -0.304725  0.056842 -0.026298 -0.254717 -0.037150  0.107960   \n",
       "\n",
       "        171       172       173       174       175       176       177  \\\n",
       "0 -0.046807 -0.046136  0.276813  0.182795  0.124256  0.315446  0.247479   \n",
       "1 -0.128061 -0.001489  0.191757  0.221930  0.076828  0.239850  0.286684   \n",
       "2 -0.053776 -0.108327  0.261806  0.217935  0.160016  0.324317  0.261033   \n",
       "\n",
       "        178       179       180       181       182       183       184  \\\n",
       "0 -0.194542 -0.414462 -0.359928  0.057163  0.604573 -0.005245  0.063604   \n",
       "1 -0.043762 -0.306752 -0.359928  0.057163  0.604573 -0.005245  0.063604   \n",
       "2 -0.150576 -0.391216 -0.355828  0.092770  0.613367  0.022130 -0.081025   \n",
       "\n",
       "        185       186       187       188       189       190       191  \\\n",
       "0 -0.028355  0.028145  0.176740 -0.297289 -0.102578  0.054948 -0.020953   \n",
       "1 -0.028355  0.028145  0.176740 -0.297289 -0.102578  0.054948 -0.020953   \n",
       "2  0.015144 -0.015429  0.085794 -0.266083 -0.054961  0.170980  0.022745   \n",
       "\n",
       "        192       193       194       195       196       197       198  \\\n",
       "0 -0.058503 -0.287085  0.023518 -0.294245  0.119878  0.059321 -0.269832   \n",
       "1 -0.058503 -0.287085  0.023518 -0.294245  0.119878  0.059321 -0.269832   \n",
       "2 -0.003545 -0.242689 -0.112676 -0.264395  0.114125 -0.029832 -0.223256   \n",
       "\n",
       "        199       200       201       202       203       204       205  \\\n",
       "0  0.009846  0.144342 -0.107043 -0.106840  0.255891  0.135692  0.130749   \n",
       "1  0.009846  0.144342 -0.107043 -0.106840  0.255891  0.135692  0.130749   \n",
       "2 -0.061508  0.153001  0.006685 -0.052705  0.291491  0.158719  0.087794   \n",
       "\n",
       "        206       207       208       209       210       211       212  \\\n",
       "0  0.298807  0.273407 -0.138689 -0.358636 -0.318993  0.098419  0.561501   \n",
       "1  0.298807  0.273407 -0.138689 -0.358636 -0.377481  0.059649  0.567811   \n",
       "2  0.302405  0.259662 -0.194249 -0.372125 -0.318993  0.098419  0.561501   \n",
       "\n",
       "        213       214       215       216       217       218       219  \\\n",
       "0 -0.002862 -0.019667 -0.005553 -0.041750  0.058162 -0.303344 -0.124267   \n",
       "1 -0.037162 -0.011987 -0.047520 -0.042176  0.096089 -0.286464 -0.085087   \n",
       "2 -0.002862 -0.019667 -0.005553 -0.041750  0.058162 -0.303344 -0.124267   \n",
       "\n",
       "        220       221       222       223       224       225       226  \\\n",
       "0  0.132562 -0.043920  0.008578 -0.277156 -0.045065 -0.257998  0.067306   \n",
       "1  0.093497 -0.020013  0.021738 -0.228397 -0.095727 -0.291814  0.091486   \n",
       "2  0.132562 -0.043920  0.008578 -0.277156 -0.045065 -0.257998  0.067306   \n",
       "\n",
       "        227       228       229       230       231       232       233  \\\n",
       "0 -0.002524 -0.299107 -0.022832  0.131627 -0.098389 -0.106738  0.276118   \n",
       "1  0.001694 -0.283408 -0.002398  0.167548 -0.085136 -0.090336  0.238657   \n",
       "2 -0.002524 -0.299107 -0.022832  0.131627 -0.098389 -0.106738  0.276118   \n",
       "\n",
       "        234       235       236       237      238       239       240  \\\n",
       "0  0.179340  0.088248  0.298495  0.210995 -0.16256 -0.409408 -0.326879   \n",
       "1  0.195099  0.153780  0.332618  0.263286 -0.13553 -0.404602 -0.411275   \n",
       "2  0.179340  0.088248  0.298495  0.210995 -0.16256 -0.409408 -0.331940   \n",
       "\n",
       "        241       242       243       244       245       246       247  \\\n",
       "0  0.063085  0.560207 -0.017153  0.002242 -0.024001 -0.009739  0.068106   \n",
       "1  0.076444  0.603346  0.003212 -0.002360 -0.031593  0.044540  0.123161   \n",
       "2  0.047162  0.569678 -0.004799 -0.016820  0.024107 -0.026486  0.062390   \n",
       "\n",
       "        248       249       250       251       252       253       254  \\\n",
       "0 -0.322391 -0.111061  0.129106 -0.047476  0.014688 -0.288610 -0.102933   \n",
       "1 -0.246869 -0.054197  0.098117 -0.015918  0.000893 -0.234743 -0.100820   \n",
       "2 -0.309542 -0.100320  0.100230 -0.001973 -0.024497 -0.253815 -0.020489   \n",
       "\n",
       "        255       256       257       258       259       260       261  \\\n",
       "0 -0.280086  0.058814  0.040789 -0.256727 -0.044787  0.117501 -0.060139   \n",
       "1 -0.292881  0.054230  0.074652 -0.255978 -0.004141  0.137061 -0.058999   \n",
       "2 -0.291017  0.112709  0.034220 -0.274897  0.011370  0.133170 -0.089376   \n",
       "\n",
       "        262       263       264       265       266       267       268  \\\n",
       "0 -0.059955  0.282618  0.168286  0.117291  0.318744  0.246703 -0.207292   \n",
       "1 -0.061585  0.256767  0.112427  0.146488  0.323459  0.306730 -0.200844   \n",
       "2 -0.097769  0.282404  0.193031  0.093350  0.327553  0.206154 -0.166986   \n",
       "\n",
       "        269       270       271       272       273       274       275  \\\n",
       "0 -0.406485 -0.330417  0.073192  0.572741 -0.072457 -0.032759  0.036342   \n",
       "1 -0.309107 -0.330417  0.073192  0.572741 -0.072457 -0.032759  0.036342   \n",
       "2 -0.376340 -0.330417  0.073192  0.572741 -0.072457 -0.032759  0.036342   \n",
       "\n",
       "        276       277       278       279       280       281       282  \\\n",
       "0 -0.019009  0.116142 -0.320428 -0.048544  0.096765 -0.007261 -0.007171   \n",
       "1 -0.019009  0.116142 -0.320428 -0.048544  0.096765 -0.007261 -0.007171   \n",
       "2 -0.019009  0.116142 -0.320428 -0.048544  0.096765 -0.007261 -0.007171   \n",
       "\n",
       "        283       284       285       286       287       288       289  \\\n",
       "0 -0.309087 -0.077009 -0.275742  0.071543  0.009187 -0.280872 -0.039994   \n",
       "1 -0.309087 -0.077009 -0.275742  0.071543  0.009187 -0.280872 -0.039994   \n",
       "2 -0.309087 -0.077009 -0.275742  0.071543  0.009187 -0.280872 -0.039994   \n",
       "\n",
       "        290       291       292      293       294       295       296  \\\n",
       "0  0.164529 -0.060304 -0.080112  0.28668  0.225746  0.110918  0.277426   \n",
       "1  0.164529 -0.060304 -0.080112  0.28668  0.225746  0.110918  0.277426   \n",
       "2  0.164529 -0.060304 -0.080112  0.28668  0.225746  0.110918  0.277426   \n",
       "\n",
       "        297       298       299  \n",
       "0  0.232322 -0.136826 -0.383728  \n",
       "1  0.232322 -0.136826 -0.383728  \n",
       "2  0.232322 -0.136826 -0.383728  "
      ]
     },
     "execution_count": 8,
     "metadata": {},
     "output_type": "execute_result"
    }
   ],
   "source": [
    "my_test_data.head(3)"
   ]
  },
  {
   "cell_type": "code",
   "execution_count": 9,
   "id": "3db48330",
   "metadata": {},
   "outputs": [],
   "source": [
    "import time\n",
    "X_train2, X_test2, y_train2, y_test2 = train_test_split(my_data,y_train,test_size=0.2, random_state=1500)\n",
    "stc = StandardScaler()\n",
    "X_scaled = stc.fit_transform(X_train2.values)"
   ]
  },
  {
   "cell_type": "code",
   "execution_count": 10,
   "id": "682e3a7e",
   "metadata": {},
   "outputs": [
    {
     "data": {
      "text/html": [
       "<div>\n",
       "<style scoped>\n",
       "    .dataframe tbody tr th:only-of-type {\n",
       "        vertical-align: middle;\n",
       "    }\n",
       "\n",
       "    .dataframe tbody tr th {\n",
       "        vertical-align: top;\n",
       "    }\n",
       "\n",
       "    .dataframe thead th {\n",
       "        text-align: right;\n",
       "    }\n",
       "</style>\n",
       "<table border=\"1\" class=\"dataframe\">\n",
       "  <thead>\n",
       "    <tr style=\"text-align: right;\">\n",
       "      <th></th>\n",
       "      <th>age</th>\n",
       "      <th>duration</th>\n",
       "      <th>campaign</th>\n",
       "      <th>pdays</th>\n",
       "      <th>previous</th>\n",
       "      <th>0</th>\n",
       "      <th>1</th>\n",
       "      <th>2</th>\n",
       "      <th>3</th>\n",
       "      <th>4</th>\n",
       "      <th>5</th>\n",
       "      <th>6</th>\n",
       "      <th>7</th>\n",
       "      <th>8</th>\n",
       "      <th>9</th>\n",
       "      <th>10</th>\n",
       "      <th>11</th>\n",
       "      <th>12</th>\n",
       "      <th>13</th>\n",
       "      <th>14</th>\n",
       "      <th>15</th>\n",
       "      <th>16</th>\n",
       "      <th>17</th>\n",
       "      <th>18</th>\n",
       "      <th>19</th>\n",
       "      <th>20</th>\n",
       "      <th>21</th>\n",
       "      <th>22</th>\n",
       "      <th>23</th>\n",
       "      <th>24</th>\n",
       "      <th>25</th>\n",
       "      <th>26</th>\n",
       "      <th>27</th>\n",
       "      <th>28</th>\n",
       "      <th>29</th>\n",
       "      <th>30</th>\n",
       "      <th>31</th>\n",
       "      <th>32</th>\n",
       "      <th>33</th>\n",
       "      <th>34</th>\n",
       "      <th>35</th>\n",
       "      <th>36</th>\n",
       "      <th>37</th>\n",
       "      <th>38</th>\n",
       "      <th>39</th>\n",
       "      <th>40</th>\n",
       "      <th>41</th>\n",
       "      <th>42</th>\n",
       "      <th>43</th>\n",
       "      <th>44</th>\n",
       "      <th>45</th>\n",
       "      <th>46</th>\n",
       "      <th>47</th>\n",
       "      <th>48</th>\n",
       "      <th>49</th>\n",
       "      <th>50</th>\n",
       "      <th>51</th>\n",
       "      <th>52</th>\n",
       "      <th>53</th>\n",
       "      <th>54</th>\n",
       "      <th>55</th>\n",
       "      <th>56</th>\n",
       "      <th>57</th>\n",
       "      <th>58</th>\n",
       "      <th>59</th>\n",
       "      <th>60</th>\n",
       "      <th>61</th>\n",
       "      <th>62</th>\n",
       "      <th>63</th>\n",
       "      <th>64</th>\n",
       "      <th>65</th>\n",
       "      <th>66</th>\n",
       "      <th>67</th>\n",
       "      <th>68</th>\n",
       "      <th>69</th>\n",
       "      <th>70</th>\n",
       "      <th>71</th>\n",
       "      <th>72</th>\n",
       "      <th>73</th>\n",
       "      <th>74</th>\n",
       "      <th>75</th>\n",
       "      <th>76</th>\n",
       "      <th>77</th>\n",
       "      <th>78</th>\n",
       "      <th>79</th>\n",
       "      <th>80</th>\n",
       "      <th>81</th>\n",
       "      <th>82</th>\n",
       "      <th>83</th>\n",
       "      <th>84</th>\n",
       "      <th>85</th>\n",
       "      <th>86</th>\n",
       "      <th>87</th>\n",
       "      <th>88</th>\n",
       "      <th>89</th>\n",
       "      <th>90</th>\n",
       "      <th>91</th>\n",
       "      <th>92</th>\n",
       "      <th>93</th>\n",
       "      <th>94</th>\n",
       "      <th>95</th>\n",
       "      <th>96</th>\n",
       "      <th>97</th>\n",
       "      <th>98</th>\n",
       "      <th>99</th>\n",
       "      <th>100</th>\n",
       "      <th>101</th>\n",
       "      <th>102</th>\n",
       "      <th>103</th>\n",
       "      <th>104</th>\n",
       "      <th>105</th>\n",
       "      <th>106</th>\n",
       "      <th>107</th>\n",
       "      <th>108</th>\n",
       "      <th>109</th>\n",
       "      <th>110</th>\n",
       "      <th>111</th>\n",
       "      <th>112</th>\n",
       "      <th>113</th>\n",
       "      <th>114</th>\n",
       "      <th>115</th>\n",
       "      <th>116</th>\n",
       "      <th>117</th>\n",
       "      <th>118</th>\n",
       "      <th>119</th>\n",
       "      <th>120</th>\n",
       "      <th>121</th>\n",
       "      <th>122</th>\n",
       "      <th>123</th>\n",
       "      <th>124</th>\n",
       "      <th>125</th>\n",
       "      <th>126</th>\n",
       "      <th>127</th>\n",
       "      <th>128</th>\n",
       "      <th>129</th>\n",
       "      <th>130</th>\n",
       "      <th>131</th>\n",
       "      <th>132</th>\n",
       "      <th>133</th>\n",
       "      <th>134</th>\n",
       "      <th>135</th>\n",
       "      <th>136</th>\n",
       "      <th>137</th>\n",
       "      <th>138</th>\n",
       "      <th>139</th>\n",
       "      <th>140</th>\n",
       "      <th>141</th>\n",
       "      <th>142</th>\n",
       "      <th>143</th>\n",
       "      <th>144</th>\n",
       "      <th>145</th>\n",
       "      <th>146</th>\n",
       "      <th>147</th>\n",
       "      <th>148</th>\n",
       "      <th>149</th>\n",
       "      <th>150</th>\n",
       "      <th>151</th>\n",
       "      <th>152</th>\n",
       "      <th>153</th>\n",
       "      <th>154</th>\n",
       "      <th>155</th>\n",
       "      <th>156</th>\n",
       "      <th>157</th>\n",
       "      <th>158</th>\n",
       "      <th>159</th>\n",
       "      <th>160</th>\n",
       "      <th>161</th>\n",
       "      <th>162</th>\n",
       "      <th>163</th>\n",
       "      <th>164</th>\n",
       "      <th>165</th>\n",
       "      <th>166</th>\n",
       "      <th>167</th>\n",
       "      <th>168</th>\n",
       "      <th>169</th>\n",
       "      <th>170</th>\n",
       "      <th>171</th>\n",
       "      <th>172</th>\n",
       "      <th>173</th>\n",
       "      <th>174</th>\n",
       "      <th>175</th>\n",
       "      <th>176</th>\n",
       "      <th>177</th>\n",
       "      <th>178</th>\n",
       "      <th>179</th>\n",
       "      <th>180</th>\n",
       "      <th>181</th>\n",
       "      <th>182</th>\n",
       "      <th>183</th>\n",
       "      <th>184</th>\n",
       "      <th>185</th>\n",
       "      <th>186</th>\n",
       "      <th>187</th>\n",
       "      <th>188</th>\n",
       "      <th>189</th>\n",
       "      <th>190</th>\n",
       "      <th>191</th>\n",
       "      <th>192</th>\n",
       "      <th>193</th>\n",
       "      <th>194</th>\n",
       "      <th>195</th>\n",
       "      <th>196</th>\n",
       "      <th>197</th>\n",
       "      <th>198</th>\n",
       "      <th>199</th>\n",
       "      <th>200</th>\n",
       "      <th>201</th>\n",
       "      <th>202</th>\n",
       "      <th>203</th>\n",
       "      <th>204</th>\n",
       "      <th>205</th>\n",
       "      <th>206</th>\n",
       "      <th>207</th>\n",
       "      <th>208</th>\n",
       "      <th>209</th>\n",
       "      <th>210</th>\n",
       "      <th>211</th>\n",
       "      <th>212</th>\n",
       "      <th>213</th>\n",
       "      <th>214</th>\n",
       "      <th>215</th>\n",
       "      <th>216</th>\n",
       "      <th>217</th>\n",
       "      <th>218</th>\n",
       "      <th>219</th>\n",
       "      <th>220</th>\n",
       "      <th>221</th>\n",
       "      <th>222</th>\n",
       "      <th>223</th>\n",
       "      <th>224</th>\n",
       "      <th>225</th>\n",
       "      <th>226</th>\n",
       "      <th>227</th>\n",
       "      <th>228</th>\n",
       "      <th>229</th>\n",
       "      <th>230</th>\n",
       "      <th>231</th>\n",
       "      <th>232</th>\n",
       "      <th>233</th>\n",
       "      <th>234</th>\n",
       "      <th>235</th>\n",
       "      <th>236</th>\n",
       "      <th>237</th>\n",
       "      <th>238</th>\n",
       "      <th>239</th>\n",
       "      <th>240</th>\n",
       "      <th>241</th>\n",
       "      <th>242</th>\n",
       "      <th>243</th>\n",
       "      <th>244</th>\n",
       "      <th>245</th>\n",
       "      <th>246</th>\n",
       "      <th>247</th>\n",
       "      <th>248</th>\n",
       "      <th>249</th>\n",
       "      <th>250</th>\n",
       "      <th>251</th>\n",
       "      <th>252</th>\n",
       "      <th>253</th>\n",
       "      <th>254</th>\n",
       "      <th>255</th>\n",
       "      <th>256</th>\n",
       "      <th>257</th>\n",
       "      <th>258</th>\n",
       "      <th>259</th>\n",
       "      <th>260</th>\n",
       "      <th>261</th>\n",
       "      <th>262</th>\n",
       "      <th>263</th>\n",
       "      <th>264</th>\n",
       "      <th>265</th>\n",
       "      <th>266</th>\n",
       "      <th>267</th>\n",
       "      <th>268</th>\n",
       "      <th>269</th>\n",
       "      <th>270</th>\n",
       "      <th>271</th>\n",
       "      <th>272</th>\n",
       "      <th>273</th>\n",
       "      <th>274</th>\n",
       "      <th>275</th>\n",
       "      <th>276</th>\n",
       "      <th>277</th>\n",
       "      <th>278</th>\n",
       "      <th>279</th>\n",
       "      <th>280</th>\n",
       "      <th>281</th>\n",
       "      <th>282</th>\n",
       "      <th>283</th>\n",
       "      <th>284</th>\n",
       "      <th>285</th>\n",
       "      <th>286</th>\n",
       "      <th>287</th>\n",
       "      <th>288</th>\n",
       "      <th>289</th>\n",
       "      <th>290</th>\n",
       "      <th>291</th>\n",
       "      <th>292</th>\n",
       "      <th>293</th>\n",
       "      <th>294</th>\n",
       "      <th>295</th>\n",
       "      <th>296</th>\n",
       "      <th>297</th>\n",
       "      <th>298</th>\n",
       "      <th>299</th>\n",
       "    </tr>\n",
       "  </thead>\n",
       "  <tbody>\n",
       "    <tr>\n",
       "      <th>15234</th>\n",
       "      <td>45</td>\n",
       "      <td>290</td>\n",
       "      <td>1</td>\n",
       "      <td>999</td>\n",
       "      <td>0</td>\n",
       "      <td>-0.323004</td>\n",
       "      <td>0.053559</td>\n",
       "      <td>0.552088</td>\n",
       "      <td>0.008087</td>\n",
       "      <td>-0.021577</td>\n",
       "      <td>-0.036163</td>\n",
       "      <td>-0.00745</td>\n",
       "      <td>0.107005</td>\n",
       "      <td>-0.340789</td>\n",
       "      <td>-0.112569</td>\n",
       "      <td>0.127465</td>\n",
       "      <td>-0.023499</td>\n",
       "      <td>-0.029579</td>\n",
       "      <td>-0.2308</td>\n",
       "      <td>-0.029214</td>\n",
       "      <td>-0.27581</td>\n",
       "      <td>0.109479</td>\n",
       "      <td>0.051841</td>\n",
       "      <td>-0.317389</td>\n",
       "      <td>-0.066271</td>\n",
       "      <td>0.159854</td>\n",
       "      <td>-0.078388</td>\n",
       "      <td>-0.057588</td>\n",
       "      <td>0.2578</td>\n",
       "      <td>0.207165</td>\n",
       "      <td>0.084231</td>\n",
       "      <td>0.305467</td>\n",
       "      <td>0.261543</td>\n",
       "      <td>-0.171561</td>\n",
       "      <td>-0.412499</td>\n",
       "      <td>-0.320912</td>\n",
       "      <td>0.033452</td>\n",
       "      <td>0.583443</td>\n",
       "      <td>-0.025378</td>\n",
       "      <td>0.003415</td>\n",
       "      <td>0.017780</td>\n",
       "      <td>0.029929</td>\n",
       "      <td>0.096292</td>\n",
       "      <td>-0.323473</td>\n",
       "      <td>-0.083064</td>\n",
       "      <td>0.118198</td>\n",
       "      <td>0.013211</td>\n",
       "      <td>-0.017397</td>\n",
       "      <td>-0.244643</td>\n",
       "      <td>-0.046013</td>\n",
       "      <td>-0.280713</td>\n",
       "      <td>0.132307</td>\n",
       "      <td>0.053209</td>\n",
       "      <td>-0.264600</td>\n",
       "      <td>-0.054889</td>\n",
       "      <td>0.118062</td>\n",
       "      <td>-0.077795</td>\n",
       "      <td>-0.047211</td>\n",
       "      <td>0.290041</td>\n",
       "      <td>0.194323</td>\n",
       "      <td>0.129149</td>\n",
       "      <td>0.310494</td>\n",
       "      <td>0.216333</td>\n",
       "      <td>-0.165955</td>\n",
       "      <td>-0.394155</td>\n",
       "      <td>-0.387663</td>\n",
       "      <td>0.062013</td>\n",
       "      <td>0.578938</td>\n",
       "      <td>-0.026766</td>\n",
       "      <td>0.004827</td>\n",
       "      <td>-0.016443</td>\n",
       "      <td>-0.012645</td>\n",
       "      <td>0.061624</td>\n",
       "      <td>-0.287719</td>\n",
       "      <td>-0.105123</td>\n",
       "      <td>0.094026</td>\n",
       "      <td>0.000836</td>\n",
       "      <td>-0.032030</td>\n",
       "      <td>-0.257234</td>\n",
       "      <td>-0.089381</td>\n",
       "      <td>-0.272976</td>\n",
       "      <td>0.102165</td>\n",
       "      <td>0.019415</td>\n",
       "      <td>-0.295220</td>\n",
       "      <td>-0.014507</td>\n",
       "      <td>0.125616</td>\n",
       "      <td>-0.049931</td>\n",
       "      <td>-0.078530</td>\n",
       "      <td>0.285129</td>\n",
       "      <td>0.179479</td>\n",
       "      <td>0.08815</td>\n",
       "      <td>0.304888</td>\n",
       "      <td>0.25759</td>\n",
       "      <td>-0.158833</td>\n",
       "      <td>-0.399527</td>\n",
       "      <td>-0.348486</td>\n",
       "      <td>0.06302</td>\n",
       "      <td>0.565523</td>\n",
       "      <td>-0.019373</td>\n",
       "      <td>-0.013475</td>\n",
       "      <td>0.002209</td>\n",
       "      <td>0.039461</td>\n",
       "      <td>0.087549</td>\n",
       "      <td>-0.297966</td>\n",
       "      <td>-0.07859</td>\n",
       "      <td>0.148577</td>\n",
       "      <td>-0.024577</td>\n",
       "      <td>0.012434</td>\n",
       "      <td>-0.23319</td>\n",
       "      <td>-0.058051</td>\n",
       "      <td>-0.266853</td>\n",
       "      <td>0.104949</td>\n",
       "      <td>-0.001224</td>\n",
       "      <td>-0.287776</td>\n",
       "      <td>-0.062648</td>\n",
       "      <td>0.103089</td>\n",
       "      <td>-0.046807</td>\n",
       "      <td>-0.046136</td>\n",
       "      <td>0.276813</td>\n",
       "      <td>0.182795</td>\n",
       "      <td>0.124256</td>\n",
       "      <td>0.315446</td>\n",
       "      <td>0.247479</td>\n",
       "      <td>-0.194542</td>\n",
       "      <td>-0.414462</td>\n",
       "      <td>-0.348486</td>\n",
       "      <td>0.06302</td>\n",
       "      <td>0.565523</td>\n",
       "      <td>-0.019373</td>\n",
       "      <td>-0.013475</td>\n",
       "      <td>0.002209</td>\n",
       "      <td>0.039461</td>\n",
       "      <td>0.087549</td>\n",
       "      <td>-0.297966</td>\n",
       "      <td>-0.07859</td>\n",
       "      <td>0.148577</td>\n",
       "      <td>-0.024577</td>\n",
       "      <td>0.012434</td>\n",
       "      <td>-0.23319</td>\n",
       "      <td>-0.058051</td>\n",
       "      <td>-0.266853</td>\n",
       "      <td>0.104949</td>\n",
       "      <td>-0.001224</td>\n",
       "      <td>-0.287776</td>\n",
       "      <td>-0.062648</td>\n",
       "      <td>0.103089</td>\n",
       "      <td>-0.046807</td>\n",
       "      <td>-0.046136</td>\n",
       "      <td>0.276813</td>\n",
       "      <td>0.182795</td>\n",
       "      <td>0.124256</td>\n",
       "      <td>0.315446</td>\n",
       "      <td>0.247479</td>\n",
       "      <td>-0.194542</td>\n",
       "      <td>-0.414462</td>\n",
       "      <td>-0.348486</td>\n",
       "      <td>0.06302</td>\n",
       "      <td>0.565523</td>\n",
       "      <td>-0.019373</td>\n",
       "      <td>-0.013475</td>\n",
       "      <td>0.002209</td>\n",
       "      <td>0.039461</td>\n",
       "      <td>0.087549</td>\n",
       "      <td>-0.297966</td>\n",
       "      <td>-0.07859</td>\n",
       "      <td>0.148577</td>\n",
       "      <td>-0.024577</td>\n",
       "      <td>0.012434</td>\n",
       "      <td>-0.23319</td>\n",
       "      <td>-0.058051</td>\n",
       "      <td>-0.266853</td>\n",
       "      <td>0.104949</td>\n",
       "      <td>-0.001224</td>\n",
       "      <td>-0.287776</td>\n",
       "      <td>-0.062648</td>\n",
       "      <td>0.103089</td>\n",
       "      <td>-0.046807</td>\n",
       "      <td>-0.046136</td>\n",
       "      <td>0.276813</td>\n",
       "      <td>0.182795</td>\n",
       "      <td>0.124256</td>\n",
       "      <td>0.315446</td>\n",
       "      <td>0.247479</td>\n",
       "      <td>-0.194542</td>\n",
       "      <td>-0.414462</td>\n",
       "      <td>-0.355828</td>\n",
       "      <td>0.092770</td>\n",
       "      <td>0.613367</td>\n",
       "      <td>0.022130</td>\n",
       "      <td>-0.081025</td>\n",
       "      <td>0.015144</td>\n",
       "      <td>-0.015429</td>\n",
       "      <td>0.085794</td>\n",
       "      <td>-0.266083</td>\n",
       "      <td>-0.054961</td>\n",
       "      <td>0.170980</td>\n",
       "      <td>0.022745</td>\n",
       "      <td>-0.003545</td>\n",
       "      <td>-0.242689</td>\n",
       "      <td>-0.112676</td>\n",
       "      <td>-0.264395</td>\n",
       "      <td>0.114125</td>\n",
       "      <td>-0.029832</td>\n",
       "      <td>-0.223256</td>\n",
       "      <td>-0.061508</td>\n",
       "      <td>0.153001</td>\n",
       "      <td>0.006685</td>\n",
       "      <td>-0.052705</td>\n",
       "      <td>0.291491</td>\n",
       "      <td>0.158719</td>\n",
       "      <td>0.087794</td>\n",
       "      <td>0.302405</td>\n",
       "      <td>0.259662</td>\n",
       "      <td>-0.194249</td>\n",
       "      <td>-0.372125</td>\n",
       "      <td>-0.377481</td>\n",
       "      <td>0.059649</td>\n",
       "      <td>0.567811</td>\n",
       "      <td>-0.037162</td>\n",
       "      <td>-0.011987</td>\n",
       "      <td>-0.047520</td>\n",
       "      <td>-0.042176</td>\n",
       "      <td>0.096089</td>\n",
       "      <td>-0.286464</td>\n",
       "      <td>-0.085087</td>\n",
       "      <td>0.093497</td>\n",
       "      <td>-0.020013</td>\n",
       "      <td>0.021738</td>\n",
       "      <td>-0.228397</td>\n",
       "      <td>-0.095727</td>\n",
       "      <td>-0.291814</td>\n",
       "      <td>0.091486</td>\n",
       "      <td>0.001694</td>\n",
       "      <td>-0.283408</td>\n",
       "      <td>-0.002398</td>\n",
       "      <td>0.167548</td>\n",
       "      <td>-0.085136</td>\n",
       "      <td>-0.090336</td>\n",
       "      <td>0.238657</td>\n",
       "      <td>0.195099</td>\n",
       "      <td>0.153780</td>\n",
       "      <td>0.332618</td>\n",
       "      <td>0.263286</td>\n",
       "      <td>-0.135530</td>\n",
       "      <td>-0.404602</td>\n",
       "      <td>-0.33194</td>\n",
       "      <td>0.047162</td>\n",
       "      <td>0.569678</td>\n",
       "      <td>-0.004799</td>\n",
       "      <td>-0.01682</td>\n",
       "      <td>0.024107</td>\n",
       "      <td>-0.026486</td>\n",
       "      <td>0.06239</td>\n",
       "      <td>-0.309542</td>\n",
       "      <td>-0.10032</td>\n",
       "      <td>0.10023</td>\n",
       "      <td>-0.001973</td>\n",
       "      <td>-0.024497</td>\n",
       "      <td>-0.253815</td>\n",
       "      <td>-0.020489</td>\n",
       "      <td>-0.291017</td>\n",
       "      <td>0.112709</td>\n",
       "      <td>0.03422</td>\n",
       "      <td>-0.274897</td>\n",
       "      <td>0.01137</td>\n",
       "      <td>0.13317</td>\n",
       "      <td>-0.089376</td>\n",
       "      <td>-0.097769</td>\n",
       "      <td>0.282404</td>\n",
       "      <td>0.193031</td>\n",
       "      <td>0.09335</td>\n",
       "      <td>0.327553</td>\n",
       "      <td>0.206154</td>\n",
       "      <td>-0.166986</td>\n",
       "      <td>-0.37634</td>\n",
       "      <td>-0.330417</td>\n",
       "      <td>0.073192</td>\n",
       "      <td>0.572741</td>\n",
       "      <td>-0.072457</td>\n",
       "      <td>-0.032759</td>\n",
       "      <td>0.036342</td>\n",
       "      <td>-0.019009</td>\n",
       "      <td>0.116142</td>\n",
       "      <td>-0.320428</td>\n",
       "      <td>-0.048544</td>\n",
       "      <td>0.096765</td>\n",
       "      <td>-0.007261</td>\n",
       "      <td>-0.007171</td>\n",
       "      <td>-0.309087</td>\n",
       "      <td>-0.077009</td>\n",
       "      <td>-0.275742</td>\n",
       "      <td>0.071543</td>\n",
       "      <td>0.009187</td>\n",
       "      <td>-0.280872</td>\n",
       "      <td>-0.039994</td>\n",
       "      <td>0.164529</td>\n",
       "      <td>-0.060304</td>\n",
       "      <td>-0.080112</td>\n",
       "      <td>0.286680</td>\n",
       "      <td>0.225746</td>\n",
       "      <td>0.110918</td>\n",
       "      <td>0.277426</td>\n",
       "      <td>0.232322</td>\n",
       "      <td>-0.136826</td>\n",
       "      <td>-0.383728</td>\n",
       "    </tr>\n",
       "    <tr>\n",
       "      <th>4546</th>\n",
       "      <td>26</td>\n",
       "      <td>1087</td>\n",
       "      <td>1</td>\n",
       "      <td>3</td>\n",
       "      <td>1</td>\n",
       "      <td>-0.323004</td>\n",
       "      <td>0.053559</td>\n",
       "      <td>0.552088</td>\n",
       "      <td>0.008087</td>\n",
       "      <td>-0.021577</td>\n",
       "      <td>-0.036163</td>\n",
       "      <td>-0.00745</td>\n",
       "      <td>0.107005</td>\n",
       "      <td>-0.340789</td>\n",
       "      <td>-0.112569</td>\n",
       "      <td>0.127465</td>\n",
       "      <td>-0.023499</td>\n",
       "      <td>-0.029579</td>\n",
       "      <td>-0.2308</td>\n",
       "      <td>-0.029214</td>\n",
       "      <td>-0.27581</td>\n",
       "      <td>0.109479</td>\n",
       "      <td>0.051841</td>\n",
       "      <td>-0.317389</td>\n",
       "      <td>-0.066271</td>\n",
       "      <td>0.159854</td>\n",
       "      <td>-0.078388</td>\n",
       "      <td>-0.057588</td>\n",
       "      <td>0.2578</td>\n",
       "      <td>0.207165</td>\n",
       "      <td>0.084231</td>\n",
       "      <td>0.305467</td>\n",
       "      <td>0.261543</td>\n",
       "      <td>-0.171561</td>\n",
       "      <td>-0.412499</td>\n",
       "      <td>-0.379363</td>\n",
       "      <td>0.084492</td>\n",
       "      <td>0.623247</td>\n",
       "      <td>-0.033963</td>\n",
       "      <td>-0.026085</td>\n",
       "      <td>-0.015235</td>\n",
       "      <td>-0.010149</td>\n",
       "      <td>0.062568</td>\n",
       "      <td>-0.273366</td>\n",
       "      <td>-0.101780</td>\n",
       "      <td>0.094285</td>\n",
       "      <td>0.029444</td>\n",
       "      <td>-0.060963</td>\n",
       "      <td>-0.306598</td>\n",
       "      <td>-0.051182</td>\n",
       "      <td>-0.316989</td>\n",
       "      <td>0.106311</td>\n",
       "      <td>0.007308</td>\n",
       "      <td>-0.229233</td>\n",
       "      <td>-0.022766</td>\n",
       "      <td>0.128146</td>\n",
       "      <td>-0.090720</td>\n",
       "      <td>-0.072170</td>\n",
       "      <td>0.322971</td>\n",
       "      <td>0.183340</td>\n",
       "      <td>0.088432</td>\n",
       "      <td>0.280850</td>\n",
       "      <td>0.253811</td>\n",
       "      <td>-0.151137</td>\n",
       "      <td>-0.324293</td>\n",
       "      <td>-0.417947</td>\n",
       "      <td>0.059055</td>\n",
       "      <td>0.665428</td>\n",
       "      <td>-0.105099</td>\n",
       "      <td>0.020270</td>\n",
       "      <td>0.016024</td>\n",
       "      <td>-0.030675</td>\n",
       "      <td>0.181274</td>\n",
       "      <td>-0.153122</td>\n",
       "      <td>-0.067042</td>\n",
       "      <td>0.058649</td>\n",
       "      <td>-0.017161</td>\n",
       "      <td>-0.070309</td>\n",
       "      <td>-0.304070</td>\n",
       "      <td>-0.193756</td>\n",
       "      <td>-0.378672</td>\n",
       "      <td>0.095373</td>\n",
       "      <td>0.027637</td>\n",
       "      <td>-0.234835</td>\n",
       "      <td>-0.048121</td>\n",
       "      <td>0.162404</td>\n",
       "      <td>-0.058002</td>\n",
       "      <td>-0.015689</td>\n",
       "      <td>0.292559</td>\n",
       "      <td>0.189204</td>\n",
       "      <td>0.20424</td>\n",
       "      <td>0.232897</td>\n",
       "      <td>0.30966</td>\n",
       "      <td>-0.131936</td>\n",
       "      <td>-0.273761</td>\n",
       "      <td>-0.348486</td>\n",
       "      <td>0.06302</td>\n",
       "      <td>0.565523</td>\n",
       "      <td>-0.019373</td>\n",
       "      <td>-0.013475</td>\n",
       "      <td>0.002209</td>\n",
       "      <td>0.039461</td>\n",
       "      <td>0.087549</td>\n",
       "      <td>-0.297966</td>\n",
       "      <td>-0.07859</td>\n",
       "      <td>0.148577</td>\n",
       "      <td>-0.024577</td>\n",
       "      <td>0.012434</td>\n",
       "      <td>-0.23319</td>\n",
       "      <td>-0.058051</td>\n",
       "      <td>-0.266853</td>\n",
       "      <td>0.104949</td>\n",
       "      <td>-0.001224</td>\n",
       "      <td>-0.287776</td>\n",
       "      <td>-0.062648</td>\n",
       "      <td>0.103089</td>\n",
       "      <td>-0.046807</td>\n",
       "      <td>-0.046136</td>\n",
       "      <td>0.276813</td>\n",
       "      <td>0.182795</td>\n",
       "      <td>0.124256</td>\n",
       "      <td>0.315446</td>\n",
       "      <td>0.247479</td>\n",
       "      <td>-0.194542</td>\n",
       "      <td>-0.414462</td>\n",
       "      <td>-0.348486</td>\n",
       "      <td>0.06302</td>\n",
       "      <td>0.565523</td>\n",
       "      <td>-0.019373</td>\n",
       "      <td>-0.013475</td>\n",
       "      <td>0.002209</td>\n",
       "      <td>0.039461</td>\n",
       "      <td>0.087549</td>\n",
       "      <td>-0.297966</td>\n",
       "      <td>-0.07859</td>\n",
       "      <td>0.148577</td>\n",
       "      <td>-0.024577</td>\n",
       "      <td>0.012434</td>\n",
       "      <td>-0.23319</td>\n",
       "      <td>-0.058051</td>\n",
       "      <td>-0.266853</td>\n",
       "      <td>0.104949</td>\n",
       "      <td>-0.001224</td>\n",
       "      <td>-0.287776</td>\n",
       "      <td>-0.062648</td>\n",
       "      <td>0.103089</td>\n",
       "      <td>-0.046807</td>\n",
       "      <td>-0.046136</td>\n",
       "      <td>0.276813</td>\n",
       "      <td>0.182795</td>\n",
       "      <td>0.124256</td>\n",
       "      <td>0.315446</td>\n",
       "      <td>0.247479</td>\n",
       "      <td>-0.194542</td>\n",
       "      <td>-0.414462</td>\n",
       "      <td>-0.348486</td>\n",
       "      <td>0.06302</td>\n",
       "      <td>0.565523</td>\n",
       "      <td>-0.019373</td>\n",
       "      <td>-0.013475</td>\n",
       "      <td>0.002209</td>\n",
       "      <td>0.039461</td>\n",
       "      <td>0.087549</td>\n",
       "      <td>-0.297966</td>\n",
       "      <td>-0.07859</td>\n",
       "      <td>0.148577</td>\n",
       "      <td>-0.024577</td>\n",
       "      <td>0.012434</td>\n",
       "      <td>-0.23319</td>\n",
       "      <td>-0.058051</td>\n",
       "      <td>-0.266853</td>\n",
       "      <td>0.104949</td>\n",
       "      <td>-0.001224</td>\n",
       "      <td>-0.287776</td>\n",
       "      <td>-0.062648</td>\n",
       "      <td>0.103089</td>\n",
       "      <td>-0.046807</td>\n",
       "      <td>-0.046136</td>\n",
       "      <td>0.276813</td>\n",
       "      <td>0.182795</td>\n",
       "      <td>0.124256</td>\n",
       "      <td>0.315446</td>\n",
       "      <td>0.247479</td>\n",
       "      <td>-0.194542</td>\n",
       "      <td>-0.414462</td>\n",
       "      <td>-0.355828</td>\n",
       "      <td>0.092770</td>\n",
       "      <td>0.613367</td>\n",
       "      <td>0.022130</td>\n",
       "      <td>-0.081025</td>\n",
       "      <td>0.015144</td>\n",
       "      <td>-0.015429</td>\n",
       "      <td>0.085794</td>\n",
       "      <td>-0.266083</td>\n",
       "      <td>-0.054961</td>\n",
       "      <td>0.170980</td>\n",
       "      <td>0.022745</td>\n",
       "      <td>-0.003545</td>\n",
       "      <td>-0.242689</td>\n",
       "      <td>-0.112676</td>\n",
       "      <td>-0.264395</td>\n",
       "      <td>0.114125</td>\n",
       "      <td>-0.029832</td>\n",
       "      <td>-0.223256</td>\n",
       "      <td>-0.061508</td>\n",
       "      <td>0.153001</td>\n",
       "      <td>0.006685</td>\n",
       "      <td>-0.052705</td>\n",
       "      <td>0.291491</td>\n",
       "      <td>0.158719</td>\n",
       "      <td>0.087794</td>\n",
       "      <td>0.302405</td>\n",
       "      <td>0.259662</td>\n",
       "      <td>-0.194249</td>\n",
       "      <td>-0.372125</td>\n",
       "      <td>-0.344413</td>\n",
       "      <td>0.065011</td>\n",
       "      <td>0.554652</td>\n",
       "      <td>-0.049579</td>\n",
       "      <td>0.014981</td>\n",
       "      <td>0.012219</td>\n",
       "      <td>-0.009216</td>\n",
       "      <td>0.102295</td>\n",
       "      <td>-0.317011</td>\n",
       "      <td>-0.091191</td>\n",
       "      <td>0.111705</td>\n",
       "      <td>0.016961</td>\n",
       "      <td>-0.030861</td>\n",
       "      <td>-0.306390</td>\n",
       "      <td>-0.005103</td>\n",
       "      <td>-0.290463</td>\n",
       "      <td>0.123474</td>\n",
       "      <td>0.052864</td>\n",
       "      <td>-0.282797</td>\n",
       "      <td>-0.053369</td>\n",
       "      <td>0.120378</td>\n",
       "      <td>-0.075160</td>\n",
       "      <td>-0.057372</td>\n",
       "      <td>0.311691</td>\n",
       "      <td>0.164904</td>\n",
       "      <td>0.130247</td>\n",
       "      <td>0.335938</td>\n",
       "      <td>0.228888</td>\n",
       "      <td>-0.167302</td>\n",
       "      <td>-0.348989</td>\n",
       "      <td>-0.33194</td>\n",
       "      <td>0.047162</td>\n",
       "      <td>0.569678</td>\n",
       "      <td>-0.004799</td>\n",
       "      <td>-0.01682</td>\n",
       "      <td>0.024107</td>\n",
       "      <td>-0.026486</td>\n",
       "      <td>0.06239</td>\n",
       "      <td>-0.309542</td>\n",
       "      <td>-0.10032</td>\n",
       "      <td>0.10023</td>\n",
       "      <td>-0.001973</td>\n",
       "      <td>-0.024497</td>\n",
       "      <td>-0.253815</td>\n",
       "      <td>-0.020489</td>\n",
       "      <td>-0.291017</td>\n",
       "      <td>0.112709</td>\n",
       "      <td>0.03422</td>\n",
       "      <td>-0.274897</td>\n",
       "      <td>0.01137</td>\n",
       "      <td>0.13317</td>\n",
       "      <td>-0.089376</td>\n",
       "      <td>-0.097769</td>\n",
       "      <td>0.282404</td>\n",
       "      <td>0.193031</td>\n",
       "      <td>0.09335</td>\n",
       "      <td>0.327553</td>\n",
       "      <td>0.206154</td>\n",
       "      <td>-0.166986</td>\n",
       "      <td>-0.37634</td>\n",
       "      <td>-0.396376</td>\n",
       "      <td>0.062001</td>\n",
       "      <td>0.626451</td>\n",
       "      <td>-0.028106</td>\n",
       "      <td>-0.040001</td>\n",
       "      <td>-0.001831</td>\n",
       "      <td>-0.019409</td>\n",
       "      <td>0.099031</td>\n",
       "      <td>-0.228312</td>\n",
       "      <td>-0.064308</td>\n",
       "      <td>0.082471</td>\n",
       "      <td>0.005100</td>\n",
       "      <td>0.003678</td>\n",
       "      <td>-0.219769</td>\n",
       "      <td>-0.075200</td>\n",
       "      <td>-0.294663</td>\n",
       "      <td>0.104345</td>\n",
       "      <td>0.027937</td>\n",
       "      <td>-0.287821</td>\n",
       "      <td>-0.019151</td>\n",
       "      <td>0.138702</td>\n",
       "      <td>-0.068907</td>\n",
       "      <td>-0.065836</td>\n",
       "      <td>0.292639</td>\n",
       "      <td>0.158783</td>\n",
       "      <td>0.096501</td>\n",
       "      <td>0.301873</td>\n",
       "      <td>0.244229</td>\n",
       "      <td>-0.189174</td>\n",
       "      <td>-0.357541</td>\n",
       "    </tr>\n",
       "    <tr>\n",
       "      <th>5595</th>\n",
       "      <td>36</td>\n",
       "      <td>610</td>\n",
       "      <td>2</td>\n",
       "      <td>999</td>\n",
       "      <td>0</td>\n",
       "      <td>-0.323004</td>\n",
       "      <td>0.053559</td>\n",
       "      <td>0.552088</td>\n",
       "      <td>0.008087</td>\n",
       "      <td>-0.021577</td>\n",
       "      <td>-0.036163</td>\n",
       "      <td>-0.00745</td>\n",
       "      <td>0.107005</td>\n",
       "      <td>-0.340789</td>\n",
       "      <td>-0.112569</td>\n",
       "      <td>0.127465</td>\n",
       "      <td>-0.023499</td>\n",
       "      <td>-0.029579</td>\n",
       "      <td>-0.2308</td>\n",
       "      <td>-0.029214</td>\n",
       "      <td>-0.27581</td>\n",
       "      <td>0.109479</td>\n",
       "      <td>0.051841</td>\n",
       "      <td>-0.317389</td>\n",
       "      <td>-0.066271</td>\n",
       "      <td>0.159854</td>\n",
       "      <td>-0.078388</td>\n",
       "      <td>-0.057588</td>\n",
       "      <td>0.2578</td>\n",
       "      <td>0.207165</td>\n",
       "      <td>0.084231</td>\n",
       "      <td>0.305467</td>\n",
       "      <td>0.261543</td>\n",
       "      <td>-0.171561</td>\n",
       "      <td>-0.412499</td>\n",
       "      <td>-0.320912</td>\n",
       "      <td>0.033452</td>\n",
       "      <td>0.583443</td>\n",
       "      <td>-0.025378</td>\n",
       "      <td>0.003415</td>\n",
       "      <td>0.017780</td>\n",
       "      <td>0.029929</td>\n",
       "      <td>0.096292</td>\n",
       "      <td>-0.323473</td>\n",
       "      <td>-0.083064</td>\n",
       "      <td>0.118198</td>\n",
       "      <td>0.013211</td>\n",
       "      <td>-0.017397</td>\n",
       "      <td>-0.244643</td>\n",
       "      <td>-0.046013</td>\n",
       "      <td>-0.280713</td>\n",
       "      <td>0.132307</td>\n",
       "      <td>0.053209</td>\n",
       "      <td>-0.264600</td>\n",
       "      <td>-0.054889</td>\n",
       "      <td>0.118062</td>\n",
       "      <td>-0.077795</td>\n",
       "      <td>-0.047211</td>\n",
       "      <td>0.290041</td>\n",
       "      <td>0.194323</td>\n",
       "      <td>0.129149</td>\n",
       "      <td>0.310494</td>\n",
       "      <td>0.216333</td>\n",
       "      <td>-0.165955</td>\n",
       "      <td>-0.394155</td>\n",
       "      <td>-0.417947</td>\n",
       "      <td>0.059055</td>\n",
       "      <td>0.665428</td>\n",
       "      <td>-0.105099</td>\n",
       "      <td>0.020270</td>\n",
       "      <td>0.016024</td>\n",
       "      <td>-0.030675</td>\n",
       "      <td>0.181274</td>\n",
       "      <td>-0.153122</td>\n",
       "      <td>-0.067042</td>\n",
       "      <td>0.058649</td>\n",
       "      <td>-0.017161</td>\n",
       "      <td>-0.070309</td>\n",
       "      <td>-0.304070</td>\n",
       "      <td>-0.193756</td>\n",
       "      <td>-0.378672</td>\n",
       "      <td>0.095373</td>\n",
       "      <td>0.027637</td>\n",
       "      <td>-0.234835</td>\n",
       "      <td>-0.048121</td>\n",
       "      <td>0.162404</td>\n",
       "      <td>-0.058002</td>\n",
       "      <td>-0.015689</td>\n",
       "      <td>0.292559</td>\n",
       "      <td>0.189204</td>\n",
       "      <td>0.20424</td>\n",
       "      <td>0.232897</td>\n",
       "      <td>0.30966</td>\n",
       "      <td>-0.131936</td>\n",
       "      <td>-0.273761</td>\n",
       "      <td>-0.348486</td>\n",
       "      <td>0.06302</td>\n",
       "      <td>0.565523</td>\n",
       "      <td>-0.019373</td>\n",
       "      <td>-0.013475</td>\n",
       "      <td>0.002209</td>\n",
       "      <td>0.039461</td>\n",
       "      <td>0.087549</td>\n",
       "      <td>-0.297966</td>\n",
       "      <td>-0.07859</td>\n",
       "      <td>0.148577</td>\n",
       "      <td>-0.024577</td>\n",
       "      <td>0.012434</td>\n",
       "      <td>-0.23319</td>\n",
       "      <td>-0.058051</td>\n",
       "      <td>-0.266853</td>\n",
       "      <td>0.104949</td>\n",
       "      <td>-0.001224</td>\n",
       "      <td>-0.287776</td>\n",
       "      <td>-0.062648</td>\n",
       "      <td>0.103089</td>\n",
       "      <td>-0.046807</td>\n",
       "      <td>-0.046136</td>\n",
       "      <td>0.276813</td>\n",
       "      <td>0.182795</td>\n",
       "      <td>0.124256</td>\n",
       "      <td>0.315446</td>\n",
       "      <td>0.247479</td>\n",
       "      <td>-0.194542</td>\n",
       "      <td>-0.414462</td>\n",
       "      <td>-0.348486</td>\n",
       "      <td>0.06302</td>\n",
       "      <td>0.565523</td>\n",
       "      <td>-0.019373</td>\n",
       "      <td>-0.013475</td>\n",
       "      <td>0.002209</td>\n",
       "      <td>0.039461</td>\n",
       "      <td>0.087549</td>\n",
       "      <td>-0.297966</td>\n",
       "      <td>-0.07859</td>\n",
       "      <td>0.148577</td>\n",
       "      <td>-0.024577</td>\n",
       "      <td>0.012434</td>\n",
       "      <td>-0.23319</td>\n",
       "      <td>-0.058051</td>\n",
       "      <td>-0.266853</td>\n",
       "      <td>0.104949</td>\n",
       "      <td>-0.001224</td>\n",
       "      <td>-0.287776</td>\n",
       "      <td>-0.062648</td>\n",
       "      <td>0.103089</td>\n",
       "      <td>-0.046807</td>\n",
       "      <td>-0.046136</td>\n",
       "      <td>0.276813</td>\n",
       "      <td>0.182795</td>\n",
       "      <td>0.124256</td>\n",
       "      <td>0.315446</td>\n",
       "      <td>0.247479</td>\n",
       "      <td>-0.194542</td>\n",
       "      <td>-0.414462</td>\n",
       "      <td>-0.348486</td>\n",
       "      <td>0.06302</td>\n",
       "      <td>0.565523</td>\n",
       "      <td>-0.019373</td>\n",
       "      <td>-0.013475</td>\n",
       "      <td>0.002209</td>\n",
       "      <td>0.039461</td>\n",
       "      <td>0.087549</td>\n",
       "      <td>-0.297966</td>\n",
       "      <td>-0.07859</td>\n",
       "      <td>0.148577</td>\n",
       "      <td>-0.024577</td>\n",
       "      <td>0.012434</td>\n",
       "      <td>-0.23319</td>\n",
       "      <td>-0.058051</td>\n",
       "      <td>-0.266853</td>\n",
       "      <td>0.104949</td>\n",
       "      <td>-0.001224</td>\n",
       "      <td>-0.287776</td>\n",
       "      <td>-0.062648</td>\n",
       "      <td>0.103089</td>\n",
       "      <td>-0.046807</td>\n",
       "      <td>-0.046136</td>\n",
       "      <td>0.276813</td>\n",
       "      <td>0.182795</td>\n",
       "      <td>0.124256</td>\n",
       "      <td>0.315446</td>\n",
       "      <td>0.247479</td>\n",
       "      <td>-0.194542</td>\n",
       "      <td>-0.414462</td>\n",
       "      <td>-0.359928</td>\n",
       "      <td>0.057163</td>\n",
       "      <td>0.604573</td>\n",
       "      <td>-0.005245</td>\n",
       "      <td>0.063604</td>\n",
       "      <td>-0.028355</td>\n",
       "      <td>0.028145</td>\n",
       "      <td>0.176740</td>\n",
       "      <td>-0.297289</td>\n",
       "      <td>-0.102578</td>\n",
       "      <td>0.054948</td>\n",
       "      <td>-0.020953</td>\n",
       "      <td>-0.058503</td>\n",
       "      <td>-0.287085</td>\n",
       "      <td>0.023518</td>\n",
       "      <td>-0.294245</td>\n",
       "      <td>0.119878</td>\n",
       "      <td>0.059321</td>\n",
       "      <td>-0.269832</td>\n",
       "      <td>0.009846</td>\n",
       "      <td>0.144342</td>\n",
       "      <td>-0.107043</td>\n",
       "      <td>-0.106840</td>\n",
       "      <td>0.255891</td>\n",
       "      <td>0.135692</td>\n",
       "      <td>0.130749</td>\n",
       "      <td>0.298807</td>\n",
       "      <td>0.273407</td>\n",
       "      <td>-0.138689</td>\n",
       "      <td>-0.358636</td>\n",
       "      <td>-0.344413</td>\n",
       "      <td>0.065011</td>\n",
       "      <td>0.554652</td>\n",
       "      <td>-0.049579</td>\n",
       "      <td>0.014981</td>\n",
       "      <td>0.012219</td>\n",
       "      <td>-0.009216</td>\n",
       "      <td>0.102295</td>\n",
       "      <td>-0.317011</td>\n",
       "      <td>-0.091191</td>\n",
       "      <td>0.111705</td>\n",
       "      <td>0.016961</td>\n",
       "      <td>-0.030861</td>\n",
       "      <td>-0.306390</td>\n",
       "      <td>-0.005103</td>\n",
       "      <td>-0.290463</td>\n",
       "      <td>0.123474</td>\n",
       "      <td>0.052864</td>\n",
       "      <td>-0.282797</td>\n",
       "      <td>-0.053369</td>\n",
       "      <td>0.120378</td>\n",
       "      <td>-0.075160</td>\n",
       "      <td>-0.057372</td>\n",
       "      <td>0.311691</td>\n",
       "      <td>0.164904</td>\n",
       "      <td>0.130247</td>\n",
       "      <td>0.335938</td>\n",
       "      <td>0.228888</td>\n",
       "      <td>-0.167302</td>\n",
       "      <td>-0.348989</td>\n",
       "      <td>-0.33194</td>\n",
       "      <td>0.047162</td>\n",
       "      <td>0.569678</td>\n",
       "      <td>-0.004799</td>\n",
       "      <td>-0.01682</td>\n",
       "      <td>0.024107</td>\n",
       "      <td>-0.026486</td>\n",
       "      <td>0.06239</td>\n",
       "      <td>-0.309542</td>\n",
       "      <td>-0.10032</td>\n",
       "      <td>0.10023</td>\n",
       "      <td>-0.001973</td>\n",
       "      <td>-0.024497</td>\n",
       "      <td>-0.253815</td>\n",
       "      <td>-0.020489</td>\n",
       "      <td>-0.291017</td>\n",
       "      <td>0.112709</td>\n",
       "      <td>0.03422</td>\n",
       "      <td>-0.274897</td>\n",
       "      <td>0.01137</td>\n",
       "      <td>0.13317</td>\n",
       "      <td>-0.089376</td>\n",
       "      <td>-0.097769</td>\n",
       "      <td>0.282404</td>\n",
       "      <td>0.193031</td>\n",
       "      <td>0.09335</td>\n",
       "      <td>0.327553</td>\n",
       "      <td>0.206154</td>\n",
       "      <td>-0.166986</td>\n",
       "      <td>-0.37634</td>\n",
       "      <td>-0.330417</td>\n",
       "      <td>0.073192</td>\n",
       "      <td>0.572741</td>\n",
       "      <td>-0.072457</td>\n",
       "      <td>-0.032759</td>\n",
       "      <td>0.036342</td>\n",
       "      <td>-0.019009</td>\n",
       "      <td>0.116142</td>\n",
       "      <td>-0.320428</td>\n",
       "      <td>-0.048544</td>\n",
       "      <td>0.096765</td>\n",
       "      <td>-0.007261</td>\n",
       "      <td>-0.007171</td>\n",
       "      <td>-0.309087</td>\n",
       "      <td>-0.077009</td>\n",
       "      <td>-0.275742</td>\n",
       "      <td>0.071543</td>\n",
       "      <td>0.009187</td>\n",
       "      <td>-0.280872</td>\n",
       "      <td>-0.039994</td>\n",
       "      <td>0.164529</td>\n",
       "      <td>-0.060304</td>\n",
       "      <td>-0.080112</td>\n",
       "      <td>0.286680</td>\n",
       "      <td>0.225746</td>\n",
       "      <td>0.110918</td>\n",
       "      <td>0.277426</td>\n",
       "      <td>0.232322</td>\n",
       "      <td>-0.136826</td>\n",
       "      <td>-0.383728</td>\n",
       "    </tr>\n",
       "  </tbody>\n",
       "</table>\n",
       "</div>"
      ],
      "text/plain": [
       "       age  duration  campaign  pdays  previous         0         1         2  \\\n",
       "15234   45       290         1    999         0 -0.323004  0.053559  0.552088   \n",
       "4546    26      1087         1      3         1 -0.323004  0.053559  0.552088   \n",
       "5595    36       610         2    999         0 -0.323004  0.053559  0.552088   \n",
       "\n",
       "              3         4         5        6         7         8         9  \\\n",
       "15234  0.008087 -0.021577 -0.036163 -0.00745  0.107005 -0.340789 -0.112569   \n",
       "4546   0.008087 -0.021577 -0.036163 -0.00745  0.107005 -0.340789 -0.112569   \n",
       "5595   0.008087 -0.021577 -0.036163 -0.00745  0.107005 -0.340789 -0.112569   \n",
       "\n",
       "             10        11        12      13        14       15        16  \\\n",
       "15234  0.127465 -0.023499 -0.029579 -0.2308 -0.029214 -0.27581  0.109479   \n",
       "4546   0.127465 -0.023499 -0.029579 -0.2308 -0.029214 -0.27581  0.109479   \n",
       "5595   0.127465 -0.023499 -0.029579 -0.2308 -0.029214 -0.27581  0.109479   \n",
       "\n",
       "             17        18        19        20        21        22      23  \\\n",
       "15234  0.051841 -0.317389 -0.066271  0.159854 -0.078388 -0.057588  0.2578   \n",
       "4546   0.051841 -0.317389 -0.066271  0.159854 -0.078388 -0.057588  0.2578   \n",
       "5595   0.051841 -0.317389 -0.066271  0.159854 -0.078388 -0.057588  0.2578   \n",
       "\n",
       "             24        25        26        27        28        29        30  \\\n",
       "15234  0.207165  0.084231  0.305467  0.261543 -0.171561 -0.412499 -0.320912   \n",
       "4546   0.207165  0.084231  0.305467  0.261543 -0.171561 -0.412499 -0.379363   \n",
       "5595   0.207165  0.084231  0.305467  0.261543 -0.171561 -0.412499 -0.320912   \n",
       "\n",
       "             31        32        33        34        35        36        37  \\\n",
       "15234  0.033452  0.583443 -0.025378  0.003415  0.017780  0.029929  0.096292   \n",
       "4546   0.084492  0.623247 -0.033963 -0.026085 -0.015235 -0.010149  0.062568   \n",
       "5595   0.033452  0.583443 -0.025378  0.003415  0.017780  0.029929  0.096292   \n",
       "\n",
       "             38        39        40        41        42        43        44  \\\n",
       "15234 -0.323473 -0.083064  0.118198  0.013211 -0.017397 -0.244643 -0.046013   \n",
       "4546  -0.273366 -0.101780  0.094285  0.029444 -0.060963 -0.306598 -0.051182   \n",
       "5595  -0.323473 -0.083064  0.118198  0.013211 -0.017397 -0.244643 -0.046013   \n",
       "\n",
       "             45        46        47        48        49        50        51  \\\n",
       "15234 -0.280713  0.132307  0.053209 -0.264600 -0.054889  0.118062 -0.077795   \n",
       "4546  -0.316989  0.106311  0.007308 -0.229233 -0.022766  0.128146 -0.090720   \n",
       "5595  -0.280713  0.132307  0.053209 -0.264600 -0.054889  0.118062 -0.077795   \n",
       "\n",
       "             52        53        54        55        56        57        58  \\\n",
       "15234 -0.047211  0.290041  0.194323  0.129149  0.310494  0.216333 -0.165955   \n",
       "4546  -0.072170  0.322971  0.183340  0.088432  0.280850  0.253811 -0.151137   \n",
       "5595  -0.047211  0.290041  0.194323  0.129149  0.310494  0.216333 -0.165955   \n",
       "\n",
       "             59        60        61        62        63        64        65  \\\n",
       "15234 -0.394155 -0.387663  0.062013  0.578938 -0.026766  0.004827 -0.016443   \n",
       "4546  -0.324293 -0.417947  0.059055  0.665428 -0.105099  0.020270  0.016024   \n",
       "5595  -0.394155 -0.417947  0.059055  0.665428 -0.105099  0.020270  0.016024   \n",
       "\n",
       "             66        67        68        69        70        71        72  \\\n",
       "15234 -0.012645  0.061624 -0.287719 -0.105123  0.094026  0.000836 -0.032030   \n",
       "4546  -0.030675  0.181274 -0.153122 -0.067042  0.058649 -0.017161 -0.070309   \n",
       "5595  -0.030675  0.181274 -0.153122 -0.067042  0.058649 -0.017161 -0.070309   \n",
       "\n",
       "             73        74        75        76        77        78        79  \\\n",
       "15234 -0.257234 -0.089381 -0.272976  0.102165  0.019415 -0.295220 -0.014507   \n",
       "4546  -0.304070 -0.193756 -0.378672  0.095373  0.027637 -0.234835 -0.048121   \n",
       "5595  -0.304070 -0.193756 -0.378672  0.095373  0.027637 -0.234835 -0.048121   \n",
       "\n",
       "             80        81        82        83        84       85        86  \\\n",
       "15234  0.125616 -0.049931 -0.078530  0.285129  0.179479  0.08815  0.304888   \n",
       "4546   0.162404 -0.058002 -0.015689  0.292559  0.189204  0.20424  0.232897   \n",
       "5595   0.162404 -0.058002 -0.015689  0.292559  0.189204  0.20424  0.232897   \n",
       "\n",
       "            87        88        89        90       91        92        93  \\\n",
       "15234  0.25759 -0.158833 -0.399527 -0.348486  0.06302  0.565523 -0.019373   \n",
       "4546   0.30966 -0.131936 -0.273761 -0.348486  0.06302  0.565523 -0.019373   \n",
       "5595   0.30966 -0.131936 -0.273761 -0.348486  0.06302  0.565523 -0.019373   \n",
       "\n",
       "             94        95        96        97        98       99       100  \\\n",
       "15234 -0.013475  0.002209  0.039461  0.087549 -0.297966 -0.07859  0.148577   \n",
       "4546  -0.013475  0.002209  0.039461  0.087549 -0.297966 -0.07859  0.148577   \n",
       "5595  -0.013475  0.002209  0.039461  0.087549 -0.297966 -0.07859  0.148577   \n",
       "\n",
       "            101       102      103       104       105       106       107  \\\n",
       "15234 -0.024577  0.012434 -0.23319 -0.058051 -0.266853  0.104949 -0.001224   \n",
       "4546  -0.024577  0.012434 -0.23319 -0.058051 -0.266853  0.104949 -0.001224   \n",
       "5595  -0.024577  0.012434 -0.23319 -0.058051 -0.266853  0.104949 -0.001224   \n",
       "\n",
       "            108       109       110       111       112       113       114  \\\n",
       "15234 -0.287776 -0.062648  0.103089 -0.046807 -0.046136  0.276813  0.182795   \n",
       "4546  -0.287776 -0.062648  0.103089 -0.046807 -0.046136  0.276813  0.182795   \n",
       "5595  -0.287776 -0.062648  0.103089 -0.046807 -0.046136  0.276813  0.182795   \n",
       "\n",
       "            115       116       117       118       119       120      121  \\\n",
       "15234  0.124256  0.315446  0.247479 -0.194542 -0.414462 -0.348486  0.06302   \n",
       "4546   0.124256  0.315446  0.247479 -0.194542 -0.414462 -0.348486  0.06302   \n",
       "5595   0.124256  0.315446  0.247479 -0.194542 -0.414462 -0.348486  0.06302   \n",
       "\n",
       "            122       123       124       125       126       127       128  \\\n",
       "15234  0.565523 -0.019373 -0.013475  0.002209  0.039461  0.087549 -0.297966   \n",
       "4546   0.565523 -0.019373 -0.013475  0.002209  0.039461  0.087549 -0.297966   \n",
       "5595   0.565523 -0.019373 -0.013475  0.002209  0.039461  0.087549 -0.297966   \n",
       "\n",
       "           129       130       131       132      133       134       135  \\\n",
       "15234 -0.07859  0.148577 -0.024577  0.012434 -0.23319 -0.058051 -0.266853   \n",
       "4546  -0.07859  0.148577 -0.024577  0.012434 -0.23319 -0.058051 -0.266853   \n",
       "5595  -0.07859  0.148577 -0.024577  0.012434 -0.23319 -0.058051 -0.266853   \n",
       "\n",
       "            136       137       138       139       140       141       142  \\\n",
       "15234  0.104949 -0.001224 -0.287776 -0.062648  0.103089 -0.046807 -0.046136   \n",
       "4546   0.104949 -0.001224 -0.287776 -0.062648  0.103089 -0.046807 -0.046136   \n",
       "5595   0.104949 -0.001224 -0.287776 -0.062648  0.103089 -0.046807 -0.046136   \n",
       "\n",
       "            143       144       145       146       147       148       149  \\\n",
       "15234  0.276813  0.182795  0.124256  0.315446  0.247479 -0.194542 -0.414462   \n",
       "4546   0.276813  0.182795  0.124256  0.315446  0.247479 -0.194542 -0.414462   \n",
       "5595   0.276813  0.182795  0.124256  0.315446  0.247479 -0.194542 -0.414462   \n",
       "\n",
       "            150      151       152       153       154       155       156  \\\n",
       "15234 -0.348486  0.06302  0.565523 -0.019373 -0.013475  0.002209  0.039461   \n",
       "4546  -0.348486  0.06302  0.565523 -0.019373 -0.013475  0.002209  0.039461   \n",
       "5595  -0.348486  0.06302  0.565523 -0.019373 -0.013475  0.002209  0.039461   \n",
       "\n",
       "            157       158      159       160       161       162      163  \\\n",
       "15234  0.087549 -0.297966 -0.07859  0.148577 -0.024577  0.012434 -0.23319   \n",
       "4546   0.087549 -0.297966 -0.07859  0.148577 -0.024577  0.012434 -0.23319   \n",
       "5595   0.087549 -0.297966 -0.07859  0.148577 -0.024577  0.012434 -0.23319   \n",
       "\n",
       "            164       165       166       167       168       169       170  \\\n",
       "15234 -0.058051 -0.266853  0.104949 -0.001224 -0.287776 -0.062648  0.103089   \n",
       "4546  -0.058051 -0.266853  0.104949 -0.001224 -0.287776 -0.062648  0.103089   \n",
       "5595  -0.058051 -0.266853  0.104949 -0.001224 -0.287776 -0.062648  0.103089   \n",
       "\n",
       "            171       172       173       174       175       176       177  \\\n",
       "15234 -0.046807 -0.046136  0.276813  0.182795  0.124256  0.315446  0.247479   \n",
       "4546  -0.046807 -0.046136  0.276813  0.182795  0.124256  0.315446  0.247479   \n",
       "5595  -0.046807 -0.046136  0.276813  0.182795  0.124256  0.315446  0.247479   \n",
       "\n",
       "            178       179       180       181       182       183       184  \\\n",
       "15234 -0.194542 -0.414462 -0.355828  0.092770  0.613367  0.022130 -0.081025   \n",
       "4546  -0.194542 -0.414462 -0.355828  0.092770  0.613367  0.022130 -0.081025   \n",
       "5595  -0.194542 -0.414462 -0.359928  0.057163  0.604573 -0.005245  0.063604   \n",
       "\n",
       "            185       186       187       188       189       190       191  \\\n",
       "15234  0.015144 -0.015429  0.085794 -0.266083 -0.054961  0.170980  0.022745   \n",
       "4546   0.015144 -0.015429  0.085794 -0.266083 -0.054961  0.170980  0.022745   \n",
       "5595  -0.028355  0.028145  0.176740 -0.297289 -0.102578  0.054948 -0.020953   \n",
       "\n",
       "            192       193       194       195       196       197       198  \\\n",
       "15234 -0.003545 -0.242689 -0.112676 -0.264395  0.114125 -0.029832 -0.223256   \n",
       "4546  -0.003545 -0.242689 -0.112676 -0.264395  0.114125 -0.029832 -0.223256   \n",
       "5595  -0.058503 -0.287085  0.023518 -0.294245  0.119878  0.059321 -0.269832   \n",
       "\n",
       "            199       200       201       202       203       204       205  \\\n",
       "15234 -0.061508  0.153001  0.006685 -0.052705  0.291491  0.158719  0.087794   \n",
       "4546  -0.061508  0.153001  0.006685 -0.052705  0.291491  0.158719  0.087794   \n",
       "5595   0.009846  0.144342 -0.107043 -0.106840  0.255891  0.135692  0.130749   \n",
       "\n",
       "            206       207       208       209       210       211       212  \\\n",
       "15234  0.302405  0.259662 -0.194249 -0.372125 -0.377481  0.059649  0.567811   \n",
       "4546   0.302405  0.259662 -0.194249 -0.372125 -0.344413  0.065011  0.554652   \n",
       "5595   0.298807  0.273407 -0.138689 -0.358636 -0.344413  0.065011  0.554652   \n",
       "\n",
       "            213       214       215       216       217       218       219  \\\n",
       "15234 -0.037162 -0.011987 -0.047520 -0.042176  0.096089 -0.286464 -0.085087   \n",
       "4546  -0.049579  0.014981  0.012219 -0.009216  0.102295 -0.317011 -0.091191   \n",
       "5595  -0.049579  0.014981  0.012219 -0.009216  0.102295 -0.317011 -0.091191   \n",
       "\n",
       "            220       221       222       223       224       225       226  \\\n",
       "15234  0.093497 -0.020013  0.021738 -0.228397 -0.095727 -0.291814  0.091486   \n",
       "4546   0.111705  0.016961 -0.030861 -0.306390 -0.005103 -0.290463  0.123474   \n",
       "5595   0.111705  0.016961 -0.030861 -0.306390 -0.005103 -0.290463  0.123474   \n",
       "\n",
       "            227       228       229       230       231       232       233  \\\n",
       "15234  0.001694 -0.283408 -0.002398  0.167548 -0.085136 -0.090336  0.238657   \n",
       "4546   0.052864 -0.282797 -0.053369  0.120378 -0.075160 -0.057372  0.311691   \n",
       "5595   0.052864 -0.282797 -0.053369  0.120378 -0.075160 -0.057372  0.311691   \n",
       "\n",
       "            234       235       236       237       238       239      240  \\\n",
       "15234  0.195099  0.153780  0.332618  0.263286 -0.135530 -0.404602 -0.33194   \n",
       "4546   0.164904  0.130247  0.335938  0.228888 -0.167302 -0.348989 -0.33194   \n",
       "5595   0.164904  0.130247  0.335938  0.228888 -0.167302 -0.348989 -0.33194   \n",
       "\n",
       "            241       242       243      244       245       246      247  \\\n",
       "15234  0.047162  0.569678 -0.004799 -0.01682  0.024107 -0.026486  0.06239   \n",
       "4546   0.047162  0.569678 -0.004799 -0.01682  0.024107 -0.026486  0.06239   \n",
       "5595   0.047162  0.569678 -0.004799 -0.01682  0.024107 -0.026486  0.06239   \n",
       "\n",
       "            248      249      250       251       252       253       254  \\\n",
       "15234 -0.309542 -0.10032  0.10023 -0.001973 -0.024497 -0.253815 -0.020489   \n",
       "4546  -0.309542 -0.10032  0.10023 -0.001973 -0.024497 -0.253815 -0.020489   \n",
       "5595  -0.309542 -0.10032  0.10023 -0.001973 -0.024497 -0.253815 -0.020489   \n",
       "\n",
       "            255       256      257       258      259      260       261  \\\n",
       "15234 -0.291017  0.112709  0.03422 -0.274897  0.01137  0.13317 -0.089376   \n",
       "4546  -0.291017  0.112709  0.03422 -0.274897  0.01137  0.13317 -0.089376   \n",
       "5595  -0.291017  0.112709  0.03422 -0.274897  0.01137  0.13317 -0.089376   \n",
       "\n",
       "            262       263       264      265       266       267       268  \\\n",
       "15234 -0.097769  0.282404  0.193031  0.09335  0.327553  0.206154 -0.166986   \n",
       "4546  -0.097769  0.282404  0.193031  0.09335  0.327553  0.206154 -0.166986   \n",
       "5595  -0.097769  0.282404  0.193031  0.09335  0.327553  0.206154 -0.166986   \n",
       "\n",
       "           269       270       271       272       273       274       275  \\\n",
       "15234 -0.37634 -0.330417  0.073192  0.572741 -0.072457 -0.032759  0.036342   \n",
       "4546  -0.37634 -0.396376  0.062001  0.626451 -0.028106 -0.040001 -0.001831   \n",
       "5595  -0.37634 -0.330417  0.073192  0.572741 -0.072457 -0.032759  0.036342   \n",
       "\n",
       "            276       277       278       279       280       281       282  \\\n",
       "15234 -0.019009  0.116142 -0.320428 -0.048544  0.096765 -0.007261 -0.007171   \n",
       "4546  -0.019409  0.099031 -0.228312 -0.064308  0.082471  0.005100  0.003678   \n",
       "5595  -0.019009  0.116142 -0.320428 -0.048544  0.096765 -0.007261 -0.007171   \n",
       "\n",
       "            283       284       285       286       287       288       289  \\\n",
       "15234 -0.309087 -0.077009 -0.275742  0.071543  0.009187 -0.280872 -0.039994   \n",
       "4546  -0.219769 -0.075200 -0.294663  0.104345  0.027937 -0.287821 -0.019151   \n",
       "5595  -0.309087 -0.077009 -0.275742  0.071543  0.009187 -0.280872 -0.039994   \n",
       "\n",
       "            290       291       292       293       294       295       296  \\\n",
       "15234  0.164529 -0.060304 -0.080112  0.286680  0.225746  0.110918  0.277426   \n",
       "4546   0.138702 -0.068907 -0.065836  0.292639  0.158783  0.096501  0.301873   \n",
       "5595   0.164529 -0.060304 -0.080112  0.286680  0.225746  0.110918  0.277426   \n",
       "\n",
       "            297       298       299  \n",
       "15234  0.232322 -0.136826 -0.383728  \n",
       "4546   0.244229 -0.189174 -0.357541  \n",
       "5595   0.232322 -0.136826 -0.383728  "
      ]
     },
     "execution_count": 10,
     "metadata": {},
     "output_type": "execute_result"
    }
   ],
   "source": [
    "X_train2.head(3)"
   ]
  },
  {
   "cell_type": "code",
   "execution_count": 11,
   "id": "09e04e55",
   "metadata": {},
   "outputs": [
    {
     "name": "stderr",
     "output_type": "stream",
     "text": [
      "C:\\Users\\xg16060\\AppData\\Local\\Temp\\1\\ipykernel_17332\\1153377689.py:9: DeprecationWarning: KerasClassifier is deprecated, use Sci-Keras (https://github.com/adriangb/scikeras) instead. See https://www.adriangb.com/scikeras/stable/migration.html for help migrating.\n",
      "  ('MLP', KerasClassifier(build_fn=create_network, number_of_features=my_data.shape[1], epochs=100, batch_size=100, verbose=0))\n"
     ]
    },
    {
     "name": "stdout",
     "output_type": "stream",
     "text": [
      "Classifier: LR\n",
      "Computation Time: 1.0600075721740723 seconds\n",
      "[[7123  171]\n",
      " [ 608  336]]\n",
      "              precision    recall  f1-score   support\n",
      "\n",
      "           0     0.9214    0.9766    0.9482      7294\n",
      "           1     0.6627    0.3559    0.4631       944\n",
      "\n",
      "    accuracy                         0.9054      8238\n",
      "   macro avg     0.7920    0.6662    0.7056      8238\n",
      "weighted avg     0.8917    0.9054    0.8926      8238\n",
      "\n",
      "0.9169029106811728\n",
      "\n",
      "Classifier: DT\n",
      "Computation Time: 0.25965261459350586 seconds\n",
      "[[7049  245]\n",
      " [ 570  374]]\n",
      "              precision    recall  f1-score   support\n",
      "\n",
      "           0     0.9252    0.9664    0.9453      7294\n",
      "           1     0.6042    0.3962    0.4786       944\n",
      "\n",
      "    accuracy                         0.9011      8238\n",
      "   macro avg     0.7647    0.6813    0.7120      8238\n",
      "weighted avg     0.8884    0.9011    0.8919      8238\n",
      "\n",
      "0.8379021618651039\n",
      "\n",
      "Classifier: RF\n",
      "Computation Time: 3.123281717300415 seconds\n",
      "[[7209   85]\n",
      " [ 753  191]]\n",
      "              precision    recall  f1-score   support\n",
      "\n",
      "           0     0.9054    0.9883    0.9451      7294\n",
      "           1     0.6920    0.2023    0.3131       944\n",
      "\n",
      "    accuracy                         0.8983      8238\n",
      "   macro avg     0.7987    0.5953    0.6291      8238\n",
      "weighted avg     0.8810    0.8983    0.8727      8238\n",
      "\n",
      "0.9062416491613725\n",
      "\n",
      "Classifier: KNN\n",
      "Computation Time: 0.029999256134033203 seconds\n",
      "[[7072  222]\n",
      " [ 709  235]]\n",
      "              precision    recall  f1-score   support\n",
      "\n",
      "           0     0.9089    0.9696    0.9382      7294\n",
      "           1     0.5142    0.2489    0.3355       944\n",
      "\n",
      "    accuracy                         0.8870      8238\n",
      "   macro avg     0.7116    0.6093    0.6369      8238\n",
      "weighted avg     0.8637    0.8870    0.8692      8238\n",
      "\n",
      "0.6936316940322438\n",
      "\n",
      "Classifier: XGB\n",
      "Computation Time: 3.8968796730041504 seconds\n",
      "[[6998  296]\n",
      " [ 472  472]]\n",
      "              precision    recall  f1-score   support\n",
      "\n",
      "           0     0.9368    0.9594    0.9480      7294\n",
      "           1     0.6146    0.5000    0.5514       944\n",
      "\n",
      "    accuracy                         0.9068      8238\n",
      "   macro avg     0.7757    0.7297    0.7497      8238\n",
      "weighted avg     0.8999    0.9068    0.9025      8238\n",
      "\n",
      "0.927517480120647\n",
      "\n",
      "Classifier: SVM\n",
      "Computation Time: 288.33540654182434 seconds\n",
      "[[7169  125]\n",
      " [ 693  251]]\n",
      "              precision    recall  f1-score   support\n",
      "\n",
      "           0     0.9119    0.9829    0.9460      7294\n",
      "           1     0.6676    0.2659    0.3803       944\n",
      "\n",
      "    accuracy                         0.9007      8238\n",
      "   macro avg     0.7897    0.6244    0.6632      8238\n",
      "weighted avg     0.8839    0.9007    0.8812      8238\n",
      "\n",
      "0.9131140262718836\n",
      "\n",
      "Classifier: MLP\n",
      "Computation Time: 25.29875946044922 seconds\n",
      "258/258 [==============================] - 0s 672us/step\n",
      "258/258 [==============================] - 0s 622us/step\n",
      "[[6971  323]\n",
      " [ 521  423]]\n",
      "              precision    recall  f1-score   support\n",
      "\n",
      "           0     0.9305    0.9557    0.9429      7294\n",
      "           1     0.5670    0.4481    0.5006       944\n",
      "\n",
      "    accuracy                         0.8975      8238\n",
      "   macro avg     0.7487    0.7019    0.7218      8238\n",
      "weighted avg     0.8888    0.8975    0.8922      8238\n",
      "\n",
      "0.893580979026179\n",
      "\n"
     ]
    }
   ],
   "source": [
    "seed=42\n",
    "models = [\n",
    "    ('LR', LogisticRegression(solver='lbfgs', random_state=seed, max_iter=1000)),\n",
    "    ('DT', DecisionTreeClassifier(criterion='entropy', max_depth=3, random_state=seed)),\n",
    "    ('RF', RandomForestClassifier(n_estimators=200, max_depth=5, random_state=seed, min_samples_leaf=3)),\n",
    "    ('KNN', KNeighborsClassifier(n_neighbors=3)),\n",
    "    ('XGB', XGBClassifier(eval_metric='logloss')),\n",
    "    ('SVM', SVC(gamma='scale', random_state=seed, probability=True)),\n",
    "    ('MLP', KerasClassifier(build_fn=create_network, number_of_features=my_data.shape[1], epochs=100, batch_size=100, verbose=0))\n",
    "]\n",
    "\n",
    "for name, classifier in models:\n",
    "    start_time = time.time()\n",
    "    classifier.fit(X_scaled, y_train2)\n",
    "    end_time = time.time()\n",
    "    elapsed_time = end_time - start_time\n",
    "\n",
    "    print(f\"Classifier: {name}\")\n",
    "    print(f\"Computation Time: {elapsed_time} seconds\")      \n",
    "#     y_pred = classifier.predict(stc.transform(X_test2.values))\n",
    "#     y_pred_prob = classifier.predict_proba(stc.transform(X_test2.values))\n",
    "\n",
    "#     print(confusion_matrix(y_test2,y_pred))\n",
    "#     print(classification_report(y_test2,y_pred, digits=4))\n",
    "#     print(roc_auc_score(y_test2,y_pred_prob[:,1]))\n",
    "    \n",
    "    y_pred_test = classifier.predict(stc.transform(my_test_data.values))\n",
    "    y_pred_prob_test = classifier.predict_proba(stc.transform(my_test_data.values))\n",
    "\n",
    "    print(confusion_matrix(y_test,y_pred_test))\n",
    "    print(classification_report(y_test,y_pred_test, digits=4))\n",
    "\n",
    "    print(roc_auc_score(y_test,y_pred_prob_test[:,1]))\n",
    "    print()\n",
    "    \n",
    "\n"
   ]
  },
  {
   "cell_type": "code",
   "execution_count": null,
   "id": "9667f71f",
   "metadata": {},
   "outputs": [],
   "source": [
    "\n"
   ]
  }
 ],
 "metadata": {
  "kernelspec": {
   "display_name": "Python 3 (ipykernel)",
   "language": "python",
   "name": "python3"
  },
  "language_info": {
   "codemirror_mode": {
    "name": "ipython",
    "version": 3
   },
   "file_extension": ".py",
   "mimetype": "text/x-python",
   "name": "python",
   "nbconvert_exporter": "python",
   "pygments_lexer": "ipython3",
   "version": "3.9.20"
  }
 },
 "nbformat": 4,
 "nbformat_minor": 5
}
