{
 "cells": [
  {
   "cell_type": "code",
   "execution_count": null,
   "id": "a0c012d1-b641-4408-a936-75b029e63a1c",
   "metadata": {},
   "outputs": [
    {
     "name": "stdout",
     "output_type": "stream",
     "text": [
      "Classifier: LR\n"
     ]
    },
    {
     "data": {
      "application/vnd.jupyter.widget-view+json": {
       "model_id": "73289ff454444001a25da7f2f1c87972",
       "version_major": 2,
       "version_minor": 0
      },
      "text/plain": [
       "Computing transition probabilities:   0%|          | 0/98 [00:00<?, ?it/s]"
      ]
     },
     "metadata": {},
     "output_type": "display_data"
    },
    {
     "data": {
      "application/vnd.jupyter.widget-view+json": {
       "model_id": "4410638711e448799ce275630e0832d4",
       "version_major": 2,
       "version_minor": 0
      },
      "text/plain": [
       "Computing transition probabilities:   0%|          | 0/98 [00:00<?, ?it/s]"
      ]
     },
     "metadata": {},
     "output_type": "display_data"
    },
    {
     "data": {
      "application/vnd.jupyter.widget-view+json": {
       "model_id": "c43efbd91b814d2cba19cd699c3c385f",
       "version_major": 2,
       "version_minor": 0
      },
      "text/plain": [
       "Computing transition probabilities:   0%|          | 0/98 [00:00<?, ?it/s]"
      ]
     },
     "metadata": {},
     "output_type": "display_data"
    },
    {
     "data": {
      "application/vnd.jupyter.widget-view+json": {
       "model_id": "31dabec6712a4652999202b2157d843e",
       "version_major": 2,
       "version_minor": 0
      },
      "text/plain": [
       "Computing transition probabilities:   0%|          | 0/98 [00:00<?, ?it/s]"
      ]
     },
     "metadata": {},
     "output_type": "display_data"
    },
    {
     "data": {
      "application/vnd.jupyter.widget-view+json": {
       "model_id": "bfd2ea0054524aabab30263efb80e7b4",
       "version_major": 2,
       "version_minor": 0
      },
      "text/plain": [
       "Computing transition probabilities:   0%|          | 0/98 [00:00<?, ?it/s]"
      ]
     },
     "metadata": {},
     "output_type": "display_data"
    },
    {
     "data": {
      "application/vnd.jupyter.widget-view+json": {
       "model_id": "2d8f5160239b436dbfb109829829d9ee",
       "version_major": 2,
       "version_minor": 0
      },
      "text/plain": [
       "Computing transition probabilities:   0%|          | 0/98 [00:00<?, ?it/s]"
      ]
     },
     "metadata": {},
     "output_type": "display_data"
    },
    {
     "data": {
      "application/vnd.jupyter.widget-view+json": {
       "model_id": "56e8690b5e754c7db8fef88695c59588",
       "version_major": 2,
       "version_minor": 0
      },
      "text/plain": [
       "Computing transition probabilities:   0%|          | 0/98 [00:00<?, ?it/s]"
      ]
     },
     "metadata": {},
     "output_type": "display_data"
    },
    {
     "data": {
      "application/vnd.jupyter.widget-view+json": {
       "model_id": "7d22183cebc74c709446e01582d04e64",
       "version_major": 2,
       "version_minor": 0
      },
      "text/plain": [
       "Computing transition probabilities:   0%|          | 0/98 [00:00<?, ?it/s]"
      ]
     },
     "metadata": {},
     "output_type": "display_data"
    },
    {
     "data": {
      "application/vnd.jupyter.widget-view+json": {
       "model_id": "a485942c6f9a47058fc55f809c1a1c6c",
       "version_major": 2,
       "version_minor": 0
      },
      "text/plain": [
       "Computing transition probabilities:   0%|          | 0/98 [00:00<?, ?it/s]"
      ]
     },
     "metadata": {},
     "output_type": "display_data"
    },
    {
     "data": {
      "application/vnd.jupyter.widget-view+json": {
       "model_id": "3da6d9ec46a44348915574727548e7fa",
       "version_major": 2,
       "version_minor": 0
      },
      "text/plain": [
       "Computing transition probabilities:   0%|          | 0/98 [00:00<?, ?it/s]"
      ]
     },
     "metadata": {},
     "output_type": "display_data"
    },
    {
     "data": {
      "application/vnd.jupyter.widget-view+json": {
       "model_id": "578bdc9730564842b0985aa427e085ae",
       "version_major": 2,
       "version_minor": 0
      },
      "text/plain": [
       "Computing transition probabilities:   0%|          | 0/98 [00:00<?, ?it/s]"
      ]
     },
     "metadata": {},
     "output_type": "display_data"
    },
    {
     "data": {
      "application/vnd.jupyter.widget-view+json": {
       "model_id": "f2c12177f0d243dda64c8748341a906d",
       "version_major": 2,
       "version_minor": 0
      },
      "text/plain": [
       "Computing transition probabilities:   0%|          | 0/98 [00:00<?, ?it/s]"
      ]
     },
     "metadata": {},
     "output_type": "display_data"
    },
    {
     "data": {
      "application/vnd.jupyter.widget-view+json": {
       "model_id": "36325e5ad84849488a4906019df70cd6",
       "version_major": 2,
       "version_minor": 0
      },
      "text/plain": [
       "Computing transition probabilities:   0%|          | 0/97 [00:00<?, ?it/s]"
      ]
     },
     "metadata": {},
     "output_type": "display_data"
    },
    {
     "data": {
      "application/vnd.jupyter.widget-view+json": {
       "model_id": "3d95fd222cd9481f9fa81681baa64afb",
       "version_major": 2,
       "version_minor": 0
      },
      "text/plain": [
       "Computing transition probabilities:   0%|          | 0/98 [00:00<?, ?it/s]"
      ]
     },
     "metadata": {},
     "output_type": "display_data"
    },
    {
     "data": {
      "application/vnd.jupyter.widget-view+json": {
       "model_id": "f3ca5fc2dcb143d6a39f8270d8a8869a",
       "version_major": 2,
       "version_minor": 0
      },
      "text/plain": [
       "Computing transition probabilities:   0%|          | 0/98 [00:00<?, ?it/s]"
      ]
     },
     "metadata": {},
     "output_type": "display_data"
    },
    {
     "data": {
      "application/vnd.jupyter.widget-view+json": {
       "model_id": "98aa0b94632c4e4691aaa74acc6b417b",
       "version_major": 2,
       "version_minor": 0
      },
      "text/plain": [
       "Computing transition probabilities:   0%|          | 0/98 [00:00<?, ?it/s]"
      ]
     },
     "metadata": {},
     "output_type": "display_data"
    },
    {
     "data": {
      "application/vnd.jupyter.widget-view+json": {
       "model_id": "fc214a61d3c34cdfbecc2e4f05b4a04f",
       "version_major": 2,
       "version_minor": 0
      },
      "text/plain": [
       "Computing transition probabilities:   0%|          | 0/98 [00:00<?, ?it/s]"
      ]
     },
     "metadata": {},
     "output_type": "display_data"
    },
    {
     "data": {
      "application/vnd.jupyter.widget-view+json": {
       "model_id": "423af63d88644b63b1a710008ee9e713",
       "version_major": 2,
       "version_minor": 0
      },
      "text/plain": [
       "Computing transition probabilities:   0%|          | 0/98 [00:00<?, ?it/s]"
      ]
     },
     "metadata": {},
     "output_type": "display_data"
    },
    {
     "data": {
      "application/vnd.jupyter.widget-view+json": {
       "model_id": "7b21a67fe1884470afe97e023ca82f42",
       "version_major": 2,
       "version_minor": 0
      },
      "text/plain": [
       "Computing transition probabilities:   0%|          | 0/98 [00:00<?, ?it/s]"
      ]
     },
     "metadata": {},
     "output_type": "display_data"
    },
    {
     "data": {
      "application/vnd.jupyter.widget-view+json": {
       "model_id": "2b948d6c830340f59cbe4df43d811510",
       "version_major": 2,
       "version_minor": 0
      },
      "text/plain": [
       "Computing transition probabilities:   0%|          | 0/98 [00:00<?, ?it/s]"
      ]
     },
     "metadata": {},
     "output_type": "display_data"
    },
    {
     "name": "stdout",
     "output_type": "stream",
     "text": [
      "Accuracy: 0.844 (95% CI: 0.841 - 0.848)\n",
      "Precision: 0.732 (95% CI: 0.723 - 0.741)\n",
      "Recall: 0.587 (95% CI: 0.575 - 0.599)\n",
      "F1 Score: 0.651 (95% CI: 0.641 - 0.661)\n",
      "ROC AUC: 0.896 (95% CI: 0.892 - 0.900)\n",
      "Total Computation Time: 220.062 seconds\n",
      "\n",
      "Classifier: DT\n"
     ]
    },
    {
     "data": {
      "application/vnd.jupyter.widget-view+json": {
       "model_id": "98177ac00cc6446ca20f67896f819858",
       "version_major": 2,
       "version_minor": 0
      },
      "text/plain": [
       "Computing transition probabilities:   0%|          | 0/98 [00:00<?, ?it/s]"
      ]
     },
     "metadata": {},
     "output_type": "display_data"
    },
    {
     "data": {
      "application/vnd.jupyter.widget-view+json": {
       "model_id": "1bbd1f03e24b47068f41ed883b106103",
       "version_major": 2,
       "version_minor": 0
      },
      "text/plain": [
       "Computing transition probabilities:   0%|          | 0/98 [00:00<?, ?it/s]"
      ]
     },
     "metadata": {},
     "output_type": "display_data"
    },
    {
     "data": {
      "application/vnd.jupyter.widget-view+json": {
       "model_id": "5230d27169f3441a909759782eb37983",
       "version_major": 2,
       "version_minor": 0
      },
      "text/plain": [
       "Computing transition probabilities:   0%|          | 0/98 [00:00<?, ?it/s]"
      ]
     },
     "metadata": {},
     "output_type": "display_data"
    },
    {
     "data": {
      "application/vnd.jupyter.widget-view+json": {
       "model_id": "52d1c9bbe5ee4e399e6651a989f9f847",
       "version_major": 2,
       "version_minor": 0
      },
      "text/plain": [
       "Computing transition probabilities:   0%|          | 0/98 [00:00<?, ?it/s]"
      ]
     },
     "metadata": {},
     "output_type": "display_data"
    },
    {
     "data": {
      "application/vnd.jupyter.widget-view+json": {
       "model_id": "37c3139e57994e048ef637fe97051ca7",
       "version_major": 2,
       "version_minor": 0
      },
      "text/plain": [
       "Computing transition probabilities:   0%|          | 0/98 [00:00<?, ?it/s]"
      ]
     },
     "metadata": {},
     "output_type": "display_data"
    },
    {
     "data": {
      "application/vnd.jupyter.widget-view+json": {
       "model_id": "760a03e7952c427690efdd00b62c6660",
       "version_major": 2,
       "version_minor": 0
      },
      "text/plain": [
       "Computing transition probabilities:   0%|          | 0/98 [00:00<?, ?it/s]"
      ]
     },
     "metadata": {},
     "output_type": "display_data"
    },
    {
     "data": {
      "application/vnd.jupyter.widget-view+json": {
       "model_id": "a39a0a968b174bd68614ed4b1e2c0217",
       "version_major": 2,
       "version_minor": 0
      },
      "text/plain": [
       "Computing transition probabilities:   0%|          | 0/98 [00:00<?, ?it/s]"
      ]
     },
     "metadata": {},
     "output_type": "display_data"
    },
    {
     "data": {
      "application/vnd.jupyter.widget-view+json": {
       "model_id": "7f1f1ac2d63c41afb7b46c601b1bdef2",
       "version_major": 2,
       "version_minor": 0
      },
      "text/plain": [
       "Computing transition probabilities:   0%|          | 0/98 [00:00<?, ?it/s]"
      ]
     },
     "metadata": {},
     "output_type": "display_data"
    },
    {
     "data": {
      "application/vnd.jupyter.widget-view+json": {
       "model_id": "e7ead64fa98b4baa80295d94031d2105",
       "version_major": 2,
       "version_minor": 0
      },
      "text/plain": [
       "Computing transition probabilities:   0%|          | 0/98 [00:00<?, ?it/s]"
      ]
     },
     "metadata": {},
     "output_type": "display_data"
    },
    {
     "data": {
      "application/vnd.jupyter.widget-view+json": {
       "model_id": "69903de4c07e40739460dd2180b196d5",
       "version_major": 2,
       "version_minor": 0
      },
      "text/plain": [
       "Computing transition probabilities:   0%|          | 0/98 [00:00<?, ?it/s]"
      ]
     },
     "metadata": {},
     "output_type": "display_data"
    },
    {
     "data": {
      "application/vnd.jupyter.widget-view+json": {
       "model_id": "28f6adcf93fb4503aa6da2436b5c0a30",
       "version_major": 2,
       "version_minor": 0
      },
      "text/plain": [
       "Computing transition probabilities:   0%|          | 0/98 [00:00<?, ?it/s]"
      ]
     },
     "metadata": {},
     "output_type": "display_data"
    },
    {
     "data": {
      "application/vnd.jupyter.widget-view+json": {
       "model_id": "d6a0f300fe104614ae470e6864c84062",
       "version_major": 2,
       "version_minor": 0
      },
      "text/plain": [
       "Computing transition probabilities:   0%|          | 0/98 [00:00<?, ?it/s]"
      ]
     },
     "metadata": {},
     "output_type": "display_data"
    },
    {
     "data": {
      "application/vnd.jupyter.widget-view+json": {
       "model_id": "980c7700481247548a65aeea56fc45b7",
       "version_major": 2,
       "version_minor": 0
      },
      "text/plain": [
       "Computing transition probabilities:   0%|          | 0/97 [00:00<?, ?it/s]"
      ]
     },
     "metadata": {},
     "output_type": "display_data"
    },
    {
     "data": {
      "application/vnd.jupyter.widget-view+json": {
       "model_id": "77297589c1d5429c974cb74e5b482e81",
       "version_major": 2,
       "version_minor": 0
      },
      "text/plain": [
       "Computing transition probabilities:   0%|          | 0/98 [00:00<?, ?it/s]"
      ]
     },
     "metadata": {},
     "output_type": "display_data"
    },
    {
     "data": {
      "application/vnd.jupyter.widget-view+json": {
       "model_id": "dbbb57d421734508831c31d6fd6effe2",
       "version_major": 2,
       "version_minor": 0
      },
      "text/plain": [
       "Computing transition probabilities:   0%|          | 0/98 [00:00<?, ?it/s]"
      ]
     },
     "metadata": {},
     "output_type": "display_data"
    },
    {
     "data": {
      "application/vnd.jupyter.widget-view+json": {
       "model_id": "de70b6ff6fb54d7fa904efdca51178fa",
       "version_major": 2,
       "version_minor": 0
      },
      "text/plain": [
       "Computing transition probabilities:   0%|          | 0/98 [00:00<?, ?it/s]"
      ]
     },
     "metadata": {},
     "output_type": "display_data"
    },
    {
     "data": {
      "application/vnd.jupyter.widget-view+json": {
       "model_id": "3e3e7a3afcfa44eb9a057dcd91efaabf",
       "version_major": 2,
       "version_minor": 0
      },
      "text/plain": [
       "Computing transition probabilities:   0%|          | 0/98 [00:00<?, ?it/s]"
      ]
     },
     "metadata": {},
     "output_type": "display_data"
    },
    {
     "data": {
      "application/vnd.jupyter.widget-view+json": {
       "model_id": "b454b9064dc848a39372758af266e777",
       "version_major": 2,
       "version_minor": 0
      },
      "text/plain": [
       "Computing transition probabilities:   0%|          | 0/98 [00:00<?, ?it/s]"
      ]
     },
     "metadata": {},
     "output_type": "display_data"
    },
    {
     "data": {
      "application/vnd.jupyter.widget-view+json": {
       "model_id": "3caedd059b444e0383b9a89d49f6ba62",
       "version_major": 2,
       "version_minor": 0
      },
      "text/plain": [
       "Computing transition probabilities:   0%|          | 0/98 [00:00<?, ?it/s]"
      ]
     },
     "metadata": {},
     "output_type": "display_data"
    },
    {
     "data": {
      "application/vnd.jupyter.widget-view+json": {
       "model_id": "3998faa42be040269cb3a3e3a4b77fc8",
       "version_major": 2,
       "version_minor": 0
      },
      "text/plain": [
       "Computing transition probabilities:   0%|          | 0/98 [00:00<?, ?it/s]"
      ]
     },
     "metadata": {},
     "output_type": "display_data"
    },
    {
     "name": "stdout",
     "output_type": "stream",
     "text": [
      "Accuracy: 0.812 (95% CI: 0.804 - 0.820)\n",
      "Precision: 0.775 (95% CI: 0.704 - 0.845)\n",
      "Recall: 0.429 (95% CI: 0.343 - 0.515)\n",
      "F1 Score: 0.505 (95% CI: 0.438 - 0.572)\n",
      "ROC AUC: 0.827 (95% CI: 0.819 - 0.835)\n",
      "Total Computation Time: 209.357 seconds\n",
      "\n",
      "Classifier: RF\n"
     ]
    },
    {
     "data": {
      "application/vnd.jupyter.widget-view+json": {
       "model_id": "f9201fdd04544903b4a7edbd69a6f6dc",
       "version_major": 2,
       "version_minor": 0
      },
      "text/plain": [
       "Computing transition probabilities:   0%|          | 0/98 [00:00<?, ?it/s]"
      ]
     },
     "metadata": {},
     "output_type": "display_data"
    },
    {
     "data": {
      "application/vnd.jupyter.widget-view+json": {
       "model_id": "d29c2eebe91146628b8f26ef48b201a1",
       "version_major": 2,
       "version_minor": 0
      },
      "text/plain": [
       "Computing transition probabilities:   0%|          | 0/98 [00:00<?, ?it/s]"
      ]
     },
     "metadata": {},
     "output_type": "display_data"
    },
    {
     "data": {
      "application/vnd.jupyter.widget-view+json": {
       "model_id": "81f84152b3034c8eae438910c5959356",
       "version_major": 2,
       "version_minor": 0
      },
      "text/plain": [
       "Computing transition probabilities:   0%|          | 0/98 [00:00<?, ?it/s]"
      ]
     },
     "metadata": {},
     "output_type": "display_data"
    },
    {
     "data": {
      "application/vnd.jupyter.widget-view+json": {
       "model_id": "6d8522ff54ec4d4899516b790e41f1cc",
       "version_major": 2,
       "version_minor": 0
      },
      "text/plain": [
       "Computing transition probabilities:   0%|          | 0/98 [00:00<?, ?it/s]"
      ]
     },
     "metadata": {},
     "output_type": "display_data"
    },
    {
     "data": {
      "application/vnd.jupyter.widget-view+json": {
       "model_id": "f0fa0b2858304351a2fea902572746c4",
       "version_major": 2,
       "version_minor": 0
      },
      "text/plain": [
       "Computing transition probabilities:   0%|          | 0/98 [00:00<?, ?it/s]"
      ]
     },
     "metadata": {},
     "output_type": "display_data"
    },
    {
     "data": {
      "application/vnd.jupyter.widget-view+json": {
       "model_id": "81eb77795e964e1fa43c5993a2f003fe",
       "version_major": 2,
       "version_minor": 0
      },
      "text/plain": [
       "Computing transition probabilities:   0%|          | 0/98 [00:00<?, ?it/s]"
      ]
     },
     "metadata": {},
     "output_type": "display_data"
    },
    {
     "data": {
      "application/vnd.jupyter.widget-view+json": {
       "model_id": "215151bfa36945ceaca5ce08ad3cc551",
       "version_major": 2,
       "version_minor": 0
      },
      "text/plain": [
       "Computing transition probabilities:   0%|          | 0/98 [00:00<?, ?it/s]"
      ]
     },
     "metadata": {},
     "output_type": "display_data"
    },
    {
     "data": {
      "application/vnd.jupyter.widget-view+json": {
       "model_id": "246b3104410540adadae8c9cb94321e0",
       "version_major": 2,
       "version_minor": 0
      },
      "text/plain": [
       "Computing transition probabilities:   0%|          | 0/98 [00:00<?, ?it/s]"
      ]
     },
     "metadata": {},
     "output_type": "display_data"
    },
    {
     "data": {
      "application/vnd.jupyter.widget-view+json": {
       "model_id": "630dcb591c4e45378930ec25533265bc",
       "version_major": 2,
       "version_minor": 0
      },
      "text/plain": [
       "Computing transition probabilities:   0%|          | 0/98 [00:00<?, ?it/s]"
      ]
     },
     "metadata": {},
     "output_type": "display_data"
    }
   ],
   "source": [
    "# dimension 30\n",
    "import config_cat_embedding\n",
    "import numpy as np\n",
    "import pandas as pd\n",
    "import random\n",
    "import time\n",
    "\n",
    "from gensim.models import Word2Vec\n",
    "from sklearn.model_selection import StratifiedKFold\n",
    "from sklearn.linear_model import LogisticRegression\n",
    "from sklearn.tree import DecisionTreeClassifier\n",
    "from sklearn.neighbors import KNeighborsClassifier\n",
    "# from sklearn.svm import SVC\n",
    "from sklearn.ensemble import RandomForestClassifier\n",
    "from xgboost import XGBClassifier\n",
    "from scikeras.wrappers import KerasClassifier\n",
    "from sklearn.preprocessing import StandardScaler\n",
    "from sklearn.metrics import (accuracy_score, precision_score, recall_score,\n",
    "                             f1_score, roc_auc_score)\n",
    "import networkx as nx\n",
    "from node2vec import Node2Vec\n",
    "import matplotlib.pyplot as plt\n",
    "\n",
    "from scipy.sparse import coo_matrix, csr_matrix\n",
    "\n",
    "from tqdm.notebook import tqdm\n",
    "from data_prep import bank_data_prep, adult_data_prep\n",
    "from embedding_helper import create_network\n",
    "\n",
    "from scipy import stats  # For confidence intervals\n",
    "\n",
    "# Set the random seed for reproducibility\n",
    "random.seed(42)\n",
    "np.random.seed(42)\n",
    "\n",
    "def create_cooccurrence_matrix_diag(df_cat):\n",
    "    # Get unique categories\n",
    "    categories = np.unique(df_cat)\n",
    "\n",
    "    # Create a dictionary to map category to index\n",
    "    category_to_index = {cat: i for i, cat in enumerate(categories)}\n",
    "\n",
    "    # Calculate co-occurrence matrix\n",
    "    matrix = np.zeros((len(categories), len(categories)))\n",
    "    for row in df_cat.itertuples(index=False):\n",
    "        for i, cat1 in enumerate(row):\n",
    "            for j, cat2 in enumerate(row):\n",
    "                if i != j:\n",
    "                    matrix[category_to_index[cat1], category_to_index[cat2]] += 1\n",
    "\n",
    "    # Calculate the diagonal values\n",
    "    diagonal_values = []\n",
    "    for cat in categories:\n",
    "        count = df_cat.stack().value_counts()[cat]\n",
    "        diagonal_values.append(count)\n",
    "\n",
    "    # Set diagonal values to category counts\n",
    "    np.fill_diagonal(matrix, diagonal_values)\n",
    "\n",
    "    # Convert the matrix to a sparse matrix\n",
    "    sparse_matrix = coo_matrix(matrix)\n",
    "\n",
    "    # Normalize the matrix\n",
    "    normalized_matrix = csr_matrix(sparse_matrix / sparse_matrix.sum(axis=1))\n",
    "\n",
    "    # Convert to DataFrame for easier handling\n",
    "    co_occurrence_matrix_norm = pd.DataFrame(normalized_matrix.toarray(), index=categories, columns=categories)\n",
    "\n",
    "    return co_occurrence_matrix_norm\n",
    "\n",
    "# get_embeddings function outside the loop\n",
    "def get_embeddings(df, model):\n",
    "    embeddings = []\n",
    "    for index, row in df.iterrows():\n",
    "        node_vectors = []\n",
    "        for cat in row:\n",
    "            if str(cat) in model.wv:\n",
    "                node_vectors.append(model.wv[str(cat)])\n",
    "            else:\n",
    "                node_vectors.append(np.zeros(model.vector_size))\n",
    "        embeddings.append(np.mean(node_vectors, axis=0))\n",
    "    return np.array(embeddings)\n",
    "\n",
    "# =============================================\n",
    "# Start of the adapted code for cross-validation\n",
    "# =============================================\n",
    "\n",
    "# Load and preprocess data\n",
    "data_path = config_cat_embedding.paths['data']\n",
    "bank_data = pd.read_csv(data_path+'adult.csv', sep=',')\n",
    "\n",
    "df_bank, cat_cols = adult_data_prep(bank_data)\n",
    "\n",
    "X = df_bank.iloc[:, :-1]\n",
    "y = df_bank.y\n",
    "\n",
    "# Define the classifiers\n",
    "seed = 42\n",
    "\n",
    "models = [\n",
    "    ('LR', LogisticRegression(solver='lbfgs', random_state=seed, max_iter=1000)),\n",
    "    ('DT', DecisionTreeClassifier(criterion='entropy', max_depth=3, random_state=seed)),\n",
    "    ('RF', RandomForestClassifier(n_estimators=200, max_depth=5, random_state=seed, min_samples_leaf=3)),\n",
    "    ('KNN', KNeighborsClassifier(n_neighbors=3)),\n",
    "    ('XGB', XGBClassifier(eval_metric='logloss', random_state=seed)),\n",
    "    ('MLP', KerasClassifier(\n",
    "        model=create_network,\n",
    "        epochs=100, batch_size=100, verbose=0, random_state=seed))\n",
    "]\n",
    "\n",
    "# Cross-validation setup\n",
    "cv = StratifiedKFold(n_splits=20, shuffle=True, random_state=seed)\n",
    "\n",
    "# Function to calculate confidence intervals\n",
    "def confidence_interval(data, confidence=0.95):\n",
    "    n = len(data)\n",
    "    m = np.mean(data)\n",
    "    std_err = stats.sem(data)\n",
    "    h = std_err * stats.t.ppf((1 + confidence) / 2, n - 1)\n",
    "    return m, m - h, m + h\n",
    "\n",
    "# Loop over models\n",
    "for name, model in models:\n",
    "    print(f\"Classifier: {name}\")\n",
    "    # Lists to store metrics for each fold\n",
    "    accuracies = []\n",
    "    precisions = []\n",
    "    recalls = []\n",
    "    f1s = []\n",
    "    roc_aucs = []\n",
    "\n",
    "    # Start the timer before cross-validation\n",
    "    start_time = time.time()\n",
    "\n",
    "    fold = 1\n",
    "    for train_index, test_index in cv.split(X, y):\n",
    "        # Split the data into training and testing sets for this fold\n",
    "        X_train_fold, X_test_fold = X.iloc[train_index].copy(), X.iloc[test_index].copy()\n",
    "        y_train_fold, y_test_fold = y.iloc[train_index], y.iloc[test_index]\n",
    "\n",
    "        # Preprocess data within the fold\n",
    "        # Handle categorical variables\n",
    "        cat_data_train = X_train_fold[cat_cols]\n",
    "        cat_data_test = X_test_fold[cat_cols]\n",
    "\n",
    "        # Create co-occurrence matrix using the training data\n",
    "        co_occurrence_matrix = create_cooccurrence_matrix_diag(cat_data_train)\n",
    "\n",
    "        # Use Node2Vec or another method to create embeddings from the co-occurrence matrix\n",
    "        # Here, we will create a graph and compute embeddings\n",
    "        G = nx.from_pandas_adjacency(co_occurrence_matrix)\n",
    "\n",
    "        node2vec = Node2Vec(G, dimensions=30, walk_length=10, num_walks=20, workers=4, seed=seed)\n",
    "        node2vec_model = node2vec.fit(window=10, min_count=1, batch_words=4)\n",
    "\n",
    "        # Map embeddings to the categorical data\n",
    "        X_train_emb = get_embeddings(cat_data_train, node2vec_model)\n",
    "        X_test_emb = get_embeddings(cat_data_test, node2vec_model)\n",
    "\n",
    "        # If there are numerical features, include them\n",
    "        num_cols = X_train_fold.drop(columns=cat_cols).columns.tolist()\n",
    "        if num_cols:\n",
    "            num_data_train = X_train_fold[num_cols].values\n",
    "            num_data_test = X_test_fold[num_cols].values\n",
    "\n",
    "            # Combine numerical and embedding features\n",
    "            X_train_combined = np.hstack((X_train_emb, num_data_train))\n",
    "            X_test_combined = np.hstack((X_test_emb, num_data_test))\n",
    "        else:\n",
    "            X_train_combined = X_train_emb\n",
    "            X_test_combined = X_test_emb\n",
    "\n",
    "        # Standard scaling\n",
    "        stc = StandardScaler()\n",
    "        X_train_scaled = stc.fit_transform(X_train_combined)\n",
    "        X_test_scaled = stc.transform(X_test_combined)\n",
    "\n",
    "        # Update number_of_features for MLP\n",
    "        number_of_features = X_train_scaled.shape[1]\n",
    "        if name == 'MLP':\n",
    "            # Update the model with the correct number of features\n",
    "            model.set_params(model__number_of_features=number_of_features)\n",
    "\n",
    "        # Fit the model\n",
    "        model.fit(X_train_scaled, y_train_fold)\n",
    "        # Predict on the test fold\n",
    "        y_pred_fold = model.predict(X_test_scaled)\n",
    "\n",
    "        # Get prediction probabilities for ROC AUC\n",
    "        if hasattr(model, \"predict_proba\"):\n",
    "            y_pred_prob_fold = model.predict_proba(X_test_scaled)[:, 1]\n",
    "        else:\n",
    "            # For classifiers without predict_proba, use decision_function\n",
    "            y_pred_prob_fold = model.decision_function(X_test_scaled)\n",
    "            # Normalize the decision function output to [0,1] range\n",
    "            y_pred_prob_fold = (y_pred_prob_fold - y_pred_prob_fold.min()) / (y_pred_prob_fold.max() - y_pred_prob_fold.min())\n",
    "\n",
    "        # Calculate metrics\n",
    "        accuracies.append(accuracy_score(y_test_fold, y_pred_fold))\n",
    "        precisions.append(precision_score(y_test_fold, y_pred_fold, zero_division=0))\n",
    "        recalls.append(recall_score(y_test_fold, y_pred_fold))\n",
    "        f1s.append(f1_score(y_test_fold, y_pred_fold))\n",
    "        roc_aucs.append(roc_auc_score(y_test_fold, y_pred_prob_fold))\n",
    "\n",
    "        # print(f\"Fold {fold} completed.\")\n",
    "        fold += 1\n",
    "\n",
    "    # Stop the timer after cross-validation\n",
    "    end_time = time.time()\n",
    "    total_computation_time = end_time - start_time  # Total time for the model\n",
    "\n",
    "    # Calculate mean and confidence intervals\n",
    "    acc_mean, acc_ci_lower, acc_ci_upper = confidence_interval(accuracies)\n",
    "    prec_mean, prec_ci_lower, prec_ci_upper = confidence_interval(precisions)\n",
    "    rec_mean, rec_ci_lower, rec_ci_upper = confidence_interval(recalls)\n",
    "    f1_mean, f1_ci_lower, f1_ci_upper = confidence_interval(f1s)\n",
    "    roc_mean, roc_ci_lower, roc_ci_upper = confidence_interval(roc_aucs)\n",
    "\n",
    "    # Print results\n",
    "    print(f\"Accuracy: {acc_mean:.3f} (95% CI: {acc_ci_lower:.3f} - {acc_ci_upper:.3f})\")\n",
    "    print(f\"Precision: {prec_mean:.3f} (95% CI: {prec_ci_lower:.3f} - {prec_ci_upper:.3f})\")\n",
    "    print(f\"Recall: {rec_mean:.3f} (95% CI: {rec_ci_lower:.3f} - {rec_ci_upper:.3f})\")\n",
    "    print(f\"F1 Score: {f1_mean:.3f} (95% CI: {f1_ci_lower:.3f} - {f1_ci_upper:.3f})\")\n",
    "    print(f\"ROC AUC: {roc_mean:.3f} (95% CI: {roc_ci_lower:.3f} - {roc_ci_upper:.3f})\")\n",
    "    print(f\"Total Computation Time: {total_computation_time:.3f} seconds\\n\")\n"
   ]
  },
  {
   "cell_type": "code",
   "execution_count": 1,
   "id": "232de926-84ae-4249-9523-13786533708e",
   "metadata": {},
   "outputs": [
    {
     "name": "stdout",
     "output_type": "stream",
     "text": [
      "Classifier: LR\n"
     ]
    },
    {
     "data": {
      "application/vnd.jupyter.widget-view+json": {
       "model_id": "4f82b7bf80784a2686b88f7e32c8abf4",
       "version_major": 2,
       "version_minor": 0
      },
      "text/plain": [
       "Computing transition probabilities:   0%|          | 0/98 [00:00<?, ?it/s]"
      ]
     },
     "metadata": {},
     "output_type": "display_data"
    },
    {
     "data": {
      "application/vnd.jupyter.widget-view+json": {
       "model_id": "bdea5e9bc9384d4ca44867f9ec00de50",
       "version_major": 2,
       "version_minor": 0
      },
      "text/plain": [
       "Computing transition probabilities:   0%|          | 0/98 [00:00<?, ?it/s]"
      ]
     },
     "metadata": {},
     "output_type": "display_data"
    },
    {
     "data": {
      "application/vnd.jupyter.widget-view+json": {
       "model_id": "84a7f3db97ba4a2d89d96a7973845760",
       "version_major": 2,
       "version_minor": 0
      },
      "text/plain": [
       "Computing transition probabilities:   0%|          | 0/98 [00:00<?, ?it/s]"
      ]
     },
     "metadata": {},
     "output_type": "display_data"
    },
    {
     "data": {
      "application/vnd.jupyter.widget-view+json": {
       "model_id": "5b4f29c8877a42158699287302393047",
       "version_major": 2,
       "version_minor": 0
      },
      "text/plain": [
       "Computing transition probabilities:   0%|          | 0/98 [00:00<?, ?it/s]"
      ]
     },
     "metadata": {},
     "output_type": "display_data"
    },
    {
     "data": {
      "application/vnd.jupyter.widget-view+json": {
       "model_id": "dc333e4b91af41aabac92c4685e46353",
       "version_major": 2,
       "version_minor": 0
      },
      "text/plain": [
       "Computing transition probabilities:   0%|          | 0/98 [00:00<?, ?it/s]"
      ]
     },
     "metadata": {},
     "output_type": "display_data"
    },
    {
     "data": {
      "application/vnd.jupyter.widget-view+json": {
       "model_id": "2e1bc99dfdab469c992ec91f0181d5e6",
       "version_major": 2,
       "version_minor": 0
      },
      "text/plain": [
       "Computing transition probabilities:   0%|          | 0/98 [00:00<?, ?it/s]"
      ]
     },
     "metadata": {},
     "output_type": "display_data"
    },
    {
     "data": {
      "application/vnd.jupyter.widget-view+json": {
       "model_id": "f6522fb8be3a449abe8de27e12492662",
       "version_major": 2,
       "version_minor": 0
      },
      "text/plain": [
       "Computing transition probabilities:   0%|          | 0/98 [00:00<?, ?it/s]"
      ]
     },
     "metadata": {},
     "output_type": "display_data"
    },
    {
     "data": {
      "application/vnd.jupyter.widget-view+json": {
       "model_id": "133dc8ecc10d48c4afb2d6da237dfb39",
       "version_major": 2,
       "version_minor": 0
      },
      "text/plain": [
       "Computing transition probabilities:   0%|          | 0/98 [00:00<?, ?it/s]"
      ]
     },
     "metadata": {},
     "output_type": "display_data"
    },
    {
     "data": {
      "application/vnd.jupyter.widget-view+json": {
       "model_id": "0e2c5b79727b47ec9237d936e0f68cf2",
       "version_major": 2,
       "version_minor": 0
      },
      "text/plain": [
       "Computing transition probabilities:   0%|          | 0/98 [00:00<?, ?it/s]"
      ]
     },
     "metadata": {},
     "output_type": "display_data"
    },
    {
     "data": {
      "application/vnd.jupyter.widget-view+json": {
       "model_id": "a214fdb21c924220afc93842ca8ac97e",
       "version_major": 2,
       "version_minor": 0
      },
      "text/plain": [
       "Computing transition probabilities:   0%|          | 0/98 [00:00<?, ?it/s]"
      ]
     },
     "metadata": {},
     "output_type": "display_data"
    },
    {
     "data": {
      "application/vnd.jupyter.widget-view+json": {
       "model_id": "ab72c20c333c434e930ff03bcb193f6f",
       "version_major": 2,
       "version_minor": 0
      },
      "text/plain": [
       "Computing transition probabilities:   0%|          | 0/98 [00:00<?, ?it/s]"
      ]
     },
     "metadata": {},
     "output_type": "display_data"
    },
    {
     "data": {
      "application/vnd.jupyter.widget-view+json": {
       "model_id": "af5df003b7cf42db9676b675b5bde4d1",
       "version_major": 2,
       "version_minor": 0
      },
      "text/plain": [
       "Computing transition probabilities:   0%|          | 0/98 [00:00<?, ?it/s]"
      ]
     },
     "metadata": {},
     "output_type": "display_data"
    },
    {
     "data": {
      "application/vnd.jupyter.widget-view+json": {
       "model_id": "45b38012c2e74c59a7a9ff48e71edff2",
       "version_major": 2,
       "version_minor": 0
      },
      "text/plain": [
       "Computing transition probabilities:   0%|          | 0/97 [00:00<?, ?it/s]"
      ]
     },
     "metadata": {},
     "output_type": "display_data"
    },
    {
     "data": {
      "application/vnd.jupyter.widget-view+json": {
       "model_id": "3d87bcca840d4bf2aa4a3f28af190dd7",
       "version_major": 2,
       "version_minor": 0
      },
      "text/plain": [
       "Computing transition probabilities:   0%|          | 0/98 [00:00<?, ?it/s]"
      ]
     },
     "metadata": {},
     "output_type": "display_data"
    },
    {
     "data": {
      "application/vnd.jupyter.widget-view+json": {
       "model_id": "e37564e84b914fddbbd227bcca4491e6",
       "version_major": 2,
       "version_minor": 0
      },
      "text/plain": [
       "Computing transition probabilities:   0%|          | 0/98 [00:00<?, ?it/s]"
      ]
     },
     "metadata": {},
     "output_type": "display_data"
    },
    {
     "data": {
      "application/vnd.jupyter.widget-view+json": {
       "model_id": "446ff0470d974b34802e32efccbb2913",
       "version_major": 2,
       "version_minor": 0
      },
      "text/plain": [
       "Computing transition probabilities:   0%|          | 0/98 [00:00<?, ?it/s]"
      ]
     },
     "metadata": {},
     "output_type": "display_data"
    },
    {
     "data": {
      "application/vnd.jupyter.widget-view+json": {
       "model_id": "c9561ce9bfca4a6a84744f4e075ffada",
       "version_major": 2,
       "version_minor": 0
      },
      "text/plain": [
       "Computing transition probabilities:   0%|          | 0/98 [00:00<?, ?it/s]"
      ]
     },
     "metadata": {},
     "output_type": "display_data"
    },
    {
     "data": {
      "application/vnd.jupyter.widget-view+json": {
       "model_id": "ec23df524a144d2b9ede6ea9f6f1a718",
       "version_major": 2,
       "version_minor": 0
      },
      "text/plain": [
       "Computing transition probabilities:   0%|          | 0/98 [00:00<?, ?it/s]"
      ]
     },
     "metadata": {},
     "output_type": "display_data"
    },
    {
     "data": {
      "application/vnd.jupyter.widget-view+json": {
       "model_id": "abe3008017b94d3b9595eb109ab039b4",
       "version_major": 2,
       "version_minor": 0
      },
      "text/plain": [
       "Computing transition probabilities:   0%|          | 0/98 [00:00<?, ?it/s]"
      ]
     },
     "metadata": {},
     "output_type": "display_data"
    },
    {
     "data": {
      "application/vnd.jupyter.widget-view+json": {
       "model_id": "646b982027ad4a91aa0735cbd57bf281",
       "version_major": 2,
       "version_minor": 0
      },
      "text/plain": [
       "Computing transition probabilities:   0%|          | 0/98 [00:00<?, ?it/s]"
      ]
     },
     "metadata": {},
     "output_type": "display_data"
    },
    {
     "name": "stdout",
     "output_type": "stream",
     "text": [
      "Accuracy: 0.847 (95% CI: 0.844 - 0.850)\n",
      "Precision: 0.734 (95% CI: 0.726 - 0.742)\n",
      "Recall: 0.601 (95% CI: 0.591 - 0.611)\n",
      "F1 Score: 0.661 (95% CI: 0.653 - 0.669)\n",
      "ROC AUC: 0.902 (95% CI: 0.899 - 0.906)\n",
      "Total Computation Time: 371.079 seconds\n",
      "\n",
      "Classifier: DT\n"
     ]
    },
    {
     "data": {
      "application/vnd.jupyter.widget-view+json": {
       "model_id": "be4880c345b2407cb4446ca6dea3b7d0",
       "version_major": 2,
       "version_minor": 0
      },
      "text/plain": [
       "Computing transition probabilities:   0%|          | 0/98 [00:00<?, ?it/s]"
      ]
     },
     "metadata": {},
     "output_type": "display_data"
    },
    {
     "data": {
      "application/vnd.jupyter.widget-view+json": {
       "model_id": "532b22d9055e4f29afe81a803d9f8595",
       "version_major": 2,
       "version_minor": 0
      },
      "text/plain": [
       "Computing transition probabilities:   0%|          | 0/98 [00:00<?, ?it/s]"
      ]
     },
     "metadata": {},
     "output_type": "display_data"
    },
    {
     "data": {
      "application/vnd.jupyter.widget-view+json": {
       "model_id": "f0640ccd5c4a421bb0772e0567df9299",
       "version_major": 2,
       "version_minor": 0
      },
      "text/plain": [
       "Computing transition probabilities:   0%|          | 0/98 [00:00<?, ?it/s]"
      ]
     },
     "metadata": {},
     "output_type": "display_data"
    },
    {
     "data": {
      "application/vnd.jupyter.widget-view+json": {
       "model_id": "7819dac94f4b4bd39ba903b378222314",
       "version_major": 2,
       "version_minor": 0
      },
      "text/plain": [
       "Computing transition probabilities:   0%|          | 0/98 [00:00<?, ?it/s]"
      ]
     },
     "metadata": {},
     "output_type": "display_data"
    },
    {
     "data": {
      "application/vnd.jupyter.widget-view+json": {
       "model_id": "1666b543c36f4051a0bc35eb41416a62",
       "version_major": 2,
       "version_minor": 0
      },
      "text/plain": [
       "Computing transition probabilities:   0%|          | 0/98 [00:00<?, ?it/s]"
      ]
     },
     "metadata": {},
     "output_type": "display_data"
    },
    {
     "data": {
      "application/vnd.jupyter.widget-view+json": {
       "model_id": "853a33d8323f422b97c21fd1acab902d",
       "version_major": 2,
       "version_minor": 0
      },
      "text/plain": [
       "Computing transition probabilities:   0%|          | 0/98 [00:00<?, ?it/s]"
      ]
     },
     "metadata": {},
     "output_type": "display_data"
    },
    {
     "data": {
      "application/vnd.jupyter.widget-view+json": {
       "model_id": "434426aff2064cde99b7da221c71dba5",
       "version_major": 2,
       "version_minor": 0
      },
      "text/plain": [
       "Computing transition probabilities:   0%|          | 0/98 [00:00<?, ?it/s]"
      ]
     },
     "metadata": {},
     "output_type": "display_data"
    },
    {
     "data": {
      "application/vnd.jupyter.widget-view+json": {
       "model_id": "fec0e11f5a154f16822be6cbd036536f",
       "version_major": 2,
       "version_minor": 0
      },
      "text/plain": [
       "Computing transition probabilities:   0%|          | 0/98 [00:00<?, ?it/s]"
      ]
     },
     "metadata": {},
     "output_type": "display_data"
    },
    {
     "data": {
      "application/vnd.jupyter.widget-view+json": {
       "model_id": "17f4daa943834338b46b03a95e4c99b5",
       "version_major": 2,
       "version_minor": 0
      },
      "text/plain": [
       "Computing transition probabilities:   0%|          | 0/98 [00:00<?, ?it/s]"
      ]
     },
     "metadata": {},
     "output_type": "display_data"
    },
    {
     "data": {
      "application/vnd.jupyter.widget-view+json": {
       "model_id": "1fb2329b1fe54fa3a4620f8009a58bba",
       "version_major": 2,
       "version_minor": 0
      },
      "text/plain": [
       "Computing transition probabilities:   0%|          | 0/98 [00:00<?, ?it/s]"
      ]
     },
     "metadata": {},
     "output_type": "display_data"
    },
    {
     "data": {
      "application/vnd.jupyter.widget-view+json": {
       "model_id": "ad7cf058269f472cb2161609eb819913",
       "version_major": 2,
       "version_minor": 0
      },
      "text/plain": [
       "Computing transition probabilities:   0%|          | 0/98 [00:00<?, ?it/s]"
      ]
     },
     "metadata": {},
     "output_type": "display_data"
    },
    {
     "data": {
      "application/vnd.jupyter.widget-view+json": {
       "model_id": "ec47e659f56d4e4ab56c389b784a5cbb",
       "version_major": 2,
       "version_minor": 0
      },
      "text/plain": [
       "Computing transition probabilities:   0%|          | 0/98 [00:00<?, ?it/s]"
      ]
     },
     "metadata": {},
     "output_type": "display_data"
    },
    {
     "data": {
      "application/vnd.jupyter.widget-view+json": {
       "model_id": "2418b1c81c784241a7bbd1ba92da720c",
       "version_major": 2,
       "version_minor": 0
      },
      "text/plain": [
       "Computing transition probabilities:   0%|          | 0/97 [00:00<?, ?it/s]"
      ]
     },
     "metadata": {},
     "output_type": "display_data"
    },
    {
     "data": {
      "application/vnd.jupyter.widget-view+json": {
       "model_id": "09ec31328efa42dba8a79d196a406aac",
       "version_major": 2,
       "version_minor": 0
      },
      "text/plain": [
       "Computing transition probabilities:   0%|          | 0/98 [00:00<?, ?it/s]"
      ]
     },
     "metadata": {},
     "output_type": "display_data"
    },
    {
     "data": {
      "application/vnd.jupyter.widget-view+json": {
       "model_id": "fbc98c8f04d7488297d0e1215a7d7abd",
       "version_major": 2,
       "version_minor": 0
      },
      "text/plain": [
       "Computing transition probabilities:   0%|          | 0/98 [00:00<?, ?it/s]"
      ]
     },
     "metadata": {},
     "output_type": "display_data"
    },
    {
     "data": {
      "application/vnd.jupyter.widget-view+json": {
       "model_id": "a18ced0455de4a23b5f68485d67b5f6f",
       "version_major": 2,
       "version_minor": 0
      },
      "text/plain": [
       "Computing transition probabilities:   0%|          | 0/98 [00:00<?, ?it/s]"
      ]
     },
     "metadata": {},
     "output_type": "display_data"
    },
    {
     "data": {
      "application/vnd.jupyter.widget-view+json": {
       "model_id": "adbcfe97a32f462fac9119c3aea8a06b",
       "version_major": 2,
       "version_minor": 0
      },
      "text/plain": [
       "Computing transition probabilities:   0%|          | 0/98 [00:00<?, ?it/s]"
      ]
     },
     "metadata": {},
     "output_type": "display_data"
    },
    {
     "data": {
      "application/vnd.jupyter.widget-view+json": {
       "model_id": "54007b03ba2c4b85aef99466c5495537",
       "version_major": 2,
       "version_minor": 0
      },
      "text/plain": [
       "Computing transition probabilities:   0%|          | 0/98 [00:00<?, ?it/s]"
      ]
     },
     "metadata": {},
     "output_type": "display_data"
    },
    {
     "data": {
      "application/vnd.jupyter.widget-view+json": {
       "model_id": "d0175b1411184403ae77f3f9359c3964",
       "version_major": 2,
       "version_minor": 0
      },
      "text/plain": [
       "Computing transition probabilities:   0%|          | 0/98 [00:00<?, ?it/s]"
      ]
     },
     "metadata": {},
     "output_type": "display_data"
    },
    {
     "data": {
      "application/vnd.jupyter.widget-view+json": {
       "model_id": "587657056e7f4be492134900bf3c3d23",
       "version_major": 2,
       "version_minor": 0
      },
      "text/plain": [
       "Computing transition probabilities:   0%|          | 0/98 [00:00<?, ?it/s]"
      ]
     },
     "metadata": {},
     "output_type": "display_data"
    },
    {
     "name": "stdout",
     "output_type": "stream",
     "text": [
      "Accuracy: 0.813 (95% CI: 0.806 - 0.820)\n",
      "Precision: 0.722 (95% CI: 0.656 - 0.789)\n",
      "Recall: 0.491 (95% CI: 0.411 - 0.570)\n",
      "F1 Score: 0.544 (95% CI: 0.484 - 0.604)\n",
      "ROC AUC: 0.830 (95% CI: 0.822 - 0.837)\n",
      "Total Computation Time: 379.433 seconds\n",
      "\n",
      "Classifier: RF\n"
     ]
    },
    {
     "data": {
      "application/vnd.jupyter.widget-view+json": {
       "model_id": "9e15b86854ce4e879686ff9365b5de04",
       "version_major": 2,
       "version_minor": 0
      },
      "text/plain": [
       "Computing transition probabilities:   0%|          | 0/98 [00:00<?, ?it/s]"
      ]
     },
     "metadata": {},
     "output_type": "display_data"
    },
    {
     "data": {
      "application/vnd.jupyter.widget-view+json": {
       "model_id": "1bfff7ecec954edfa9c399a1cf9e2698",
       "version_major": 2,
       "version_minor": 0
      },
      "text/plain": [
       "Computing transition probabilities:   0%|          | 0/98 [00:00<?, ?it/s]"
      ]
     },
     "metadata": {},
     "output_type": "display_data"
    },
    {
     "data": {
      "application/vnd.jupyter.widget-view+json": {
       "model_id": "fbdb4a78b7314eb5b8d2a75479879dca",
       "version_major": 2,
       "version_minor": 0
      },
      "text/plain": [
       "Computing transition probabilities:   0%|          | 0/98 [00:00<?, ?it/s]"
      ]
     },
     "metadata": {},
     "output_type": "display_data"
    },
    {
     "data": {
      "application/vnd.jupyter.widget-view+json": {
       "model_id": "9d1d056f5a8f4b5b86f0f21dac7484b9",
       "version_major": 2,
       "version_minor": 0
      },
      "text/plain": [
       "Computing transition probabilities:   0%|          | 0/98 [00:00<?, ?it/s]"
      ]
     },
     "metadata": {},
     "output_type": "display_data"
    },
    {
     "data": {
      "application/vnd.jupyter.widget-view+json": {
       "model_id": "c60289b36c864ebcb2405ad9641f027b",
       "version_major": 2,
       "version_minor": 0
      },
      "text/plain": [
       "Computing transition probabilities:   0%|          | 0/98 [00:00<?, ?it/s]"
      ]
     },
     "metadata": {},
     "output_type": "display_data"
    },
    {
     "data": {
      "application/vnd.jupyter.widget-view+json": {
       "model_id": "45ea5745e294413fad7a3a62b37fa17c",
       "version_major": 2,
       "version_minor": 0
      },
      "text/plain": [
       "Computing transition probabilities:   0%|          | 0/98 [00:00<?, ?it/s]"
      ]
     },
     "metadata": {},
     "output_type": "display_data"
    },
    {
     "data": {
      "application/vnd.jupyter.widget-view+json": {
       "model_id": "dfa59fee8e02440caf851089c0799635",
       "version_major": 2,
       "version_minor": 0
      },
      "text/plain": [
       "Computing transition probabilities:   0%|          | 0/98 [00:00<?, ?it/s]"
      ]
     },
     "metadata": {},
     "output_type": "display_data"
    },
    {
     "data": {
      "application/vnd.jupyter.widget-view+json": {
       "model_id": "3c4c7499139e44dab66bce656b736a88",
       "version_major": 2,
       "version_minor": 0
      },
      "text/plain": [
       "Computing transition probabilities:   0%|          | 0/98 [00:00<?, ?it/s]"
      ]
     },
     "metadata": {},
     "output_type": "display_data"
    },
    {
     "data": {
      "application/vnd.jupyter.widget-view+json": {
       "model_id": "950e30e38628437b8e4db538efe027c7",
       "version_major": 2,
       "version_minor": 0
      },
      "text/plain": [
       "Computing transition probabilities:   0%|          | 0/98 [00:00<?, ?it/s]"
      ]
     },
     "metadata": {},
     "output_type": "display_data"
    },
    {
     "data": {
      "application/vnd.jupyter.widget-view+json": {
       "model_id": "497e3a448ba840e095649f3f4cdfcbfa",
       "version_major": 2,
       "version_minor": 0
      },
      "text/plain": [
       "Computing transition probabilities:   0%|          | 0/98 [00:00<?, ?it/s]"
      ]
     },
     "metadata": {},
     "output_type": "display_data"
    },
    {
     "data": {
      "application/vnd.jupyter.widget-view+json": {
       "model_id": "d29436163610465a9beb032ea627929c",
       "version_major": 2,
       "version_minor": 0
      },
      "text/plain": [
       "Computing transition probabilities:   0%|          | 0/98 [00:00<?, ?it/s]"
      ]
     },
     "metadata": {},
     "output_type": "display_data"
    },
    {
     "data": {
      "application/vnd.jupyter.widget-view+json": {
       "model_id": "6967f59aed6f4a46b22184ce59d89570",
       "version_major": 2,
       "version_minor": 0
      },
      "text/plain": [
       "Computing transition probabilities:   0%|          | 0/98 [00:00<?, ?it/s]"
      ]
     },
     "metadata": {},
     "output_type": "display_data"
    },
    {
     "data": {
      "application/vnd.jupyter.widget-view+json": {
       "model_id": "0fe4471a1fdb4b96bb50a5c82379d388",
       "version_major": 2,
       "version_minor": 0
      },
      "text/plain": [
       "Computing transition probabilities:   0%|          | 0/97 [00:00<?, ?it/s]"
      ]
     },
     "metadata": {},
     "output_type": "display_data"
    },
    {
     "data": {
      "application/vnd.jupyter.widget-view+json": {
       "model_id": "8f74b640b8074cfaab1ba4689de0a31b",
       "version_major": 2,
       "version_minor": 0
      },
      "text/plain": [
       "Computing transition probabilities:   0%|          | 0/98 [00:00<?, ?it/s]"
      ]
     },
     "metadata": {},
     "output_type": "display_data"
    },
    {
     "data": {
      "application/vnd.jupyter.widget-view+json": {
       "model_id": "6c08cb48aea54707aaa097efbe0bfc36",
       "version_major": 2,
       "version_minor": 0
      },
      "text/plain": [
       "Computing transition probabilities:   0%|          | 0/98 [00:00<?, ?it/s]"
      ]
     },
     "metadata": {},
     "output_type": "display_data"
    },
    {
     "data": {
      "application/vnd.jupyter.widget-view+json": {
       "model_id": "1939299ec2b14e87a864cc66cef8d7a9",
       "version_major": 2,
       "version_minor": 0
      },
      "text/plain": [
       "Computing transition probabilities:   0%|          | 0/98 [00:00<?, ?it/s]"
      ]
     },
     "metadata": {},
     "output_type": "display_data"
    },
    {
     "data": {
      "application/vnd.jupyter.widget-view+json": {
       "model_id": "2ced5531fcd545d19f6412f53a7ada7c",
       "version_major": 2,
       "version_minor": 0
      },
      "text/plain": [
       "Computing transition probabilities:   0%|          | 0/98 [00:00<?, ?it/s]"
      ]
     },
     "metadata": {},
     "output_type": "display_data"
    },
    {
     "data": {
      "application/vnd.jupyter.widget-view+json": {
       "model_id": "b57c3610eb554059aa96886f8c3af537",
       "version_major": 2,
       "version_minor": 0
      },
      "text/plain": [
       "Computing transition probabilities:   0%|          | 0/98 [00:00<?, ?it/s]"
      ]
     },
     "metadata": {},
     "output_type": "display_data"
    },
    {
     "data": {
      "application/vnd.jupyter.widget-view+json": {
       "model_id": "0c160aef69a84d06b5743a4559777dfe",
       "version_major": 2,
       "version_minor": 0
      },
      "text/plain": [
       "Computing transition probabilities:   0%|          | 0/98 [00:00<?, ?it/s]"
      ]
     },
     "metadata": {},
     "output_type": "display_data"
    },
    {
     "data": {
      "application/vnd.jupyter.widget-view+json": {
       "model_id": "c97f83c668fe4b67860cc8d82970c1d0",
       "version_major": 2,
       "version_minor": 0
      },
      "text/plain": [
       "Computing transition probabilities:   0%|          | 0/98 [00:00<?, ?it/s]"
      ]
     },
     "metadata": {},
     "output_type": "display_data"
    },
    {
     "name": "stdout",
     "output_type": "stream",
     "text": [
      "Accuracy: 0.836 (95% CI: 0.834 - 0.839)\n",
      "Precision: 0.768 (95% CI: 0.758 - 0.779)\n",
      "Recall: 0.487 (95% CI: 0.474 - 0.501)\n",
      "F1 Score: 0.596 (95% CI: 0.586 - 0.606)\n",
      "ROC AUC: 0.887 (95% CI: 0.884 - 0.890)\n",
      "Total Computation Time: 888.065 seconds\n",
      "\n",
      "Classifier: KNN\n"
     ]
    },
    {
     "data": {
      "application/vnd.jupyter.widget-view+json": {
       "model_id": "b7f930cb4099401392a9bb69f33cedc3",
       "version_major": 2,
       "version_minor": 0
      },
      "text/plain": [
       "Computing transition probabilities:   0%|          | 0/98 [00:00<?, ?it/s]"
      ]
     },
     "metadata": {},
     "output_type": "display_data"
    },
    {
     "data": {
      "application/vnd.jupyter.widget-view+json": {
       "model_id": "282c574cc6c74ec9991258d80b0a2616",
       "version_major": 2,
       "version_minor": 0
      },
      "text/plain": [
       "Computing transition probabilities:   0%|          | 0/98 [00:00<?, ?it/s]"
      ]
     },
     "metadata": {},
     "output_type": "display_data"
    },
    {
     "data": {
      "application/vnd.jupyter.widget-view+json": {
       "model_id": "4052882d85ff46c19eb513da276b8a65",
       "version_major": 2,
       "version_minor": 0
      },
      "text/plain": [
       "Computing transition probabilities:   0%|          | 0/98 [00:00<?, ?it/s]"
      ]
     },
     "metadata": {},
     "output_type": "display_data"
    },
    {
     "data": {
      "application/vnd.jupyter.widget-view+json": {
       "model_id": "525294fede464cb7931c4812faeab28c",
       "version_major": 2,
       "version_minor": 0
      },
      "text/plain": [
       "Computing transition probabilities:   0%|          | 0/98 [00:00<?, ?it/s]"
      ]
     },
     "metadata": {},
     "output_type": "display_data"
    },
    {
     "data": {
      "application/vnd.jupyter.widget-view+json": {
       "model_id": "a25ef3b8063142f09aceedba48fcc38a",
       "version_major": 2,
       "version_minor": 0
      },
      "text/plain": [
       "Computing transition probabilities:   0%|          | 0/98 [00:00<?, ?it/s]"
      ]
     },
     "metadata": {},
     "output_type": "display_data"
    },
    {
     "data": {
      "application/vnd.jupyter.widget-view+json": {
       "model_id": "c4018459e9654565be2604b42fa1f192",
       "version_major": 2,
       "version_minor": 0
      },
      "text/plain": [
       "Computing transition probabilities:   0%|          | 0/98 [00:00<?, ?it/s]"
      ]
     },
     "metadata": {},
     "output_type": "display_data"
    },
    {
     "data": {
      "application/vnd.jupyter.widget-view+json": {
       "model_id": "333093715abd401dba1bc569d97a5fc0",
       "version_major": 2,
       "version_minor": 0
      },
      "text/plain": [
       "Computing transition probabilities:   0%|          | 0/98 [00:00<?, ?it/s]"
      ]
     },
     "metadata": {},
     "output_type": "display_data"
    },
    {
     "data": {
      "application/vnd.jupyter.widget-view+json": {
       "model_id": "54ffa4feb27f4d4c8b965cfb10a6b294",
       "version_major": 2,
       "version_minor": 0
      },
      "text/plain": [
       "Computing transition probabilities:   0%|          | 0/98 [00:00<?, ?it/s]"
      ]
     },
     "metadata": {},
     "output_type": "display_data"
    },
    {
     "data": {
      "application/vnd.jupyter.widget-view+json": {
       "model_id": "9dcf7f7d09d14c06b81ac69fb13b40d8",
       "version_major": 2,
       "version_minor": 0
      },
      "text/plain": [
       "Computing transition probabilities:   0%|          | 0/98 [00:00<?, ?it/s]"
      ]
     },
     "metadata": {},
     "output_type": "display_data"
    },
    {
     "data": {
      "application/vnd.jupyter.widget-view+json": {
       "model_id": "aa9661ed273543b7ab95d5ddd54bff56",
       "version_major": 2,
       "version_minor": 0
      },
      "text/plain": [
       "Computing transition probabilities:   0%|          | 0/98 [00:00<?, ?it/s]"
      ]
     },
     "metadata": {},
     "output_type": "display_data"
    },
    {
     "data": {
      "application/vnd.jupyter.widget-view+json": {
       "model_id": "6f9cb23ac5e1449ba6361e602b2c717d",
       "version_major": 2,
       "version_minor": 0
      },
      "text/plain": [
       "Computing transition probabilities:   0%|          | 0/98 [00:00<?, ?it/s]"
      ]
     },
     "metadata": {},
     "output_type": "display_data"
    },
    {
     "data": {
      "application/vnd.jupyter.widget-view+json": {
       "model_id": "27776693ebe44ad2abf65fbd7e8ef9e9",
       "version_major": 2,
       "version_minor": 0
      },
      "text/plain": [
       "Computing transition probabilities:   0%|          | 0/98 [00:00<?, ?it/s]"
      ]
     },
     "metadata": {},
     "output_type": "display_data"
    },
    {
     "data": {
      "application/vnd.jupyter.widget-view+json": {
       "model_id": "dcc41f65ae304326a46d8441e143b6d1",
       "version_major": 2,
       "version_minor": 0
      },
      "text/plain": [
       "Computing transition probabilities:   0%|          | 0/97 [00:00<?, ?it/s]"
      ]
     },
     "metadata": {},
     "output_type": "display_data"
    },
    {
     "data": {
      "application/vnd.jupyter.widget-view+json": {
       "model_id": "f204eff03daf4c06895c0911b217e42c",
       "version_major": 2,
       "version_minor": 0
      },
      "text/plain": [
       "Computing transition probabilities:   0%|          | 0/98 [00:00<?, ?it/s]"
      ]
     },
     "metadata": {},
     "output_type": "display_data"
    },
    {
     "data": {
      "application/vnd.jupyter.widget-view+json": {
       "model_id": "5f6f80bb538d43f9957055570e014962",
       "version_major": 2,
       "version_minor": 0
      },
      "text/plain": [
       "Computing transition probabilities:   0%|          | 0/98 [00:00<?, ?it/s]"
      ]
     },
     "metadata": {},
     "output_type": "display_data"
    },
    {
     "data": {
      "application/vnd.jupyter.widget-view+json": {
       "model_id": "8a2d5b6cc1dc4ec9996fe64956c81009",
       "version_major": 2,
       "version_minor": 0
      },
      "text/plain": [
       "Computing transition probabilities:   0%|          | 0/98 [00:00<?, ?it/s]"
      ]
     },
     "metadata": {},
     "output_type": "display_data"
    },
    {
     "data": {
      "application/vnd.jupyter.widget-view+json": {
       "model_id": "10cb457f716a4fe6b556ec10ab15553e",
       "version_major": 2,
       "version_minor": 0
      },
      "text/plain": [
       "Computing transition probabilities:   0%|          | 0/98 [00:00<?, ?it/s]"
      ]
     },
     "metadata": {},
     "output_type": "display_data"
    },
    {
     "data": {
      "application/vnd.jupyter.widget-view+json": {
       "model_id": "5379eda7f4c84b788499ac0449d925cd",
       "version_major": 2,
       "version_minor": 0
      },
      "text/plain": [
       "Computing transition probabilities:   0%|          | 0/98 [00:00<?, ?it/s]"
      ]
     },
     "metadata": {},
     "output_type": "display_data"
    },
    {
     "data": {
      "application/vnd.jupyter.widget-view+json": {
       "model_id": "66d350ba4259463e9e2ff61426ca1c39",
       "version_major": 2,
       "version_minor": 0
      },
      "text/plain": [
       "Computing transition probabilities:   0%|          | 0/98 [00:00<?, ?it/s]"
      ]
     },
     "metadata": {},
     "output_type": "display_data"
    },
    {
     "data": {
      "application/vnd.jupyter.widget-view+json": {
       "model_id": "1aeca6c830bc40159b7d1417ffcac0dd",
       "version_major": 2,
       "version_minor": 0
      },
      "text/plain": [
       "Computing transition probabilities:   0%|          | 0/98 [00:00<?, ?it/s]"
      ]
     },
     "metadata": {},
     "output_type": "display_data"
    },
    {
     "name": "stdout",
     "output_type": "stream",
     "text": [
      "Accuracy: 0.815 (95% CI: 0.813 - 0.818)\n",
      "Precision: 0.642 (95% CI: 0.635 - 0.649)\n",
      "Recall: 0.578 (95% CI: 0.569 - 0.587)\n",
      "F1 Score: 0.608 (95% CI: 0.602 - 0.615)\n",
      "ROC AUC: 0.815 (95% CI: 0.810 - 0.820)\n",
      "Total Computation Time: 399.483 seconds\n",
      "\n",
      "Classifier: XGB\n"
     ]
    },
    {
     "data": {
      "application/vnd.jupyter.widget-view+json": {
       "model_id": "b803d31d45b944158a6cb168f8f0635b",
       "version_major": 2,
       "version_minor": 0
      },
      "text/plain": [
       "Computing transition probabilities:   0%|          | 0/98 [00:00<?, ?it/s]"
      ]
     },
     "metadata": {},
     "output_type": "display_data"
    },
    {
     "data": {
      "application/vnd.jupyter.widget-view+json": {
       "model_id": "5fcd122b7ebb46d8b2e05f723fcbda9a",
       "version_major": 2,
       "version_minor": 0
      },
      "text/plain": [
       "Computing transition probabilities:   0%|          | 0/98 [00:00<?, ?it/s]"
      ]
     },
     "metadata": {},
     "output_type": "display_data"
    },
    {
     "data": {
      "application/vnd.jupyter.widget-view+json": {
       "model_id": "adb8ef79fb5d4886b5c93b5b6565ce9e",
       "version_major": 2,
       "version_minor": 0
      },
      "text/plain": [
       "Computing transition probabilities:   0%|          | 0/98 [00:00<?, ?it/s]"
      ]
     },
     "metadata": {},
     "output_type": "display_data"
    },
    {
     "data": {
      "application/vnd.jupyter.widget-view+json": {
       "model_id": "e52014423ca94f6c8df2cc8527594038",
       "version_major": 2,
       "version_minor": 0
      },
      "text/plain": [
       "Computing transition probabilities:   0%|          | 0/98 [00:00<?, ?it/s]"
      ]
     },
     "metadata": {},
     "output_type": "display_data"
    },
    {
     "data": {
      "application/vnd.jupyter.widget-view+json": {
       "model_id": "75c1caffc39642b9adfcd46f1a2339a4",
       "version_major": 2,
       "version_minor": 0
      },
      "text/plain": [
       "Computing transition probabilities:   0%|          | 0/98 [00:00<?, ?it/s]"
      ]
     },
     "metadata": {},
     "output_type": "display_data"
    },
    {
     "data": {
      "application/vnd.jupyter.widget-view+json": {
       "model_id": "5cf78c06c3644b3b8b555b93715dee53",
       "version_major": 2,
       "version_minor": 0
      },
      "text/plain": [
       "Computing transition probabilities:   0%|          | 0/98 [00:00<?, ?it/s]"
      ]
     },
     "metadata": {},
     "output_type": "display_data"
    },
    {
     "data": {
      "application/vnd.jupyter.widget-view+json": {
       "model_id": "e3c609d18e9140a28b0899368bad816a",
       "version_major": 2,
       "version_minor": 0
      },
      "text/plain": [
       "Computing transition probabilities:   0%|          | 0/98 [00:00<?, ?it/s]"
      ]
     },
     "metadata": {},
     "output_type": "display_data"
    },
    {
     "data": {
      "application/vnd.jupyter.widget-view+json": {
       "model_id": "bcb38e2249974c8db0f6995c08bef2a1",
       "version_major": 2,
       "version_minor": 0
      },
      "text/plain": [
       "Computing transition probabilities:   0%|          | 0/98 [00:00<?, ?it/s]"
      ]
     },
     "metadata": {},
     "output_type": "display_data"
    },
    {
     "data": {
      "application/vnd.jupyter.widget-view+json": {
       "model_id": "b723385ff76a43a783cb278b0fee4716",
       "version_major": 2,
       "version_minor": 0
      },
      "text/plain": [
       "Computing transition probabilities:   0%|          | 0/98 [00:00<?, ?it/s]"
      ]
     },
     "metadata": {},
     "output_type": "display_data"
    },
    {
     "data": {
      "application/vnd.jupyter.widget-view+json": {
       "model_id": "b743c268d69e4bf389c2730ab27a5e81",
       "version_major": 2,
       "version_minor": 0
      },
      "text/plain": [
       "Computing transition probabilities:   0%|          | 0/98 [00:00<?, ?it/s]"
      ]
     },
     "metadata": {},
     "output_type": "display_data"
    },
    {
     "data": {
      "application/vnd.jupyter.widget-view+json": {
       "model_id": "4eec4c19bcb44bee9f37474d8431fb16",
       "version_major": 2,
       "version_minor": 0
      },
      "text/plain": [
       "Computing transition probabilities:   0%|          | 0/98 [00:00<?, ?it/s]"
      ]
     },
     "metadata": {},
     "output_type": "display_data"
    },
    {
     "data": {
      "application/vnd.jupyter.widget-view+json": {
       "model_id": "9ee601fcdfca4af88a67f0caf3fcc729",
       "version_major": 2,
       "version_minor": 0
      },
      "text/plain": [
       "Computing transition probabilities:   0%|          | 0/98 [00:00<?, ?it/s]"
      ]
     },
     "metadata": {},
     "output_type": "display_data"
    },
    {
     "data": {
      "application/vnd.jupyter.widget-view+json": {
       "model_id": "6f9c5790880a4cd98d09bc2be981bdba",
       "version_major": 2,
       "version_minor": 0
      },
      "text/plain": [
       "Computing transition probabilities:   0%|          | 0/97 [00:00<?, ?it/s]"
      ]
     },
     "metadata": {},
     "output_type": "display_data"
    },
    {
     "data": {
      "application/vnd.jupyter.widget-view+json": {
       "model_id": "f0d8910bac5b462895120e9bcf9581e1",
       "version_major": 2,
       "version_minor": 0
      },
      "text/plain": [
       "Computing transition probabilities:   0%|          | 0/98 [00:00<?, ?it/s]"
      ]
     },
     "metadata": {},
     "output_type": "display_data"
    },
    {
     "data": {
      "application/vnd.jupyter.widget-view+json": {
       "model_id": "e2189288f78d49d19fa734ca1bcb9ba5",
       "version_major": 2,
       "version_minor": 0
      },
      "text/plain": [
       "Computing transition probabilities:   0%|          | 0/98 [00:00<?, ?it/s]"
      ]
     },
     "metadata": {},
     "output_type": "display_data"
    },
    {
     "data": {
      "application/vnd.jupyter.widget-view+json": {
       "model_id": "f6506f1cae514829b710cf89cbd35ddb",
       "version_major": 2,
       "version_minor": 0
      },
      "text/plain": [
       "Computing transition probabilities:   0%|          | 0/98 [00:00<?, ?it/s]"
      ]
     },
     "metadata": {},
     "output_type": "display_data"
    },
    {
     "data": {
      "application/vnd.jupyter.widget-view+json": {
       "model_id": "610c59f21253423699abca4baf41916a",
       "version_major": 2,
       "version_minor": 0
      },
      "text/plain": [
       "Computing transition probabilities:   0%|          | 0/98 [00:00<?, ?it/s]"
      ]
     },
     "metadata": {},
     "output_type": "display_data"
    },
    {
     "data": {
      "application/vnd.jupyter.widget-view+json": {
       "model_id": "ba3ba406a70649caba087ab1d1984a9f",
       "version_major": 2,
       "version_minor": 0
      },
      "text/plain": [
       "Computing transition probabilities:   0%|          | 0/98 [00:00<?, ?it/s]"
      ]
     },
     "metadata": {},
     "output_type": "display_data"
    },
    {
     "data": {
      "application/vnd.jupyter.widget-view+json": {
       "model_id": "b5b855c02252476287d084bd4180a6a4",
       "version_major": 2,
       "version_minor": 0
      },
      "text/plain": [
       "Computing transition probabilities:   0%|          | 0/98 [00:00<?, ?it/s]"
      ]
     },
     "metadata": {},
     "output_type": "display_data"
    },
    {
     "data": {
      "application/vnd.jupyter.widget-view+json": {
       "model_id": "664277159e924e74ab284323c0709011",
       "version_major": 2,
       "version_minor": 0
      },
      "text/plain": [
       "Computing transition probabilities:   0%|          | 0/98 [00:00<?, ?it/s]"
      ]
     },
     "metadata": {},
     "output_type": "display_data"
    },
    {
     "name": "stdout",
     "output_type": "stream",
     "text": [
      "Accuracy: 0.865 (95% CI: 0.862 - 0.868)\n",
      "Precision: 0.771 (95% CI: 0.763 - 0.779)\n",
      "Recall: 0.651 (95% CI: 0.642 - 0.660)\n",
      "F1 Score: 0.706 (95% CI: 0.699 - 0.712)\n",
      "ROC AUC: 0.921 (95% CI: 0.919 - 0.923)\n",
      "Total Computation Time: 448.455 seconds\n",
      "\n",
      "Classifier: MLP\n"
     ]
    },
    {
     "data": {
      "application/vnd.jupyter.widget-view+json": {
       "model_id": "3f34c006c3524da3b061d46446517a50",
       "version_major": 2,
       "version_minor": 0
      },
      "text/plain": [
       "Computing transition probabilities:   0%|          | 0/98 [00:00<?, ?it/s]"
      ]
     },
     "metadata": {},
     "output_type": "display_data"
    },
    {
     "data": {
      "application/vnd.jupyter.widget-view+json": {
       "model_id": "733d6702962e4f219aa942d693ab1d65",
       "version_major": 2,
       "version_minor": 0
      },
      "text/plain": [
       "Computing transition probabilities:   0%|          | 0/98 [00:00<?, ?it/s]"
      ]
     },
     "metadata": {},
     "output_type": "display_data"
    },
    {
     "data": {
      "application/vnd.jupyter.widget-view+json": {
       "model_id": "e74683ec02d54a67a7439f7316d12b50",
       "version_major": 2,
       "version_minor": 0
      },
      "text/plain": [
       "Computing transition probabilities:   0%|          | 0/98 [00:00<?, ?it/s]"
      ]
     },
     "metadata": {},
     "output_type": "display_data"
    },
    {
     "data": {
      "application/vnd.jupyter.widget-view+json": {
       "model_id": "9cb7ffe5046f45a8bb63cdd97a1f93c5",
       "version_major": 2,
       "version_minor": 0
      },
      "text/plain": [
       "Computing transition probabilities:   0%|          | 0/98 [00:00<?, ?it/s]"
      ]
     },
     "metadata": {},
     "output_type": "display_data"
    },
    {
     "data": {
      "application/vnd.jupyter.widget-view+json": {
       "model_id": "7e22a4405df54e39b5caae290928ecdd",
       "version_major": 2,
       "version_minor": 0
      },
      "text/plain": [
       "Computing transition probabilities:   0%|          | 0/98 [00:00<?, ?it/s]"
      ]
     },
     "metadata": {},
     "output_type": "display_data"
    },
    {
     "data": {
      "application/vnd.jupyter.widget-view+json": {
       "model_id": "98b4d2d5e54e4fd781aa80bc6f175110",
       "version_major": 2,
       "version_minor": 0
      },
      "text/plain": [
       "Computing transition probabilities:   0%|          | 0/98 [00:00<?, ?it/s]"
      ]
     },
     "metadata": {},
     "output_type": "display_data"
    },
    {
     "data": {
      "application/vnd.jupyter.widget-view+json": {
       "model_id": "12a8079051b04c2da2dde59e3fab23a1",
       "version_major": 2,
       "version_minor": 0
      },
      "text/plain": [
       "Computing transition probabilities:   0%|          | 0/98 [00:00<?, ?it/s]"
      ]
     },
     "metadata": {},
     "output_type": "display_data"
    },
    {
     "data": {
      "application/vnd.jupyter.widget-view+json": {
       "model_id": "e156c0a03ac04d71a3873015b23e22c4",
       "version_major": 2,
       "version_minor": 0
      },
      "text/plain": [
       "Computing transition probabilities:   0%|          | 0/98 [00:00<?, ?it/s]"
      ]
     },
     "metadata": {},
     "output_type": "display_data"
    },
    {
     "data": {
      "application/vnd.jupyter.widget-view+json": {
       "model_id": "47d753a053d0420eaae86790432bf579",
       "version_major": 2,
       "version_minor": 0
      },
      "text/plain": [
       "Computing transition probabilities:   0%|          | 0/98 [00:00<?, ?it/s]"
      ]
     },
     "metadata": {},
     "output_type": "display_data"
    },
    {
     "data": {
      "application/vnd.jupyter.widget-view+json": {
       "model_id": "58e2f3e1dc4243568055ef36bc1b7a71",
       "version_major": 2,
       "version_minor": 0
      },
      "text/plain": [
       "Computing transition probabilities:   0%|          | 0/98 [00:00<?, ?it/s]"
      ]
     },
     "metadata": {},
     "output_type": "display_data"
    },
    {
     "data": {
      "application/vnd.jupyter.widget-view+json": {
       "model_id": "ff9422c0b9c24413a36562ac08bc1787",
       "version_major": 2,
       "version_minor": 0
      },
      "text/plain": [
       "Computing transition probabilities:   0%|          | 0/98 [00:00<?, ?it/s]"
      ]
     },
     "metadata": {},
     "output_type": "display_data"
    },
    {
     "data": {
      "application/vnd.jupyter.widget-view+json": {
       "model_id": "9df748a609384067beee82c6bec85102",
       "version_major": 2,
       "version_minor": 0
      },
      "text/plain": [
       "Computing transition probabilities:   0%|          | 0/98 [00:00<?, ?it/s]"
      ]
     },
     "metadata": {},
     "output_type": "display_data"
    },
    {
     "data": {
      "application/vnd.jupyter.widget-view+json": {
       "model_id": "540a2688f384460191d8874a9f204322",
       "version_major": 2,
       "version_minor": 0
      },
      "text/plain": [
       "Computing transition probabilities:   0%|          | 0/97 [00:00<?, ?it/s]"
      ]
     },
     "metadata": {},
     "output_type": "display_data"
    },
    {
     "data": {
      "application/vnd.jupyter.widget-view+json": {
       "model_id": "0d7e8d08afae42059f2870b5848c37f3",
       "version_major": 2,
       "version_minor": 0
      },
      "text/plain": [
       "Computing transition probabilities:   0%|          | 0/98 [00:00<?, ?it/s]"
      ]
     },
     "metadata": {},
     "output_type": "display_data"
    },
    {
     "data": {
      "application/vnd.jupyter.widget-view+json": {
       "model_id": "b6898136d2c248e8aee599cd8f0841f5",
       "version_major": 2,
       "version_minor": 0
      },
      "text/plain": [
       "Computing transition probabilities:   0%|          | 0/98 [00:00<?, ?it/s]"
      ]
     },
     "metadata": {},
     "output_type": "display_data"
    },
    {
     "data": {
      "application/vnd.jupyter.widget-view+json": {
       "model_id": "d2983c95f070400db96438459fa99d2c",
       "version_major": 2,
       "version_minor": 0
      },
      "text/plain": [
       "Computing transition probabilities:   0%|          | 0/98 [00:00<?, ?it/s]"
      ]
     },
     "metadata": {},
     "output_type": "display_data"
    },
    {
     "data": {
      "application/vnd.jupyter.widget-view+json": {
       "model_id": "dcd1676478f5477e8a8f46afb752c1b5",
       "version_major": 2,
       "version_minor": 0
      },
      "text/plain": [
       "Computing transition probabilities:   0%|          | 0/98 [00:00<?, ?it/s]"
      ]
     },
     "metadata": {},
     "output_type": "display_data"
    },
    {
     "data": {
      "application/vnd.jupyter.widget-view+json": {
       "model_id": "952b55c9cf32476897112c057efc9e06",
       "version_major": 2,
       "version_minor": 0
      },
      "text/plain": [
       "Computing transition probabilities:   0%|          | 0/98 [00:00<?, ?it/s]"
      ]
     },
     "metadata": {},
     "output_type": "display_data"
    },
    {
     "data": {
      "application/vnd.jupyter.widget-view+json": {
       "model_id": "aaccb98d68d6463591d64785f457cfaa",
       "version_major": 2,
       "version_minor": 0
      },
      "text/plain": [
       "Computing transition probabilities:   0%|          | 0/98 [00:00<?, ?it/s]"
      ]
     },
     "metadata": {},
     "output_type": "display_data"
    },
    {
     "data": {
      "application/vnd.jupyter.widget-view+json": {
       "model_id": "6466c3b6c6bb47d28be7fe9d56c81d8a",
       "version_major": 2,
       "version_minor": 0
      },
      "text/plain": [
       "Computing transition probabilities:   0%|          | 0/98 [00:00<?, ?it/s]"
      ]
     },
     "metadata": {},
     "output_type": "display_data"
    },
    {
     "name": "stdout",
     "output_type": "stream",
     "text": [
      "Accuracy: 0.847 (95% CI: 0.843 - 0.851)\n",
      "Precision: 0.729 (95% CI: 0.716 - 0.741)\n",
      "Recall: 0.611 (95% CI: 0.593 - 0.629)\n",
      "F1 Score: 0.664 (95% CI: 0.653 - 0.674)\n",
      "ROC AUC: 0.903 (95% CI: 0.899 - 0.906)\n",
      "Total Computation Time: 2248.979 seconds\n",
      "\n"
     ]
    }
   ],
   "source": [
    "import config_cat_embedding\n",
    "import numpy as np\n",
    "import pandas as pd\n",
    "import random\n",
    "import time\n",
    "\n",
    "from gensim.models import Word2Vec\n",
    "from sklearn.model_selection import StratifiedKFold\n",
    "from sklearn.linear_model import LogisticRegression\n",
    "from sklearn.tree import DecisionTreeClassifier\n",
    "from sklearn.neighbors import KNeighborsClassifier\n",
    "# from sklearn.svm import SVC\n",
    "from sklearn.ensemble import RandomForestClassifier\n",
    "from xgboost import XGBClassifier\n",
    "from scikeras.wrappers import KerasClassifier\n",
    "from sklearn.preprocessing import StandardScaler\n",
    "from sklearn.metrics import (accuracy_score, precision_score, recall_score,\n",
    "                             f1_score, roc_auc_score)\n",
    "import networkx as nx\n",
    "from node2vec import Node2Vec\n",
    "import matplotlib.pyplot as plt\n",
    "\n",
    "from scipy.sparse import coo_matrix, csr_matrix\n",
    "\n",
    "from tqdm.notebook import tqdm\n",
    "from data_prep import bank_data_prep, adult_data_prep\n",
    "from embedding_helper import create_network\n",
    "\n",
    "from scipy import stats  # For confidence intervals\n",
    "\n",
    "# Set the random seed for reproducibility\n",
    "random.seed(42)\n",
    "np.random.seed(42)\n",
    "\n",
    "def create_cooccurrence_matrix_diag(df_cat):\n",
    "    # Get unique categories\n",
    "    categories = np.unique(df_cat)\n",
    "\n",
    "    # Create a dictionary to map category to index\n",
    "    category_to_index = {cat: i for i, cat in enumerate(categories)}\n",
    "\n",
    "    # Calculate co-occurrence matrix\n",
    "    matrix = np.zeros((len(categories), len(categories)))\n",
    "    for row in df_cat.itertuples(index=False):\n",
    "        for i, cat1 in enumerate(row):\n",
    "            for j, cat2 in enumerate(row):\n",
    "                if i != j:\n",
    "                    matrix[category_to_index[cat1], category_to_index[cat2]] += 1\n",
    "\n",
    "    # Calculate the diagonal values\n",
    "    diagonal_values = []\n",
    "    for cat in categories:\n",
    "        count = df_cat.stack().value_counts()[cat]\n",
    "        diagonal_values.append(count)\n",
    "\n",
    "    # Set diagonal values to category counts\n",
    "    np.fill_diagonal(matrix, diagonal_values)\n",
    "\n",
    "    # Convert the matrix to a sparse matrix\n",
    "    sparse_matrix = coo_matrix(matrix)\n",
    "\n",
    "    # Normalize the matrix\n",
    "    normalized_matrix = csr_matrix(sparse_matrix / sparse_matrix.sum(axis=1))\n",
    "\n",
    "    # Convert to DataFrame for easier handling\n",
    "    co_occurrence_matrix_norm = pd.DataFrame(normalized_matrix.toarray(), index=categories, columns=categories)\n",
    "\n",
    "    return co_occurrence_matrix_norm\n",
    "\n",
    "# get_embeddings function outside the loop\n",
    "def get_embeddings(df, model):\n",
    "    embeddings = []\n",
    "    for index, row in df.iterrows():\n",
    "        node_vectors = []\n",
    "        for cat in row:\n",
    "            if str(cat) in model.wv:\n",
    "                node_vectors.append(model.wv[str(cat)])\n",
    "            else:\n",
    "                node_vectors.append(np.zeros(model.vector_size))\n",
    "        embeddings.append(np.mean(node_vectors, axis=0))\n",
    "    return np.array(embeddings)\n",
    "\n",
    "# =============================================\n",
    "# Start of the adapted code for cross-validation\n",
    "# =============================================\n",
    "\n",
    "# Load and preprocess data\n",
    "data_path = config_cat_embedding.paths['data']\n",
    "bank_data = pd.read_csv(data_path+'adult.csv', sep=',')\n",
    "\n",
    "df_bank, cat_cols = adult_data_prep(bank_data)\n",
    "\n",
    "X = df_bank.iloc[:, :-1]\n",
    "y = df_bank.y\n",
    "\n",
    "# Define the classifiers\n",
    "seed = 42\n",
    "\n",
    "models = [\n",
    "    ('LR', LogisticRegression(solver='lbfgs', random_state=seed, max_iter=1000)),\n",
    "    ('DT', DecisionTreeClassifier(criterion='entropy', max_depth=3, random_state=seed)),\n",
    "    ('RF', RandomForestClassifier(n_estimators=200, max_depth=5, random_state=seed, min_samples_leaf=3)),\n",
    "    ('KNN', KNeighborsClassifier(n_neighbors=3)),\n",
    "    ('XGB', XGBClassifier(eval_metric='logloss', random_state=seed)),\n",
    "    ('MLP', KerasClassifier(\n",
    "        model=create_network,\n",
    "        epochs=100, batch_size=100, verbose=0, random_state=seed))\n",
    "]\n",
    "\n",
    "# Cross-validation setup\n",
    "cv = StratifiedKFold(n_splits=20, shuffle=True, random_state=seed)\n",
    "\n",
    "# Function to calculate confidence intervals\n",
    "def confidence_interval(data, confidence=0.95):\n",
    "    n = len(data)\n",
    "    m = np.mean(data)\n",
    "    std_err = stats.sem(data)\n",
    "    h = std_err * stats.t.ppf((1 + confidence) / 2, n - 1)\n",
    "    return m, m - h, m + h\n",
    "\n",
    "# Loop over models\n",
    "for name, model in models:\n",
    "    print(f\"Classifier: {name}\")\n",
    "    # Lists to store metrics for each fold\n",
    "    accuracies = []\n",
    "    precisions = []\n",
    "    recalls = []\n",
    "    f1s = []\n",
    "    roc_aucs = []\n",
    "\n",
    "    # Start the timer before cross-validation\n",
    "    start_time = time.time()\n",
    "\n",
    "    fold = 1\n",
    "    for train_index, test_index in cv.split(X, y):\n",
    "        # Split the data into training and testing sets for this fold\n",
    "        X_train_fold, X_test_fold = X.iloc[train_index].copy(), X.iloc[test_index].copy()\n",
    "        y_train_fold, y_test_fold = y.iloc[train_index], y.iloc[test_index]\n",
    "\n",
    "        # Preprocess data within the fold\n",
    "        # Handle categorical variables\n",
    "        cat_data_train = X_train_fold[cat_cols]\n",
    "        cat_data_test = X_test_fold[cat_cols]\n",
    "\n",
    "        # Create co-occurrence matrix using the training data\n",
    "        co_occurrence_matrix = create_cooccurrence_matrix_diag(cat_data_train)\n",
    "\n",
    "        # Use Node2Vec or another method to create embeddings from the co-occurrence matrix\n",
    "        # Here, we will create a graph and compute embeddings\n",
    "        G = nx.from_pandas_adjacency(co_occurrence_matrix)\n",
    "\n",
    "        node2vec = Node2Vec(G, dimensions=50, walk_length=10, num_walks=20, workers=4, seed=seed)\n",
    "        node2vec_model = node2vec.fit(window=10, min_count=1, batch_words=4)\n",
    "\n",
    "        # Map embeddings to the categorical data\n",
    "        X_train_emb = get_embeddings(cat_data_train, node2vec_model)\n",
    "        X_test_emb = get_embeddings(cat_data_test, node2vec_model)\n",
    "\n",
    "        # If there are numerical features, include them\n",
    "        num_cols = X_train_fold.drop(columns=cat_cols).columns.tolist()\n",
    "        if num_cols:\n",
    "            num_data_train = X_train_fold[num_cols].values\n",
    "            num_data_test = X_test_fold[num_cols].values\n",
    "\n",
    "            # Combine numerical and embedding features\n",
    "            X_train_combined = np.hstack((X_train_emb, num_data_train))\n",
    "            X_test_combined = np.hstack((X_test_emb, num_data_test))\n",
    "        else:\n",
    "            X_train_combined = X_train_emb\n",
    "            X_test_combined = X_test_emb\n",
    "\n",
    "        # Standard scaling\n",
    "        stc = StandardScaler()\n",
    "        X_train_scaled = stc.fit_transform(X_train_combined)\n",
    "        X_test_scaled = stc.transform(X_test_combined)\n",
    "\n",
    "        # Update number_of_features for MLP\n",
    "        number_of_features = X_train_scaled.shape[1]\n",
    "        if name == 'MLP':\n",
    "            # Update the model with the correct number of features\n",
    "            model.set_params(model__number_of_features=number_of_features)\n",
    "\n",
    "        # Fit the model\n",
    "        model.fit(X_train_scaled, y_train_fold)\n",
    "        # Predict on the test fold\n",
    "        y_pred_fold = model.predict(X_test_scaled)\n",
    "\n",
    "        # Get prediction probabilities for ROC AUC\n",
    "        if hasattr(model, \"predict_proba\"):\n",
    "            y_pred_prob_fold = model.predict_proba(X_test_scaled)[:, 1]\n",
    "        else:\n",
    "            # For classifiers without predict_proba, use decision_function\n",
    "            y_pred_prob_fold = model.decision_function(X_test_scaled)\n",
    "            # Normalize the decision function output to [0,1] range\n",
    "            y_pred_prob_fold = (y_pred_prob_fold - y_pred_prob_fold.min()) / (y_pred_prob_fold.max() - y_pred_prob_fold.min())\n",
    "\n",
    "        # Calculate metrics\n",
    "        accuracies.append(accuracy_score(y_test_fold, y_pred_fold))\n",
    "        precisions.append(precision_score(y_test_fold, y_pred_fold, zero_division=0))\n",
    "        recalls.append(recall_score(y_test_fold, y_pred_fold))\n",
    "        f1s.append(f1_score(y_test_fold, y_pred_fold))\n",
    "        roc_aucs.append(roc_auc_score(y_test_fold, y_pred_prob_fold))\n",
    "\n",
    "        # print(f\"Fold {fold} completed.\")\n",
    "        fold += 1\n",
    "\n",
    "    # Stop the timer after cross-validation\n",
    "    end_time = time.time()\n",
    "    total_computation_time = end_time - start_time  # Total time for the model\n",
    "\n",
    "    # Calculate mean and confidence intervals\n",
    "    acc_mean, acc_ci_lower, acc_ci_upper = confidence_interval(accuracies)\n",
    "    prec_mean, prec_ci_lower, prec_ci_upper = confidence_interval(precisions)\n",
    "    rec_mean, rec_ci_lower, rec_ci_upper = confidence_interval(recalls)\n",
    "    f1_mean, f1_ci_lower, f1_ci_upper = confidence_interval(f1s)\n",
    "    roc_mean, roc_ci_lower, roc_ci_upper = confidence_interval(roc_aucs)\n",
    "\n",
    "    # Print results\n",
    "    print(f\"Accuracy: {acc_mean:.3f} (95% CI: {acc_ci_lower:.3f} - {acc_ci_upper:.3f})\")\n",
    "    print(f\"Precision: {prec_mean:.3f} (95% CI: {prec_ci_lower:.3f} - {prec_ci_upper:.3f})\")\n",
    "    print(f\"Recall: {rec_mean:.3f} (95% CI: {rec_ci_lower:.3f} - {rec_ci_upper:.3f})\")\n",
    "    print(f\"F1 Score: {f1_mean:.3f} (95% CI: {f1_ci_lower:.3f} - {f1_ci_upper:.3f})\")\n",
    "    print(f\"ROC AUC: {roc_mean:.3f} (95% CI: {roc_ci_lower:.3f} - {roc_ci_upper:.3f})\")\n",
    "    print(f\"Total Computation Time: {total_computation_time:.3f} seconds\\n\")\n"
   ]
  },
  {
   "cell_type": "code",
   "execution_count": 2,
   "id": "e72eca87-c8a6-4b47-8eab-8301b741477f",
   "metadata": {},
   "outputs": [
    {
     "name": "stdout",
     "output_type": "stream",
     "text": [
      "Classifier: LR\n"
     ]
    },
    {
     "data": {
      "application/vnd.jupyter.widget-view+json": {
       "model_id": "6faf4bb7972341a9a29279c16b7501e5",
       "version_major": 2,
       "version_minor": 0
      },
      "text/plain": [
       "Computing transition probabilities:   0%|          | 0/98 [00:00<?, ?it/s]"
      ]
     },
     "metadata": {},
     "output_type": "display_data"
    },
    {
     "data": {
      "application/vnd.jupyter.widget-view+json": {
       "model_id": "2a6da2b7d5554aa789eb6e91ea438d45",
       "version_major": 2,
       "version_minor": 0
      },
      "text/plain": [
       "Computing transition probabilities:   0%|          | 0/98 [00:00<?, ?it/s]"
      ]
     },
     "metadata": {},
     "output_type": "display_data"
    },
    {
     "data": {
      "application/vnd.jupyter.widget-view+json": {
       "model_id": "466cb540fb534de3b104ffc2e7c52cee",
       "version_major": 2,
       "version_minor": 0
      },
      "text/plain": [
       "Computing transition probabilities:   0%|          | 0/98 [00:00<?, ?it/s]"
      ]
     },
     "metadata": {},
     "output_type": "display_data"
    },
    {
     "data": {
      "application/vnd.jupyter.widget-view+json": {
       "model_id": "45267af01382446a9e4106fe1dad50c8",
       "version_major": 2,
       "version_minor": 0
      },
      "text/plain": [
       "Computing transition probabilities:   0%|          | 0/98 [00:00<?, ?it/s]"
      ]
     },
     "metadata": {},
     "output_type": "display_data"
    },
    {
     "data": {
      "application/vnd.jupyter.widget-view+json": {
       "model_id": "91411cd5b247433bbaab050a34d9aa99",
       "version_major": 2,
       "version_minor": 0
      },
      "text/plain": [
       "Computing transition probabilities:   0%|          | 0/98 [00:00<?, ?it/s]"
      ]
     },
     "metadata": {},
     "output_type": "display_data"
    },
    {
     "data": {
      "application/vnd.jupyter.widget-view+json": {
       "model_id": "ae150ff576014031af3f7886e902f12b",
       "version_major": 2,
       "version_minor": 0
      },
      "text/plain": [
       "Computing transition probabilities:   0%|          | 0/98 [00:00<?, ?it/s]"
      ]
     },
     "metadata": {},
     "output_type": "display_data"
    },
    {
     "data": {
      "application/vnd.jupyter.widget-view+json": {
       "model_id": "1b63462a5c1d448abcd7c70b33b14021",
       "version_major": 2,
       "version_minor": 0
      },
      "text/plain": [
       "Computing transition probabilities:   0%|          | 0/98 [00:00<?, ?it/s]"
      ]
     },
     "metadata": {},
     "output_type": "display_data"
    },
    {
     "data": {
      "application/vnd.jupyter.widget-view+json": {
       "model_id": "ede8b9bfb99e41538235e3937ede3b04",
       "version_major": 2,
       "version_minor": 0
      },
      "text/plain": [
       "Computing transition probabilities:   0%|          | 0/98 [00:00<?, ?it/s]"
      ]
     },
     "metadata": {},
     "output_type": "display_data"
    },
    {
     "data": {
      "application/vnd.jupyter.widget-view+json": {
       "model_id": "d342a459bdaa4b8583d289135a2e2976",
       "version_major": 2,
       "version_minor": 0
      },
      "text/plain": [
       "Computing transition probabilities:   0%|          | 0/98 [00:00<?, ?it/s]"
      ]
     },
     "metadata": {},
     "output_type": "display_data"
    },
    {
     "data": {
      "application/vnd.jupyter.widget-view+json": {
       "model_id": "bbb7079469bd4fcd914be159dc88623d",
       "version_major": 2,
       "version_minor": 0
      },
      "text/plain": [
       "Computing transition probabilities:   0%|          | 0/98 [00:00<?, ?it/s]"
      ]
     },
     "metadata": {},
     "output_type": "display_data"
    },
    {
     "data": {
      "application/vnd.jupyter.widget-view+json": {
       "model_id": "4974990f229e4a6597044c6bebcc8875",
       "version_major": 2,
       "version_minor": 0
      },
      "text/plain": [
       "Computing transition probabilities:   0%|          | 0/98 [00:00<?, ?it/s]"
      ]
     },
     "metadata": {},
     "output_type": "display_data"
    },
    {
     "data": {
      "application/vnd.jupyter.widget-view+json": {
       "model_id": "0e4a6db0ecdc42669b2469e8222f0682",
       "version_major": 2,
       "version_minor": 0
      },
      "text/plain": [
       "Computing transition probabilities:   0%|          | 0/98 [00:00<?, ?it/s]"
      ]
     },
     "metadata": {},
     "output_type": "display_data"
    },
    {
     "data": {
      "application/vnd.jupyter.widget-view+json": {
       "model_id": "3c03bab5668a4e40834ac66fa6fd173b",
       "version_major": 2,
       "version_minor": 0
      },
      "text/plain": [
       "Computing transition probabilities:   0%|          | 0/97 [00:00<?, ?it/s]"
      ]
     },
     "metadata": {},
     "output_type": "display_data"
    },
    {
     "data": {
      "application/vnd.jupyter.widget-view+json": {
       "model_id": "f8589b4535dd4cf399894299b15c6b13",
       "version_major": 2,
       "version_minor": 0
      },
      "text/plain": [
       "Computing transition probabilities:   0%|          | 0/98 [00:00<?, ?it/s]"
      ]
     },
     "metadata": {},
     "output_type": "display_data"
    },
    {
     "data": {
      "application/vnd.jupyter.widget-view+json": {
       "model_id": "9dc2c7ca9b544dc98673b9ff580dbfca",
       "version_major": 2,
       "version_minor": 0
      },
      "text/plain": [
       "Computing transition probabilities:   0%|          | 0/98 [00:00<?, ?it/s]"
      ]
     },
     "metadata": {},
     "output_type": "display_data"
    },
    {
     "data": {
      "application/vnd.jupyter.widget-view+json": {
       "model_id": "7dcf11314ca84a9faa4c5d6ff3a847f5",
       "version_major": 2,
       "version_minor": 0
      },
      "text/plain": [
       "Computing transition probabilities:   0%|          | 0/98 [00:00<?, ?it/s]"
      ]
     },
     "metadata": {},
     "output_type": "display_data"
    },
    {
     "data": {
      "application/vnd.jupyter.widget-view+json": {
       "model_id": "ec64a37288d945e3a39029cfc720181f",
       "version_major": 2,
       "version_minor": 0
      },
      "text/plain": [
       "Computing transition probabilities:   0%|          | 0/98 [00:00<?, ?it/s]"
      ]
     },
     "metadata": {},
     "output_type": "display_data"
    },
    {
     "data": {
      "application/vnd.jupyter.widget-view+json": {
       "model_id": "4a51684714e74a18a1c022ecedef2f73",
       "version_major": 2,
       "version_minor": 0
      },
      "text/plain": [
       "Computing transition probabilities:   0%|          | 0/98 [00:00<?, ?it/s]"
      ]
     },
     "metadata": {},
     "output_type": "display_data"
    },
    {
     "data": {
      "application/vnd.jupyter.widget-view+json": {
       "model_id": "097e128736e947168604baaead495ac2",
       "version_major": 2,
       "version_minor": 0
      },
      "text/plain": [
       "Computing transition probabilities:   0%|          | 0/98 [00:00<?, ?it/s]"
      ]
     },
     "metadata": {},
     "output_type": "display_data"
    },
    {
     "data": {
      "application/vnd.jupyter.widget-view+json": {
       "model_id": "a422d24d378a4a958ffd729662dcd3e8",
       "version_major": 2,
       "version_minor": 0
      },
      "text/plain": [
       "Computing transition probabilities:   0%|          | 0/98 [00:00<?, ?it/s]"
      ]
     },
     "metadata": {},
     "output_type": "display_data"
    },
    {
     "name": "stdout",
     "output_type": "stream",
     "text": [
      "Accuracy: 0.811 (95% CI: 0.806 - 0.816)\n",
      "Precision: 0.696 (95% CI: 0.688 - 0.704)\n",
      "Recall: 0.422 (95% CI: 0.391 - 0.453)\n",
      "F1 Score: 0.523 (95% CI: 0.497 - 0.548)\n",
      "ROC AUC: 0.846 (95% CI: 0.835 - 0.858)\n",
      "Total Computation Time: 263.717 seconds\n",
      "\n",
      "Classifier: DT\n"
     ]
    },
    {
     "data": {
      "application/vnd.jupyter.widget-view+json": {
       "model_id": "b20668aef32f4fc0b566b59c9205d11e",
       "version_major": 2,
       "version_minor": 0
      },
      "text/plain": [
       "Computing transition probabilities:   0%|          | 0/98 [00:00<?, ?it/s]"
      ]
     },
     "metadata": {},
     "output_type": "display_data"
    },
    {
     "data": {
      "application/vnd.jupyter.widget-view+json": {
       "model_id": "e6ebedaee45f4222aadf1dc16637098b",
       "version_major": 2,
       "version_minor": 0
      },
      "text/plain": [
       "Computing transition probabilities:   0%|          | 0/98 [00:00<?, ?it/s]"
      ]
     },
     "metadata": {},
     "output_type": "display_data"
    },
    {
     "data": {
      "application/vnd.jupyter.widget-view+json": {
       "model_id": "f2635d7dae504584899e4eaa56d34f7f",
       "version_major": 2,
       "version_minor": 0
      },
      "text/plain": [
       "Computing transition probabilities:   0%|          | 0/98 [00:00<?, ?it/s]"
      ]
     },
     "metadata": {},
     "output_type": "display_data"
    },
    {
     "data": {
      "application/vnd.jupyter.widget-view+json": {
       "model_id": "688070c360764ebd8416745c83daf35b",
       "version_major": 2,
       "version_minor": 0
      },
      "text/plain": [
       "Computing transition probabilities:   0%|          | 0/98 [00:00<?, ?it/s]"
      ]
     },
     "metadata": {},
     "output_type": "display_data"
    },
    {
     "data": {
      "application/vnd.jupyter.widget-view+json": {
       "model_id": "456eb13ccc784f849d0595e74d2c1a0c",
       "version_major": 2,
       "version_minor": 0
      },
      "text/plain": [
       "Computing transition probabilities:   0%|          | 0/98 [00:00<?, ?it/s]"
      ]
     },
     "metadata": {},
     "output_type": "display_data"
    },
    {
     "data": {
      "application/vnd.jupyter.widget-view+json": {
       "model_id": "8fd0c79552c3446687a2b35b34d4d6af",
       "version_major": 2,
       "version_minor": 0
      },
      "text/plain": [
       "Computing transition probabilities:   0%|          | 0/98 [00:00<?, ?it/s]"
      ]
     },
     "metadata": {},
     "output_type": "display_data"
    },
    {
     "data": {
      "application/vnd.jupyter.widget-view+json": {
       "model_id": "f31713d3333647e9b32b8e59dcf177ad",
       "version_major": 2,
       "version_minor": 0
      },
      "text/plain": [
       "Computing transition probabilities:   0%|          | 0/98 [00:00<?, ?it/s]"
      ]
     },
     "metadata": {},
     "output_type": "display_data"
    },
    {
     "data": {
      "application/vnd.jupyter.widget-view+json": {
       "model_id": "ddc1fa4cc2674c5c9e488cb397771e63",
       "version_major": 2,
       "version_minor": 0
      },
      "text/plain": [
       "Computing transition probabilities:   0%|          | 0/98 [00:00<?, ?it/s]"
      ]
     },
     "metadata": {},
     "output_type": "display_data"
    },
    {
     "data": {
      "application/vnd.jupyter.widget-view+json": {
       "model_id": "b2f46ef79ccf46969c6c535103339dfc",
       "version_major": 2,
       "version_minor": 0
      },
      "text/plain": [
       "Computing transition probabilities:   0%|          | 0/98 [00:00<?, ?it/s]"
      ]
     },
     "metadata": {},
     "output_type": "display_data"
    },
    {
     "data": {
      "application/vnd.jupyter.widget-view+json": {
       "model_id": "4712db70e6634f42a0fd48d9e9beaa4f",
       "version_major": 2,
       "version_minor": 0
      },
      "text/plain": [
       "Computing transition probabilities:   0%|          | 0/98 [00:00<?, ?it/s]"
      ]
     },
     "metadata": {},
     "output_type": "display_data"
    },
    {
     "data": {
      "application/vnd.jupyter.widget-view+json": {
       "model_id": "082b5792feef49c39d27e014f61f5640",
       "version_major": 2,
       "version_minor": 0
      },
      "text/plain": [
       "Computing transition probabilities:   0%|          | 0/98 [00:00<?, ?it/s]"
      ]
     },
     "metadata": {},
     "output_type": "display_data"
    },
    {
     "data": {
      "application/vnd.jupyter.widget-view+json": {
       "model_id": "31db9a8751354e4185d6de9d99b3981b",
       "version_major": 2,
       "version_minor": 0
      },
      "text/plain": [
       "Computing transition probabilities:   0%|          | 0/98 [00:00<?, ?it/s]"
      ]
     },
     "metadata": {},
     "output_type": "display_data"
    },
    {
     "data": {
      "application/vnd.jupyter.widget-view+json": {
       "model_id": "61f39dd0da0b4b4db067d92473eb858e",
       "version_major": 2,
       "version_minor": 0
      },
      "text/plain": [
       "Computing transition probabilities:   0%|          | 0/97 [00:00<?, ?it/s]"
      ]
     },
     "metadata": {},
     "output_type": "display_data"
    },
    {
     "data": {
      "application/vnd.jupyter.widget-view+json": {
       "model_id": "58015e6aff5f4950a4397787c45c5786",
       "version_major": 2,
       "version_minor": 0
      },
      "text/plain": [
       "Computing transition probabilities:   0%|          | 0/98 [00:00<?, ?it/s]"
      ]
     },
     "metadata": {},
     "output_type": "display_data"
    },
    {
     "data": {
      "application/vnd.jupyter.widget-view+json": {
       "model_id": "828ddab21703429396b45c9c61158680",
       "version_major": 2,
       "version_minor": 0
      },
      "text/plain": [
       "Computing transition probabilities:   0%|          | 0/98 [00:00<?, ?it/s]"
      ]
     },
     "metadata": {},
     "output_type": "display_data"
    },
    {
     "data": {
      "application/vnd.jupyter.widget-view+json": {
       "model_id": "0a536a86100541a1b387794d6be948d0",
       "version_major": 2,
       "version_minor": 0
      },
      "text/plain": [
       "Computing transition probabilities:   0%|          | 0/98 [00:00<?, ?it/s]"
      ]
     },
     "metadata": {},
     "output_type": "display_data"
    },
    {
     "data": {
      "application/vnd.jupyter.widget-view+json": {
       "model_id": "3cc5fc7f2a0142098cf695bcaea22db5",
       "version_major": 2,
       "version_minor": 0
      },
      "text/plain": [
       "Computing transition probabilities:   0%|          | 0/98 [00:00<?, ?it/s]"
      ]
     },
     "metadata": {},
     "output_type": "display_data"
    },
    {
     "data": {
      "application/vnd.jupyter.widget-view+json": {
       "model_id": "09f8b7dcea8541ee803f97357056c056",
       "version_major": 2,
       "version_minor": 0
      },
      "text/plain": [
       "Computing transition probabilities:   0%|          | 0/98 [00:00<?, ?it/s]"
      ]
     },
     "metadata": {},
     "output_type": "display_data"
    },
    {
     "data": {
      "application/vnd.jupyter.widget-view+json": {
       "model_id": "ac28680c6d4845f2b2976951ecf8c224",
       "version_major": 2,
       "version_minor": 0
      },
      "text/plain": [
       "Computing transition probabilities:   0%|          | 0/98 [00:00<?, ?it/s]"
      ]
     },
     "metadata": {},
     "output_type": "display_data"
    },
    {
     "data": {
      "application/vnd.jupyter.widget-view+json": {
       "model_id": "af984c6d3cf04a3690918aec46f28a58",
       "version_major": 2,
       "version_minor": 0
      },
      "text/plain": [
       "Computing transition probabilities:   0%|          | 0/98 [00:00<?, ?it/s]"
      ]
     },
     "metadata": {},
     "output_type": "display_data"
    },
    {
     "name": "stdout",
     "output_type": "stream",
     "text": [
      "Accuracy: 0.802 (95% CI: 0.796 - 0.808)\n",
      "Precision: 0.859 (95% CI: 0.780 - 0.938)\n",
      "Recall: 0.318 (95% CI: 0.231 - 0.405)\n",
      "F1 Score: 0.412 (95% CI: 0.345 - 0.478)\n",
      "ROC AUC: 0.804 (95% CI: 0.793 - 0.815)\n",
      "Total Computation Time: 336.813 seconds\n",
      "\n",
      "Classifier: RF\n"
     ]
    },
    {
     "data": {
      "application/vnd.jupyter.widget-view+json": {
       "model_id": "dac0ad30efd64e6f8fb06177f7c13c02",
       "version_major": 2,
       "version_minor": 0
      },
      "text/plain": [
       "Computing transition probabilities:   0%|          | 0/98 [00:00<?, ?it/s]"
      ]
     },
     "metadata": {},
     "output_type": "display_data"
    },
    {
     "data": {
      "application/vnd.jupyter.widget-view+json": {
       "model_id": "409d6e6a995d471b917b5e1e7163eb0b",
       "version_major": 2,
       "version_minor": 0
      },
      "text/plain": [
       "Computing transition probabilities:   0%|          | 0/98 [00:00<?, ?it/s]"
      ]
     },
     "metadata": {},
     "output_type": "display_data"
    },
    {
     "data": {
      "application/vnd.jupyter.widget-view+json": {
       "model_id": "b95cec573397447b89781251910f81f7",
       "version_major": 2,
       "version_minor": 0
      },
      "text/plain": [
       "Computing transition probabilities:   0%|          | 0/98 [00:00<?, ?it/s]"
      ]
     },
     "metadata": {},
     "output_type": "display_data"
    },
    {
     "data": {
      "application/vnd.jupyter.widget-view+json": {
       "model_id": "b5fd1c61284a4a799ca6876d471d727c",
       "version_major": 2,
       "version_minor": 0
      },
      "text/plain": [
       "Computing transition probabilities:   0%|          | 0/98 [00:00<?, ?it/s]"
      ]
     },
     "metadata": {},
     "output_type": "display_data"
    },
    {
     "data": {
      "application/vnd.jupyter.widget-view+json": {
       "model_id": "5ccab0bfee124a88b041c4fdc8275933",
       "version_major": 2,
       "version_minor": 0
      },
      "text/plain": [
       "Computing transition probabilities:   0%|          | 0/98 [00:00<?, ?it/s]"
      ]
     },
     "metadata": {},
     "output_type": "display_data"
    },
    {
     "data": {
      "application/vnd.jupyter.widget-view+json": {
       "model_id": "b672bb0ec92d4803b7f9975398bb1d66",
       "version_major": 2,
       "version_minor": 0
      },
      "text/plain": [
       "Computing transition probabilities:   0%|          | 0/98 [00:00<?, ?it/s]"
      ]
     },
     "metadata": {},
     "output_type": "display_data"
    },
    {
     "data": {
      "application/vnd.jupyter.widget-view+json": {
       "model_id": "191bdc7b5308454ea4759c32672e591c",
       "version_major": 2,
       "version_minor": 0
      },
      "text/plain": [
       "Computing transition probabilities:   0%|          | 0/98 [00:00<?, ?it/s]"
      ]
     },
     "metadata": {},
     "output_type": "display_data"
    },
    {
     "data": {
      "application/vnd.jupyter.widget-view+json": {
       "model_id": "4b7e94451ec04a8fa49f9223e400de20",
       "version_major": 2,
       "version_minor": 0
      },
      "text/plain": [
       "Computing transition probabilities:   0%|          | 0/98 [00:00<?, ?it/s]"
      ]
     },
     "metadata": {},
     "output_type": "display_data"
    },
    {
     "data": {
      "application/vnd.jupyter.widget-view+json": {
       "model_id": "2742ab27aacf42b381eb473a2aba21a5",
       "version_major": 2,
       "version_minor": 0
      },
      "text/plain": [
       "Computing transition probabilities:   0%|          | 0/98 [00:00<?, ?it/s]"
      ]
     },
     "metadata": {},
     "output_type": "display_data"
    },
    {
     "data": {
      "application/vnd.jupyter.widget-view+json": {
       "model_id": "e9f5dc0ead994c41846ac2187576f02a",
       "version_major": 2,
       "version_minor": 0
      },
      "text/plain": [
       "Computing transition probabilities:   0%|          | 0/98 [00:00<?, ?it/s]"
      ]
     },
     "metadata": {},
     "output_type": "display_data"
    },
    {
     "data": {
      "application/vnd.jupyter.widget-view+json": {
       "model_id": "927be970411640bc8c686c13e70bd118",
       "version_major": 2,
       "version_minor": 0
      },
      "text/plain": [
       "Computing transition probabilities:   0%|          | 0/98 [00:00<?, ?it/s]"
      ]
     },
     "metadata": {},
     "output_type": "display_data"
    },
    {
     "data": {
      "application/vnd.jupyter.widget-view+json": {
       "model_id": "f902f4b387cf4f3db3793246afa6af1e",
       "version_major": 2,
       "version_minor": 0
      },
      "text/plain": [
       "Computing transition probabilities:   0%|          | 0/98 [00:00<?, ?it/s]"
      ]
     },
     "metadata": {},
     "output_type": "display_data"
    },
    {
     "data": {
      "application/vnd.jupyter.widget-view+json": {
       "model_id": "1479dda40dff4d97933b6782526c1293",
       "version_major": 2,
       "version_minor": 0
      },
      "text/plain": [
       "Computing transition probabilities:   0%|          | 0/97 [00:00<?, ?it/s]"
      ]
     },
     "metadata": {},
     "output_type": "display_data"
    },
    {
     "data": {
      "application/vnd.jupyter.widget-view+json": {
       "model_id": "438248e38267481dbd7a3a039010ca3d",
       "version_major": 2,
       "version_minor": 0
      },
      "text/plain": [
       "Computing transition probabilities:   0%|          | 0/98 [00:00<?, ?it/s]"
      ]
     },
     "metadata": {},
     "output_type": "display_data"
    },
    {
     "data": {
      "application/vnd.jupyter.widget-view+json": {
       "model_id": "166c6486ee1642318c3c9c41fb8ff4ff",
       "version_major": 2,
       "version_minor": 0
      },
      "text/plain": [
       "Computing transition probabilities:   0%|          | 0/98 [00:00<?, ?it/s]"
      ]
     },
     "metadata": {},
     "output_type": "display_data"
    },
    {
     "data": {
      "application/vnd.jupyter.widget-view+json": {
       "model_id": "9c1e9b87036944199947a363f77ca3d0",
       "version_major": 2,
       "version_minor": 0
      },
      "text/plain": [
       "Computing transition probabilities:   0%|          | 0/98 [00:00<?, ?it/s]"
      ]
     },
     "metadata": {},
     "output_type": "display_data"
    },
    {
     "data": {
      "application/vnd.jupyter.widget-view+json": {
       "model_id": "0b937e4e4b2f44d9860b1af3176a385f",
       "version_major": 2,
       "version_minor": 0
      },
      "text/plain": [
       "Computing transition probabilities:   0%|          | 0/98 [00:00<?, ?it/s]"
      ]
     },
     "metadata": {},
     "output_type": "display_data"
    },
    {
     "data": {
      "application/vnd.jupyter.widget-view+json": {
       "model_id": "5a2dd68a92804f41b042d3e2618f5742",
       "version_major": 2,
       "version_minor": 0
      },
      "text/plain": [
       "Computing transition probabilities:   0%|          | 0/98 [00:00<?, ?it/s]"
      ]
     },
     "metadata": {},
     "output_type": "display_data"
    },
    {
     "data": {
      "application/vnd.jupyter.widget-view+json": {
       "model_id": "30486968bc474d019079c79c1fa06e98",
       "version_major": 2,
       "version_minor": 0
      },
      "text/plain": [
       "Computing transition probabilities:   0%|          | 0/98 [00:00<?, ?it/s]"
      ]
     },
     "metadata": {},
     "output_type": "display_data"
    },
    {
     "data": {
      "application/vnd.jupyter.widget-view+json": {
       "model_id": "aea95d0655b44053a4d074ba03f0a002",
       "version_major": 2,
       "version_minor": 0
      },
      "text/plain": [
       "Computing transition probabilities:   0%|          | 0/98 [00:00<?, ?it/s]"
      ]
     },
     "metadata": {},
     "output_type": "display_data"
    },
    {
     "name": "stdout",
     "output_type": "stream",
     "text": [
      "Accuracy: 0.827 (95% CI: 0.823 - 0.831)\n",
      "Precision: 0.864 (95% CI: 0.836 - 0.893)\n",
      "Recall: 0.368 (95% CI: 0.334 - 0.402)\n",
      "F1 Score: 0.509 (95% CI: 0.480 - 0.538)\n",
      "ROC AUC: 0.866 (95% CI: 0.859 - 0.873)\n",
      "Total Computation Time: 410.876 seconds\n",
      "\n",
      "Classifier: KNN\n"
     ]
    },
    {
     "data": {
      "application/vnd.jupyter.widget-view+json": {
       "model_id": "1196dac6ccbb44009b90fe929301873d",
       "version_major": 2,
       "version_minor": 0
      },
      "text/plain": [
       "Computing transition probabilities:   0%|          | 0/98 [00:00<?, ?it/s]"
      ]
     },
     "metadata": {},
     "output_type": "display_data"
    },
    {
     "data": {
      "application/vnd.jupyter.widget-view+json": {
       "model_id": "7cd6c7f37bdf443c92ab4d3a585bdb6c",
       "version_major": 2,
       "version_minor": 0
      },
      "text/plain": [
       "Computing transition probabilities:   0%|          | 0/98 [00:00<?, ?it/s]"
      ]
     },
     "metadata": {},
     "output_type": "display_data"
    },
    {
     "data": {
      "application/vnd.jupyter.widget-view+json": {
       "model_id": "ea3b50307d3046d2aff7ae299159a874",
       "version_major": 2,
       "version_minor": 0
      },
      "text/plain": [
       "Computing transition probabilities:   0%|          | 0/98 [00:00<?, ?it/s]"
      ]
     },
     "metadata": {},
     "output_type": "display_data"
    },
    {
     "data": {
      "application/vnd.jupyter.widget-view+json": {
       "model_id": "a18ecc9588c3466db002ee4e34ec8c82",
       "version_major": 2,
       "version_minor": 0
      },
      "text/plain": [
       "Computing transition probabilities:   0%|          | 0/98 [00:00<?, ?it/s]"
      ]
     },
     "metadata": {},
     "output_type": "display_data"
    },
    {
     "data": {
      "application/vnd.jupyter.widget-view+json": {
       "model_id": "ba2e35e8d1dc43d9b1cf902936f578ea",
       "version_major": 2,
       "version_minor": 0
      },
      "text/plain": [
       "Computing transition probabilities:   0%|          | 0/98 [00:00<?, ?it/s]"
      ]
     },
     "metadata": {},
     "output_type": "display_data"
    },
    {
     "data": {
      "application/vnd.jupyter.widget-view+json": {
       "model_id": "0352bc048782426d92d9e57578e659b6",
       "version_major": 2,
       "version_minor": 0
      },
      "text/plain": [
       "Computing transition probabilities:   0%|          | 0/98 [00:00<?, ?it/s]"
      ]
     },
     "metadata": {},
     "output_type": "display_data"
    },
    {
     "data": {
      "application/vnd.jupyter.widget-view+json": {
       "model_id": "d25ef18bb8fd401282f792eb25730c46",
       "version_major": 2,
       "version_minor": 0
      },
      "text/plain": [
       "Computing transition probabilities:   0%|          | 0/98 [00:00<?, ?it/s]"
      ]
     },
     "metadata": {},
     "output_type": "display_data"
    },
    {
     "data": {
      "application/vnd.jupyter.widget-view+json": {
       "model_id": "a2c8b879b16c46b8a00c32de97ea7d60",
       "version_major": 2,
       "version_minor": 0
      },
      "text/plain": [
       "Computing transition probabilities:   0%|          | 0/98 [00:00<?, ?it/s]"
      ]
     },
     "metadata": {},
     "output_type": "display_data"
    },
    {
     "data": {
      "application/vnd.jupyter.widget-view+json": {
       "model_id": "ffe43f4cc1a14a9295271e74660d9d67",
       "version_major": 2,
       "version_minor": 0
      },
      "text/plain": [
       "Computing transition probabilities:   0%|          | 0/98 [00:00<?, ?it/s]"
      ]
     },
     "metadata": {},
     "output_type": "display_data"
    },
    {
     "data": {
      "application/vnd.jupyter.widget-view+json": {
       "model_id": "54d561f7552b46de8c3ab0f0c890223f",
       "version_major": 2,
       "version_minor": 0
      },
      "text/plain": [
       "Computing transition probabilities:   0%|          | 0/98 [00:00<?, ?it/s]"
      ]
     },
     "metadata": {},
     "output_type": "display_data"
    },
    {
     "data": {
      "application/vnd.jupyter.widget-view+json": {
       "model_id": "98a049e613c14be691870dd86e09d485",
       "version_major": 2,
       "version_minor": 0
      },
      "text/plain": [
       "Computing transition probabilities:   0%|          | 0/98 [00:00<?, ?it/s]"
      ]
     },
     "metadata": {},
     "output_type": "display_data"
    },
    {
     "data": {
      "application/vnd.jupyter.widget-view+json": {
       "model_id": "cfea5a708a144fe481d1515facca9e0b",
       "version_major": 2,
       "version_minor": 0
      },
      "text/plain": [
       "Computing transition probabilities:   0%|          | 0/98 [00:00<?, ?it/s]"
      ]
     },
     "metadata": {},
     "output_type": "display_data"
    },
    {
     "data": {
      "application/vnd.jupyter.widget-view+json": {
       "model_id": "d193191f0cd942b4956d52fa80dd96a3",
       "version_major": 2,
       "version_minor": 0
      },
      "text/plain": [
       "Computing transition probabilities:   0%|          | 0/97 [00:00<?, ?it/s]"
      ]
     },
     "metadata": {},
     "output_type": "display_data"
    },
    {
     "data": {
      "application/vnd.jupyter.widget-view+json": {
       "model_id": "54a393dbdc2f410b8e5c10765630fb9c",
       "version_major": 2,
       "version_minor": 0
      },
      "text/plain": [
       "Computing transition probabilities:   0%|          | 0/98 [00:00<?, ?it/s]"
      ]
     },
     "metadata": {},
     "output_type": "display_data"
    },
    {
     "data": {
      "application/vnd.jupyter.widget-view+json": {
       "model_id": "ce85d9671064483bb8c6abdaeabcf190",
       "version_major": 2,
       "version_minor": 0
      },
      "text/plain": [
       "Computing transition probabilities:   0%|          | 0/98 [00:00<?, ?it/s]"
      ]
     },
     "metadata": {},
     "output_type": "display_data"
    },
    {
     "data": {
      "application/vnd.jupyter.widget-view+json": {
       "model_id": "75e127efec5545d2a5d373cc3ad2273d",
       "version_major": 2,
       "version_minor": 0
      },
      "text/plain": [
       "Computing transition probabilities:   0%|          | 0/98 [00:00<?, ?it/s]"
      ]
     },
     "metadata": {},
     "output_type": "display_data"
    },
    {
     "data": {
      "application/vnd.jupyter.widget-view+json": {
       "model_id": "c5c567232c10493b96bdd2fd1b3ce247",
       "version_major": 2,
       "version_minor": 0
      },
      "text/plain": [
       "Computing transition probabilities:   0%|          | 0/98 [00:00<?, ?it/s]"
      ]
     },
     "metadata": {},
     "output_type": "display_data"
    },
    {
     "data": {
      "application/vnd.jupyter.widget-view+json": {
       "model_id": "a921e1ca46e04e3380e1873dfc49bb76",
       "version_major": 2,
       "version_minor": 0
      },
      "text/plain": [
       "Computing transition probabilities:   0%|          | 0/98 [00:00<?, ?it/s]"
      ]
     },
     "metadata": {},
     "output_type": "display_data"
    },
    {
     "data": {
      "application/vnd.jupyter.widget-view+json": {
       "model_id": "917f5a52acf943d1a57b66cb0061bb17",
       "version_major": 2,
       "version_minor": 0
      },
      "text/plain": [
       "Computing transition probabilities:   0%|          | 0/98 [00:00<?, ?it/s]"
      ]
     },
     "metadata": {},
     "output_type": "display_data"
    },
    {
     "data": {
      "application/vnd.jupyter.widget-view+json": {
       "model_id": "48dd21e68e83478f855293105d0440dd",
       "version_major": 2,
       "version_minor": 0
      },
      "text/plain": [
       "Computing transition probabilities:   0%|          | 0/98 [00:00<?, ?it/s]"
      ]
     },
     "metadata": {},
     "output_type": "display_data"
    },
    {
     "name": "stdout",
     "output_type": "stream",
     "text": [
      "Accuracy: 0.808 (95% CI: 0.804 - 0.813)\n",
      "Precision: 0.626 (95% CI: 0.617 - 0.636)\n",
      "Recall: 0.561 (95% CI: 0.549 - 0.573)\n",
      "F1 Score: 0.592 (95% CI: 0.582 - 0.602)\n",
      "ROC AUC: 0.801 (95% CI: 0.793 - 0.808)\n",
      "Total Computation Time: 282.482 seconds\n",
      "\n",
      "Classifier: XGB\n"
     ]
    },
    {
     "data": {
      "application/vnd.jupyter.widget-view+json": {
       "model_id": "1c372c4e63c64b8b9d820b11e30d6295",
       "version_major": 2,
       "version_minor": 0
      },
      "text/plain": [
       "Computing transition probabilities:   0%|          | 0/98 [00:00<?, ?it/s]"
      ]
     },
     "metadata": {},
     "output_type": "display_data"
    },
    {
     "data": {
      "application/vnd.jupyter.widget-view+json": {
       "model_id": "daebde74d4cb4073815c1829db4c58e5",
       "version_major": 2,
       "version_minor": 0
      },
      "text/plain": [
       "Computing transition probabilities:   0%|          | 0/98 [00:00<?, ?it/s]"
      ]
     },
     "metadata": {},
     "output_type": "display_data"
    },
    {
     "data": {
      "application/vnd.jupyter.widget-view+json": {
       "model_id": "99e3c8aaead54cfcb122e69b07a7f737",
       "version_major": 2,
       "version_minor": 0
      },
      "text/plain": [
       "Computing transition probabilities:   0%|          | 0/98 [00:00<?, ?it/s]"
      ]
     },
     "metadata": {},
     "output_type": "display_data"
    },
    {
     "data": {
      "application/vnd.jupyter.widget-view+json": {
       "model_id": "0a2ec784d9474df2aa2cfd6773221b14",
       "version_major": 2,
       "version_minor": 0
      },
      "text/plain": [
       "Computing transition probabilities:   0%|          | 0/98 [00:00<?, ?it/s]"
      ]
     },
     "metadata": {},
     "output_type": "display_data"
    },
    {
     "data": {
      "application/vnd.jupyter.widget-view+json": {
       "model_id": "2911eb68c29445429044a73153760303",
       "version_major": 2,
       "version_minor": 0
      },
      "text/plain": [
       "Computing transition probabilities:   0%|          | 0/98 [00:00<?, ?it/s]"
      ]
     },
     "metadata": {},
     "output_type": "display_data"
    },
    {
     "data": {
      "application/vnd.jupyter.widget-view+json": {
       "model_id": "05c64c950f5549219ca6d22fb3da5f36",
       "version_major": 2,
       "version_minor": 0
      },
      "text/plain": [
       "Computing transition probabilities:   0%|          | 0/98 [00:00<?, ?it/s]"
      ]
     },
     "metadata": {},
     "output_type": "display_data"
    },
    {
     "data": {
      "application/vnd.jupyter.widget-view+json": {
       "model_id": "128d652a6cf34217b4f487f7e14685a8",
       "version_major": 2,
       "version_minor": 0
      },
      "text/plain": [
       "Computing transition probabilities:   0%|          | 0/98 [00:00<?, ?it/s]"
      ]
     },
     "metadata": {},
     "output_type": "display_data"
    },
    {
     "data": {
      "application/vnd.jupyter.widget-view+json": {
       "model_id": "0bcb41b1803f4ffdbe1ffb16c5f6fb53",
       "version_major": 2,
       "version_minor": 0
      },
      "text/plain": [
       "Computing transition probabilities:   0%|          | 0/98 [00:00<?, ?it/s]"
      ]
     },
     "metadata": {},
     "output_type": "display_data"
    },
    {
     "data": {
      "application/vnd.jupyter.widget-view+json": {
       "model_id": "7af51a2561ca41148f524fd52b195f9d",
       "version_major": 2,
       "version_minor": 0
      },
      "text/plain": [
       "Computing transition probabilities:   0%|          | 0/98 [00:00<?, ?it/s]"
      ]
     },
     "metadata": {},
     "output_type": "display_data"
    },
    {
     "data": {
      "application/vnd.jupyter.widget-view+json": {
       "model_id": "d97be32ad792427b80123d5782fdcc0a",
       "version_major": 2,
       "version_minor": 0
      },
      "text/plain": [
       "Computing transition probabilities:   0%|          | 0/98 [00:00<?, ?it/s]"
      ]
     },
     "metadata": {},
     "output_type": "display_data"
    },
    {
     "data": {
      "application/vnd.jupyter.widget-view+json": {
       "model_id": "39fcb29c64d24e968f3f04cf5a62a285",
       "version_major": 2,
       "version_minor": 0
      },
      "text/plain": [
       "Computing transition probabilities:   0%|          | 0/98 [00:00<?, ?it/s]"
      ]
     },
     "metadata": {},
     "output_type": "display_data"
    },
    {
     "data": {
      "application/vnd.jupyter.widget-view+json": {
       "model_id": "653b9bf2a4b34090ae73d0a403ed2a18",
       "version_major": 2,
       "version_minor": 0
      },
      "text/plain": [
       "Computing transition probabilities:   0%|          | 0/98 [00:00<?, ?it/s]"
      ]
     },
     "metadata": {},
     "output_type": "display_data"
    },
    {
     "data": {
      "application/vnd.jupyter.widget-view+json": {
       "model_id": "b0144d83fe644b398db1594fd9668a6e",
       "version_major": 2,
       "version_minor": 0
      },
      "text/plain": [
       "Computing transition probabilities:   0%|          | 0/97 [00:00<?, ?it/s]"
      ]
     },
     "metadata": {},
     "output_type": "display_data"
    },
    {
     "data": {
      "application/vnd.jupyter.widget-view+json": {
       "model_id": "9af33efafb3a43ea83208e7948483bf8",
       "version_major": 2,
       "version_minor": 0
      },
      "text/plain": [
       "Computing transition probabilities:   0%|          | 0/98 [00:00<?, ?it/s]"
      ]
     },
     "metadata": {},
     "output_type": "display_data"
    },
    {
     "data": {
      "application/vnd.jupyter.widget-view+json": {
       "model_id": "201ddb74632c41d5ad7e7d8a78f6010a",
       "version_major": 2,
       "version_minor": 0
      },
      "text/plain": [
       "Computing transition probabilities:   0%|          | 0/98 [00:00<?, ?it/s]"
      ]
     },
     "metadata": {},
     "output_type": "display_data"
    },
    {
     "data": {
      "application/vnd.jupyter.widget-view+json": {
       "model_id": "1d1d9533ffd846f1bcbffd028e824be1",
       "version_major": 2,
       "version_minor": 0
      },
      "text/plain": [
       "Computing transition probabilities:   0%|          | 0/98 [00:00<?, ?it/s]"
      ]
     },
     "metadata": {},
     "output_type": "display_data"
    },
    {
     "data": {
      "application/vnd.jupyter.widget-view+json": {
       "model_id": "d130dc4f0e264ecfbb789544bf430742",
       "version_major": 2,
       "version_minor": 0
      },
      "text/plain": [
       "Computing transition probabilities:   0%|          | 0/98 [00:00<?, ?it/s]"
      ]
     },
     "metadata": {},
     "output_type": "display_data"
    },
    {
     "data": {
      "application/vnd.jupyter.widget-view+json": {
       "model_id": "97bfc903047049c0b11b89a0cd082c9d",
       "version_major": 2,
       "version_minor": 0
      },
      "text/plain": [
       "Computing transition probabilities:   0%|          | 0/98 [00:00<?, ?it/s]"
      ]
     },
     "metadata": {},
     "output_type": "display_data"
    },
    {
     "data": {
      "application/vnd.jupyter.widget-view+json": {
       "model_id": "ed0f4cb10d834427b704908a31b859d0",
       "version_major": 2,
       "version_minor": 0
      },
      "text/plain": [
       "Computing transition probabilities:   0%|          | 0/98 [00:00<?, ?it/s]"
      ]
     },
     "metadata": {},
     "output_type": "display_data"
    },
    {
     "data": {
      "application/vnd.jupyter.widget-view+json": {
       "model_id": "6364869e7d8149e0a58112939117a8cb",
       "version_major": 2,
       "version_minor": 0
      },
      "text/plain": [
       "Computing transition probabilities:   0%|          | 0/98 [00:00<?, ?it/s]"
      ]
     },
     "metadata": {},
     "output_type": "display_data"
    },
    {
     "name": "stdout",
     "output_type": "stream",
     "text": [
      "Accuracy: 0.860 (95% CI: 0.857 - 0.863)\n",
      "Precision: 0.780 (95% CI: 0.772 - 0.788)\n",
      "Recall: 0.606 (95% CI: 0.596 - 0.616)\n",
      "F1 Score: 0.682 (95% CI: 0.674 - 0.689)\n",
      "ROC AUC: 0.910 (95% CI: 0.907 - 0.913)\n",
      "Total Computation Time: 277.650 seconds\n",
      "\n",
      "Classifier: MLP\n"
     ]
    },
    {
     "data": {
      "application/vnd.jupyter.widget-view+json": {
       "model_id": "a358f6bde1cb4451a1ebb1905c67bcc2",
       "version_major": 2,
       "version_minor": 0
      },
      "text/plain": [
       "Computing transition probabilities:   0%|          | 0/98 [00:00<?, ?it/s]"
      ]
     },
     "metadata": {},
     "output_type": "display_data"
    },
    {
     "data": {
      "application/vnd.jupyter.widget-view+json": {
       "model_id": "a499ebcdba104b90be92e19dfc163a08",
       "version_major": 2,
       "version_minor": 0
      },
      "text/plain": [
       "Computing transition probabilities:   0%|          | 0/98 [00:00<?, ?it/s]"
      ]
     },
     "metadata": {},
     "output_type": "display_data"
    },
    {
     "data": {
      "application/vnd.jupyter.widget-view+json": {
       "model_id": "979f6e1150724f9bbde36bb7cb37a531",
       "version_major": 2,
       "version_minor": 0
      },
      "text/plain": [
       "Computing transition probabilities:   0%|          | 0/98 [00:00<?, ?it/s]"
      ]
     },
     "metadata": {},
     "output_type": "display_data"
    },
    {
     "data": {
      "application/vnd.jupyter.widget-view+json": {
       "model_id": "d86abe7bc1b245b5ba4a75d1089d281f",
       "version_major": 2,
       "version_minor": 0
      },
      "text/plain": [
       "Computing transition probabilities:   0%|          | 0/98 [00:00<?, ?it/s]"
      ]
     },
     "metadata": {},
     "output_type": "display_data"
    },
    {
     "data": {
      "application/vnd.jupyter.widget-view+json": {
       "model_id": "5debb1bf5a624b23ac85bd37cc52d66a",
       "version_major": 2,
       "version_minor": 0
      },
      "text/plain": [
       "Computing transition probabilities:   0%|          | 0/98 [00:00<?, ?it/s]"
      ]
     },
     "metadata": {},
     "output_type": "display_data"
    },
    {
     "data": {
      "application/vnd.jupyter.widget-view+json": {
       "model_id": "d876b5dbc39c446b8de0a3080ab7b79f",
       "version_major": 2,
       "version_minor": 0
      },
      "text/plain": [
       "Computing transition probabilities:   0%|          | 0/98 [00:00<?, ?it/s]"
      ]
     },
     "metadata": {},
     "output_type": "display_data"
    },
    {
     "data": {
      "application/vnd.jupyter.widget-view+json": {
       "model_id": "b629e310369b4e4c9af4c928f469957f",
       "version_major": 2,
       "version_minor": 0
      },
      "text/plain": [
       "Computing transition probabilities:   0%|          | 0/98 [00:00<?, ?it/s]"
      ]
     },
     "metadata": {},
     "output_type": "display_data"
    },
    {
     "data": {
      "application/vnd.jupyter.widget-view+json": {
       "model_id": "be674e534afe47a08b5d81c7bd5616c1",
       "version_major": 2,
       "version_minor": 0
      },
      "text/plain": [
       "Computing transition probabilities:   0%|          | 0/98 [00:00<?, ?it/s]"
      ]
     },
     "metadata": {},
     "output_type": "display_data"
    },
    {
     "data": {
      "application/vnd.jupyter.widget-view+json": {
       "model_id": "5047d7f24fea403c954af66065b732f2",
       "version_major": 2,
       "version_minor": 0
      },
      "text/plain": [
       "Computing transition probabilities:   0%|          | 0/98 [00:00<?, ?it/s]"
      ]
     },
     "metadata": {},
     "output_type": "display_data"
    },
    {
     "data": {
      "application/vnd.jupyter.widget-view+json": {
       "model_id": "887d4c9c363d44599c317ae6339ceb9c",
       "version_major": 2,
       "version_minor": 0
      },
      "text/plain": [
       "Computing transition probabilities:   0%|          | 0/98 [00:00<?, ?it/s]"
      ]
     },
     "metadata": {},
     "output_type": "display_data"
    },
    {
     "data": {
      "application/vnd.jupyter.widget-view+json": {
       "model_id": "8ab47294c5dc4c07853251b9f3905e7d",
       "version_major": 2,
       "version_minor": 0
      },
      "text/plain": [
       "Computing transition probabilities:   0%|          | 0/98 [00:00<?, ?it/s]"
      ]
     },
     "metadata": {},
     "output_type": "display_data"
    },
    {
     "data": {
      "application/vnd.jupyter.widget-view+json": {
       "model_id": "529532556cef461ca581b9afd47e3caa",
       "version_major": 2,
       "version_minor": 0
      },
      "text/plain": [
       "Computing transition probabilities:   0%|          | 0/98 [00:00<?, ?it/s]"
      ]
     },
     "metadata": {},
     "output_type": "display_data"
    },
    {
     "data": {
      "application/vnd.jupyter.widget-view+json": {
       "model_id": "8be9d700cecf48e58f927baa7ba1e95d",
       "version_major": 2,
       "version_minor": 0
      },
      "text/plain": [
       "Computing transition probabilities:   0%|          | 0/97 [00:00<?, ?it/s]"
      ]
     },
     "metadata": {},
     "output_type": "display_data"
    },
    {
     "data": {
      "application/vnd.jupyter.widget-view+json": {
       "model_id": "99091609ef684a77902037a5dcb36863",
       "version_major": 2,
       "version_minor": 0
      },
      "text/plain": [
       "Computing transition probabilities:   0%|          | 0/98 [00:00<?, ?it/s]"
      ]
     },
     "metadata": {},
     "output_type": "display_data"
    },
    {
     "data": {
      "application/vnd.jupyter.widget-view+json": {
       "model_id": "d6cec045fd644c1e987d2f0efe2644d1",
       "version_major": 2,
       "version_minor": 0
      },
      "text/plain": [
       "Computing transition probabilities:   0%|          | 0/98 [00:00<?, ?it/s]"
      ]
     },
     "metadata": {},
     "output_type": "display_data"
    },
    {
     "data": {
      "application/vnd.jupyter.widget-view+json": {
       "model_id": "c0c285171fc4403ebedf1226a20089d7",
       "version_major": 2,
       "version_minor": 0
      },
      "text/plain": [
       "Computing transition probabilities:   0%|          | 0/98 [00:00<?, ?it/s]"
      ]
     },
     "metadata": {},
     "output_type": "display_data"
    },
    {
     "data": {
      "application/vnd.jupyter.widget-view+json": {
       "model_id": "6d9ebd029efb4e9696b8c3e46adde73a",
       "version_major": 2,
       "version_minor": 0
      },
      "text/plain": [
       "Computing transition probabilities:   0%|          | 0/98 [00:00<?, ?it/s]"
      ]
     },
     "metadata": {},
     "output_type": "display_data"
    },
    {
     "data": {
      "application/vnd.jupyter.widget-view+json": {
       "model_id": "b7696ab76e254357b8b458a818b3f761",
       "version_major": 2,
       "version_minor": 0
      },
      "text/plain": [
       "Computing transition probabilities:   0%|          | 0/98 [00:00<?, ?it/s]"
      ]
     },
     "metadata": {},
     "output_type": "display_data"
    },
    {
     "data": {
      "application/vnd.jupyter.widget-view+json": {
       "model_id": "d6475e099fca4c1180e69c5cb9462729",
       "version_major": 2,
       "version_minor": 0
      },
      "text/plain": [
       "Computing transition probabilities:   0%|          | 0/98 [00:00<?, ?it/s]"
      ]
     },
     "metadata": {},
     "output_type": "display_data"
    },
    {
     "data": {
      "application/vnd.jupyter.widget-view+json": {
       "model_id": "4a46ff5359224df292f345667f1068ed",
       "version_major": 2,
       "version_minor": 0
      },
      "text/plain": [
       "Computing transition probabilities:   0%|          | 0/98 [00:00<?, ?it/s]"
      ]
     },
     "metadata": {},
     "output_type": "display_data"
    },
    {
     "name": "stdout",
     "output_type": "stream",
     "text": [
      "Accuracy: 0.835 (95% CI: 0.831 - 0.839)\n",
      "Precision: 0.723 (95% CI: 0.711 - 0.735)\n",
      "Recall: 0.544 (95% CI: 0.524 - 0.564)\n",
      "F1 Score: 0.620 (95% CI: 0.607 - 0.633)\n",
      "ROC AUC: 0.882 (95% CI: 0.877 - 0.888)\n",
      "Total Computation Time: 1641.083 seconds\n",
      "\n"
     ]
    }
   ],
   "source": [
    "import config_cat_embedding\n",
    "import numpy as np\n",
    "import pandas as pd\n",
    "import random\n",
    "import time\n",
    "\n",
    "from gensim.models import Word2Vec\n",
    "from sklearn.model_selection import StratifiedKFold\n",
    "from sklearn.linear_model import LogisticRegression\n",
    "from sklearn.tree import DecisionTreeClassifier\n",
    "from sklearn.neighbors import KNeighborsClassifier\n",
    "# from sklearn.svm import SVC\n",
    "from sklearn.ensemble import RandomForestClassifier\n",
    "from xgboost import XGBClassifier\n",
    "from scikeras.wrappers import KerasClassifier\n",
    "from sklearn.preprocessing import StandardScaler\n",
    "from sklearn.metrics import (accuracy_score, precision_score, recall_score,\n",
    "                             f1_score, roc_auc_score)\n",
    "import networkx as nx\n",
    "from node2vec import Node2Vec\n",
    "import matplotlib.pyplot as plt\n",
    "\n",
    "from scipy.sparse import coo_matrix, csr_matrix\n",
    "\n",
    "from tqdm.notebook import tqdm\n",
    "from data_prep import bank_data_prep, adult_data_prep\n",
    "from embedding_helper import create_network\n",
    "\n",
    "from scipy import stats  # For confidence intervals\n",
    "\n",
    "# Set the random seed for reproducibility\n",
    "random.seed(42)\n",
    "np.random.seed(42)\n",
    "\n",
    "def create_cooccurrence_matrix_diag(df_cat):\n",
    "    # Get unique categories\n",
    "    categories = np.unique(df_cat)\n",
    "\n",
    "    # Create a dictionary to map category to index\n",
    "    category_to_index = {cat: i for i, cat in enumerate(categories)}\n",
    "\n",
    "    # Calculate co-occurrence matrix\n",
    "    matrix = np.zeros((len(categories), len(categories)))\n",
    "    for row in df_cat.itertuples(index=False):\n",
    "        for i, cat1 in enumerate(row):\n",
    "            for j, cat2 in enumerate(row):\n",
    "                if i != j:\n",
    "                    matrix[category_to_index[cat1], category_to_index[cat2]] += 1\n",
    "\n",
    "    # Calculate the diagonal values\n",
    "    diagonal_values = []\n",
    "    for cat in categories:\n",
    "        count = df_cat.stack().value_counts()[cat]\n",
    "        diagonal_values.append(count)\n",
    "\n",
    "    # Set diagonal values to category counts\n",
    "    np.fill_diagonal(matrix, diagonal_values)\n",
    "\n",
    "    # Convert the matrix to a sparse matrix\n",
    "    sparse_matrix = coo_matrix(matrix)\n",
    "\n",
    "    # Normalize the matrix\n",
    "    normalized_matrix = csr_matrix(sparse_matrix / sparse_matrix.sum(axis=1))\n",
    "\n",
    "    # Convert to DataFrame for easier handling\n",
    "    co_occurrence_matrix_norm = pd.DataFrame(normalized_matrix.toarray(), index=categories, columns=categories)\n",
    "\n",
    "    return co_occurrence_matrix_norm\n",
    "\n",
    "# get_embeddings function outside the loop\n",
    "def get_embeddings(df, model):\n",
    "    embeddings = []\n",
    "    for index, row in df.iterrows():\n",
    "        node_vectors = []\n",
    "        for cat in row:\n",
    "            if str(cat) in model.wv:\n",
    "                node_vectors.append(model.wv[str(cat)])\n",
    "            else:\n",
    "                node_vectors.append(np.zeros(model.vector_size))\n",
    "        embeddings.append(np.mean(node_vectors, axis=0))\n",
    "    return np.array(embeddings)\n",
    "\n",
    "# =============================================\n",
    "# Start of the adapted code for cross-validation\n",
    "# =============================================\n",
    "\n",
    "# Load and preprocess data\n",
    "data_path = config_cat_embedding.paths['data']\n",
    "bank_data = pd.read_csv(data_path+'adult.csv', sep=',')\n",
    "\n",
    "df_bank, cat_cols = adult_data_prep(bank_data)\n",
    "\n",
    "X = df_bank.iloc[:, :-1]\n",
    "y = df_bank.y\n",
    "\n",
    "# Define the classifiers\n",
    "seed = 42\n",
    "\n",
    "models = [\n",
    "    ('LR', LogisticRegression(solver='lbfgs', random_state=seed, max_iter=1000)),\n",
    "    ('DT', DecisionTreeClassifier(criterion='entropy', max_depth=3, random_state=seed)),\n",
    "    ('RF', RandomForestClassifier(n_estimators=200, max_depth=5, random_state=seed, min_samples_leaf=3)),\n",
    "    ('KNN', KNeighborsClassifier(n_neighbors=3)),\n",
    "    ('XGB', XGBClassifier(eval_metric='logloss', random_state=seed)),\n",
    "    ('MLP', KerasClassifier(\n",
    "        model=create_network,\n",
    "        epochs=100, batch_size=100, verbose=0, random_state=seed))\n",
    "]\n",
    "\n",
    "# Cross-validation setup\n",
    "cv = StratifiedKFold(n_splits=20, shuffle=True, random_state=seed)\n",
    "\n",
    "# Function to calculate confidence intervals\n",
    "def confidence_interval(data, confidence=0.95):\n",
    "    n = len(data)\n",
    "    m = np.mean(data)\n",
    "    std_err = stats.sem(data)\n",
    "    h = std_err * stats.t.ppf((1 + confidence) / 2, n - 1)\n",
    "    return m, m - h, m + h\n",
    "\n",
    "# Loop over models\n",
    "for name, model in models:\n",
    "    print(f\"Classifier: {name}\")\n",
    "    # Lists to store metrics for each fold\n",
    "    accuracies = []\n",
    "    precisions = []\n",
    "    recalls = []\n",
    "    f1s = []\n",
    "    roc_aucs = []\n",
    "\n",
    "    # Start the timer before cross-validation\n",
    "    start_time = time.time()\n",
    "\n",
    "    fold = 1\n",
    "    for train_index, test_index in cv.split(X, y):\n",
    "        # Split the data into training and testing sets for this fold\n",
    "        X_train_fold, X_test_fold = X.iloc[train_index].copy(), X.iloc[test_index].copy()\n",
    "        y_train_fold, y_test_fold = y.iloc[train_index], y.iloc[test_index]\n",
    "\n",
    "        # Preprocess data within the fold\n",
    "        # Handle categorical variables\n",
    "        cat_data_train = X_train_fold[cat_cols]\n",
    "        cat_data_test = X_test_fold[cat_cols]\n",
    "\n",
    "        # Create co-occurrence matrix using the training data\n",
    "        co_occurrence_matrix = create_cooccurrence_matrix_diag(cat_data_train)\n",
    "\n",
    "        # Use Node2Vec or another method to create embeddings from the co-occurrence matrix\n",
    "        # Here, we will create a graph and compute embeddings\n",
    "        G = nx.from_pandas_adjacency(co_occurrence_matrix)\n",
    "\n",
    "        node2vec = Node2Vec(G, dimensions=50, walk_length=10, num_walks=20, workers=4, seed=seed)\n",
    "        node2vec_model = node2vec.fit(window=10, min_count=1, batch_words=4)\n",
    "\n",
    "        # Map embeddings to the categorical data\n",
    "        X_train_emb = get_embeddings(cat_data_train, node2vec_model)\n",
    "        X_test_emb = get_embeddings(cat_data_test, node2vec_model)\n",
    "\n",
    "        # If there are numerical features, include them\n",
    "        num_cols = X_train_fold.drop(columns=cat_cols).columns.tolist()\n",
    "        if num_cols:\n",
    "            num_data_train = X_train_fold[num_cols].values\n",
    "            num_data_test = X_test_fold[num_cols].values\n",
    "\n",
    "            # Combine numerical and embedding features\n",
    "            X_train_combined = np.hstack((X_train_emb, num_data_train))\n",
    "            X_test_combined = np.hstack((X_test_emb, num_data_test))\n",
    "        else:\n",
    "            X_train_combined = X_train_emb\n",
    "            X_test_combined = X_test_emb\n",
    "\n",
    "        # Standard scaling\n",
    "        stc = StandardScaler()\n",
    "        X_train_scaled = stc.fit_transform(X_train_combined)\n",
    "        X_test_scaled = stc.transform(X_test_combined)\n",
    "\n",
    "        # Update number_of_features for MLP\n",
    "        number_of_features = X_train_scaled.shape[1]\n",
    "        if name == 'MLP':\n",
    "            # Update the model with the correct number of features\n",
    "            model.set_params(model__number_of_features=number_of_features)\n",
    "\n",
    "        # Fit the model\n",
    "        model.fit(X_train_scaled, y_train_fold)\n",
    "        # Predict on the test fold\n",
    "        y_pred_fold = model.predict(X_test_scaled)\n",
    "\n",
    "        # Get prediction probabilities for ROC AUC\n",
    "        if hasattr(model, \"predict_proba\"):\n",
    "            y_pred_prob_fold = model.predict_proba(X_test_scaled)[:, 1]\n",
    "        else:\n",
    "            # For classifiers without predict_proba, use decision_function\n",
    "            y_pred_prob_fold = model.decision_function(X_test_scaled)\n",
    "            # Normalize the decision function output to [0,1] range\n",
    "            y_pred_prob_fold = (y_pred_prob_fold - y_pred_prob_fold.min()) / (y_pred_prob_fold.max() - y_pred_prob_fold.min())\n",
    "\n",
    "        # Calculate metrics\n",
    "        accuracies.append(accuracy_score(y_test_fold, y_pred_fold))\n",
    "        precisions.append(precision_score(y_test_fold, y_pred_fold, zero_division=0))\n",
    "        recalls.append(recall_score(y_test_fold, y_pred_fold))\n",
    "        f1s.append(f1_score(y_test_fold, y_pred_fold))\n",
    "        roc_aucs.append(roc_auc_score(y_test_fold, y_pred_prob_fold))\n",
    "\n",
    "        # print(f\"Fold {fold} completed.\")\n",
    "        fold += 1\n",
    "\n",
    "    # Stop the timer after cross-validation\n",
    "    end_time = time.time()\n",
    "    total_computation_time = end_time - start_time  # Total time for the model\n",
    "\n",
    "    # Calculate mean and confidence intervals\n",
    "    acc_mean, acc_ci_lower, acc_ci_upper = confidence_interval(accuracies)\n",
    "    prec_mean, prec_ci_lower, prec_ci_upper = confidence_interval(precisions)\n",
    "    rec_mean, rec_ci_lower, rec_ci_upper = confidence_interval(recalls)\n",
    "    f1_mean, f1_ci_lower, f1_ci_upper = confidence_interval(f1s)\n",
    "    roc_mean, roc_ci_lower, roc_ci_upper = confidence_interval(roc_aucs)\n",
    "\n",
    "    # Print results\n",
    "    print(f\"Accuracy: {acc_mean:.3f} (95% CI: {acc_ci_lower:.3f} - {acc_ci_upper:.3f})\")\n",
    "    print(f\"Precision: {prec_mean:.3f} (95% CI: {prec_ci_lower:.3f} - {prec_ci_upper:.3f})\")\n",
    "    print(f\"Recall: {rec_mean:.3f} (95% CI: {rec_ci_lower:.3f} - {rec_ci_upper:.3f})\")\n",
    "    print(f\"F1 Score: {f1_mean:.3f} (95% CI: {f1_ci_lower:.3f} - {f1_ci_upper:.3f})\")\n",
    "    print(f\"ROC AUC: {roc_mean:.3f} (95% CI: {roc_ci_lower:.3f} - {roc_ci_upper:.3f})\")\n",
    "    print(f\"Total Computation Time: {total_computation_time:.3f} seconds\\n\")\n"
   ]
  },
  {
   "cell_type": "code",
   "execution_count": 1,
   "id": "d4481033-62d0-4ea3-a23f-d2c655cd5730",
   "metadata": {},
   "outputs": [
    {
     "name": "stdout",
     "output_type": "stream",
     "text": [
      "Classifier: LR\n"
     ]
    },
    {
     "data": {
      "application/vnd.jupyter.widget-view+json": {
       "model_id": "849bc8dfa87743e5bba22f47cf88f0a3",
       "version_major": 2,
       "version_minor": 0
      },
      "text/plain": [
       "Computing transition probabilities:   0%|          | 0/98 [00:00<?, ?it/s]"
      ]
     },
     "metadata": {},
     "output_type": "display_data"
    },
    {
     "data": {
      "application/vnd.jupyter.widget-view+json": {
       "model_id": "89c4fc37bd674c4d88e2d2eb704e902d",
       "version_major": 2,
       "version_minor": 0
      },
      "text/plain": [
       "Computing transition probabilities:   0%|          | 0/98 [00:00<?, ?it/s]"
      ]
     },
     "metadata": {},
     "output_type": "display_data"
    },
    {
     "data": {
      "application/vnd.jupyter.widget-view+json": {
       "model_id": "453d344c29f94bbe80b83c502d5c7b1b",
       "version_major": 2,
       "version_minor": 0
      },
      "text/plain": [
       "Computing transition probabilities:   0%|          | 0/98 [00:00<?, ?it/s]"
      ]
     },
     "metadata": {},
     "output_type": "display_data"
    },
    {
     "data": {
      "application/vnd.jupyter.widget-view+json": {
       "model_id": "0904c097d02344d584469dc6bcae5c73",
       "version_major": 2,
       "version_minor": 0
      },
      "text/plain": [
       "Computing transition probabilities:   0%|          | 0/98 [00:00<?, ?it/s]"
      ]
     },
     "metadata": {},
     "output_type": "display_data"
    },
    {
     "data": {
      "application/vnd.jupyter.widget-view+json": {
       "model_id": "2d12b5fdd545476382376b31df5b418d",
       "version_major": 2,
       "version_minor": 0
      },
      "text/plain": [
       "Computing transition probabilities:   0%|          | 0/98 [00:00<?, ?it/s]"
      ]
     },
     "metadata": {},
     "output_type": "display_data"
    },
    {
     "data": {
      "application/vnd.jupyter.widget-view+json": {
       "model_id": "7255d0099ff14d38962b41372a46a1ba",
       "version_major": 2,
       "version_minor": 0
      },
      "text/plain": [
       "Computing transition probabilities:   0%|          | 0/98 [00:00<?, ?it/s]"
      ]
     },
     "metadata": {},
     "output_type": "display_data"
    },
    {
     "data": {
      "application/vnd.jupyter.widget-view+json": {
       "model_id": "71842f9f54c4483aab1643a80218a238",
       "version_major": 2,
       "version_minor": 0
      },
      "text/plain": [
       "Computing transition probabilities:   0%|          | 0/98 [00:00<?, ?it/s]"
      ]
     },
     "metadata": {},
     "output_type": "display_data"
    },
    {
     "data": {
      "application/vnd.jupyter.widget-view+json": {
       "model_id": "97731b4fd0b540a0af5dea80202af188",
       "version_major": 2,
       "version_minor": 0
      },
      "text/plain": [
       "Computing transition probabilities:   0%|          | 0/98 [00:00<?, ?it/s]"
      ]
     },
     "metadata": {},
     "output_type": "display_data"
    },
    {
     "data": {
      "application/vnd.jupyter.widget-view+json": {
       "model_id": "0d72e3f5b1bd4db88c296fc342d4089b",
       "version_major": 2,
       "version_minor": 0
      },
      "text/plain": [
       "Computing transition probabilities:   0%|          | 0/98 [00:00<?, ?it/s]"
      ]
     },
     "metadata": {},
     "output_type": "display_data"
    },
    {
     "data": {
      "application/vnd.jupyter.widget-view+json": {
       "model_id": "b724bc8d6b93415ba91be80b777b8914",
       "version_major": 2,
       "version_minor": 0
      },
      "text/plain": [
       "Computing transition probabilities:   0%|          | 0/98 [00:00<?, ?it/s]"
      ]
     },
     "metadata": {},
     "output_type": "display_data"
    },
    {
     "data": {
      "application/vnd.jupyter.widget-view+json": {
       "model_id": "9314b376934648dfb4d4defb5ad5bcd2",
       "version_major": 2,
       "version_minor": 0
      },
      "text/plain": [
       "Computing transition probabilities:   0%|          | 0/98 [00:00<?, ?it/s]"
      ]
     },
     "metadata": {},
     "output_type": "display_data"
    },
    {
     "data": {
      "application/vnd.jupyter.widget-view+json": {
       "model_id": "f398a4ab7b9340128e74a684bfdd2327",
       "version_major": 2,
       "version_minor": 0
      },
      "text/plain": [
       "Computing transition probabilities:   0%|          | 0/98 [00:00<?, ?it/s]"
      ]
     },
     "metadata": {},
     "output_type": "display_data"
    },
    {
     "data": {
      "application/vnd.jupyter.widget-view+json": {
       "model_id": "152475301fdb47dd8642887ff15a083d",
       "version_major": 2,
       "version_minor": 0
      },
      "text/plain": [
       "Computing transition probabilities:   0%|          | 0/97 [00:00<?, ?it/s]"
      ]
     },
     "metadata": {},
     "output_type": "display_data"
    },
    {
     "data": {
      "application/vnd.jupyter.widget-view+json": {
       "model_id": "02675be2df714e0f840f4d3c6b4cff0a",
       "version_major": 2,
       "version_minor": 0
      },
      "text/plain": [
       "Computing transition probabilities:   0%|          | 0/98 [00:00<?, ?it/s]"
      ]
     },
     "metadata": {},
     "output_type": "display_data"
    },
    {
     "data": {
      "application/vnd.jupyter.widget-view+json": {
       "model_id": "d739c750a3494865b06a14b40df46cf9",
       "version_major": 2,
       "version_minor": 0
      },
      "text/plain": [
       "Computing transition probabilities:   0%|          | 0/98 [00:00<?, ?it/s]"
      ]
     },
     "metadata": {},
     "output_type": "display_data"
    },
    {
     "data": {
      "application/vnd.jupyter.widget-view+json": {
       "model_id": "7c1013c772b54210a94f1a8c45a63f20",
       "version_major": 2,
       "version_minor": 0
      },
      "text/plain": [
       "Computing transition probabilities:   0%|          | 0/98 [00:00<?, ?it/s]"
      ]
     },
     "metadata": {},
     "output_type": "display_data"
    },
    {
     "data": {
      "application/vnd.jupyter.widget-view+json": {
       "model_id": "3fbdc035a483491db8f487fce13ecd28",
       "version_major": 2,
       "version_minor": 0
      },
      "text/plain": [
       "Computing transition probabilities:   0%|          | 0/98 [00:00<?, ?it/s]"
      ]
     },
     "metadata": {},
     "output_type": "display_data"
    },
    {
     "data": {
      "application/vnd.jupyter.widget-view+json": {
       "model_id": "7c5eb1216a884eccb531e7b4fae0bc65",
       "version_major": 2,
       "version_minor": 0
      },
      "text/plain": [
       "Computing transition probabilities:   0%|          | 0/98 [00:00<?, ?it/s]"
      ]
     },
     "metadata": {},
     "output_type": "display_data"
    },
    {
     "data": {
      "application/vnd.jupyter.widget-view+json": {
       "model_id": "a2ec9ac2be9e487cbbab522e88bbd970",
       "version_major": 2,
       "version_minor": 0
      },
      "text/plain": [
       "Computing transition probabilities:   0%|          | 0/98 [00:00<?, ?it/s]"
      ]
     },
     "metadata": {},
     "output_type": "display_data"
    },
    {
     "data": {
      "application/vnd.jupyter.widget-view+json": {
       "model_id": "e763d67d6b3540c6b13694ac8405d7cc",
       "version_major": 2,
       "version_minor": 0
      },
      "text/plain": [
       "Computing transition probabilities:   0%|          | 0/98 [00:00<?, ?it/s]"
      ]
     },
     "metadata": {},
     "output_type": "display_data"
    },
    {
     "name": "stdout",
     "output_type": "stream",
     "text": [
      "Accuracy: 0.844 (95% CI: 0.841 - 0.847)\n",
      "Precision: 0.732 (95% CI: 0.724 - 0.740)\n",
      "Recall: 0.587 (95% CI: 0.576 - 0.598)\n",
      "F1 Score: 0.651 (95% CI: 0.643 - 0.660)\n",
      "ROC AUC: 0.897 (95% CI: 0.893 - 0.900)\n",
      "Total Computation Time: 328.995 seconds\n",
      "\n",
      "Classifier: DT\n"
     ]
    },
    {
     "data": {
      "application/vnd.jupyter.widget-view+json": {
       "model_id": "87daff97dfa84e359f64ab1338d15583",
       "version_major": 2,
       "version_minor": 0
      },
      "text/plain": [
       "Computing transition probabilities:   0%|          | 0/98 [00:00<?, ?it/s]"
      ]
     },
     "metadata": {},
     "output_type": "display_data"
    },
    {
     "data": {
      "application/vnd.jupyter.widget-view+json": {
       "model_id": "e5aef55deef44f77a16223bed8b26a53",
       "version_major": 2,
       "version_minor": 0
      },
      "text/plain": [
       "Computing transition probabilities:   0%|          | 0/98 [00:00<?, ?it/s]"
      ]
     },
     "metadata": {},
     "output_type": "display_data"
    },
    {
     "data": {
      "application/vnd.jupyter.widget-view+json": {
       "model_id": "64a955f65b36436ebd1157f3efb2e2ae",
       "version_major": 2,
       "version_minor": 0
      },
      "text/plain": [
       "Computing transition probabilities:   0%|          | 0/98 [00:00<?, ?it/s]"
      ]
     },
     "metadata": {},
     "output_type": "display_data"
    },
    {
     "data": {
      "application/vnd.jupyter.widget-view+json": {
       "model_id": "a4b29f1dc4494d12aa7a97f1369d00b6",
       "version_major": 2,
       "version_minor": 0
      },
      "text/plain": [
       "Computing transition probabilities:   0%|          | 0/98 [00:00<?, ?it/s]"
      ]
     },
     "metadata": {},
     "output_type": "display_data"
    },
    {
     "data": {
      "application/vnd.jupyter.widget-view+json": {
       "model_id": "8aea1d3237a74e06a0a1a79ec7df8723",
       "version_major": 2,
       "version_minor": 0
      },
      "text/plain": [
       "Computing transition probabilities:   0%|          | 0/98 [00:00<?, ?it/s]"
      ]
     },
     "metadata": {},
     "output_type": "display_data"
    },
    {
     "data": {
      "application/vnd.jupyter.widget-view+json": {
       "model_id": "7e33fc197c4b4fd591ef99b7a47d0898",
       "version_major": 2,
       "version_minor": 0
      },
      "text/plain": [
       "Computing transition probabilities:   0%|          | 0/98 [00:00<?, ?it/s]"
      ]
     },
     "metadata": {},
     "output_type": "display_data"
    },
    {
     "data": {
      "application/vnd.jupyter.widget-view+json": {
       "model_id": "0a06015cc2e74b7fb7141ec04df2fc92",
       "version_major": 2,
       "version_minor": 0
      },
      "text/plain": [
       "Computing transition probabilities:   0%|          | 0/98 [00:00<?, ?it/s]"
      ]
     },
     "metadata": {},
     "output_type": "display_data"
    },
    {
     "data": {
      "application/vnd.jupyter.widget-view+json": {
       "model_id": "4cface435e8042d0891ddad93f27e458",
       "version_major": 2,
       "version_minor": 0
      },
      "text/plain": [
       "Computing transition probabilities:   0%|          | 0/98 [00:00<?, ?it/s]"
      ]
     },
     "metadata": {},
     "output_type": "display_data"
    },
    {
     "data": {
      "application/vnd.jupyter.widget-view+json": {
       "model_id": "5573ea732ada413aa356f080f682168f",
       "version_major": 2,
       "version_minor": 0
      },
      "text/plain": [
       "Computing transition probabilities:   0%|          | 0/98 [00:00<?, ?it/s]"
      ]
     },
     "metadata": {},
     "output_type": "display_data"
    },
    {
     "data": {
      "application/vnd.jupyter.widget-view+json": {
       "model_id": "1ba12fddac6e422c8e524905a79de9fb",
       "version_major": 2,
       "version_minor": 0
      },
      "text/plain": [
       "Computing transition probabilities:   0%|          | 0/98 [00:00<?, ?it/s]"
      ]
     },
     "metadata": {},
     "output_type": "display_data"
    },
    {
     "data": {
      "application/vnd.jupyter.widget-view+json": {
       "model_id": "1c15cef487c34e0c8d288b12ac1b5957",
       "version_major": 2,
       "version_minor": 0
      },
      "text/plain": [
       "Computing transition probabilities:   0%|          | 0/98 [00:00<?, ?it/s]"
      ]
     },
     "metadata": {},
     "output_type": "display_data"
    },
    {
     "data": {
      "application/vnd.jupyter.widget-view+json": {
       "model_id": "40679b21c203422a8dbfc54a48dfd724",
       "version_major": 2,
       "version_minor": 0
      },
      "text/plain": [
       "Computing transition probabilities:   0%|          | 0/98 [00:00<?, ?it/s]"
      ]
     },
     "metadata": {},
     "output_type": "display_data"
    },
    {
     "data": {
      "application/vnd.jupyter.widget-view+json": {
       "model_id": "f5127af3f4ec4aa5ad17f2d984279c2b",
       "version_major": 2,
       "version_minor": 0
      },
      "text/plain": [
       "Computing transition probabilities:   0%|          | 0/97 [00:00<?, ?it/s]"
      ]
     },
     "metadata": {},
     "output_type": "display_data"
    },
    {
     "data": {
      "application/vnd.jupyter.widget-view+json": {
       "model_id": "d19b665733774cc6a99656354ea30b5d",
       "version_major": 2,
       "version_minor": 0
      },
      "text/plain": [
       "Computing transition probabilities:   0%|          | 0/98 [00:00<?, ?it/s]"
      ]
     },
     "metadata": {},
     "output_type": "display_data"
    },
    {
     "data": {
      "application/vnd.jupyter.widget-view+json": {
       "model_id": "0628c966725a4a7c96c2303e8757acf2",
       "version_major": 2,
       "version_minor": 0
      },
      "text/plain": [
       "Computing transition probabilities:   0%|          | 0/98 [00:00<?, ?it/s]"
      ]
     },
     "metadata": {},
     "output_type": "display_data"
    },
    {
     "data": {
      "application/vnd.jupyter.widget-view+json": {
       "model_id": "f6e3608e836a48c8832ca47fccce1edb",
       "version_major": 2,
       "version_minor": 0
      },
      "text/plain": [
       "Computing transition probabilities:   0%|          | 0/98 [00:00<?, ?it/s]"
      ]
     },
     "metadata": {},
     "output_type": "display_data"
    },
    {
     "data": {
      "application/vnd.jupyter.widget-view+json": {
       "model_id": "c7dba0e9c7fd43eeb4d936a7658c49d8",
       "version_major": 2,
       "version_minor": 0
      },
      "text/plain": [
       "Computing transition probabilities:   0%|          | 0/98 [00:00<?, ?it/s]"
      ]
     },
     "metadata": {},
     "output_type": "display_data"
    },
    {
     "data": {
      "application/vnd.jupyter.widget-view+json": {
       "model_id": "03f85023d0954d3c81493c9aec7dcccc",
       "version_major": 2,
       "version_minor": 0
      },
      "text/plain": [
       "Computing transition probabilities:   0%|          | 0/98 [00:00<?, ?it/s]"
      ]
     },
     "metadata": {},
     "output_type": "display_data"
    },
    {
     "data": {
      "application/vnd.jupyter.widget-view+json": {
       "model_id": "671467ee6a11492ea19d1813bf037b49",
       "version_major": 2,
       "version_minor": 0
      },
      "text/plain": [
       "Computing transition probabilities:   0%|          | 0/98 [00:00<?, ?it/s]"
      ]
     },
     "metadata": {},
     "output_type": "display_data"
    },
    {
     "data": {
      "application/vnd.jupyter.widget-view+json": {
       "model_id": "4554a57a733040af87df39d07a8175cf",
       "version_major": 2,
       "version_minor": 0
      },
      "text/plain": [
       "Computing transition probabilities:   0%|          | 0/98 [00:00<?, ?it/s]"
      ]
     },
     "metadata": {},
     "output_type": "display_data"
    },
    {
     "name": "stdout",
     "output_type": "stream",
     "text": [
      "Accuracy: 0.817 (95% CI: 0.812 - 0.822)\n",
      "Precision: 0.706 (95% CI: 0.656 - 0.756)\n",
      "Recall: 0.500 (95% CI: 0.443 - 0.557)\n",
      "F1 Score: 0.564 (95% CI: 0.519 - 0.609)\n",
      "ROC AUC: 0.827 (95% CI: 0.821 - 0.833)\n",
      "Total Computation Time: 346.820 seconds\n",
      "\n",
      "Classifier: RF\n"
     ]
    },
    {
     "data": {
      "application/vnd.jupyter.widget-view+json": {
       "model_id": "292e64f6d59f4633b842804d02c29aaa",
       "version_major": 2,
       "version_minor": 0
      },
      "text/plain": [
       "Computing transition probabilities:   0%|          | 0/98 [00:00<?, ?it/s]"
      ]
     },
     "metadata": {},
     "output_type": "display_data"
    },
    {
     "data": {
      "application/vnd.jupyter.widget-view+json": {
       "model_id": "71408fd9142442e6925a61062ec77323",
       "version_major": 2,
       "version_minor": 0
      },
      "text/plain": [
       "Computing transition probabilities:   0%|          | 0/98 [00:00<?, ?it/s]"
      ]
     },
     "metadata": {},
     "output_type": "display_data"
    },
    {
     "data": {
      "application/vnd.jupyter.widget-view+json": {
       "model_id": "6a0901bb65b9470da79bb247df21296a",
       "version_major": 2,
       "version_minor": 0
      },
      "text/plain": [
       "Computing transition probabilities:   0%|          | 0/98 [00:00<?, ?it/s]"
      ]
     },
     "metadata": {},
     "output_type": "display_data"
    },
    {
     "data": {
      "application/vnd.jupyter.widget-view+json": {
       "model_id": "925fefdc2bfc4246908845cea560d061",
       "version_major": 2,
       "version_minor": 0
      },
      "text/plain": [
       "Computing transition probabilities:   0%|          | 0/98 [00:00<?, ?it/s]"
      ]
     },
     "metadata": {},
     "output_type": "display_data"
    },
    {
     "data": {
      "application/vnd.jupyter.widget-view+json": {
       "model_id": "bb520c5c06774c16bb19806c73f4a75c",
       "version_major": 2,
       "version_minor": 0
      },
      "text/plain": [
       "Computing transition probabilities:   0%|          | 0/98 [00:00<?, ?it/s]"
      ]
     },
     "metadata": {},
     "output_type": "display_data"
    },
    {
     "data": {
      "application/vnd.jupyter.widget-view+json": {
       "model_id": "52dea1455ab14ce9bdfded66529d66d1",
       "version_major": 2,
       "version_minor": 0
      },
      "text/plain": [
       "Computing transition probabilities:   0%|          | 0/98 [00:00<?, ?it/s]"
      ]
     },
     "metadata": {},
     "output_type": "display_data"
    },
    {
     "data": {
      "application/vnd.jupyter.widget-view+json": {
       "model_id": "a866047880a84ea1bd3061e13b1da8f5",
       "version_major": 2,
       "version_minor": 0
      },
      "text/plain": [
       "Computing transition probabilities:   0%|          | 0/98 [00:00<?, ?it/s]"
      ]
     },
     "metadata": {},
     "output_type": "display_data"
    },
    {
     "data": {
      "application/vnd.jupyter.widget-view+json": {
       "model_id": "a8fd83cc95194c86a948f2bd76f21744",
       "version_major": 2,
       "version_minor": 0
      },
      "text/plain": [
       "Computing transition probabilities:   0%|          | 0/98 [00:00<?, ?it/s]"
      ]
     },
     "metadata": {},
     "output_type": "display_data"
    },
    {
     "data": {
      "application/vnd.jupyter.widget-view+json": {
       "model_id": "184dc29d6d91485192d164bef4a4d18e",
       "version_major": 2,
       "version_minor": 0
      },
      "text/plain": [
       "Computing transition probabilities:   0%|          | 0/98 [00:00<?, ?it/s]"
      ]
     },
     "metadata": {},
     "output_type": "display_data"
    },
    {
     "data": {
      "application/vnd.jupyter.widget-view+json": {
       "model_id": "374a5c8bfc3044ab96324455e7e999b0",
       "version_major": 2,
       "version_minor": 0
      },
      "text/plain": [
       "Computing transition probabilities:   0%|          | 0/98 [00:00<?, ?it/s]"
      ]
     },
     "metadata": {},
     "output_type": "display_data"
    },
    {
     "data": {
      "application/vnd.jupyter.widget-view+json": {
       "model_id": "b418031c19e549aaaebe34bf3e0ab014",
       "version_major": 2,
       "version_minor": 0
      },
      "text/plain": [
       "Computing transition probabilities:   0%|          | 0/98 [00:00<?, ?it/s]"
      ]
     },
     "metadata": {},
     "output_type": "display_data"
    },
    {
     "data": {
      "application/vnd.jupyter.widget-view+json": {
       "model_id": "8055ab7323b4440ca7d2aaabe2bd51f0",
       "version_major": 2,
       "version_minor": 0
      },
      "text/plain": [
       "Computing transition probabilities:   0%|          | 0/98 [00:00<?, ?it/s]"
      ]
     },
     "metadata": {},
     "output_type": "display_data"
    },
    {
     "data": {
      "application/vnd.jupyter.widget-view+json": {
       "model_id": "576c68d49d274b6f876ea312b052d0fd",
       "version_major": 2,
       "version_minor": 0
      },
      "text/plain": [
       "Computing transition probabilities:   0%|          | 0/97 [00:00<?, ?it/s]"
      ]
     },
     "metadata": {},
     "output_type": "display_data"
    },
    {
     "data": {
      "application/vnd.jupyter.widget-view+json": {
       "model_id": "9f8ebeebeb0e4dfa81342a309e06ab92",
       "version_major": 2,
       "version_minor": 0
      },
      "text/plain": [
       "Computing transition probabilities:   0%|          | 0/98 [00:00<?, ?it/s]"
      ]
     },
     "metadata": {},
     "output_type": "display_data"
    },
    {
     "data": {
      "application/vnd.jupyter.widget-view+json": {
       "model_id": "57edb8b1a35549ae9ab738e414786668",
       "version_major": 2,
       "version_minor": 0
      },
      "text/plain": [
       "Computing transition probabilities:   0%|          | 0/98 [00:00<?, ?it/s]"
      ]
     },
     "metadata": {},
     "output_type": "display_data"
    },
    {
     "data": {
      "application/vnd.jupyter.widget-view+json": {
       "model_id": "a714c7ec8d4e4cb18ff0924ffd5f19bf",
       "version_major": 2,
       "version_minor": 0
      },
      "text/plain": [
       "Computing transition probabilities:   0%|          | 0/98 [00:00<?, ?it/s]"
      ]
     },
     "metadata": {},
     "output_type": "display_data"
    },
    {
     "data": {
      "application/vnd.jupyter.widget-view+json": {
       "model_id": "f028a30b9702450d9c327fbee70d904d",
       "version_major": 2,
       "version_minor": 0
      },
      "text/plain": [
       "Computing transition probabilities:   0%|          | 0/98 [00:00<?, ?it/s]"
      ]
     },
     "metadata": {},
     "output_type": "display_data"
    },
    {
     "data": {
      "application/vnd.jupyter.widget-view+json": {
       "model_id": "08b9185f58374977bc25f09dd89dcc8d",
       "version_major": 2,
       "version_minor": 0
      },
      "text/plain": [
       "Computing transition probabilities:   0%|          | 0/98 [00:00<?, ?it/s]"
      ]
     },
     "metadata": {},
     "output_type": "display_data"
    },
    {
     "data": {
      "application/vnd.jupyter.widget-view+json": {
       "model_id": "aa005283c75a4d198b691b79fe30e155",
       "version_major": 2,
       "version_minor": 0
      },
      "text/plain": [
       "Computing transition probabilities:   0%|          | 0/98 [00:00<?, ?it/s]"
      ]
     },
     "metadata": {},
     "output_type": "display_data"
    },
    {
     "data": {
      "application/vnd.jupyter.widget-view+json": {
       "model_id": "d40842a9592545009c66a50d3a1a7fc2",
       "version_major": 2,
       "version_minor": 0
      },
      "text/plain": [
       "Computing transition probabilities:   0%|          | 0/98 [00:00<?, ?it/s]"
      ]
     },
     "metadata": {},
     "output_type": "display_data"
    },
    {
     "name": "stdout",
     "output_type": "stream",
     "text": [
      "Accuracy: 0.839 (95% CI: 0.837 - 0.842)\n",
      "Precision: 0.782 (95% CI: 0.773 - 0.792)\n",
      "Recall: 0.488 (95% CI: 0.477 - 0.499)\n",
      "F1 Score: 0.601 (95% CI: 0.593 - 0.609)\n",
      "ROC AUC: 0.888 (95% CI: 0.885 - 0.891)\n",
      "Total Computation Time: 623.568 seconds\n",
      "\n",
      "Classifier: KNN\n"
     ]
    },
    {
     "data": {
      "application/vnd.jupyter.widget-view+json": {
       "model_id": "bda8134c3e2044fe92ed99f8a38e6490",
       "version_major": 2,
       "version_minor": 0
      },
      "text/plain": [
       "Computing transition probabilities:   0%|          | 0/98 [00:00<?, ?it/s]"
      ]
     },
     "metadata": {},
     "output_type": "display_data"
    },
    {
     "data": {
      "application/vnd.jupyter.widget-view+json": {
       "model_id": "4cb73a48296949a08366d4f1cc517356",
       "version_major": 2,
       "version_minor": 0
      },
      "text/plain": [
       "Computing transition probabilities:   0%|          | 0/98 [00:00<?, ?it/s]"
      ]
     },
     "metadata": {},
     "output_type": "display_data"
    },
    {
     "data": {
      "application/vnd.jupyter.widget-view+json": {
       "model_id": "4521415cf36b454d8d1a79f1d30aa665",
       "version_major": 2,
       "version_minor": 0
      },
      "text/plain": [
       "Computing transition probabilities:   0%|          | 0/98 [00:00<?, ?it/s]"
      ]
     },
     "metadata": {},
     "output_type": "display_data"
    },
    {
     "data": {
      "application/vnd.jupyter.widget-view+json": {
       "model_id": "61a775d1ae6648cfa42c8e36044d6bf2",
       "version_major": 2,
       "version_minor": 0
      },
      "text/plain": [
       "Computing transition probabilities:   0%|          | 0/98 [00:00<?, ?it/s]"
      ]
     },
     "metadata": {},
     "output_type": "display_data"
    },
    {
     "data": {
      "application/vnd.jupyter.widget-view+json": {
       "model_id": "a747a890e1aa48f9b004276953609107",
       "version_major": 2,
       "version_minor": 0
      },
      "text/plain": [
       "Computing transition probabilities:   0%|          | 0/98 [00:00<?, ?it/s]"
      ]
     },
     "metadata": {},
     "output_type": "display_data"
    },
    {
     "data": {
      "application/vnd.jupyter.widget-view+json": {
       "model_id": "44f621061cb54367bd12e7f7c489b8bd",
       "version_major": 2,
       "version_minor": 0
      },
      "text/plain": [
       "Computing transition probabilities:   0%|          | 0/98 [00:00<?, ?it/s]"
      ]
     },
     "metadata": {},
     "output_type": "display_data"
    },
    {
     "data": {
      "application/vnd.jupyter.widget-view+json": {
       "model_id": "8a93176fe7af4a64b5ee55ed03aaecf4",
       "version_major": 2,
       "version_minor": 0
      },
      "text/plain": [
       "Computing transition probabilities:   0%|          | 0/98 [00:00<?, ?it/s]"
      ]
     },
     "metadata": {},
     "output_type": "display_data"
    },
    {
     "data": {
      "application/vnd.jupyter.widget-view+json": {
       "model_id": "5edf85686d174b9783cdd701d23ae772",
       "version_major": 2,
       "version_minor": 0
      },
      "text/plain": [
       "Computing transition probabilities:   0%|          | 0/98 [00:00<?, ?it/s]"
      ]
     },
     "metadata": {},
     "output_type": "display_data"
    },
    {
     "data": {
      "application/vnd.jupyter.widget-view+json": {
       "model_id": "33a47ad5ed1b485c96f7190784a925a5",
       "version_major": 2,
       "version_minor": 0
      },
      "text/plain": [
       "Computing transition probabilities:   0%|          | 0/98 [00:00<?, ?it/s]"
      ]
     },
     "metadata": {},
     "output_type": "display_data"
    },
    {
     "data": {
      "application/vnd.jupyter.widget-view+json": {
       "model_id": "7f2307c814ac458c837782d6170e7a15",
       "version_major": 2,
       "version_minor": 0
      },
      "text/plain": [
       "Computing transition probabilities:   0%|          | 0/98 [00:00<?, ?it/s]"
      ]
     },
     "metadata": {},
     "output_type": "display_data"
    },
    {
     "data": {
      "application/vnd.jupyter.widget-view+json": {
       "model_id": "f40c7c72e23d4083b3adfa3a01b584ef",
       "version_major": 2,
       "version_minor": 0
      },
      "text/plain": [
       "Computing transition probabilities:   0%|          | 0/98 [00:00<?, ?it/s]"
      ]
     },
     "metadata": {},
     "output_type": "display_data"
    },
    {
     "data": {
      "application/vnd.jupyter.widget-view+json": {
       "model_id": "a5c12f6e1c8c4f088d845226b5675649",
       "version_major": 2,
       "version_minor": 0
      },
      "text/plain": [
       "Computing transition probabilities:   0%|          | 0/98 [00:00<?, ?it/s]"
      ]
     },
     "metadata": {},
     "output_type": "display_data"
    },
    {
     "data": {
      "application/vnd.jupyter.widget-view+json": {
       "model_id": "12c970e3f804405eb1ba7a0f3f7382c8",
       "version_major": 2,
       "version_minor": 0
      },
      "text/plain": [
       "Computing transition probabilities:   0%|          | 0/97 [00:00<?, ?it/s]"
      ]
     },
     "metadata": {},
     "output_type": "display_data"
    },
    {
     "data": {
      "application/vnd.jupyter.widget-view+json": {
       "model_id": "5d8666042d0a4a85b14102be5405d9c0",
       "version_major": 2,
       "version_minor": 0
      },
      "text/plain": [
       "Computing transition probabilities:   0%|          | 0/98 [00:00<?, ?it/s]"
      ]
     },
     "metadata": {},
     "output_type": "display_data"
    },
    {
     "data": {
      "application/vnd.jupyter.widget-view+json": {
       "model_id": "e20863f4378a42489bd4d1ab44f9cb0f",
       "version_major": 2,
       "version_minor": 0
      },
      "text/plain": [
       "Computing transition probabilities:   0%|          | 0/98 [00:00<?, ?it/s]"
      ]
     },
     "metadata": {},
     "output_type": "display_data"
    },
    {
     "data": {
      "application/vnd.jupyter.widget-view+json": {
       "model_id": "68282dc361f943db8e4431596d106a2e",
       "version_major": 2,
       "version_minor": 0
      },
      "text/plain": [
       "Computing transition probabilities:   0%|          | 0/98 [00:00<?, ?it/s]"
      ]
     },
     "metadata": {},
     "output_type": "display_data"
    },
    {
     "data": {
      "application/vnd.jupyter.widget-view+json": {
       "model_id": "a4a9405712ea43d092c08cceae46069f",
       "version_major": 2,
       "version_minor": 0
      },
      "text/plain": [
       "Computing transition probabilities:   0%|          | 0/98 [00:00<?, ?it/s]"
      ]
     },
     "metadata": {},
     "output_type": "display_data"
    },
    {
     "data": {
      "application/vnd.jupyter.widget-view+json": {
       "model_id": "145cf45607cb4b0093810787adf79933",
       "version_major": 2,
       "version_minor": 0
      },
      "text/plain": [
       "Computing transition probabilities:   0%|          | 0/98 [00:00<?, ?it/s]"
      ]
     },
     "metadata": {},
     "output_type": "display_data"
    },
    {
     "data": {
      "application/vnd.jupyter.widget-view+json": {
       "model_id": "9751e26559354a16a4491c2321479a1b",
       "version_major": 2,
       "version_minor": 0
      },
      "text/plain": [
       "Computing transition probabilities:   0%|          | 0/98 [00:00<?, ?it/s]"
      ]
     },
     "metadata": {},
     "output_type": "display_data"
    },
    {
     "data": {
      "application/vnd.jupyter.widget-view+json": {
       "model_id": "848719f9d0fa4f36898c598812643671",
       "version_major": 2,
       "version_minor": 0
      },
      "text/plain": [
       "Computing transition probabilities:   0%|          | 0/98 [00:00<?, ?it/s]"
      ]
     },
     "metadata": {},
     "output_type": "display_data"
    },
    {
     "name": "stdout",
     "output_type": "stream",
     "text": [
      "Accuracy: 0.816 (95% CI: 0.813 - 0.820)\n",
      "Precision: 0.644 (95% CI: 0.636 - 0.652)\n",
      "Recall: 0.580 (95% CI: 0.570 - 0.591)\n",
      "F1 Score: 0.610 (95% CI: 0.602 - 0.618)\n",
      "ROC AUC: 0.817 (95% CI: 0.811 - 0.823)\n",
      "Total Computation Time: 292.001 seconds\n",
      "\n",
      "Classifier: XGB\n"
     ]
    },
    {
     "data": {
      "application/vnd.jupyter.widget-view+json": {
       "model_id": "cd5b03eef82e457d82ba31da72f9fb10",
       "version_major": 2,
       "version_minor": 0
      },
      "text/plain": [
       "Computing transition probabilities:   0%|          | 0/98 [00:00<?, ?it/s]"
      ]
     },
     "metadata": {},
     "output_type": "display_data"
    },
    {
     "data": {
      "application/vnd.jupyter.widget-view+json": {
       "model_id": "59bfe4a22c9d4cc1bc7392a53351d163",
       "version_major": 2,
       "version_minor": 0
      },
      "text/plain": [
       "Computing transition probabilities:   0%|          | 0/98 [00:00<?, ?it/s]"
      ]
     },
     "metadata": {},
     "output_type": "display_data"
    },
    {
     "data": {
      "application/vnd.jupyter.widget-view+json": {
       "model_id": "affe8e3b4c8549eb8732b90eed2ba79d",
       "version_major": 2,
       "version_minor": 0
      },
      "text/plain": [
       "Computing transition probabilities:   0%|          | 0/98 [00:00<?, ?it/s]"
      ]
     },
     "metadata": {},
     "output_type": "display_data"
    },
    {
     "data": {
      "application/vnd.jupyter.widget-view+json": {
       "model_id": "bf410d75625040efa5e9702ab6354e68",
       "version_major": 2,
       "version_minor": 0
      },
      "text/plain": [
       "Computing transition probabilities:   0%|          | 0/98 [00:00<?, ?it/s]"
      ]
     },
     "metadata": {},
     "output_type": "display_data"
    },
    {
     "data": {
      "application/vnd.jupyter.widget-view+json": {
       "model_id": "4f78df6e967c4bd79eb86a61a2910cbd",
       "version_major": 2,
       "version_minor": 0
      },
      "text/plain": [
       "Computing transition probabilities:   0%|          | 0/98 [00:00<?, ?it/s]"
      ]
     },
     "metadata": {},
     "output_type": "display_data"
    },
    {
     "data": {
      "application/vnd.jupyter.widget-view+json": {
       "model_id": "6c3a579696ae431b8b388edb8a5fc05b",
       "version_major": 2,
       "version_minor": 0
      },
      "text/plain": [
       "Computing transition probabilities:   0%|          | 0/98 [00:00<?, ?it/s]"
      ]
     },
     "metadata": {},
     "output_type": "display_data"
    },
    {
     "data": {
      "application/vnd.jupyter.widget-view+json": {
       "model_id": "1043071be2f64c7daa868e139afc6e09",
       "version_major": 2,
       "version_minor": 0
      },
      "text/plain": [
       "Computing transition probabilities:   0%|          | 0/98 [00:00<?, ?it/s]"
      ]
     },
     "metadata": {},
     "output_type": "display_data"
    },
    {
     "data": {
      "application/vnd.jupyter.widget-view+json": {
       "model_id": "a80b53f17fcf4b35be40fef67e628e3b",
       "version_major": 2,
       "version_minor": 0
      },
      "text/plain": [
       "Computing transition probabilities:   0%|          | 0/98 [00:00<?, ?it/s]"
      ]
     },
     "metadata": {},
     "output_type": "display_data"
    },
    {
     "data": {
      "application/vnd.jupyter.widget-view+json": {
       "model_id": "b5de354aff934ae5a582e3e0b8349504",
       "version_major": 2,
       "version_minor": 0
      },
      "text/plain": [
       "Computing transition probabilities:   0%|          | 0/98 [00:00<?, ?it/s]"
      ]
     },
     "metadata": {},
     "output_type": "display_data"
    },
    {
     "data": {
      "application/vnd.jupyter.widget-view+json": {
       "model_id": "6264fcbc11ac4c5b84ce4a65c1263e2c",
       "version_major": 2,
       "version_minor": 0
      },
      "text/plain": [
       "Computing transition probabilities:   0%|          | 0/98 [00:00<?, ?it/s]"
      ]
     },
     "metadata": {},
     "output_type": "display_data"
    },
    {
     "data": {
      "application/vnd.jupyter.widget-view+json": {
       "model_id": "4f2fd6cd493447b29feb0ca2d3c3406c",
       "version_major": 2,
       "version_minor": 0
      },
      "text/plain": [
       "Computing transition probabilities:   0%|          | 0/98 [00:00<?, ?it/s]"
      ]
     },
     "metadata": {},
     "output_type": "display_data"
    },
    {
     "data": {
      "application/vnd.jupyter.widget-view+json": {
       "model_id": "c54696d3c100435cbb9c74c3b9a695d4",
       "version_major": 2,
       "version_minor": 0
      },
      "text/plain": [
       "Computing transition probabilities:   0%|          | 0/98 [00:00<?, ?it/s]"
      ]
     },
     "metadata": {},
     "output_type": "display_data"
    },
    {
     "data": {
      "application/vnd.jupyter.widget-view+json": {
       "model_id": "6e20d8471d5b4d4e889527f7b90d7c92",
       "version_major": 2,
       "version_minor": 0
      },
      "text/plain": [
       "Computing transition probabilities:   0%|          | 0/97 [00:00<?, ?it/s]"
      ]
     },
     "metadata": {},
     "output_type": "display_data"
    },
    {
     "data": {
      "application/vnd.jupyter.widget-view+json": {
       "model_id": "236aa47f40d8456f9ac4e7f49d62f14a",
       "version_major": 2,
       "version_minor": 0
      },
      "text/plain": [
       "Computing transition probabilities:   0%|          | 0/98 [00:00<?, ?it/s]"
      ]
     },
     "metadata": {},
     "output_type": "display_data"
    },
    {
     "data": {
      "application/vnd.jupyter.widget-view+json": {
       "model_id": "08754896d22c4fc6896b471cdce61b21",
       "version_major": 2,
       "version_minor": 0
      },
      "text/plain": [
       "Computing transition probabilities:   0%|          | 0/98 [00:00<?, ?it/s]"
      ]
     },
     "metadata": {},
     "output_type": "display_data"
    },
    {
     "data": {
      "application/vnd.jupyter.widget-view+json": {
       "model_id": "766c441b90b9464d8e7b53650f1dc762",
       "version_major": 2,
       "version_minor": 0
      },
      "text/plain": [
       "Computing transition probabilities:   0%|          | 0/98 [00:00<?, ?it/s]"
      ]
     },
     "metadata": {},
     "output_type": "display_data"
    },
    {
     "data": {
      "application/vnd.jupyter.widget-view+json": {
       "model_id": "a5ab600709224f6aa5fce75d7b3977d3",
       "version_major": 2,
       "version_minor": 0
      },
      "text/plain": [
       "Computing transition probabilities:   0%|          | 0/98 [00:00<?, ?it/s]"
      ]
     },
     "metadata": {},
     "output_type": "display_data"
    },
    {
     "data": {
      "application/vnd.jupyter.widget-view+json": {
       "model_id": "bbd1c6596c4b473687e1fe21172495c3",
       "version_major": 2,
       "version_minor": 0
      },
      "text/plain": [
       "Computing transition probabilities:   0%|          | 0/98 [00:00<?, ?it/s]"
      ]
     },
     "metadata": {},
     "output_type": "display_data"
    },
    {
     "data": {
      "application/vnd.jupyter.widget-view+json": {
       "model_id": "c6db08ebbfe840d1beae5d633d7b3cbf",
       "version_major": 2,
       "version_minor": 0
      },
      "text/plain": [
       "Computing transition probabilities:   0%|          | 0/98 [00:00<?, ?it/s]"
      ]
     },
     "metadata": {},
     "output_type": "display_data"
    },
    {
     "data": {
      "application/vnd.jupyter.widget-view+json": {
       "model_id": "a576c698fb5348518cf9a5bdb74775e6",
       "version_major": 2,
       "version_minor": 0
      },
      "text/plain": [
       "Computing transition probabilities:   0%|          | 0/98 [00:00<?, ?it/s]"
      ]
     },
     "metadata": {},
     "output_type": "display_data"
    },
    {
     "name": "stdout",
     "output_type": "stream",
     "text": [
      "Accuracy: 0.865 (95% CI: 0.862 - 0.868)\n",
      "Precision: 0.772 (95% CI: 0.765 - 0.779)\n",
      "Recall: 0.649 (95% CI: 0.639 - 0.658)\n",
      "F1 Score: 0.705 (95% CI: 0.698 - 0.712)\n",
      "ROC AUC: 0.922 (95% CI: 0.919 - 0.925)\n",
      "Total Computation Time: 408.204 seconds\n",
      "\n",
      "Classifier: MLP\n"
     ]
    },
    {
     "data": {
      "application/vnd.jupyter.widget-view+json": {
       "model_id": "4ad4df85e5d845429bd07ef7f6323bf3",
       "version_major": 2,
       "version_minor": 0
      },
      "text/plain": [
       "Computing transition probabilities:   0%|          | 0/98 [00:00<?, ?it/s]"
      ]
     },
     "metadata": {},
     "output_type": "display_data"
    },
    {
     "data": {
      "application/vnd.jupyter.widget-view+json": {
       "model_id": "8b0b27ce8baa4fbeb9187e1c5b15d2df",
       "version_major": 2,
       "version_minor": 0
      },
      "text/plain": [
       "Computing transition probabilities:   0%|          | 0/98 [00:00<?, ?it/s]"
      ]
     },
     "metadata": {},
     "output_type": "display_data"
    },
    {
     "data": {
      "application/vnd.jupyter.widget-view+json": {
       "model_id": "4061c3354dd140f3bd95bd16a53cfdae",
       "version_major": 2,
       "version_minor": 0
      },
      "text/plain": [
       "Computing transition probabilities:   0%|          | 0/98 [00:00<?, ?it/s]"
      ]
     },
     "metadata": {},
     "output_type": "display_data"
    },
    {
     "data": {
      "application/vnd.jupyter.widget-view+json": {
       "model_id": "f7be1307efec412893f1551978dc24a0",
       "version_major": 2,
       "version_minor": 0
      },
      "text/plain": [
       "Computing transition probabilities:   0%|          | 0/98 [00:00<?, ?it/s]"
      ]
     },
     "metadata": {},
     "output_type": "display_data"
    },
    {
     "data": {
      "application/vnd.jupyter.widget-view+json": {
       "model_id": "5b44425d4f444de69bb99f9e30218242",
       "version_major": 2,
       "version_minor": 0
      },
      "text/plain": [
       "Computing transition probabilities:   0%|          | 0/98 [00:00<?, ?it/s]"
      ]
     },
     "metadata": {},
     "output_type": "display_data"
    },
    {
     "data": {
      "application/vnd.jupyter.widget-view+json": {
       "model_id": "97c98a481add4d5789dcc0f906c4af11",
       "version_major": 2,
       "version_minor": 0
      },
      "text/plain": [
       "Computing transition probabilities:   0%|          | 0/98 [00:00<?, ?it/s]"
      ]
     },
     "metadata": {},
     "output_type": "display_data"
    },
    {
     "data": {
      "application/vnd.jupyter.widget-view+json": {
       "model_id": "af54155ff1404d208b96d90cae35591c",
       "version_major": 2,
       "version_minor": 0
      },
      "text/plain": [
       "Computing transition probabilities:   0%|          | 0/98 [00:00<?, ?it/s]"
      ]
     },
     "metadata": {},
     "output_type": "display_data"
    },
    {
     "data": {
      "application/vnd.jupyter.widget-view+json": {
       "model_id": "e4e90ebfa0eb473c87dbe6514d3bfce4",
       "version_major": 2,
       "version_minor": 0
      },
      "text/plain": [
       "Computing transition probabilities:   0%|          | 0/98 [00:00<?, ?it/s]"
      ]
     },
     "metadata": {},
     "output_type": "display_data"
    },
    {
     "data": {
      "application/vnd.jupyter.widget-view+json": {
       "model_id": "3adbf31e6f2a4c1b8f1a8b65aae03ff8",
       "version_major": 2,
       "version_minor": 0
      },
      "text/plain": [
       "Computing transition probabilities:   0%|          | 0/98 [00:00<?, ?it/s]"
      ]
     },
     "metadata": {},
     "output_type": "display_data"
    },
    {
     "data": {
      "application/vnd.jupyter.widget-view+json": {
       "model_id": "7db435195f6f42e3a4d248a635311c70",
       "version_major": 2,
       "version_minor": 0
      },
      "text/plain": [
       "Computing transition probabilities:   0%|          | 0/98 [00:00<?, ?it/s]"
      ]
     },
     "metadata": {},
     "output_type": "display_data"
    },
    {
     "data": {
      "application/vnd.jupyter.widget-view+json": {
       "model_id": "f0e0055056fb41a1ba510bd3aa5ad7a8",
       "version_major": 2,
       "version_minor": 0
      },
      "text/plain": [
       "Computing transition probabilities:   0%|          | 0/98 [00:00<?, ?it/s]"
      ]
     },
     "metadata": {},
     "output_type": "display_data"
    },
    {
     "data": {
      "application/vnd.jupyter.widget-view+json": {
       "model_id": "3ed1147d39574ef3a848238723c92250",
       "version_major": 2,
       "version_minor": 0
      },
      "text/plain": [
       "Computing transition probabilities:   0%|          | 0/98 [00:00<?, ?it/s]"
      ]
     },
     "metadata": {},
     "output_type": "display_data"
    },
    {
     "data": {
      "application/vnd.jupyter.widget-view+json": {
       "model_id": "e20b041a8f35415aa6b96deb95bd1d44",
       "version_major": 2,
       "version_minor": 0
      },
      "text/plain": [
       "Computing transition probabilities:   0%|          | 0/97 [00:00<?, ?it/s]"
      ]
     },
     "metadata": {},
     "output_type": "display_data"
    },
    {
     "data": {
      "application/vnd.jupyter.widget-view+json": {
       "model_id": "bed9b01a16244501967aaa5f3abf3839",
       "version_major": 2,
       "version_minor": 0
      },
      "text/plain": [
       "Computing transition probabilities:   0%|          | 0/98 [00:00<?, ?it/s]"
      ]
     },
     "metadata": {},
     "output_type": "display_data"
    },
    {
     "data": {
      "application/vnd.jupyter.widget-view+json": {
       "model_id": "f5890183cdd543c2adea6e4cf7b65e04",
       "version_major": 2,
       "version_minor": 0
      },
      "text/plain": [
       "Computing transition probabilities:   0%|          | 0/98 [00:00<?, ?it/s]"
      ]
     },
     "metadata": {},
     "output_type": "display_data"
    },
    {
     "data": {
      "application/vnd.jupyter.widget-view+json": {
       "model_id": "762b43de1a964dd29d41f62c1c46578b",
       "version_major": 2,
       "version_minor": 0
      },
      "text/plain": [
       "Computing transition probabilities:   0%|          | 0/98 [00:00<?, ?it/s]"
      ]
     },
     "metadata": {},
     "output_type": "display_data"
    },
    {
     "data": {
      "application/vnd.jupyter.widget-view+json": {
       "model_id": "f658a6a5caae4a4894cf11860fbb1e65",
       "version_major": 2,
       "version_minor": 0
      },
      "text/plain": [
       "Computing transition probabilities:   0%|          | 0/98 [00:00<?, ?it/s]"
      ]
     },
     "metadata": {},
     "output_type": "display_data"
    },
    {
     "data": {
      "application/vnd.jupyter.widget-view+json": {
       "model_id": "18516a277c1449ef88f851264b490be1",
       "version_major": 2,
       "version_minor": 0
      },
      "text/plain": [
       "Computing transition probabilities:   0%|          | 0/98 [00:00<?, ?it/s]"
      ]
     },
     "metadata": {},
     "output_type": "display_data"
    },
    {
     "data": {
      "application/vnd.jupyter.widget-view+json": {
       "model_id": "7f03a6f6ac6d4627b11ebe369e57fb0e",
       "version_major": 2,
       "version_minor": 0
      },
      "text/plain": [
       "Computing transition probabilities:   0%|          | 0/98 [00:00<?, ?it/s]"
      ]
     },
     "metadata": {},
     "output_type": "display_data"
    },
    {
     "data": {
      "application/vnd.jupyter.widget-view+json": {
       "model_id": "984189234be3487aa77da93d35d423fc",
       "version_major": 2,
       "version_minor": 0
      },
      "text/plain": [
       "Computing transition probabilities:   0%|          | 0/98 [00:00<?, ?it/s]"
      ]
     },
     "metadata": {},
     "output_type": "display_data"
    },
    {
     "name": "stdout",
     "output_type": "stream",
     "text": [
      "Accuracy: 0.845 (95% CI: 0.842 - 0.849)\n",
      "Precision: 0.724 (95% CI: 0.711 - 0.736)\n",
      "Recall: 0.610 (95% CI: 0.594 - 0.626)\n",
      "F1 Score: 0.661 (95% CI: 0.652 - 0.670)\n",
      "ROC AUC: 0.901 (95% CI: 0.897 - 0.905)\n",
      "Total Computation Time: 2546.199 seconds\n",
      "\n"
     ]
    }
   ],
   "source": [
    "import config_cat_embedding\n",
    "import numpy as np\n",
    "import pandas as pd\n",
    "import random\n",
    "import time\n",
    "\n",
    "from gensim.models import Word2Vec\n",
    "from sklearn.model_selection import StratifiedKFold\n",
    "from sklearn.linear_model import LogisticRegression\n",
    "from sklearn.tree import DecisionTreeClassifier\n",
    "from sklearn.neighbors import KNeighborsClassifier\n",
    "# from sklearn.svm import SVC\n",
    "from sklearn.ensemble import RandomForestClassifier\n",
    "from xgboost import XGBClassifier\n",
    "from scikeras.wrappers import KerasClassifier\n",
    "from sklearn.preprocessing import StandardScaler\n",
    "from sklearn.metrics import (accuracy_score, precision_score, recall_score,\n",
    "                             f1_score, roc_auc_score)\n",
    "import networkx as nx\n",
    "from node2vec import Node2Vec\n",
    "import matplotlib.pyplot as plt\n",
    "\n",
    "from scipy.sparse import coo_matrix, csr_matrix\n",
    "\n",
    "from tqdm.notebook import tqdm\n",
    "from data_prep import bank_data_prep, adult_data_prep\n",
    "from embedding_helper import create_network\n",
    "\n",
    "from scipy import stats  # For confidence intervals\n",
    "\n",
    "# Set the random seed for reproducibility\n",
    "random.seed(42)\n",
    "np.random.seed(42)\n",
    "\n",
    "def create_cooccurrence_matrix_diag(df_cat):\n",
    "    # Get unique categories\n",
    "    categories = np.unique(df_cat)\n",
    "\n",
    "    # Create a dictionary to map category to index\n",
    "    category_to_index = {cat: i for i, cat in enumerate(categories)}\n",
    "\n",
    "    # Calculate co-occurrence matrix\n",
    "    matrix = np.zeros((len(categories), len(categories)))\n",
    "    for row in df_cat.itertuples(index=False):\n",
    "        for i, cat1 in enumerate(row):\n",
    "            for j, cat2 in enumerate(row):\n",
    "                if i != j:\n",
    "                    matrix[category_to_index[cat1], category_to_index[cat2]] += 1\n",
    "\n",
    "    # Calculate the diagonal values\n",
    "    diagonal_values = []\n",
    "    for cat in categories:\n",
    "        count = df_cat.stack().value_counts()[cat]\n",
    "        diagonal_values.append(count)\n",
    "\n",
    "    # Set diagonal values to category counts\n",
    "    np.fill_diagonal(matrix, diagonal_values)\n",
    "\n",
    "    # Convert the matrix to a sparse matrix\n",
    "    sparse_matrix = coo_matrix(matrix)\n",
    "\n",
    "    # Normalize the matrix\n",
    "    normalized_matrix = csr_matrix(sparse_matrix / sparse_matrix.sum(axis=1))\n",
    "\n",
    "    # Convert to DataFrame for easier handling\n",
    "    co_occurrence_matrix_norm = pd.DataFrame(normalized_matrix.toarray(), index=categories, columns=categories)\n",
    "\n",
    "    return co_occurrence_matrix_norm\n",
    "\n",
    "# get_embeddings function outside the loop\n",
    "def get_embeddings(df, model):\n",
    "    embeddings = []\n",
    "    for index, row in df.iterrows():\n",
    "        node_vectors = []\n",
    "        for cat in row:\n",
    "            if str(cat) in model.wv:\n",
    "                node_vectors.append(model.wv[str(cat)])\n",
    "            else:\n",
    "                node_vectors.append(np.zeros(model.vector_size))\n",
    "        embeddings.append(np.mean(node_vectors, axis=0))\n",
    "    return np.array(embeddings)\n",
    "\n",
    "# =============================================\n",
    "# Start of the adapted code for cross-validation\n",
    "# =============================================\n",
    "\n",
    "# Load and preprocess data\n",
    "data_path = config_cat_embedding.paths['data']\n",
    "bank_data = pd.read_csv(data_path+'adult.csv', sep=',')\n",
    "\n",
    "df_bank, cat_cols = adult_data_prep(bank_data)\n",
    "\n",
    "X = df_bank.iloc[:, :-1]\n",
    "y = df_bank.y\n",
    "\n",
    "# Define the classifiers\n",
    "seed = 42\n",
    "\n",
    "models = [\n",
    "    ('LR', LogisticRegression(solver='lbfgs', random_state=seed, max_iter=1000)),\n",
    "    ('DT', DecisionTreeClassifier(criterion='entropy', max_depth=3, random_state=seed)),\n",
    "    ('RF', RandomForestClassifier(n_estimators=200, max_depth=5, random_state=seed, min_samples_leaf=3)),\n",
    "    ('KNN', KNeighborsClassifier(n_neighbors=3)),\n",
    "    ('XGB', XGBClassifier(eval_metric='logloss', random_state=seed)),\n",
    "    ('MLP', KerasClassifier(\n",
    "        model=create_network,\n",
    "        epochs=100, batch_size=100, verbose=0, random_state=seed))\n",
    "]\n",
    "\n",
    "# Cross-validation setup\n",
    "cv = StratifiedKFold(n_splits=20, shuffle=True, random_state=seed)\n",
    "\n",
    "# Function to calculate confidence intervals\n",
    "def confidence_interval(data, confidence=0.95):\n",
    "    n = len(data)\n",
    "    m = np.mean(data)\n",
    "    std_err = stats.sem(data)\n",
    "    h = std_err * stats.t.ppf((1 + confidence) / 2, n - 1)\n",
    "    return m, m - h, m + h\n",
    "\n",
    "# Loop over models\n",
    "for name, model in models:\n",
    "    print(f\"Classifier: {name}\")\n",
    "    # Lists to store metrics for each fold\n",
    "    accuracies = []\n",
    "    precisions = []\n",
    "    recalls = []\n",
    "    f1s = []\n",
    "    roc_aucs = []\n",
    "\n",
    "    # Start the timer before cross-validation\n",
    "    start_time = time.time()\n",
    "\n",
    "    fold = 1\n",
    "    for train_index, test_index in cv.split(X, y):\n",
    "        # Split the data into training and testing sets for this fold\n",
    "        X_train_fold, X_test_fold = X.iloc[train_index].copy(), X.iloc[test_index].copy()\n",
    "        y_train_fold, y_test_fold = y.iloc[train_index], y.iloc[test_index]\n",
    "\n",
    "        # Preprocess data within the fold\n",
    "        # Handle categorical variables\n",
    "        cat_data_train = X_train_fold[cat_cols]\n",
    "        cat_data_test = X_test_fold[cat_cols]\n",
    "\n",
    "        # Create co-occurrence matrix using the training data\n",
    "        co_occurrence_matrix = create_cooccurrence_matrix_diag(cat_data_train)\n",
    "\n",
    "        # Use Node2Vec or another method to create embeddings from the co-occurrence matrix\n",
    "        # Here, we will create a graph and compute embeddings\n",
    "        G = nx.from_pandas_adjacency(co_occurrence_matrix)\n",
    "\n",
    "        node2vec = Node2Vec(G, dimensions=30, walk_length=10, num_walks=20, workers=4, seed=seed)\n",
    "        node2vec_model = node2vec.fit(window=10, min_count=1, batch_words=4)\n",
    "\n",
    "        # Map embeddings to the categorical data\n",
    "        X_train_emb = get_embeddings(cat_data_train, node2vec_model)\n",
    "        X_test_emb = get_embeddings(cat_data_test, node2vec_model)\n",
    "\n",
    "        # If there are numerical features, include them\n",
    "        num_cols = X_train_fold.drop(columns=cat_cols).columns.tolist()\n",
    "        if num_cols:\n",
    "            num_data_train = X_train_fold[num_cols].values\n",
    "            num_data_test = X_test_fold[num_cols].values\n",
    "\n",
    "            # Combine numerical and embedding features\n",
    "            X_train_combined = np.hstack((X_train_emb, num_data_train))\n",
    "            X_test_combined = np.hstack((X_test_emb, num_data_test))\n",
    "        else:\n",
    "            X_train_combined = X_train_emb\n",
    "            X_test_combined = X_test_emb\n",
    "\n",
    "        # Standard scaling\n",
    "        stc = StandardScaler()\n",
    "        X_train_scaled = stc.fit_transform(X_train_combined)\n",
    "        X_test_scaled = stc.transform(X_test_combined)\n",
    "\n",
    "        # Update number_of_features for MLP\n",
    "        number_of_features = X_train_scaled.shape[1]\n",
    "        if name == 'MLP':\n",
    "            # Update the model with the correct number of features\n",
    "            model.set_params(model__number_of_features=number_of_features)\n",
    "\n",
    "        # Fit the model\n",
    "        model.fit(X_train_scaled, y_train_fold)\n",
    "        # Predict on the test fold\n",
    "        y_pred_fold = model.predict(X_test_scaled)\n",
    "\n",
    "        # Get prediction probabilities for ROC AUC\n",
    "        if hasattr(model, \"predict_proba\"):\n",
    "            y_pred_prob_fold = model.predict_proba(X_test_scaled)[:, 1]\n",
    "        else:\n",
    "            # For classifiers without predict_proba, use decision_function\n",
    "            y_pred_prob_fold = model.decision_function(X_test_scaled)\n",
    "            # Normalize the decision function output to [0,1] range\n",
    "            y_pred_prob_fold = (y_pred_prob_fold - y_pred_prob_fold.min()) / (y_pred_prob_fold.max() - y_pred_prob_fold.min())\n",
    "\n",
    "        # Calculate metrics\n",
    "        accuracies.append(accuracy_score(y_test_fold, y_pred_fold))\n",
    "        precisions.append(precision_score(y_test_fold, y_pred_fold, zero_division=0))\n",
    "        recalls.append(recall_score(y_test_fold, y_pred_fold))\n",
    "        f1s.append(f1_score(y_test_fold, y_pred_fold))\n",
    "        roc_aucs.append(roc_auc_score(y_test_fold, y_pred_prob_fold))\n",
    "\n",
    "        # print(f\"Fold {fold} completed.\")\n",
    "        fold += 1\n",
    "\n",
    "    # Stop the timer after cross-validation\n",
    "    end_time = time.time()\n",
    "    total_computation_time = end_time - start_time  # Total time for the model\n",
    "\n",
    "    # Calculate mean and confidence intervals\n",
    "    acc_mean, acc_ci_lower, acc_ci_upper = confidence_interval(accuracies)\n",
    "    prec_mean, prec_ci_lower, prec_ci_upper = confidence_interval(precisions)\n",
    "    rec_mean, rec_ci_lower, rec_ci_upper = confidence_interval(recalls)\n",
    "    f1_mean, f1_ci_lower, f1_ci_upper = confidence_interval(f1s)\n",
    "    roc_mean, roc_ci_lower, roc_ci_upper = confidence_interval(roc_aucs)\n",
    "\n",
    "    # Print results\n",
    "    print(f\"Accuracy: {acc_mean:.3f} (95% CI: {acc_ci_lower:.3f} - {acc_ci_upper:.3f})\")\n",
    "    print(f\"Precision: {prec_mean:.3f} (95% CI: {prec_ci_lower:.3f} - {prec_ci_upper:.3f})\")\n",
    "    print(f\"Recall: {rec_mean:.3f} (95% CI: {rec_ci_lower:.3f} - {rec_ci_upper:.3f})\")\n",
    "    print(f\"F1 Score: {f1_mean:.3f} (95% CI: {f1_ci_lower:.3f} - {f1_ci_upper:.3f})\")\n",
    "    print(f\"ROC AUC: {roc_mean:.3f} (95% CI: {roc_ci_lower:.3f} - {roc_ci_upper:.3f})\")\n",
    "    print(f\"Total Computation Time: {total_computation_time:.3f} seconds\\n\")\n"
   ]
  },
  {
   "cell_type": "code",
   "execution_count": 9,
   "id": "a5e5176d",
   "metadata": {},
   "outputs": [
    {
     "name": "stderr",
     "output_type": "stream",
     "text": [
      "Matplotlib is building the font cache; this may take a moment.\n"
     ]
    }
   ],
   "source": [
    "import config_cat_embedding\n",
    "import numpy as np\n",
    "import pandas as pd\n",
    "import random\n",
    "import time\n",
    "\n",
    "from gensim.models import Word2Vec\n",
    "from sklearn.model_selection import train_test_split\n",
    "from sklearn.linear_model import LogisticRegression\n",
    "from sklearn.tree import DecisionTreeClassifier\n",
    "from sklearn.neighbors import KNeighborsClassifier\n",
    "from sklearn.svm import SVC\n",
    "from sklearn.ensemble import RandomForestClassifier\n",
    "from xgboost import XGBClassifier\n",
    "#from keras.wrappers.scikit_learn import KerasClassifier\n",
    "from scikeras.wrappers import KerasClassifier\n",
    "from sklearn.preprocessing import StandardScaler\n",
    "from sklearn.metrics import confusion_matrix, classification_report, auc, roc_auc_score\n",
    "import networkx as nx\n",
    "from node2vec import Node2Vec\n",
    "import matplotlib.pyplot as plt\n",
    "\n",
    "from scipy.sparse import coo_matrix, csr_matrix\n",
    "\n",
    "from tqdm import tqdm_notebook as tqdm\n",
    "from data_prep import bank_data_prep,adult_data_prep\n",
    "from embedding_helper import create_network\n",
    "\n",
    "# Set the random seed for reproducibility\n",
    "random.seed(42)\n",
    "np.random.seed(42)\n",
    "\n",
    "def create_cooccurrence_matrix_diag(df_cat):\n",
    "    # Get unique categories\n",
    "    categories = np.unique(df_cat)\n",
    "\n",
    "    # Create a dictionary to map category to index\n",
    "    category_to_index = {cat: i for i, cat in enumerate(categories)}\n",
    "\n",
    "    # Calculate co-occurrence matrix\n",
    "    matrix = np.zeros((len(categories), len(categories)))\n",
    "    for row in df_cat.itertuples(index=False):\n",
    "        for i, cat1 in enumerate(row):\n",
    "            for j, cat2 in enumerate(row):\n",
    "                if i != j:\n",
    "                    matrix[category_to_index[cat1], category_to_index[cat2]] += 1\n",
    "\n",
    "    # Calculate the diagonal values\n",
    "    diagonal_values = []\n",
    "    for cat in categories:\n",
    "        count = df_cat.stack().value_counts()[cat]\n",
    "        diagonal_values.append(count)\n",
    "\n",
    "    # Calculate co-occurrence matrix\n",
    "    matrix = np.zeros((len(categories), len(categories)))\n",
    "    for row in df_cat.values:\n",
    "        for i, cat1 in enumerate(row):\n",
    "            for j, cat2 in enumerate(row):\n",
    "                if i != j:\n",
    "                    matrix[category_to_index[cat1], category_to_index[cat2]] += 1\n",
    "\n",
    "    # Set diagonal values to category counts\n",
    "    np.fill_diagonal(matrix, diagonal_values)\n",
    "\n",
    "    # Convert the matrix to a sparse matrix\n",
    "    sparse_matrix = coo_matrix(matrix)\n",
    "\n",
    "    # Normalize the matrix\n",
    "    normalized_matrix = csr_matrix(sparse_matrix / sparse_matrix.sum(axis=1))\n",
    "\n",
    "    # Print the normalized matrix\n",
    "   # print(normalized_matrix.toarray())\n",
    "\n",
    "    # Print the matrix with row and column labels\n",
    "    co_occurrence_matrix_norm = pd.DataFrame(normalized_matrix.toarray(), index=categories, columns=categories)\n",
    "    #print(co_occurrence_matrix_norm)\n",
    "    return co_occurrence_matrix_norm\n",
    "\n",
    "\n"
   ]
  },
  {
   "cell_type": "code",
   "execution_count": 10,
   "id": "275a36c9",
   "metadata": {},
   "outputs": [
    {
     "data": {
      "image/png": "[encoded data removed]",
      "text/plain": [
       "<Figure size 640x480 with 1 Axes>"
      ]
     },
     "metadata": {},
     "output_type": "display_data"
    }
   ],
   "source": [
    "# Load the data and complete the data pre-processing\n",
    "data_path = config_cat_embedding.paths['data']\n",
    "data_path_out = config_cat_embedding.paths['data_output']\n",
    "bank_data = pd.read_csv(data_path+'adult.csv', sep=',')\n",
    "\n",
    "dat_bank, cat_cols = adult_data_prep(bank_data)\n",
    "\n",
    "X = dat_bank.iloc[:, :-1]\n",
    "target = dat_bank.y\n",
    "\n",
    "X_train, X_test, y_train, y_test = train_test_split(X, target, test_size=0.2, random_state=1500)\n",
    "X_train_cat = X_train[cat_cols]\n",
    "\n",
    "co_occurrence_matrix_norm = create_cooccurrence_matrix_diag(X_train_cat)\n",
    "\n",
    "categories = np.unique(X_train_cat)\n",
    "\n",
    "# Build the graph\n",
    "graph = nx.from_numpy_array(co_occurrence_matrix_norm.values)\n",
    "\n",
    "# Set the layout for the visualization\n",
    "pos = nx.spring_layout(graph)\n",
    "\n",
    "# Draw the nodes and edges\n",
    "nx.draw_networkx_nodes(graph, pos)\n",
    "nx.draw_networkx_edges(graph, pos)\n",
    "\n",
    "# Add labels for the nodes\n",
    "labels = {i: categories[i] for i in range(len(categories))}\n",
    "nx.draw_networkx_labels(graph, pos, labels)\n",
    "\n",
    "# Display the visualization\n",
    "plt.show()\n",
    "\n"
   ]
  },
  {
   "cell_type": "code",
   "execution_count": 11,
   "id": "6e7bc3ab",
   "metadata": {},
   "outputs": [
    {
     "data": {
      "application/vnd.jupyter.widget-view+json": {
       "model_id": "0b9a90e09ae0407bb9f7ae7de13ed4a4",
       "version_major": 2,
       "version_minor": 0
      },
      "text/plain": [
       "Computing transition probabilities:   0%|          | 0/98 [00:00<?, ?it/s]"
      ]
     },
     "metadata": {},
     "output_type": "display_data"
    },
    {
     "name": "stderr",
     "output_type": "stream",
     "text": [
      "Generating walks (CPU: 1): 100%|███████████████████████████████████████████████████████| 10/10 [00:00<00:00, 17.89it/s]\n"
     ]
    },
    {
     "data": {
      "text/plain": [
       "{'10th': array([ 0.00097725, -0.3409591 ,  0.44661224,  0.20425528, -0.14905168,\n",
       "        -0.00975185,  0.10732561,  0.27848384, -0.32757083,  0.00669458,\n",
       "         0.30212307,  0.2615125 , -0.12644613, -0.13473509, -0.16593187,\n",
       "        -0.10743894,  0.29825485, -0.10431001, -0.18644422, -0.00393569,\n",
       "         0.18199058, -0.1139017 , -0.08331069,  0.25172845,  0.20867917,\n",
       "        -0.17124379,  0.543499  ,  0.27146012, -0.21247323, -0.24292752],\n",
       "       dtype=float32),\n",
       " '11th': array([-0.339764  , -0.3369058 ,  0.33713078,  0.02901978, -0.27342978,\n",
       "        -0.22426578,  0.34879807,  0.12448649, -0.34427184,  0.15255818,\n",
       "         0.30885705,  0.31563303, -0.11030944,  0.1590221 , -0.24606001,\n",
       "        -0.24588814, -0.18878607,  0.13540684, -0.16318105,  0.28507465,\n",
       "        -0.01767006, -0.2898562 , -0.0958312 ,  0.18531871, -0.01635744,\n",
       "        -0.09868965,  0.47058403,  0.08752189, -0.09578584, -0.18207772],\n",
       "       dtype=float32),\n",
       " '12th': array([-0.02804731, -0.15770887,  0.35928765,  0.13555628, -0.16465138,\n",
       "         0.23220967,  0.38380024,  0.20682935, -0.4548706 , -0.04408529,\n",
       "         0.2522983 ,  0.09518844, -0.02083295, -0.18848123, -0.02897478,\n",
       "        -0.0277711 ,  0.27374297,  0.07054029, -0.17140912,  0.10756955,\n",
       "        -0.05252919, -0.01479296, -0.24880533,  0.46170264,  0.0615769 ,\n",
       "         0.08991826,  0.44399512, -0.11003507, -0.0933423 , -0.2457932 ],\n",
       "       dtype=float32),\n",
       " '1st-4th': array([ 0.04671789, -0.38011634,  0.3485389 ,  0.13649502, -0.10937153,\n",
       "         0.22719657,  0.10434957,  0.18025568, -0.33448172,  0.07539169,\n",
       "         0.35455364,  0.21543095, -0.04923445, -0.01073656, -0.17584468,\n",
       "        -0.02094306,  0.36885008, -0.06600747, -0.12385581, -0.00490224,\n",
       "         0.04964744, -0.03249052, -0.10792238,  0.35269412,  0.14557923,\n",
       "        -0.01914227,  0.50407314,  0.24211887, -0.17387827, -0.38644734],\n",
       "       dtype=float32),\n",
       " '5th-6th': array([-0.04942711, -0.3833685 ,  0.45689777, -0.03539003,  0.04225735,\n",
       "         0.23741189,  0.17311698,  0.2093224 , -0.33289054, -0.12698166,\n",
       "         0.3708848 ,  0.23754819, -0.11523826, -0.02244443, -0.17017055,\n",
       "        -0.02162109,  0.23522937,  0.23350947, -0.15161733,  0.28322512,\n",
       "        -0.04109001, -0.18625145, -0.31376147,  0.26996428, -0.02207202,\n",
       "         0.03186691,  0.3388447 ,  0.16825123, -0.03233676, -0.27562082],\n",
       "       dtype=float32),\n",
       " '7th-8th': array([-0.17968243, -0.26067656,  0.31424683,  0.04206941, -0.12045379,\n",
       "         0.14445531,  0.17004023,  0.40115318, -0.43680823,  0.04099677,\n",
       "         0.24085034,  0.35995802, -0.11928032, -0.10195728,  0.00307794,\n",
       "         0.11216686,  0.35008198, -0.09991881, -0.14887334,  0.03630957,\n",
       "         0.06427622, -0.16396102,  0.10131729,  0.30462575, -0.03769977,\n",
       "         0.06863648,  0.42832565,  0.08165699, -0.26173148, -0.40429935],\n",
       "       dtype=float32),\n",
       " '9th': array([-0.23594446, -0.19955255,  0.39154753,  0.08483209, -0.05196138,\n",
       "        -0.02597387,  0.18347037,  0.19723102, -0.41624135,  0.18588597,\n",
       "         0.3984689 ,  0.1929252 ,  0.0429336 , -0.06176577, -0.19170156,\n",
       "        -0.14499764,  0.2466637 , -0.12970115, -0.10780026,  0.1032732 ,\n",
       "         0.09267799, -0.20542616,  0.055835  ,  0.30747175,  0.08395603,\n",
       "        -0.00152492,  0.43878895,  0.18126997, -0.22188038, -0.13159679],\n",
       "       dtype=float32),\n",
       " 'Adm-clerical': array([-0.21872559, -0.04609778,  0.33390644,  0.03406988, -0.01691375,\n",
       "         0.109423  ,  0.57136935,  0.2422355 , -0.45144472,  0.07727589,\n",
       "         0.2817511 , -0.08923952, -0.12499434, -0.08635069, -0.12656184,\n",
       "        -0.1436363 ,  0.26737273,  0.03760831, -0.21646641,  0.3304647 ,\n",
       "        -0.25409868, -0.20549078, -0.0631922 ,  0.37494263, -0.2108157 ,\n",
       "         0.12158946,  0.20431797, -0.07287642, -0.15642793, -0.20913123],\n",
       "       dtype=float32),\n",
       " 'Amer-Indian-Eskimo': array([-0.21403696, -0.23175238,  0.45877886,  0.10820221, -0.11800403,\n",
       "         0.05887134,  0.2086017 ,  0.2195016 , -0.44005957, -0.08308225,\n",
       "         0.3157906 ,  0.3391502 , -0.15906036, -0.05258631, -0.13420643,\n",
       "        -0.00896799,  0.27299747,  0.0152166 , -0.31083903,  0.01641428,\n",
       "         0.01686037, -0.00418405, -0.13452215,  0.2217901 ,  0.03085821,\n",
       "        -0.01372899,  0.43570063,  0.1536897 , -0.08470254, -0.2995344 ],\n",
       "       dtype=float32),\n",
       " 'Armed-Forces': array([-0.14028843, -0.02082377,  0.53852844, -0.00377541, -0.6193493 ,\n",
       "         0.6252288 ,  0.4619856 ,  0.4716171 , -0.46556327,  0.42255494,\n",
       "         0.05405119, -0.07847495, -0.16326813, -0.15939887, -0.17768534,\n",
       "        -0.303188  ,  0.00266713, -0.1513421 , -0.27630562,  0.23135367,\n",
       "        -0.34911275, -0.24071364,  0.17550993,  0.4229141 ,  0.14337353,\n",
       "         0.3641865 ,  0.301386  , -0.0562784 ,  0.00411868, -0.1588697 ],\n",
       "       dtype=float32),\n",
       " 'Asian-Pac-Islander': array([-0.24016093, -0.2848758 ,  0.16218857, -0.04760683, -0.05444935,\n",
       "         0.07894562,  0.25656235,  0.22659537, -0.3635113 , -0.06398581,\n",
       "         0.19506885,  0.45398322,  0.10164494, -0.15425022,  0.05588861,\n",
       "         0.12295854,  0.3197026 , -0.15841925, -0.20157029,  0.11469977,\n",
       "         0.08983247, -0.17422469, -0.19092582,  0.25439912, -0.07207585,\n",
       "         0.04579189,  0.617077  ,  0.13309433, -0.23984   , -0.25355873],\n",
       "       dtype=float32),\n",
       " 'Assoc-acdm': array([-0.22197835, -0.28293398,  0.15276729, -0.10435456, -0.00956066,\n",
       "         0.10434888,  0.08406688,  0.26733136, -0.3549904 , -0.15250555,\n",
       "         0.33685136,  0.5626973 ,  0.04376107, -0.19876604,  0.01634303,\n",
       "         0.1834498 ,  0.27666613, -0.03005251, -0.22745752,  0.06289873,\n",
       "         0.273163  , -0.203827  , -0.07217476,  0.21309562, -0.24318063,\n",
       "         0.06310835,  0.5795266 ,  0.11681994, -0.34566194, -0.48742244],\n",
       "       dtype=float32),\n",
       " 'Assoc-voc': array([-0.06805402, -0.02273776,  0.4616178 , -0.04757318,  0.0307854 ,\n",
       "        -0.28060654,  0.09338822,  0.3423217 , -0.3091788 , -0.35615084,\n",
       "         0.46177614,  0.05180254, -0.06925812,  0.21227701, -0.1808303 ,\n",
       "         0.06160384,  0.1958057 ,  0.34385952, -0.26536518,  0.10260469,\n",
       "        -0.0745033 , -0.3692748 , -0.05369815,  0.47866607, -0.2014899 ,\n",
       "         0.19328791,  0.43267342,  0.07013755, -0.04858015, -0.43691966],\n",
       "       dtype=float32),\n",
       " 'Bachelors': array([-0.24801314, -0.34505543,  0.18490526, -0.10524803, -0.11228541,\n",
       "        -0.16677088,  0.14284599,  0.2370534 , -0.26569223, -0.13276814,\n",
       "         0.1546845 ,  0.05409066, -0.1026111 , -0.10837928, -0.38654587,\n",
       "         0.0113779 ,  0.07107193, -0.05978952, -0.41266027,  0.33021295,\n",
       "        -0.13945985, -0.24600364, -0.19603641,  0.31386772,  0.03197527,\n",
       "         0.03996103,  0.37319142,  0.10735895, -0.278085  , -0.3602748 ],\n",
       "       dtype=float32),\n",
       " 'Black': array([ 0.0958131 , -0.24719581,  0.2122527 ,  0.2884085 , -0.09400244,\n",
       "         0.14657877,  0.36413363,  0.16838986, -0.32424647, -0.11896755,\n",
       "         0.3218327 ,  0.08504651, -0.2076207 , -0.02397164,  0.12498032,\n",
       "         0.01653448,  0.19670996, -0.12204558, -0.22996023,  0.19915587,\n",
       "        -0.11106423, -0.24363613, -0.21000399,  0.38271552, -0.19684535,\n",
       "         0.19442648,  0.33926216,  0.07317457, -0.38561577, -0.5326019 ],\n",
       "       dtype=float32),\n",
       " 'Cambodia': array([-0.359761  , -0.29421708,  0.18998568,  0.12583022, -0.10468082,\n",
       "        -0.1636673 ,  0.2919712 , -0.00650767, -0.39160317,  0.07919604,\n",
       "         0.34004483, -0.01946846, -0.01650351, -0.08851939, -0.35929093,\n",
       "        -0.10719793,  0.31737113, -0.08089918, -0.21779759,  0.30890226,\n",
       "        -0.19990292, -0.23999651, -0.4822554 ,  0.30380738,  0.09672463,\n",
       "        -0.20687847,  0.15398036,  0.08373908, -0.32236668, -0.22013693],\n",
       "       dtype=float32),\n",
       " 'Canada': array([-0.4013349 , -0.2181786 ,  0.500568  ,  0.02333236, -0.12881815,\n",
       "         0.00405811,  0.1476384 ,  0.35564253, -0.43241015,  0.03701375,\n",
       "         0.33779943,  0.24128222,  0.02138908, -0.11250835, -0.0687975 ,\n",
       "        -0.08008362,  0.33924055, -0.01425271, -0.1079343 ,  0.05265173,\n",
       "         0.07905741, -0.16572948,  0.06321835,  0.21359122,  0.02493189,\n",
       "        -0.00050777,  0.37053984,  0.12490948, -0.1977624 , -0.36605301],\n",
       "       dtype=float32),\n",
       " 'China': array([-0.20315707, -0.28609586,  0.27786502, -0.03423779, -0.1735284 ,\n",
       "         0.11412431,  0.1290968 ,  0.26932096, -0.45319128,  0.05681803,\n",
       "         0.14586596,  0.26344526, -0.08026643, -0.01895127, -0.27881375,\n",
       "        -0.07613562,  0.16857356, -0.06766227, -0.11008519,  0.18096146,\n",
       "         0.23018833, -0.23586003, -0.05025485,  0.2381485 ,  0.07337613,\n",
       "         0.03324727,  0.56389815,  0.04663621, -0.21688002, -0.27399477],\n",
       "       dtype=float32),\n",
       " 'Columbia': array([-0.125385  , -0.34517676,  0.25478816,  0.1585238 , -0.12238044,\n",
       "         0.24724576,  0.28927216,  0.4274703 , -0.49947214, -0.067656  ,\n",
       "         0.29640388,  0.21655393, -0.14296706,  0.17140456, -0.08778387,\n",
       "         0.11333708,  0.3485017 , -0.25596562, -0.14639607, -0.06422049,\n",
       "         0.03807674,  0.0247017 ,  0.05925564,  0.19387472,  0.08008856,\n",
       "         0.04729027,  0.526814  ,  0.11867404, -0.37701076, -0.41786876],\n",
       "       dtype=float32),\n",
       " 'Craft-repair': array([-0.17612758, -0.1525758 ,  0.4020976 ,  0.0049461 , -0.20577486,\n",
       "         0.15288912,  0.31124076,  0.35451022, -0.3770671 ,  0.13147846,\n",
       "         0.2479859 ,  0.18432447,  0.05605828, -0.20421374,  0.05413788,\n",
       "        -0.1966679 ,  0.05527542, -0.00547622, -0.12256892,  0.21071702,\n",
       "         0.02119618, -0.18825777, -0.04314122,  0.33674735,  0.07744443,\n",
       "         0.18326381,  0.42007232,  0.02176878, -0.24360684, -0.23599996],\n",
       "       dtype=float32),\n",
       " 'Cuba': array([-0.04897083, -0.21901011,  0.15968888, -0.04239698,  0.01422802,\n",
       "         0.19307335,  0.4715624 , -0.13693815, -0.31610602,  0.19529915,\n",
       "         0.38276336,  0.00556165, -0.09065764, -0.08194939, -0.27230772,\n",
       "        -0.0514618 ,  0.24390993, -0.06239319, -0.43378603,  0.20081152,\n",
       "        -0.24043502, -0.09588951, -0.14185451,  0.39476   , -0.23254286,\n",
       "        -0.0697348 ,  0.32392678, -0.08219764, -0.28482872, -0.2536301 ],\n",
       "       dtype=float32),\n",
       " 'Divorced': array([-0.11151256, -0.02112854,  0.5046253 ,  0.08476257, -0.06310032,\n",
       "         0.06678922,  0.22681579,  0.23949267, -0.298885  ,  0.04603968,\n",
       "         0.3089981 ,  0.18027683,  0.18818858, -0.13544787, -0.0347151 ,\n",
       "        -0.18048978,  0.21058725, -0.18212025,  0.00091515,  0.16170606,\n",
       "         0.2914938 , -0.31422612, -0.0577362 ,  0.3826645 ,  0.0462241 ,\n",
       "         0.02660693,  0.5361573 ,  0.13967127, -0.27034986, -0.22779648],\n",
       "       dtype=float32),\n",
       " 'Doctorate': array([-0.11710411, -0.23985997,  0.34182164, -0.04734143, -0.09212897,\n",
       "         0.27466902,  0.21607298,  0.1317669 , -0.27544266, -0.09058926,\n",
       "         0.06277517,  0.49913123,  0.03811304, -0.28808883,  0.12107625,\n",
       "         0.00631468,  0.2127346 ,  0.02404395, -0.18961293,  0.30138236,\n",
       "         0.18472712, -0.36259747, -0.40490922,  0.36523893, -0.08833713,\n",
       "        -0.14816104,  0.56818396, -0.05630495, -0.3385361 , -0.15793543],\n",
       "       dtype=float32),\n",
       " 'Dominican-Republic': array([-0.22913976, -0.34945565,  0.1684948 , -0.10681001, -0.10328462,\n",
       "         0.07224876,  0.15700093,  0.24866502, -0.32091334, -0.06488279,\n",
       "         0.13633156,  0.30885848,  0.01776726,  0.07739705, -0.14613368,\n",
       "         0.04297725,  0.27100337, -0.15389682, -0.2798147 ,  0.17288084,\n",
       "         0.05340451, -0.22618905, -0.28609118,  0.20383579,  0.02450129,\n",
       "         0.1017082 ,  0.522013  ,  0.19072051, -0.3458974 , -0.3041725 ],\n",
       "       dtype=float32),\n",
       " 'Ecuador': array([-0.11961431, -0.03647743,  0.54729044,  0.1670835 , -0.25420928,\n",
       "         0.27777445,  0.42260632,  0.38010833, -0.2631459 ,  0.12922315,\n",
       "         0.22509408,  0.26868552, -0.21365182, -0.15145636, -0.02733867,\n",
       "        -0.16458893,  0.14437439, -0.105916  , -0.14720857,  0.23418698,\n",
       "         0.08675279, -0.03445832, -0.04990719,  0.33220303,  0.06254454,\n",
       "        -0.01117667,  0.36456817,  0.14793172, -0.18756083, -0.26322994],\n",
       "       dtype=float32),\n",
       " 'El-Salvador': array([-0.34927094, -0.32225922,  0.2780885 , -0.09148464,  0.02237817,\n",
       "         0.14336556, -0.06239544,  0.18733709, -0.2978212 ,  0.14549153,\n",
       "         0.39761662,  0.42976862,  0.03357337, -0.03707375, -0.15559928,\n",
       "        -0.03907974,  0.30395597, -0.06575975, -0.16885939,  0.10791724,\n",
       "         0.19956248, -0.1297807 ,  0.03078071,  0.3101159 , -0.17913114,\n",
       "        -0.00328228,  0.44562984,  0.21031818, -0.3100691 , -0.49714074],\n",
       "       dtype=float32),\n",
       " 'England': array([-0.2441799 , -0.23031786,  0.23585892,  0.1422685 , -0.01328968,\n",
       "         0.34751725,  0.18725458,  0.32814184, -0.50139433,  0.17749818,\n",
       "         0.41234684,  0.04579605, -0.14887318,  0.12403958, -0.13344826,\n",
       "        -0.17671259,  0.25600836, -0.15401298, -0.1363312 ,  0.10559204,\n",
       "        -0.09913667, -0.17142639,  0.05625969,  0.3662619 , -0.03845139,\n",
       "         0.09027426,  0.33996943,  0.12032089, -0.35346127, -0.28918996],\n",
       "       dtype=float32),\n",
       " 'Exec-managerial': array([-0.0664691 , -0.23945354,  0.39767537,  0.1143903 , -0.11522388,\n",
       "         0.21163426,  0.11554601,  0.32970056, -0.38011435, -0.01863209,\n",
       "         0.2555767 ,  0.27050874, -0.08792323, -0.1642761 ,  0.00384875,\n",
       "        -0.05283839,  0.13539052, -0.10987065, -0.20669973,  0.1190764 ,\n",
       "         0.09292186, -0.21149911,  0.01929653,  0.36919683, -0.01103172,\n",
       "         0.12172414,  0.38178658,  0.14254856, -0.3060541 , -0.4191582 ],\n",
       "       dtype=float32),\n",
       " 'Farming-fishing': array([-0.11549766, -0.21213529,  0.40844238, -0.06261159, -0.07208169,\n",
       "         0.24149974,  0.22729887,  0.5310245 , -0.35292503, -0.09994045,\n",
       "         0.32731244,  0.33572763, -0.21182777, -0.05808051, -0.10237287,\n",
       "         0.04896812,  0.25279027,  0.06365018,  0.07615619,  0.14717138,\n",
       "         0.07901045, -0.21229792,  0.09185241,  0.31218925, -0.16913533,\n",
       "         0.13017133,  0.44369575,  0.17712516, -0.15807638, -0.35332865],\n",
       "       dtype=float32),\n",
       " 'Federal-gov': array([-0.02015701, -0.39099744,  0.2972131 ,  0.04308058, -0.12320499,\n",
       "        -0.00934546,  0.0361716 ,  0.29527304, -0.39458168,  0.04652484,\n",
       "         0.3662019 ,  0.25180927, -0.16412358, -0.1228313 , -0.11854892,\n",
       "         0.06216089,  0.37831992, -0.09246437, -0.13360803, -0.00649469,\n",
       "         0.05244001, -0.18142307, -0.01113006,  0.2755579 ,  0.01660297,\n",
       "        -0.18135232,  0.5356789 ,  0.22802827, -0.17731242, -0.29531804],\n",
       "       dtype=float32),\n",
       " 'Female': array([-0.16557406, -0.27460182,  0.3180148 , -0.05637165, -0.28612977,\n",
       "         0.02678492,  0.1795012 ,  0.45862275, -0.24047627, -0.06459015,\n",
       "         0.09425874,  0.48427266, -0.15080847, -0.13164687, -0.03248496,\n",
       "         0.12779292,  0.22160083, -0.1000436 , -0.2440199 ,  0.13421348,\n",
       "         0.04626559, -0.16578373, -0.07174411,  0.253602  , -0.10649337,\n",
       "         0.06874418,  0.5273205 ,  0.18317038, -0.19162798, -0.3306767 ],\n",
       "       dtype=float32),\n",
       " 'France': array([-0.17170705, -0.18238907,  0.3925727 ,  0.18123136, -0.33036724,\n",
       "         0.06025989,  0.19847876,  0.24650247, -0.4731314 , -0.0100367 ,\n",
       "         0.22003897,  0.36459455, -0.09289612, -0.08722904,  0.06240181,\n",
       "         0.06617295,  0.23360611, -0.07663006, -0.14804445,  0.12017789,\n",
       "        -0.04224116, -0.03364728, -0.0046576 ,  0.4206699 ,  0.12323993,\n",
       "         0.12692052,  0.41289553,  0.09876872, -0.21715298, -0.3414189 ],\n",
       "       dtype=float32),\n",
       " 'Germany': array([ 0.03848597, -0.26229587,  0.292514  ,  0.04008377, -0.18804438,\n",
       "        -0.13093454,  0.16808183,  0.26632527, -0.40131363, -0.12102059,\n",
       "         0.29188994,  0.4038836 , -0.09293681,  0.04230552, -0.13745867,\n",
       "         0.06272261,  0.27946752, -0.02017084, -0.05206784,  0.03875536,\n",
       "         0.0998911 , -0.11707965, -0.03789632,  0.36023757, -0.00478254,\n",
       "         0.20927487,  0.57011443,  0.21773155, -0.08265498, -0.3083105 ],\n",
       "       dtype=float32),\n",
       " 'Greece': array([-0.2647266 , -0.09708801,  0.5694867 ,  0.09747338, -0.08869431,\n",
       "        -0.0441155 ,  0.08493821,  0.5187734 , -0.3877367 , -0.10103785,\n",
       "         0.29796633,  0.07108029, -0.08563384, -0.09497586, -0.15133032,\n",
       "        -0.01736481,  0.16834435,  0.11736339, -0.22320029,  0.07364872,\n",
       "        -0.02406119, -0.1002848 ,  0.04059259,  0.39530504,  0.13237567,\n",
       "         0.05700115,  0.4274047 ,  0.03406044, -0.08239157, -0.35901296],\n",
       "       dtype=float32),\n",
       " 'Guatemala': array([-0.26428044, -0.26345226,  0.5690028 , -0.01066416, -0.36299005,\n",
       "         0.14620405,  0.25473526,  0.27290767, -0.39966622,  0.18076323,\n",
       "         0.0161204 ,  0.2990041 , -0.12709142,  0.12392347, -0.17200243,\n",
       "        -0.10459624,  0.23224577,  0.03670224, -0.1845152 ,  0.1611239 ,\n",
       "        -0.04493351, -0.1352977 , -0.13155961,  0.28879362,  0.19753093,\n",
       "         0.04231097,  0.4163732 ,  0.18668807, -0.08816409, -0.14983268],\n",
       "       dtype=float32),\n",
       " 'HS-grad': array([-0.19908053, -0.20863909,  0.2844492 ,  0.10628587,  0.05219222,\n",
       "         0.09289226,  0.3071868 ,  0.3192427 , -0.36984608, -0.27091748,\n",
       "         0.18143329,  0.12638086,  0.03105719,  0.17413941, -0.18111964,\n",
       "        -0.00436827,  0.0818645 ,  0.02969545, -0.12500477,  0.32980564,\n",
       "         0.13728815,  0.05605919, -0.36584234,  0.46535042,  0.06219707,\n",
       "         0.06586055,  0.5064356 ,  0.01614719, -0.29147276, -0.47106126],\n",
       "       dtype=float32),\n",
       " 'Haiti': array([-0.3098857 , -0.18648657,  0.4349182 ,  0.17959882, -0.09698261,\n",
       "        -0.35428566,  0.34111944,  0.2544603 , -0.39195958,  0.01709397,\n",
       "         0.41909316,  0.2765421 , -0.08792381,  0.04192381, -0.04466474,\n",
       "        -0.04562227,  0.16410737,  0.01123028, -0.06108427,  0.13857494,\n",
       "         0.01144187, -0.06234622, -0.03012059,  0.25525808,  0.05278078,\n",
       "        -0.19931293,  0.43768552,  0.09717278, -0.26132655, -0.27941492],\n",
       "       dtype=float32),\n",
       " 'Handlers-cleaners': array([ 0.0386863 , -0.18089455,  0.46545982,  0.17253543, -0.17333652,\n",
       "         0.5677291 ,  0.26999125,  0.19445096, -0.5189201 ,  0.02827474,\n",
       "         0.13047636, -0.00893025,  0.03670414,  0.03316722, -0.10404588,\n",
       "        -0.20355864,  0.11209927, -0.02774377, -0.27975824,  0.19985837,\n",
       "        -0.08446511, -0.04772531, -0.2191869 ,  0.39187098,  0.20049292,\n",
       "         0.23452298,  0.48894098,  0.14896415, -0.1769963 , -0.17598028],\n",
       "       dtype=float32),\n",
       " 'Holand-Netherlands': array([-0.20662066, -0.21077767,  0.30869928,  0.14272346, -0.0989008 ,\n",
       "         0.19894727,  0.11516717,  0.2517119 , -0.4774032 ,  0.13687152,\n",
       "         0.31445798,  0.11550996,  0.0855623 , -0.06256057, -0.11200413,\n",
       "        -0.04770419,  0.35028487, -0.03105771,  0.0184292 ,  0.05734855,\n",
       "         0.13715588, -0.20926672, -0.03787922,  0.3833506 ,  0.00440059,\n",
       "         0.25712487,  0.4348206 ,  0.12776296, -0.20819251, -0.33859038],\n",
       "       dtype=float32),\n",
       " 'Honduras': array([-0.02709512, -0.20939256,  0.41190714, -0.03819123, -0.19996074,\n",
       "         0.04658274,  0.21177712,  0.28089768, -0.28650934, -0.10737904,\n",
       "         0.27563167,  0.32383418, -0.07251926, -0.26186815, -0.2892104 ,\n",
       "         0.00118523,  0.11633457,  0.07783441, -0.14145486,  0.11460586,\n",
       "         0.00826755, -0.30810636, -0.09300785,  0.29727566,  0.09812662,\n",
       "        -0.04473183,  0.47404432, -0.03836691, -0.07376255, -0.14082274],\n",
       "       dtype=float32),\n",
       " 'Hong': array([-0.02994197, -0.37183598,  0.37507498,  0.00672517, -0.02147345,\n",
       "        -0.05610817,  0.22908515,  0.15540573, -0.305526  ,  0.12336306,\n",
       "         0.23289916,  0.26465032,  0.01386337, -0.1517316 , -0.32184097,\n",
       "        -0.15797746,  0.33376792,  0.09288317, -0.18924454,  0.13903256,\n",
       "         0.09656726, -0.04263447, -0.2098315 ,  0.30928606,  0.13231337,\n",
       "         0.03899405,  0.5044469 ,  0.30907857, -0.0760106 ,  0.01863387],\n",
       "       dtype=float32),\n",
       " 'Hungary': array([-0.22720179, -0.19876117,  0.4743931 ,  0.02313151, -0.18320017,\n",
       "         0.16682714, -0.06744368,  0.19428141, -0.18225875,  0.16359057,\n",
       "         0.17660765,  0.39568815, -0.09419987, -0.19266269, -0.40633565,\n",
       "        -0.16807292,  0.2661378 ,  0.08401665, -0.4061895 ,  0.2534955 ,\n",
       "         0.22307642, -0.33482498, -0.17555821,  0.19796766, -0.0306895 ,\n",
       "        -0.0588771 ,  0.50479037,  0.09432264, -0.02795027, -0.06436   ],\n",
       "       dtype=float32),\n",
       " 'Husband': array([-0.25828385, -0.29266492,  0.32845625,  0.1435715 , -0.15978761,\n",
       "         0.09089345,  0.21661286,  0.2922539 , -0.33821747, -0.09658115,\n",
       "         0.13365611,  0.19119073, -0.0781941 ,  0.0430916 , -0.26255208,\n",
       "        -0.02097133,  0.20021115, -0.12680544, -0.19408587,  0.24334638,\n",
       "         0.06533603,  0.09999423, -0.37487406,  0.27320784,  0.2545502 ,\n",
       "        -0.15314774,  0.48971668,  0.06310435, -0.30911085, -0.45251852],\n",
       "       dtype=float32),\n",
       " 'India': array([-0.07287541, -0.33788368,  0.25650316, -0.02112098,  0.0007243 ,\n",
       "        -0.06294827,  0.37011176,  0.24722983, -0.34148273,  0.12561008,\n",
       "         0.21532473,  0.21527444,  0.00125085,  0.0132761 , -0.13871324,\n",
       "        -0.03283608,  0.34824315, -0.32167146, -0.14411685,  0.17359647,\n",
       "        -0.08268081,  0.07821465,  0.0297646 ,  0.26382443,  0.1155555 ,\n",
       "         0.2708609 ,  0.48810172,  0.24777684, -0.22479051, -0.33495685],\n",
       "       dtype=float32),\n",
       " 'Iran': array([ 0.03264476, -0.37517783,  0.3548168 ,  0.0968089 ,  0.07711652,\n",
       "         0.16349928,  0.21383443,  0.1668854 , -0.17115344,  0.14650331,\n",
       "         0.29307187,  0.2476259 , -0.12715645, -0.14094128, -0.3919471 ,\n",
       "        -0.23086375,  0.11897744,  0.12523563, -0.37269363,  0.30990222,\n",
       "         0.01741357, -0.12516285, -0.24428335,  0.2846944 ,  0.06513624,\n",
       "        -0.4180515 ,  0.4699421 ,  0.06840319, -0.13154846, -0.16698869],\n",
       "       dtype=float32),\n",
       " 'Ireland': array([-0.14914858, -0.16051179,  0.4586104 ,  0.04088129, -0.0822346 ,\n",
       "        -0.07039645,  0.1145067 ,  0.41475156, -0.42131186, -0.03309163,\n",
       "         0.33901742,  0.15599538, -0.04491728,  0.23463726, -0.23592399,\n",
       "        -0.10020506,  0.21506019,  0.3420533 ,  0.05676751,  0.13321082,\n",
       "         0.14424643, -0.44026265, -0.04087105,  0.40252542,  0.0807028 ,\n",
       "         0.24390016,  0.42830792,  0.18040954,  0.02974739, -0.2772306 ],\n",
       "       dtype=float32),\n",
       " 'Italy': array([-0.01627826, -0.3518022 ,  0.30825004,  0.12815544, -0.03118083,\n",
       "         0.09972516,  0.22510685,  0.39084226, -0.34996367, -0.14897041,\n",
       "         0.22201474,  0.19313325, -0.09942957, -0.03114712, -0.19449466,\n",
       "        -0.01746938,  0.31408718, -0.107977  , -0.07605901,  0.24864109,\n",
       "         0.10558348,  0.09069766, -0.17112501,  0.34169436,  0.23515105,\n",
       "        -0.01334924,  0.45741197,  0.1222369 , -0.23024142, -0.46694884],\n",
       "       dtype=float32),\n",
       " 'Jamaica': array([-0.04748239, -0.3688041 ,  0.4834585 , -0.05391253, -0.22163755,\n",
       "         0.17643966,  0.15416205,  0.12508625, -0.10343999,  0.23257628,\n",
       "         0.37019643,  0.24474855, -0.00117251, -0.25859404, -0.46059847,\n",
       "        -0.2627726 ,  0.29805994, -0.10189576, -0.120935  ,  0.18577158,\n",
       "        -0.02356884, -0.22181383, -0.12354766,  0.2880453 ,  0.1461589 ,\n",
       "        -0.33608636,  0.48488513,  0.18006945, -0.02181029,  0.0309036 ],\n",
       "       dtype=float32),\n",
       " 'Japan': array([-0.17384748, -0.27090082,  0.3503828 ,  0.12779565,  0.01155601,\n",
       "        -0.13242471,  0.20092633,  0.1030115 , -0.28334203,  0.02142873,\n",
       "         0.39069036,  0.3296486 , -0.07689913, -0.03526897, -0.25757837,\n",
       "        -0.19116296,  0.16694464,  0.01096676, -0.16792925,  0.18093589,\n",
       "         0.10410601, -0.30343357, -0.04796361,  0.19011374, -0.15127759,\n",
       "         0.00093293,  0.42316043,  0.08522237, -0.24865936, -0.30090773],\n",
       "       dtype=float32),\n",
       " 'Laos': array([-0.29175296, -0.17414694,  0.52051157, -0.0792544 ,  0.09819634,\n",
       "         0.03958513,  0.2363496 ,  0.22753163, -0.35256028,  0.18989658,\n",
       "         0.22226283,  0.18266845,  0.0761715 , -0.07393634, -0.28404433,\n",
       "        -0.2452839 ,  0.13284138,  0.14673857, -0.2409077 ,  0.3080324 ,\n",
       "         0.193925  , -0.08608463,  0.03380371,  0.45767376,  0.07518704,\n",
       "        -0.01043387,  0.39088044,  0.0842193 , -0.11280032, -0.145301  ],\n",
       "       dtype=float32),\n",
       " 'Local-gov': array([-0.07534838, -0.2349388 ,  0.40922615,  0.15055624, -0.13366526,\n",
       "         0.02902661,  0.32348996,  0.13943088, -0.22209749,  0.08049177,\n",
       "         0.20993315,  0.27059573, -0.18972892, -0.13709424, -0.3062757 ,\n",
       "         0.00124579,  0.28682926, -0.01199156, -0.22835119,  0.19531716,\n",
       "         0.01146219, -0.03311803, -0.29787686,  0.22316264,  0.04140126,\n",
       "        -0.23931979,  0.5189191 ,  0.11204722, -0.08920524, -0.23711392],\n",
       "       dtype=float32),\n",
       " 'Machine-op-inspct': array([-0.13093759, -0.25890172,  0.51239073,  0.47704506, -0.03076187,\n",
       "         0.08798731,  0.26631665,  0.18526173, -0.453104  ,  0.16607824,\n",
       "         0.50058436,  0.298397  , -0.14349478,  0.07759803,  0.18475491,\n",
       "        -0.07449406,  0.37938046, -0.08801186, -0.02160246, -0.04019718,\n",
       "         0.23956001,  0.1378026 , -0.12600833,  0.33507884,  0.0838102 ,\n",
       "        -0.21539949,  0.61613923,  0.31931585, -0.15041266, -0.2256994 ],\n",
       "       dtype=float32),\n",
       " 'Male': array([-0.01207915, -0.20719568,  0.3752534 ,  0.03300816, -0.11131767,\n",
       "         0.03715075,  0.09834552,  0.34386   , -0.2732261 ,  0.07169186,\n",
       "         0.33026376,  0.31722903, -0.05900219, -0.0571684 , -0.18109526,\n",
       "         0.04452138,  0.30209824, -0.04991211, -0.1835346 ,  0.02100941,\n",
       "         0.11943734, -0.16675597, -0.03691075,  0.36237836, -0.11590327,\n",
       "         0.05566331,  0.52530473,  0.17982739, -0.10131937, -0.3057815 ],\n",
       "       dtype=float32),\n",
       " 'Married-AF-spouse': array([-0.09852075, -0.13480121,  0.12438082, -0.01696055, -0.28189456,\n",
       "         0.00418201,  0.4562274 ,  0.3980068 , -0.50204307,  0.02151395,\n",
       "         0.24750791, -0.1528935 ,  0.07778166,  0.00832136, -0.0128397 ,\n",
       "         0.02612721,  0.01140187,  0.11627259, -0.0318103 ,  0.39339152,\n",
       "        -0.29361162, -0.40780452, -0.13367459,  0.5442654 , -0.09752654,\n",
       "         0.48075637,  0.27493787, -0.05517426, -0.17431301, -0.2722593 ],\n",
       "       dtype=float32),\n",
       " 'Married-civ-spouse': array([-0.20167166, -0.35284328,  0.41039598,  0.04978502,  0.13348125,\n",
       "         0.23294124,  0.36010867,  0.01621657, -0.37450925,  0.1015631 ,\n",
       "         0.5697367 ,  0.0374536 ,  0.16018006, -0.1556297 , -0.445435  ,\n",
       "        -0.34117362,  0.19835824,  0.21487756, -0.07620477,  0.25710672,\n",
       "        -0.02858425, -0.40432575, -0.41101936,  0.28139096,  0.12647797,\n",
       "        -0.09977709,  0.12324202,  0.14177424,  0.02312097, -0.0866712 ],\n",
       "       dtype=float32),\n",
       " 'Married-spouse-absent': array([ 7.0093371e-02, -4.4451359e-01,  3.8424507e-01,  5.6657486e-02,\n",
       "         9.0540841e-02,  3.5944112e-02,  9.4354063e-02, -6.7338116e-02,\n",
       "        -3.4499091e-01,  1.3493288e-01,  4.6058547e-01,  2.6789874e-01,\n",
       "         8.1262343e-02, -1.4600796e-01, -3.5908484e-01, -1.1065407e-01,\n",
       "         1.7309465e-01,  1.9120947e-01, -3.0623746e-01, -4.8038489e-03,\n",
       "         6.4430319e-02,  3.9268850e-04, -6.2580459e-02,  3.3263621e-01,\n",
       "         1.9644065e-02, -1.1475290e-01,  6.6417634e-01,  5.4619446e-02,\n",
       "         1.1705925e-01, -1.8074723e-01], dtype=float32),\n",
       " 'Masters': array([-0.13627446, -0.41668904,  0.26434308,  0.10139252, -0.08349761,\n",
       "        -0.03285245,  0.36735845, -0.04751767, -0.5673268 ,  0.18232222,\n",
       "         0.34017932,  0.15715337,  0.35554388,  0.15579642, -0.2803486 ,\n",
       "        -0.13386555,  0.08789771, -0.0312808 , -0.05705336,  0.29734144,\n",
       "         0.04114157, -0.05578251, -0.18903162,  0.20964043,  0.35552448,\n",
       "         0.03165507,  0.5323887 ,  0.15312205, -0.07618687, -0.10162615],\n",
       "       dtype=float32),\n",
       " 'Mexico': array([-0.19849978, -0.2318625 ,  0.39840773, -0.13326763,  0.01091038,\n",
       "         0.09939011,  0.3611326 ,  0.24258357, -0.09431623, -0.0063759 ,\n",
       "         0.269629  ,  0.1395071 , -0.16352823, -0.24431528, -0.42555657,\n",
       "        -0.10924608,  0.1207232 ,  0.03642559, -0.2519824 ,  0.34899145,\n",
       "        -0.0915592 , -0.15509382, -0.23362719,  0.2476725 , -0.0856199 ,\n",
       "        -0.07198974,  0.3618352 , -0.02357777, -0.01781916, -0.27945864],\n",
       "       dtype=float32),\n",
       " 'Never-married': array([-0.17846034, -0.37975731,  0.21795365, -0.11863499, -0.15959188,\n",
       "        -0.2530686 ,  0.32040778,  0.18941215, -0.2966526 ,  0.08994175,\n",
       "         0.30797145,  0.40272388,  0.14555472, -0.16371022, -0.3179486 ,\n",
       "        -0.06579993,  0.05178111,  0.16686384, -0.19030395,  0.18202837,\n",
       "        -0.01658461, -0.2474257 , -0.12070604,  0.18358998, -0.04815862,\n",
       "         0.0431797 ,  0.5293377 ,  0.04347464,  0.03416714, -0.10908537],\n",
       "       dtype=float32),\n",
       " 'Nicaragua': array([-0.23068245, -0.35600618,  0.04013135, -0.02941546,  0.10846827,\n",
       "        -0.27822486,  0.43268695,  0.36542317, -0.07548277,  0.33680663,\n",
       "         0.292939  , -0.05313982, -0.28345808, -0.3150287 , -0.27794382,\n",
       "        -0.1109687 ,  0.19264677, -0.3390202 ,  0.10477066,  0.47917742,\n",
       "         0.02502876, -0.58663565,  0.08828963,  0.3708105 , -0.11318416,\n",
       "        -0.45362312,  0.3659439 , -0.09751873, -0.69242567, -0.2486985 ],\n",
       "       dtype=float32),\n",
       " 'Not-in-family': array([ 0.0995658 , -0.09100422,  0.1863361 ,  0.00693557,  0.131068  ,\n",
       "        -0.2872464 ,  0.36995947,  0.19093946, -0.4184881 , -0.44547606,\n",
       "         0.51706344, -0.07931698,  0.21538149,  0.29570493, -0.09509185,\n",
       "         0.13615628,  0.2451696 ,  0.3580658 ,  0.03447994,  0.2364584 ,\n",
       "         0.14766705, -0.17918721, -0.2677949 ,  0.60827464, -0.18825443,\n",
       "         0.2971658 ,  0.46119186,  0.13268484, -0.08230373, -0.62305397],\n",
       "       dtype=float32),\n",
       " 'Other': array([-0.25700524, -0.43776697,  0.11210451, -0.13503535, -0.6587448 ,\n",
       "        -0.27047148,  0.22382094,  0.18363413, -0.37652606, -0.19664714,\n",
       "         0.4184549 ,  0.05191689, -0.09457545, -0.00993157, -0.9191298 ,\n",
       "         0.12459893,  0.10339465,  0.17354265, -0.27290517,  0.10702011,\n",
       "        -0.32504   , -0.53157145, -0.39427754,  0.01162767, -0.07505124,\n",
       "        -0.15085314,  0.31115392, -0.06071658,  0.26983497, -0.43618295],\n",
       "       dtype=float32),\n",
       " 'Other-relative': array([ 0.18758008,  0.0023643 ,  0.32447007, -0.08293351, -0.18742333,\n",
       "         0.16057739,  0.451007  ,  0.02432408,  0.19519582,  0.08735213,\n",
       "         0.20719382,  0.21400754, -0.2819911 , -0.48996368, -0.24240115,\n",
       "         0.05451209, -0.03008641, -0.06468729, -0.88741946,  0.11394888,\n",
       "        -0.23353033, -0.29125887, -0.14179587,  0.46902823, -0.41082427,\n",
       "        -0.5586185 ,  0.61198133, -0.3194663 , -0.4172893 , -0.22501102],\n",
       "       dtype=float32),\n",
       " 'Other-service': array([ 0.09681097, -0.37373552,  0.05673804,  0.0250801 , -0.13980319,\n",
       "        -0.29361635,  0.32474518,  0.09411874, -0.38600254,  0.15938951,\n",
       "         0.33946362,  0.20437647,  0.25173414,  0.04210702, -0.6158728 ,\n",
       "         0.06617107,  0.17727509,  0.07979511,  0.10054733,  0.12680537,\n",
       "         0.14408173, -0.4342781 ,  0.09045747,  0.27011907,  0.18899564,\n",
       "         0.139421  ,  0.78198016,  0.03628047, -0.02688621, -0.03189331],\n",
       "       dtype=float32),\n",
       " 'Outlying-US(Guam-USVI-etc)': array([ 0.05224049,  0.03395759,  0.25629738, -0.0177093 , -0.75763637,\n",
       "         0.33406296,  0.5651848 ,  0.19917376, -0.26921952,  0.15653671,\n",
       "        -0.03181757, -0.17754988, -0.15005179, -0.262446  , -0.34580958,\n",
       "         0.18306743,  0.10020548, -0.01204708, -0.46988213,  0.2263844 ,\n",
       "        -0.32692605, -0.09922961, -0.13368137,  0.5502189 , -0.12676369,\n",
       "         0.25607583,  0.45545802, -0.32798958, -0.09288585, -0.1634975 ],\n",
       "       dtype=float32),\n",
       " 'Own-child': array([ 0.06823653, -0.2558896 ,  0.30463052,  0.302053  , -0.1560451 ,\n",
       "        -0.07519709,  0.5237445 ,  0.11230375, -0.23272043, -0.25810057,\n",
       "         0.26606122,  0.02119654, -0.11586813, -0.10274153,  0.0991892 ,\n",
       "         0.03489698,  0.14150077, -0.14453198, -0.34837845,  0.2345319 ,\n",
       "        -0.4094784 , -0.21185298, -0.33135572,  0.31779733, -0.03173274,\n",
       "         0.07376316,  0.38281223,  0.14412372, -0.29840553, -0.2850119 ],\n",
       "       dtype=float32),\n",
       " 'Peru': array([ 0.09538414, -0.35770968,  0.2877157 ,  0.21361157, -0.28140983,\n",
       "         0.08458295,  0.11763108, -0.06440374, -0.27724102, -0.34042075,\n",
       "         0.29693168,  0.17705342, -0.2213627 , -0.00593138, -0.12318862,\n",
       "        -0.0616869 ,  0.03914316,  0.01699106, -0.6514887 ,  0.18581039,\n",
       "        -0.3780613 , -0.39083177, -0.34191778,  0.45034155, -0.05080321,\n",
       "         0.07481011,  0.2210723 ,  0.09711733, -0.20451431, -0.31997743],\n",
       "       dtype=float32),\n",
       " 'Philippines': array([-0.01365652, -0.09478591,  0.5034004 , -0.03734933,  0.26665065,\n",
       "        -0.44079825,  0.12916517,  0.23401126, -0.246191  , -0.30158937,\n",
       "         0.44511852,  0.10886713, -0.03773382,  0.2949119 , -0.11424433,\n",
       "         0.01281112,  0.35141987,  0.43033433, -0.34705555,  0.18253644,\n",
       "        -0.15009701, -0.26709506, -0.13977943,  0.5728282 , -0.22070979,\n",
       "         0.32606736,  0.3894281 ,  0.21872029, -0.00259702, -0.33998778],\n",
       "       dtype=float32),\n",
       " 'Poland': array([ 0.2857499 , -0.4122226 , -0.09605373,  0.05713683, -0.7736871 ,\n",
       "        -0.4589026 ,  0.3740125 , -0.17138863, -0.3339898 ,  0.01764069,\n",
       "         0.36139894,  0.10244542,  0.15675254, -0.34845728, -0.65403384,\n",
       "         0.37412632,  0.1855105 ,  0.19303986, -0.4231635 , -0.02103649,\n",
       "        -0.20595865, -0.18847679, -0.22756825,  0.17214039, -0.25329044,\n",
       "         0.38418254,  0.7610806 , -0.16348958,  0.34938145, -0.31247893],\n",
       "       dtype=float32),\n",
       " 'Portugal': array([ 0.00802912, -0.2626893 ,  0.05359755, -0.15286349,  0.03981615,\n",
       "        -0.09086909,  0.53564453, -0.01715059, -0.34018472,  0.0159814 ,\n",
       "         0.27151278,  0.120855  ,  0.11000472, -0.3666399 , -0.39985934,\n",
       "         0.16236232,  0.10382351,  0.13949783, -0.18796468,  0.2929093 ,\n",
       "        -0.14438923, -0.11547534, -0.2140143 ,  0.410389  , -0.1569783 ,\n",
       "        -0.15545183,  0.6140557 , -0.06477413, -0.06550873, -0.02524353],\n",
       "       dtype=float32),\n",
       " 'Preschool': array([-0.30501962, -0.13740392,  0.40974477,  0.09260894, -0.20427392,\n",
       "         0.28616196,  0.37416115,  0.22108103, -0.30587646,  0.02799836,\n",
       "         0.2792456 , -0.12638956, -0.04497537, -0.16084604, -0.23009439,\n",
       "        -0.24173982, -0.00089375, -0.10455436, -0.24962224,  0.5192118 ,\n",
       "        -0.3856279 , -0.15535575, -0.17814298,  0.5281866 ,  0.03096983,\n",
       "         0.24902968,  0.02067697, -0.02336862, -0.16827494, -0.4199797 ],\n",
       "       dtype=float32),\n",
       " 'Priv-house-serv': array([ 0.18339844, -0.31639728,  0.3470305 , -0.26612943,  0.2883005 ,\n",
       "         0.02690692,  0.23387851,  0.033726  , -0.0341514 , -0.11641746,\n",
       "         0.17127934,  0.4154721 ,  0.15315863, -0.6409983 , -0.14107184,\n",
       "        -0.0426016 ,  0.42506656, -0.01279149, -0.23803051,  0.29837084,\n",
       "         0.1570144 , -0.293082  , -0.28742656,  0.4687994 , -0.23620294,\n",
       "        -0.01441004,  0.56770676,  0.04081124, -0.22125955, -0.02328843],\n",
       "       dtype=float32),\n",
       " 'Private': array([-0.06399047, -0.29859355, -0.12978153,  0.16217145, -0.1566412 ,\n",
       "         0.37005922,  0.80482703,  0.2921649 , -0.81876504,  0.09414087,\n",
       "         0.19246763,  0.4114931 , -0.01436653, -0.12592284,  0.30046305,\n",
       "        -0.01219482,  0.32774374,  0.5212095 , -0.10118492,  0.3935079 ,\n",
       "        -0.23605135, -0.19064987, -0.59047747,  0.11008687, -0.27158073,\n",
       "         0.14289165,  0.4359293 , -0.26593342, -0.12348597,  0.05944347],\n",
       "       dtype=float32),\n",
       " 'Prof-school': array([ 0.12129222, -0.5241151 ,  0.53717875, -0.459432  , -0.10391291,\n",
       "        -0.14431153, -0.34249127,  0.51545423, -0.340258  , -0.18340148,\n",
       "         0.22661076,  0.43117604,  0.00133326, -0.22023618, -0.6168698 ,\n",
       "        -0.12950063,  0.03495785,  0.43431494, -0.593783  , -0.03019501,\n",
       "        -0.20648082, -0.63806766,  0.24884392,  0.44360548,  0.13720974,\n",
       "         0.30766633,  0.4143249 , -0.01509936,  0.30325556, -0.00244749],\n",
       "       dtype=float32),\n",
       " 'Prof-specialty': array([ 0.26276404, -0.03084171,  0.33219108, -0.02412039,  0.3559821 ,\n",
       "        -0.06183548,  0.13302317,  0.06172404,  0.26396546,  0.11221348,\n",
       "         0.21122114,  0.25982457, -0.26383218, -0.38044834, -0.6447074 ,\n",
       "         0.03081937,  0.6079579 , -0.04078816, -0.81154174,  0.46395132,\n",
       "        -0.01313404, -0.19293144, -0.155128  ,  0.3695248 , -0.40302426,\n",
       "         0.13507779,  0.54125965,  0.1813531 , -0.06085377, -0.15245822],\n",
       "       dtype=float32),\n",
       " 'Protective-serv': array([ 0.11745697, -0.3249085 ,  0.34473532,  0.05924733, -0.357534  ,\n",
       "         0.58560175,  0.4150669 ,  0.3005907 , -0.5664759 ,  0.13686688,\n",
       "         0.06881497, -0.10504475,  0.04501475,  0.1246127 , -0.0147276 ,\n",
       "        -0.13680957, -0.12008613, -0.10806203, -0.45978686,  0.41454276,\n",
       "        -0.60420936, -0.35554782, -0.00528596,  0.49255097, -0.01384015,\n",
       "         0.81415266,  0.25457057,  0.14375854, -0.07651927, -0.07505255],\n",
       "       dtype=float32),\n",
       " 'Puerto-Rico': array([-2.9284406e-01,  2.1276033e-01,  9.7336310e-01, -1.0100412e-01,\n",
       "        -5.3564811e-01,  5.0647140e-01,  7.1092868e-01,  6.0051197e-01,\n",
       "        -8.1191294e-02,  4.6469665e-01,  1.0091522e-01, -1.2169885e-01,\n",
       "        -9.4841532e-02, -4.4947276e-01, -3.7654780e-02, -6.6611695e-01,\n",
       "        -5.2738473e-02, -1.9585742e-01, -4.5499086e-02,  6.6079468e-01,\n",
       "        -2.9050913e-01, -5.6939644e-01,  3.7323365e-01,  5.5529356e-01,\n",
       "        -8.9349849e-03,  3.5650399e-01,  1.0501278e-01,  4.7343143e-04,\n",
       "        -1.2123276e-01,  1.0581843e-02], dtype=float32),\n",
       " 'Sales': array([-0.1476706 , -0.09701151,  0.4199189 ,  0.05761505,  0.16626006,\n",
       "         0.30945405,  0.47437978,  0.08417968, -0.22962587, -0.09543121,\n",
       "         0.37650782,  0.2023221 , -0.21811055, -0.09268051, -0.40526387,\n",
       "        -0.05038449,  0.31170171,  0.26321015, -0.23316826,  0.3111422 ,\n",
       "         0.18505017, -0.14770418, -0.43285787,  0.23473643, -0.27775624,\n",
       "        -0.18694335,  0.3450625 ,  0.03530679, -0.26704714, -0.09433464],\n",
       "       dtype=float32),\n",
       " 'Scotland': array([ 0.5478315 , -0.02092247,  0.54821754, -0.03008975, -0.19126685,\n",
       "        -0.54199713,  0.77975225, -0.13790998, -0.05626445,  0.29979688,\n",
       "         0.17891681,  0.1265568 ,  0.3460155 , -0.6690987 , -0.1833569 ,\n",
       "        -0.03240604,  0.5325167 , -0.14410676, -0.15370119,  0.1894556 ,\n",
       "        -0.1663047 , -0.19799954,  0.01266253,  0.57219094,  0.10552447,\n",
       "         0.25863957,  0.92786306,  0.05945683,  0.1511164 ,  0.41472396],\n",
       "       dtype=float32),\n",
       " 'Self-emp-inc': array([-0.10398494, -0.49130523, -0.1042047 , -0.45661092, -0.10059272,\n",
       "        -0.228384  ,  0.22278784,  0.10535218, -0.28495517,  0.27955574,\n",
       "         0.25185764,  0.17941713,  0.02126117, -0.06500566, -1.1256958 ,\n",
       "        -0.01657442, -0.2813337 ,  0.20107466, -0.9237973 ,  0.31040123,\n",
       "        -0.15267563, -0.3187365 ,  0.1544112 ,  0.02713188, -0.15462697,\n",
       "         0.19018863,  0.8579798 , -0.12735029,  0.12274419,  0.03824019],\n",
       "       dtype=float32),\n",
       " 'Self-emp-not-inc': array([-0.35694808, -0.0266811 , -0.03957703,  0.13087143, -0.18107012,\n",
       "        -0.5760251 ,  0.6968937 ,  0.07432082, -0.39686605, -0.03254201,\n",
       "         0.22068352, -0.08416637,  0.00558496, -0.06232441, -0.02591836,\n",
       "         0.09575991,  0.19118267, -0.0318164 , -0.27483875,  0.2772341 ,\n",
       "        -0.26224592, -0.27550015, -0.58741283,  0.43136466, -0.36194968,\n",
       "        -0.12287074,  0.39097726, -0.06874511, -0.39917237, -0.18957016],\n",
       "       dtype=float32),\n",
       " 'Separated': array([ 0.6562018 ,  0.08804601,  0.83332825,  0.6358181 ,  0.03577762,\n",
       "        -0.6815824 ,  1.1901513 , -0.47068834, -0.27444518,  0.2568069 ,\n",
       "         0.533692  ,  0.10769857,  0.94789726, -0.6642068 ,  0.07556444,\n",
       "        -0.27230963,  0.8218474 , -0.197944  , -0.1177118 ,  0.11029882,\n",
       "         0.07684325,  0.2401055 , -0.33742633,  0.9091036 ,  0.4106936 ,\n",
       "         0.62342006,  1.2235464 ,  0.5148981 ,  0.12550564,  0.2261268 ],\n",
       "       dtype=float32),\n",
       " 'Some-college': array([-0.09340899, -0.02319904,  0.40623793, -0.0674013 , -0.23667985,\n",
       "         0.5642357 ,  0.3100646 ,  0.38848516, -0.3698542 ,  0.24360329,\n",
       "        -0.05686923, -0.14627996, -0.08554061, -0.12507948, -0.15717307,\n",
       "        -0.15060689,  0.11728419, -0.21015473, -0.33520994,  0.36984253,\n",
       "        -0.13513078, -0.15036055, -0.07663979,  0.59796965,  0.11605118,\n",
       "         0.19019213,  0.38334253, -0.01775533, -0.22300322, -0.13749811],\n",
       "       dtype=float32),\n",
       " 'South': array([-0.2915538 , -0.58477026, -0.22570316, -0.19212174,  0.27414462,\n",
       "        -0.1304348 ,  0.42896298, -0.08308928, -0.37862045, -0.13316223,\n",
       "         0.68807775,  0.05799111, -0.08353122,  0.10073692, -0.03419084,\n",
       "         0.01423271, -0.06850439,  0.01231481, -0.25089812,  0.54308695,\n",
       "        -0.47944406, -0.42402124, -0.08531228,  0.31167868, -0.71760786,\n",
       "         0.42360625,  0.14267048,  0.12333315, -0.5785657 , -0.56493163],\n",
       "       dtype=float32),\n",
       " 'State-gov': array([ 0.16569658, -0.2849598 ,  0.18117799, -0.32056153, -0.46244562,\n",
       "        -0.3265137 , -0.03198535, -0.20555528, -0.09723914,  0.39203566,\n",
       "         0.4799941 ,  0.14829075,  0.04833278, -0.6196873 , -0.6919417 ,\n",
       "         0.14482717,  0.54692644, -0.06643303, -0.46584198, -0.25298363,\n",
       "        -0.44818044, -0.6890733 ,  0.28704563,  0.5171913 , -0.16822524,\n",
       "        -0.05192707,  0.49337447, -0.28076187,  0.10843597, -0.22383393],\n",
       "       dtype=float32),\n",
       " 'Taiwan': array([-0.09445319, -0.3309292 , -0.05229573,  0.433802  , -0.17896423,\n",
       "         0.05266738,  0.5281399 , -0.13062075, -0.9118841 ,  0.48962516,\n",
       "         0.4212632 , -0.31715128,  0.14129832,  0.15142582,  0.25756362,\n",
       "        -0.20375516,  0.50046563, -0.6400988 , -0.5735964 ,  0.15105301,\n",
       "        -0.7981214 , -0.41931084, -0.27787897,  0.30413258,  0.11095223,\n",
       "         0.1515903 ,  0.16946122,  0.22271888, -0.51889384,  0.14792871],\n",
       "       dtype=float32),\n",
       " 'Tech-support': array([-0.06574675, -0.01240264,  0.3243871 , -0.0078933 , -0.66585916,\n",
       "         0.55348116,  0.51819634,  0.4536246 , -0.46431327,  0.3628952 ,\n",
       "        -0.17163064,  0.00390247, -0.09065231, -0.07795944, -0.31362912,\n",
       "        -0.20545568, -0.14571351, -0.14519571, -0.50513285,  0.26336512,\n",
       "        -0.4225243 , -0.42048326, -0.01413416,  0.37072405,  0.09363969,\n",
       "         0.52328783,  0.45594013, -0.09181903, -0.17017275,  0.10962454],\n",
       "       dtype=float32),\n",
       " 'Thailand': array([ 0.10000651, -0.17551725,  0.12121671, -0.49674675, -0.30154252,\n",
       "        -0.24442965,  0.3866767 , -0.03304514, -0.24119256, -0.07484341,\n",
       "         0.498901  ,  0.13776785,  0.583273  , -0.48367476, -0.88500667,\n",
       "        -0.03172573,  0.02539526,  0.18674232, -0.5129896 ,  0.19145642,\n",
       "        -0.24077086, -0.22590849,  0.26522663,  0.5778965 , -0.20365135,\n",
       "         0.86459154,  0.43167812, -0.04023129,  0.37879816, -0.16996531],\n",
       "       dtype=float32),\n",
       " 'Transport-moving': array([ 0.11378225, -0.44363835, -0.15402374,  0.35753947, -0.12884364,\n",
       "        -0.12825203,  0.53351086, -0.3257837 , -0.20826791, -0.05176819,\n",
       "         0.5822765 ,  0.16999733, -0.47377688,  0.14517432,  0.04875582,\n",
       "         0.22559851,  0.0585635 , -0.18632063, -0.7274107 ,  0.12066562,\n",
       "        -0.30981344, -0.48650596, -0.4447219 ,  0.16815716, -0.726141  ,\n",
       "        -0.34051603,  0.4032758 , -0.17531215, -0.73733205, -0.6600025 ],\n",
       "       dtype=float32),\n",
       " 'Trinadad&Tobago': array([-0.28453365, -0.5008841 ,  0.2715439 ,  0.11187627, -0.4404117 ,\n",
       "        -0.5205713 ,  0.69615424, -0.17042957, -0.5352913 ,  0.39900708,\n",
       "         0.29643068,  0.6486919 , -0.13947651,  0.38182387, -0.36672544,\n",
       "        -0.20613965, -0.2447508 ,  0.6084338 , -0.33687383,  0.35980892,\n",
       "         0.03090002, -0.27347347, -0.49256915, -0.16676925, -0.1765672 ,\n",
       "        -0.5756748 ,  0.7920834 , -0.04160007,  0.21349752,  0.23156376],\n",
       "       dtype=float32),\n",
       " 'United-States': array([ 0.10763122,  0.13828306,  0.56695175,  0.1616911 ,  0.59051925,\n",
       "         0.1965853 ,  0.66271335, -0.22864284,  0.31135085,  0.41111186,\n",
       "         0.6190801 , -0.3408976 , -0.11231663, -0.42588317, -0.7243029 ,\n",
       "        -0.3915865 ,  0.7517977 , -0.19020493, -0.68400204,  0.57292265,\n",
       "        -0.19026451,  0.41567582, -0.19834252,  0.84580415, -0.20051101,\n",
       "        -0.45287564,  0.11270221,  0.08667438, -0.41294396, -0.35339984],\n",
       "       dtype=float32),\n",
       " 'Unmarried': array([ 0.6345208 , -0.46720767, -0.1164588 , -0.22951214,  0.01013077,\n",
       "        -0.6342141 ,  0.42139402,  0.4336303 ,  0.38411784, -0.04873222,\n",
       "         0.02525805, -0.06825043, -0.319104  , -0.7813581 , -0.63080466,\n",
       "         0.25446367,  0.4606143 , -0.22217722, -0.2860145 ,  0.5804458 ,\n",
       "        -0.1429107 , -0.53186655, -0.1216519 ,  0.5052643 , -0.1074791 ,\n",
       "        -0.14790942,  0.8196452 ,  0.08940688, -0.5157367 , -0.10898346],\n",
       "       dtype=float32),\n",
       " 'Vietnam': array([-0.13984053, -0.40461043,  0.27746713, -0.5662132 ,  0.09028665,\n",
       "        -0.19189106,  0.20545751, -0.02188923, -0.08283604,  0.32666743,\n",
       "         0.7600971 , -0.02245474,  0.4091371 , -0.6473444 , -1.1174772 ,\n",
       "        -0.243258  ,  0.1310671 , -0.06124716, -0.46055827,  0.13573717,\n",
       "        -0.3056277 , -0.23840313,  0.39156425,  0.4548582 , -0.11639865,\n",
       "        -0.16577353,  0.4759766 , -0.19777618,  0.3714263 , -0.10404772],\n",
       "       dtype=float32),\n",
       " 'White': array([ 0.07339345, -0.14830825, -0.26530084, -0.56705374,  0.08241475,\n",
       "        -0.290091  ,  0.5858559 ,  0.29738292, -0.59937555,  0.09884576,\n",
       "         0.5284458 , -0.15603344, -0.16582881,  0.1975379 , -0.8381823 ,\n",
       "         0.24805869,  0.09466007, -0.16243137, -0.03382354,  0.39980003,\n",
       "        -0.13217176, -0.47492513,  0.7671411 ,  0.40359133, -0.7133552 ,\n",
       "         0.5193443 ,  0.75814646, -0.17811881, -0.11025159, -0.2338383 ],\n",
       "       dtype=float32),\n",
       " 'Widowed': array([ 0.33304086, -0.32371348,  0.49081162,  0.49453083, -0.04446356,\n",
       "        -0.4870047 ,  0.4495901 , -0.00813037, -0.2777237 ,  0.06730703,\n",
       "         0.5042872 ,  0.2671297 ,  0.61626   , -0.23100281, -0.04999853,\n",
       "        -0.15597549,  0.38754353, -0.02948562, -0.35176325,  0.02032083,\n",
       "        -0.26318553, -0.11950088, -0.23776998,  0.19437507,  0.19819222,\n",
       "         0.5367393 ,  0.7212501 ,  0.45516118,  0.26295343,  0.22483154],\n",
       "       dtype=float32),\n",
       " 'Wife': array([-1.0071871 , -0.2194867 , -0.0971422 ,  0.07953295,  0.25480017,\n",
       "        -0.49213728,  0.21365869,  0.42296356, -0.6411313 ,  0.8047614 ,\n",
       "         0.62821734, -0.42744678,  0.09004227,  0.02610919, -0.576123  ,\n",
       "        -0.6241104 ,  0.05558817, -0.3958701 ,  0.28749138,  0.7149322 ,\n",
       "         0.24798146, -1.0523337 ,  0.07476195,  0.5961029 , -0.12081933,\n",
       "        -0.3339303 ,  0.20519929,  0.05786362, -0.9375977 , -0.28750205],\n",
       "       dtype=float32),\n",
       " 'Without-pay': array([-0.07405839, -0.40588328, -0.13635887,  0.48565516, -0.26357713,\n",
       "        -0.496938  ,  0.52261686, -0.23660295, -0.46697763,  0.05735107,\n",
       "         0.47441223, -0.07213456, -0.13413848, -0.2025149 , -0.00442592,\n",
       "        -0.24223709,  0.08120032, -0.50438   , -0.13648489,  0.42707974,\n",
       "        -0.47345966, -0.7300663 , -0.30041325,  0.28776464,  0.03166665,\n",
       "         0.04166578,  0.03131796,  0.09502867, -0.8289146 , -0.31861368],\n",
       "       dtype=float32),\n",
       " 'Yugoslavia': array([-0.60152125, -0.31848702,  0.4854516 ,  0.09603736, -0.05449614,\n",
       "        -0.35330495,  0.62917423,  0.20349862, -0.9575354 , -0.18140566,\n",
       "         0.0563815 ,  0.09911974, -0.13553852,  0.10794275,  0.07314457,\n",
       "         0.10207446,  0.00894563,  0.40053785, -0.34946162,  0.48687539,\n",
       "        -0.52439797, -0.28258687, -0.3704313 ,  0.35602376,  0.36699277,\n",
       "        -0.01008449,  0.16888797, -0.50571275, -0.08483999,  0.19859593],\n",
       "       dtype=float32)}"
      ]
     },
     "execution_count": 11,
     "metadata": {},
     "output_type": "execute_result"
    }
   ],
   "source": [
    "# Generate node2vec embeddings\n",
    "node2vec = Node2Vec(graph, dimensions=30, walk_length=30, num_walks=10)\n",
    "model = node2vec.fit(window=10, min_count=1)\n",
    "model.save(\"node2vec.model.bank\")\n",
    "\n",
    "# Get the vocabulary\n",
    "vocabulary = model.wv.index_to_key\n",
    "#print(\"Vocabulary: \", vocabulary)\n",
    "\n",
    "# Create a dictionary to map category to index\n",
    "category_to_index = {cat: i for i, cat in enumerate(categories)}\n",
    "category_to_index\n",
    "\n",
    "cat2vec = {}\n",
    "for i in range(len(categories)):\n",
    "    cat2vec[categories[i]] = model.wv[model.wv.index_to_key[i]]\n",
    "    \n",
    "cat2vec"
   ]
  },
  {
   "cell_type": "code",
   "execution_count": 12,
   "id": "90fd6682",
   "metadata": {},
   "outputs": [
    {
     "name": "stderr",
     "output_type": "stream",
     "text": [
      "C:\\Users\\P70071469\\AppData\\Local\\Temp\\ipykernel_22124\\3506753142.py:3: TqdmDeprecationWarning: This function will be removed in tqdm==5.0.0\n",
      "Please use `tqdm.notebook.tqdm` instead of `tqdm.tqdm_notebook`\n",
      "  for row in tqdm(X_train.iterrows()):\n"
     ]
    },
    {
     "data": {
      "application/vnd.jupyter.widget-view+json": {
       "model_id": "d61efff5c9d04c9da322e1bce59aacf6",
       "version_major": 2,
       "version_minor": 0
      },
      "text/plain": [
       "0it [00:00, ?it/s]"
      ]
     },
     "metadata": {},
     "output_type": "display_data"
    }
   ],
   "source": [
    "dimpool = 30\n",
    "elements = []\n",
    "for row in tqdm(X_train.iterrows()):\n",
    "    categorical_embeddings = []\n",
    "    for i in cat_cols:\n",
    "        try:\n",
    "            categorical_embeddings.append(cat2vec[row[1][i]])\n",
    "        except:\n",
    "            categorical_embeddings.append(np.zeros((dimpool)))\n",
    "    elements.append(np.array(categorical_embeddings))\n",
    "#elements \n",
    "reshaped_x = (np.reshape(elements,(len(elements),len(cat_cols)*dimpool)))   \n",
    "# Get the numerical columns\n",
    "numerical_cols = np.where(X_train.dtypes!=\"object\")[0]\n",
    "my_data = pd.concat([X_train.iloc[:, numerical_cols].reset_index(drop=True), pd.DataFrame(reshaped_x)], axis=1)\n",
    "# due to the new index of my_data, we have to change the index of y_train\n",
    "y_train = y_train.reset_index(drop=True)\n"
   ]
  },
  {
   "cell_type": "code",
   "execution_count": 16,
   "id": "4d04e526",
   "metadata": {},
   "outputs": [
    {
     "data": {
      "text/plain": [
       "(36177, 240)"
      ]
     },
     "execution_count": 16,
     "metadata": {},
     "output_type": "execute_result"
    }
   ],
   "source": [
    "np.shape(reshaped_x)"
   ]
  },
  {
   "cell_type": "code",
   "execution_count": 17,
   "id": "b8c5a10b",
   "metadata": {},
   "outputs": [
    {
     "data": {
      "text/plain": [
       "(45222, 13)"
      ]
     },
     "execution_count": 17,
     "metadata": {},
     "output_type": "execute_result"
    }
   ],
   "source": [
    "X.shape"
   ]
  },
  {
   "cell_type": "code",
   "execution_count": 18,
   "id": "fbc6fdc5",
   "metadata": {},
   "outputs": [
    {
     "name": "stderr",
     "output_type": "stream",
     "text": [
      "C:\\Users\\P70071469\\AppData\\Local\\Temp\\ipykernel_22124\\2029421698.py:3: TqdmDeprecationWarning: This function will be removed in tqdm==5.0.0\n",
      "Please use `tqdm.notebook.tqdm` instead of `tqdm.tqdm_notebook`\n",
      "  for row in tqdm(X_test.iterrows()):\n"
     ]
    },
    {
     "data": {
      "application/vnd.jupyter.widget-view+json": {
       "model_id": "39b1ccee77f74874bf7d654bc411a882",
       "version_major": 2,
       "version_minor": 0
      },
      "text/plain": [
       "0it [00:00, ?it/s]"
      ]
     },
     "metadata": {},
     "output_type": "display_data"
    }
   ],
   "source": [
    "\n",
    "#%% apply it on the X_test dataset \n",
    "elements_test = []\n",
    "for row in tqdm(X_test.iterrows()):\n",
    "    categorical_embeddings = []\n",
    "    for i in cat_cols:\n",
    "        #print(i,row[1][i])\n",
    "        try:\n",
    "            categorical_embeddings.append(cat2vec[row[1][i]])\n",
    "        except:\n",
    "            categorical_embeddings.append(np.zeros((dimpool)))\n",
    "    elements_test .append(np.array(categorical_embeddings))\n",
    "\n",
    "#elements \n",
    "reshaped_x_test = (np.reshape(elements_test ,(len(elements_test ),len(cat_cols)*dimpool)))   \n",
    "# Get the numerical columns\n",
    "my_test_data = pd.concat([X_test.iloc[:, numerical_cols].reset_index(drop=True), pd.DataFrame(reshaped_x_test)], axis=1)\n",
    "# due to the new index of my_data, we have to change the index of y_train\n",
    "y_test = y_test.reset_index(drop=True)"
   ]
  },
  {
   "cell_type": "code",
   "execution_count": 19,
   "id": "3792d41c",
   "metadata": {},
   "outputs": [
    {
     "data": {
      "text/html": [
       "<div>\n",
       "<style scoped>\n",
       "    .dataframe tbody tr th:only-of-type {\n",
       "        vertical-align: middle;\n",
       "    }\n",
       "\n",
       "    .dataframe tbody tr th {\n",
       "        vertical-align: top;\n",
       "    }\n",
       "\n",
       "    .dataframe thead th {\n",
       "        text-align: right;\n",
       "    }\n",
       "</style>\n",
       "<table border=\"1\" class=\"dataframe\">\n",
       "  <thead>\n",
       "    <tr style=\"text-align: right;\">\n",
       "      <th></th>\n",
       "      <th>age</th>\n",
       "      <th>fnlwgt</th>\n",
       "      <th>capital-gain</th>\n",
       "      <th>capital-loss</th>\n",
       "      <th>hours-per-week</th>\n",
       "      <th>0</th>\n",
       "      <th>1</th>\n",
       "      <th>2</th>\n",
       "      <th>3</th>\n",
       "      <th>4</th>\n",
       "      <th>5</th>\n",
       "      <th>6</th>\n",
       "      <th>7</th>\n",
       "      <th>8</th>\n",
       "      <th>9</th>\n",
       "      <th>10</th>\n",
       "      <th>11</th>\n",
       "      <th>12</th>\n",
       "      <th>13</th>\n",
       "      <th>14</th>\n",
       "      <th>15</th>\n",
       "      <th>16</th>\n",
       "      <th>17</th>\n",
       "      <th>18</th>\n",
       "      <th>19</th>\n",
       "      <th>20</th>\n",
       "      <th>21</th>\n",
       "      <th>22</th>\n",
       "      <th>23</th>\n",
       "      <th>24</th>\n",
       "      <th>25</th>\n",
       "      <th>26</th>\n",
       "      <th>27</th>\n",
       "      <th>28</th>\n",
       "      <th>29</th>\n",
       "      <th>30</th>\n",
       "      <th>31</th>\n",
       "      <th>32</th>\n",
       "      <th>33</th>\n",
       "      <th>34</th>\n",
       "      <th>35</th>\n",
       "      <th>36</th>\n",
       "      <th>37</th>\n",
       "      <th>38</th>\n",
       "      <th>39</th>\n",
       "      <th>40</th>\n",
       "      <th>41</th>\n",
       "      <th>42</th>\n",
       "      <th>43</th>\n",
       "      <th>44</th>\n",
       "      <th>45</th>\n",
       "      <th>46</th>\n",
       "      <th>47</th>\n",
       "      <th>48</th>\n",
       "      <th>49</th>\n",
       "      <th>50</th>\n",
       "      <th>51</th>\n",
       "      <th>52</th>\n",
       "      <th>53</th>\n",
       "      <th>54</th>\n",
       "      <th>55</th>\n",
       "      <th>56</th>\n",
       "      <th>57</th>\n",
       "      <th>58</th>\n",
       "      <th>59</th>\n",
       "      <th>60</th>\n",
       "      <th>61</th>\n",
       "      <th>62</th>\n",
       "      <th>63</th>\n",
       "      <th>64</th>\n",
       "      <th>65</th>\n",
       "      <th>66</th>\n",
       "      <th>67</th>\n",
       "      <th>68</th>\n",
       "      <th>69</th>\n",
       "      <th>70</th>\n",
       "      <th>71</th>\n",
       "      <th>72</th>\n",
       "      <th>73</th>\n",
       "      <th>74</th>\n",
       "      <th>75</th>\n",
       "      <th>76</th>\n",
       "      <th>77</th>\n",
       "      <th>78</th>\n",
       "      <th>79</th>\n",
       "      <th>80</th>\n",
       "      <th>81</th>\n",
       "      <th>82</th>\n",
       "      <th>83</th>\n",
       "      <th>84</th>\n",
       "      <th>85</th>\n",
       "      <th>86</th>\n",
       "      <th>87</th>\n",
       "      <th>88</th>\n",
       "      <th>89</th>\n",
       "      <th>90</th>\n",
       "      <th>91</th>\n",
       "      <th>92</th>\n",
       "      <th>93</th>\n",
       "      <th>94</th>\n",
       "      <th>95</th>\n",
       "      <th>96</th>\n",
       "      <th>97</th>\n",
       "      <th>98</th>\n",
       "      <th>99</th>\n",
       "      <th>100</th>\n",
       "      <th>101</th>\n",
       "      <th>102</th>\n",
       "      <th>103</th>\n",
       "      <th>104</th>\n",
       "      <th>105</th>\n",
       "      <th>106</th>\n",
       "      <th>107</th>\n",
       "      <th>108</th>\n",
       "      <th>109</th>\n",
       "      <th>110</th>\n",
       "      <th>111</th>\n",
       "      <th>112</th>\n",
       "      <th>113</th>\n",
       "      <th>114</th>\n",
       "      <th>115</th>\n",
       "      <th>116</th>\n",
       "      <th>117</th>\n",
       "      <th>118</th>\n",
       "      <th>119</th>\n",
       "      <th>120</th>\n",
       "      <th>121</th>\n",
       "      <th>122</th>\n",
       "      <th>123</th>\n",
       "      <th>124</th>\n",
       "      <th>125</th>\n",
       "      <th>126</th>\n",
       "      <th>127</th>\n",
       "      <th>128</th>\n",
       "      <th>129</th>\n",
       "      <th>130</th>\n",
       "      <th>131</th>\n",
       "      <th>132</th>\n",
       "      <th>133</th>\n",
       "      <th>134</th>\n",
       "      <th>135</th>\n",
       "      <th>136</th>\n",
       "      <th>137</th>\n",
       "      <th>138</th>\n",
       "      <th>139</th>\n",
       "      <th>140</th>\n",
       "      <th>141</th>\n",
       "      <th>142</th>\n",
       "      <th>143</th>\n",
       "      <th>144</th>\n",
       "      <th>145</th>\n",
       "      <th>146</th>\n",
       "      <th>147</th>\n",
       "      <th>148</th>\n",
       "      <th>149</th>\n",
       "      <th>150</th>\n",
       "      <th>151</th>\n",
       "      <th>152</th>\n",
       "      <th>153</th>\n",
       "      <th>154</th>\n",
       "      <th>155</th>\n",
       "      <th>156</th>\n",
       "      <th>157</th>\n",
       "      <th>158</th>\n",
       "      <th>159</th>\n",
       "      <th>160</th>\n",
       "      <th>161</th>\n",
       "      <th>162</th>\n",
       "      <th>163</th>\n",
       "      <th>164</th>\n",
       "      <th>165</th>\n",
       "      <th>166</th>\n",
       "      <th>167</th>\n",
       "      <th>168</th>\n",
       "      <th>169</th>\n",
       "      <th>170</th>\n",
       "      <th>171</th>\n",
       "      <th>172</th>\n",
       "      <th>173</th>\n",
       "      <th>174</th>\n",
       "      <th>175</th>\n",
       "      <th>176</th>\n",
       "      <th>177</th>\n",
       "      <th>178</th>\n",
       "      <th>179</th>\n",
       "      <th>180</th>\n",
       "      <th>181</th>\n",
       "      <th>182</th>\n",
       "      <th>183</th>\n",
       "      <th>184</th>\n",
       "      <th>185</th>\n",
       "      <th>186</th>\n",
       "      <th>187</th>\n",
       "      <th>188</th>\n",
       "      <th>189</th>\n",
       "      <th>190</th>\n",
       "      <th>191</th>\n",
       "      <th>192</th>\n",
       "      <th>193</th>\n",
       "      <th>194</th>\n",
       "      <th>195</th>\n",
       "      <th>196</th>\n",
       "      <th>197</th>\n",
       "      <th>198</th>\n",
       "      <th>199</th>\n",
       "      <th>200</th>\n",
       "      <th>201</th>\n",
       "      <th>202</th>\n",
       "      <th>203</th>\n",
       "      <th>204</th>\n",
       "      <th>205</th>\n",
       "      <th>206</th>\n",
       "      <th>207</th>\n",
       "      <th>208</th>\n",
       "      <th>209</th>\n",
       "      <th>210</th>\n",
       "      <th>211</th>\n",
       "      <th>212</th>\n",
       "      <th>213</th>\n",
       "      <th>214</th>\n",
       "      <th>215</th>\n",
       "      <th>216</th>\n",
       "      <th>217</th>\n",
       "      <th>218</th>\n",
       "      <th>219</th>\n",
       "      <th>220</th>\n",
       "      <th>221</th>\n",
       "      <th>222</th>\n",
       "      <th>223</th>\n",
       "      <th>224</th>\n",
       "      <th>225</th>\n",
       "      <th>226</th>\n",
       "      <th>227</th>\n",
       "      <th>228</th>\n",
       "      <th>229</th>\n",
       "      <th>230</th>\n",
       "      <th>231</th>\n",
       "      <th>232</th>\n",
       "      <th>233</th>\n",
       "      <th>234</th>\n",
       "      <th>235</th>\n",
       "      <th>236</th>\n",
       "      <th>237</th>\n",
       "      <th>238</th>\n",
       "      <th>239</th>\n",
       "    </tr>\n",
       "  </thead>\n",
       "  <tbody>\n",
       "    <tr>\n",
       "      <th>0</th>\n",
       "      <td>32</td>\n",
       "      <td>153588</td>\n",
       "      <td>0</td>\n",
       "      <td>0</td>\n",
       "      <td>40</td>\n",
       "      <td>-0.063990</td>\n",
       "      <td>-0.298594</td>\n",
       "      <td>-0.129782</td>\n",
       "      <td>0.162171</td>\n",
       "      <td>-0.156641</td>\n",
       "      <td>0.370059</td>\n",
       "      <td>0.804827</td>\n",
       "      <td>0.292165</td>\n",
       "      <td>-0.818765</td>\n",
       "      <td>0.094141</td>\n",
       "      <td>0.192468</td>\n",
       "      <td>0.411493</td>\n",
       "      <td>-0.014367</td>\n",
       "      <td>-0.125923</td>\n",
       "      <td>0.300463</td>\n",
       "      <td>-0.012195</td>\n",
       "      <td>0.327744</td>\n",
       "      <td>0.521209</td>\n",
       "      <td>-0.101185</td>\n",
       "      <td>0.393508</td>\n",
       "      <td>-0.236051</td>\n",
       "      <td>-0.190650</td>\n",
       "      <td>-0.590477</td>\n",
       "      <td>0.110087</td>\n",
       "      <td>-0.271581</td>\n",
       "      <td>0.142892</td>\n",
       "      <td>0.435929</td>\n",
       "      <td>-0.265933</td>\n",
       "      <td>-0.123486</td>\n",
       "      <td>0.059443</td>\n",
       "      <td>-0.199081</td>\n",
       "      <td>-0.208639</td>\n",
       "      <td>0.284449</td>\n",
       "      <td>0.106286</td>\n",
       "      <td>0.052192</td>\n",
       "      <td>0.092892</td>\n",
       "      <td>0.307187</td>\n",
       "      <td>0.319243</td>\n",
       "      <td>-0.369846</td>\n",
       "      <td>-0.270917</td>\n",
       "      <td>0.181433</td>\n",
       "      <td>0.126381</td>\n",
       "      <td>0.031057</td>\n",
       "      <td>0.174139</td>\n",
       "      <td>-0.181120</td>\n",
       "      <td>-0.004368</td>\n",
       "      <td>0.081864</td>\n",
       "      <td>0.029695</td>\n",
       "      <td>-0.125005</td>\n",
       "      <td>0.329806</td>\n",
       "      <td>0.137288</td>\n",
       "      <td>0.056059</td>\n",
       "      <td>-0.365842</td>\n",
       "      <td>0.46535</td>\n",
       "      <td>0.062197</td>\n",
       "      <td>0.065861</td>\n",
       "      <td>0.506436</td>\n",
       "      <td>0.016147</td>\n",
       "      <td>-0.291473</td>\n",
       "      <td>-0.471061</td>\n",
       "      <td>-0.111513</td>\n",
       "      <td>-0.021129</td>\n",
       "      <td>0.504625</td>\n",
       "      <td>0.084763</td>\n",
       "      <td>-0.063100</td>\n",
       "      <td>0.066789</td>\n",
       "      <td>0.226816</td>\n",
       "      <td>0.239493</td>\n",
       "      <td>-0.298885</td>\n",
       "      <td>0.046040</td>\n",
       "      <td>0.308998</td>\n",
       "      <td>0.180277</td>\n",
       "      <td>0.188189</td>\n",
       "      <td>-0.135448</td>\n",
       "      <td>-0.034715</td>\n",
       "      <td>-0.180490</td>\n",
       "      <td>0.210587</td>\n",
       "      <td>-0.182120</td>\n",
       "      <td>0.000915</td>\n",
       "      <td>0.161706</td>\n",
       "      <td>0.291494</td>\n",
       "      <td>-0.314226</td>\n",
       "      <td>-0.057736</td>\n",
       "      <td>0.382665</td>\n",
       "      <td>0.046224</td>\n",
       "      <td>0.026607</td>\n",
       "      <td>0.536157</td>\n",
       "      <td>0.139671</td>\n",
       "      <td>-0.270350</td>\n",
       "      <td>-0.227796</td>\n",
       "      <td>-0.176128</td>\n",
       "      <td>-0.152576</td>\n",
       "      <td>0.402098</td>\n",
       "      <td>0.004946</td>\n",
       "      <td>-0.205775</td>\n",
       "      <td>0.152889</td>\n",
       "      <td>0.311241</td>\n",
       "      <td>0.354510</td>\n",
       "      <td>-0.377067</td>\n",
       "      <td>0.131478</td>\n",
       "      <td>0.247986</td>\n",
       "      <td>0.184324</td>\n",
       "      <td>0.056058</td>\n",
       "      <td>-0.204214</td>\n",
       "      <td>0.054138</td>\n",
       "      <td>-0.196668</td>\n",
       "      <td>0.055275</td>\n",
       "      <td>-0.005476</td>\n",
       "      <td>-0.122569</td>\n",
       "      <td>0.210717</td>\n",
       "      <td>0.021196</td>\n",
       "      <td>-0.188258</td>\n",
       "      <td>-0.043141</td>\n",
       "      <td>0.336747</td>\n",
       "      <td>0.077444</td>\n",
       "      <td>0.183264</td>\n",
       "      <td>0.420072</td>\n",
       "      <td>0.021769</td>\n",
       "      <td>-0.243607</td>\n",
       "      <td>-0.236000</td>\n",
       "      <td>0.099566</td>\n",
       "      <td>-0.091004</td>\n",
       "      <td>0.186336</td>\n",
       "      <td>0.006936</td>\n",
       "      <td>0.131068</td>\n",
       "      <td>-0.287246</td>\n",
       "      <td>0.369959</td>\n",
       "      <td>0.190939</td>\n",
       "      <td>-0.418488</td>\n",
       "      <td>-0.445476</td>\n",
       "      <td>0.517063</td>\n",
       "      <td>-0.079317</td>\n",
       "      <td>0.215381</td>\n",
       "      <td>0.295705</td>\n",
       "      <td>-0.095092</td>\n",
       "      <td>0.136156</td>\n",
       "      <td>0.24517</td>\n",
       "      <td>0.358066</td>\n",
       "      <td>0.03448</td>\n",
       "      <td>0.236458</td>\n",
       "      <td>0.147667</td>\n",
       "      <td>-0.179187</td>\n",
       "      <td>-0.267795</td>\n",
       "      <td>0.608275</td>\n",
       "      <td>-0.188254</td>\n",
       "      <td>0.297166</td>\n",
       "      <td>0.461192</td>\n",
       "      <td>0.132685</td>\n",
       "      <td>-0.082304</td>\n",
       "      <td>-0.623054</td>\n",
       "      <td>0.073393</td>\n",
       "      <td>-0.148308</td>\n",
       "      <td>-0.265301</td>\n",
       "      <td>-0.567054</td>\n",
       "      <td>0.082415</td>\n",
       "      <td>-0.290091</td>\n",
       "      <td>0.585856</td>\n",
       "      <td>0.297383</td>\n",
       "      <td>-0.599376</td>\n",
       "      <td>0.098846</td>\n",
       "      <td>0.528446</td>\n",
       "      <td>-0.156033</td>\n",
       "      <td>-0.165829</td>\n",
       "      <td>0.197538</td>\n",
       "      <td>-0.838182</td>\n",
       "      <td>0.248059</td>\n",
       "      <td>0.09466</td>\n",
       "      <td>-0.162431</td>\n",
       "      <td>-0.033824</td>\n",
       "      <td>0.3998</td>\n",
       "      <td>-0.132172</td>\n",
       "      <td>-0.474925</td>\n",
       "      <td>0.767141</td>\n",
       "      <td>0.403591</td>\n",
       "      <td>-0.713355</td>\n",
       "      <td>0.519344</td>\n",
       "      <td>0.758146</td>\n",
       "      <td>-0.178119</td>\n",
       "      <td>-0.110252</td>\n",
       "      <td>-0.233838</td>\n",
       "      <td>-0.012079</td>\n",
       "      <td>-0.207196</td>\n",
       "      <td>0.375253</td>\n",
       "      <td>0.033008</td>\n",
       "      <td>-0.111318</td>\n",
       "      <td>0.037151</td>\n",
       "      <td>0.098346</td>\n",
       "      <td>0.343860</td>\n",
       "      <td>-0.273226</td>\n",
       "      <td>0.071692</td>\n",
       "      <td>0.330264</td>\n",
       "      <td>0.317229</td>\n",
       "      <td>-0.059002</td>\n",
       "      <td>-0.057168</td>\n",
       "      <td>-0.181095</td>\n",
       "      <td>0.044521</td>\n",
       "      <td>0.302098</td>\n",
       "      <td>-0.049912</td>\n",
       "      <td>-0.183535</td>\n",
       "      <td>0.021009</td>\n",
       "      <td>0.119437</td>\n",
       "      <td>-0.166756</td>\n",
       "      <td>-0.036911</td>\n",
       "      <td>0.362378</td>\n",
       "      <td>-0.115903</td>\n",
       "      <td>0.055663</td>\n",
       "      <td>0.525305</td>\n",
       "      <td>0.179827</td>\n",
       "      <td>-0.101319</td>\n",
       "      <td>-0.305782</td>\n",
       "      <td>0.107631</td>\n",
       "      <td>0.138283</td>\n",
       "      <td>0.566952</td>\n",
       "      <td>0.161691</td>\n",
       "      <td>0.590519</td>\n",
       "      <td>0.196585</td>\n",
       "      <td>0.662713</td>\n",
       "      <td>-0.228643</td>\n",
       "      <td>0.311351</td>\n",
       "      <td>0.411112</td>\n",
       "      <td>0.61908</td>\n",
       "      <td>-0.340898</td>\n",
       "      <td>-0.112317</td>\n",
       "      <td>-0.425883</td>\n",
       "      <td>-0.724303</td>\n",
       "      <td>-0.391587</td>\n",
       "      <td>0.751798</td>\n",
       "      <td>-0.190205</td>\n",
       "      <td>-0.684002</td>\n",
       "      <td>0.572923</td>\n",
       "      <td>-0.190265</td>\n",
       "      <td>0.415676</td>\n",
       "      <td>-0.198343</td>\n",
       "      <td>0.845804</td>\n",
       "      <td>-0.200511</td>\n",
       "      <td>-0.452876</td>\n",
       "      <td>0.112702</td>\n",
       "      <td>0.086674</td>\n",
       "      <td>-0.412944</td>\n",
       "      <td>-0.3534</td>\n",
       "    </tr>\n",
       "    <tr>\n",
       "      <th>1</th>\n",
       "      <td>56</td>\n",
       "      <td>225267</td>\n",
       "      <td>14084</td>\n",
       "      <td>0</td>\n",
       "      <td>60</td>\n",
       "      <td>-0.063990</td>\n",
       "      <td>-0.298594</td>\n",
       "      <td>-0.129782</td>\n",
       "      <td>0.162171</td>\n",
       "      <td>-0.156641</td>\n",
       "      <td>0.370059</td>\n",
       "      <td>0.804827</td>\n",
       "      <td>0.292165</td>\n",
       "      <td>-0.818765</td>\n",
       "      <td>0.094141</td>\n",
       "      <td>0.192468</td>\n",
       "      <td>0.411493</td>\n",
       "      <td>-0.014367</td>\n",
       "      <td>-0.125923</td>\n",
       "      <td>0.300463</td>\n",
       "      <td>-0.012195</td>\n",
       "      <td>0.327744</td>\n",
       "      <td>0.521209</td>\n",
       "      <td>-0.101185</td>\n",
       "      <td>0.393508</td>\n",
       "      <td>-0.236051</td>\n",
       "      <td>-0.190650</td>\n",
       "      <td>-0.590477</td>\n",
       "      <td>0.110087</td>\n",
       "      <td>-0.271581</td>\n",
       "      <td>0.142892</td>\n",
       "      <td>0.435929</td>\n",
       "      <td>-0.265933</td>\n",
       "      <td>-0.123486</td>\n",
       "      <td>0.059443</td>\n",
       "      <td>-0.093409</td>\n",
       "      <td>-0.023199</td>\n",
       "      <td>0.406238</td>\n",
       "      <td>-0.067401</td>\n",
       "      <td>-0.236680</td>\n",
       "      <td>0.564236</td>\n",
       "      <td>0.310065</td>\n",
       "      <td>0.388485</td>\n",
       "      <td>-0.369854</td>\n",
       "      <td>0.243603</td>\n",
       "      <td>-0.056869</td>\n",
       "      <td>-0.146280</td>\n",
       "      <td>-0.085541</td>\n",
       "      <td>-0.125079</td>\n",
       "      <td>-0.157173</td>\n",
       "      <td>-0.150607</td>\n",
       "      <td>0.117284</td>\n",
       "      <td>-0.210155</td>\n",
       "      <td>-0.335210</td>\n",
       "      <td>0.369843</td>\n",
       "      <td>-0.135131</td>\n",
       "      <td>-0.150361</td>\n",
       "      <td>-0.076640</td>\n",
       "      <td>0.59797</td>\n",
       "      <td>0.116051</td>\n",
       "      <td>0.190192</td>\n",
       "      <td>0.383343</td>\n",
       "      <td>-0.017755</td>\n",
       "      <td>-0.223003</td>\n",
       "      <td>-0.137498</td>\n",
       "      <td>-0.111513</td>\n",
       "      <td>-0.021129</td>\n",
       "      <td>0.504625</td>\n",
       "      <td>0.084763</td>\n",
       "      <td>-0.063100</td>\n",
       "      <td>0.066789</td>\n",
       "      <td>0.226816</td>\n",
       "      <td>0.239493</td>\n",
       "      <td>-0.298885</td>\n",
       "      <td>0.046040</td>\n",
       "      <td>0.308998</td>\n",
       "      <td>0.180277</td>\n",
       "      <td>0.188189</td>\n",
       "      <td>-0.135448</td>\n",
       "      <td>-0.034715</td>\n",
       "      <td>-0.180490</td>\n",
       "      <td>0.210587</td>\n",
       "      <td>-0.182120</td>\n",
       "      <td>0.000915</td>\n",
       "      <td>0.161706</td>\n",
       "      <td>0.291494</td>\n",
       "      <td>-0.314226</td>\n",
       "      <td>-0.057736</td>\n",
       "      <td>0.382665</td>\n",
       "      <td>0.046224</td>\n",
       "      <td>0.026607</td>\n",
       "      <td>0.536157</td>\n",
       "      <td>0.139671</td>\n",
       "      <td>-0.270350</td>\n",
       "      <td>-0.227796</td>\n",
       "      <td>-0.147671</td>\n",
       "      <td>-0.097012</td>\n",
       "      <td>0.419919</td>\n",
       "      <td>0.057615</td>\n",
       "      <td>0.166260</td>\n",
       "      <td>0.309454</td>\n",
       "      <td>0.474380</td>\n",
       "      <td>0.084180</td>\n",
       "      <td>-0.229626</td>\n",
       "      <td>-0.095431</td>\n",
       "      <td>0.376508</td>\n",
       "      <td>0.202322</td>\n",
       "      <td>-0.218111</td>\n",
       "      <td>-0.092681</td>\n",
       "      <td>-0.405264</td>\n",
       "      <td>-0.050384</td>\n",
       "      <td>0.311702</td>\n",
       "      <td>0.263210</td>\n",
       "      <td>-0.233168</td>\n",
       "      <td>0.311142</td>\n",
       "      <td>0.185050</td>\n",
       "      <td>-0.147704</td>\n",
       "      <td>-0.432858</td>\n",
       "      <td>0.234736</td>\n",
       "      <td>-0.277756</td>\n",
       "      <td>-0.186943</td>\n",
       "      <td>0.345062</td>\n",
       "      <td>0.035307</td>\n",
       "      <td>-0.267047</td>\n",
       "      <td>-0.094335</td>\n",
       "      <td>0.099566</td>\n",
       "      <td>-0.091004</td>\n",
       "      <td>0.186336</td>\n",
       "      <td>0.006936</td>\n",
       "      <td>0.131068</td>\n",
       "      <td>-0.287246</td>\n",
       "      <td>0.369959</td>\n",
       "      <td>0.190939</td>\n",
       "      <td>-0.418488</td>\n",
       "      <td>-0.445476</td>\n",
       "      <td>0.517063</td>\n",
       "      <td>-0.079317</td>\n",
       "      <td>0.215381</td>\n",
       "      <td>0.295705</td>\n",
       "      <td>-0.095092</td>\n",
       "      <td>0.136156</td>\n",
       "      <td>0.24517</td>\n",
       "      <td>0.358066</td>\n",
       "      <td>0.03448</td>\n",
       "      <td>0.236458</td>\n",
       "      <td>0.147667</td>\n",
       "      <td>-0.179187</td>\n",
       "      <td>-0.267795</td>\n",
       "      <td>0.608275</td>\n",
       "      <td>-0.188254</td>\n",
       "      <td>0.297166</td>\n",
       "      <td>0.461192</td>\n",
       "      <td>0.132685</td>\n",
       "      <td>-0.082304</td>\n",
       "      <td>-0.623054</td>\n",
       "      <td>0.073393</td>\n",
       "      <td>-0.148308</td>\n",
       "      <td>-0.265301</td>\n",
       "      <td>-0.567054</td>\n",
       "      <td>0.082415</td>\n",
       "      <td>-0.290091</td>\n",
       "      <td>0.585856</td>\n",
       "      <td>0.297383</td>\n",
       "      <td>-0.599376</td>\n",
       "      <td>0.098846</td>\n",
       "      <td>0.528446</td>\n",
       "      <td>-0.156033</td>\n",
       "      <td>-0.165829</td>\n",
       "      <td>0.197538</td>\n",
       "      <td>-0.838182</td>\n",
       "      <td>0.248059</td>\n",
       "      <td>0.09466</td>\n",
       "      <td>-0.162431</td>\n",
       "      <td>-0.033824</td>\n",
       "      <td>0.3998</td>\n",
       "      <td>-0.132172</td>\n",
       "      <td>-0.474925</td>\n",
       "      <td>0.767141</td>\n",
       "      <td>0.403591</td>\n",
       "      <td>-0.713355</td>\n",
       "      <td>0.519344</td>\n",
       "      <td>0.758146</td>\n",
       "      <td>-0.178119</td>\n",
       "      <td>-0.110252</td>\n",
       "      <td>-0.233838</td>\n",
       "      <td>-0.012079</td>\n",
       "      <td>-0.207196</td>\n",
       "      <td>0.375253</td>\n",
       "      <td>0.033008</td>\n",
       "      <td>-0.111318</td>\n",
       "      <td>0.037151</td>\n",
       "      <td>0.098346</td>\n",
       "      <td>0.343860</td>\n",
       "      <td>-0.273226</td>\n",
       "      <td>0.071692</td>\n",
       "      <td>0.330264</td>\n",
       "      <td>0.317229</td>\n",
       "      <td>-0.059002</td>\n",
       "      <td>-0.057168</td>\n",
       "      <td>-0.181095</td>\n",
       "      <td>0.044521</td>\n",
       "      <td>0.302098</td>\n",
       "      <td>-0.049912</td>\n",
       "      <td>-0.183535</td>\n",
       "      <td>0.021009</td>\n",
       "      <td>0.119437</td>\n",
       "      <td>-0.166756</td>\n",
       "      <td>-0.036911</td>\n",
       "      <td>0.362378</td>\n",
       "      <td>-0.115903</td>\n",
       "      <td>0.055663</td>\n",
       "      <td>0.525305</td>\n",
       "      <td>0.179827</td>\n",
       "      <td>-0.101319</td>\n",
       "      <td>-0.305782</td>\n",
       "      <td>0.107631</td>\n",
       "      <td>0.138283</td>\n",
       "      <td>0.566952</td>\n",
       "      <td>0.161691</td>\n",
       "      <td>0.590519</td>\n",
       "      <td>0.196585</td>\n",
       "      <td>0.662713</td>\n",
       "      <td>-0.228643</td>\n",
       "      <td>0.311351</td>\n",
       "      <td>0.411112</td>\n",
       "      <td>0.61908</td>\n",
       "      <td>-0.340898</td>\n",
       "      <td>-0.112317</td>\n",
       "      <td>-0.425883</td>\n",
       "      <td>-0.724303</td>\n",
       "      <td>-0.391587</td>\n",
       "      <td>0.751798</td>\n",
       "      <td>-0.190205</td>\n",
       "      <td>-0.684002</td>\n",
       "      <td>0.572923</td>\n",
       "      <td>-0.190265</td>\n",
       "      <td>0.415676</td>\n",
       "      <td>-0.198343</td>\n",
       "      <td>0.845804</td>\n",
       "      <td>-0.200511</td>\n",
       "      <td>-0.452876</td>\n",
       "      <td>0.112702</td>\n",
       "      <td>0.086674</td>\n",
       "      <td>-0.412944</td>\n",
       "      <td>-0.3534</td>\n",
       "    </tr>\n",
       "    <tr>\n",
       "      <th>2</th>\n",
       "      <td>62</td>\n",
       "      <td>164518</td>\n",
       "      <td>0</td>\n",
       "      <td>0</td>\n",
       "      <td>38</td>\n",
       "      <td>-0.075348</td>\n",
       "      <td>-0.234939</td>\n",
       "      <td>0.409226</td>\n",
       "      <td>0.150556</td>\n",
       "      <td>-0.133665</td>\n",
       "      <td>0.029027</td>\n",
       "      <td>0.323490</td>\n",
       "      <td>0.139431</td>\n",
       "      <td>-0.222097</td>\n",
       "      <td>0.080492</td>\n",
       "      <td>0.209933</td>\n",
       "      <td>0.270596</td>\n",
       "      <td>-0.189729</td>\n",
       "      <td>-0.137094</td>\n",
       "      <td>-0.306276</td>\n",
       "      <td>0.001246</td>\n",
       "      <td>0.286829</td>\n",
       "      <td>-0.011992</td>\n",
       "      <td>-0.228351</td>\n",
       "      <td>0.195317</td>\n",
       "      <td>0.011462</td>\n",
       "      <td>-0.033118</td>\n",
       "      <td>-0.297877</td>\n",
       "      <td>0.223163</td>\n",
       "      <td>0.041401</td>\n",
       "      <td>-0.239320</td>\n",
       "      <td>0.518919</td>\n",
       "      <td>0.112047</td>\n",
       "      <td>-0.089205</td>\n",
       "      <td>-0.237114</td>\n",
       "      <td>-0.199081</td>\n",
       "      <td>-0.208639</td>\n",
       "      <td>0.284449</td>\n",
       "      <td>0.106286</td>\n",
       "      <td>0.052192</td>\n",
       "      <td>0.092892</td>\n",
       "      <td>0.307187</td>\n",
       "      <td>0.319243</td>\n",
       "      <td>-0.369846</td>\n",
       "      <td>-0.270917</td>\n",
       "      <td>0.181433</td>\n",
       "      <td>0.126381</td>\n",
       "      <td>0.031057</td>\n",
       "      <td>0.174139</td>\n",
       "      <td>-0.181120</td>\n",
       "      <td>-0.004368</td>\n",
       "      <td>0.081864</td>\n",
       "      <td>0.029695</td>\n",
       "      <td>-0.125005</td>\n",
       "      <td>0.329806</td>\n",
       "      <td>0.137288</td>\n",
       "      <td>0.056059</td>\n",
       "      <td>-0.365842</td>\n",
       "      <td>0.46535</td>\n",
       "      <td>0.062197</td>\n",
       "      <td>0.065861</td>\n",
       "      <td>0.506436</td>\n",
       "      <td>0.016147</td>\n",
       "      <td>-0.291473</td>\n",
       "      <td>-0.471061</td>\n",
       "      <td>0.333041</td>\n",
       "      <td>-0.323713</td>\n",
       "      <td>0.490812</td>\n",
       "      <td>0.494531</td>\n",
       "      <td>-0.044464</td>\n",
       "      <td>-0.487005</td>\n",
       "      <td>0.449590</td>\n",
       "      <td>-0.008130</td>\n",
       "      <td>-0.277724</td>\n",
       "      <td>0.067307</td>\n",
       "      <td>0.504287</td>\n",
       "      <td>0.267130</td>\n",
       "      <td>0.616260</td>\n",
       "      <td>-0.231003</td>\n",
       "      <td>-0.049999</td>\n",
       "      <td>-0.155975</td>\n",
       "      <td>0.387544</td>\n",
       "      <td>-0.029486</td>\n",
       "      <td>-0.351763</td>\n",
       "      <td>0.020321</td>\n",
       "      <td>-0.263186</td>\n",
       "      <td>-0.119501</td>\n",
       "      <td>-0.237770</td>\n",
       "      <td>0.194375</td>\n",
       "      <td>0.198192</td>\n",
       "      <td>0.536739</td>\n",
       "      <td>0.721250</td>\n",
       "      <td>0.455161</td>\n",
       "      <td>0.262953</td>\n",
       "      <td>0.224832</td>\n",
       "      <td>-0.218726</td>\n",
       "      <td>-0.046098</td>\n",
       "      <td>0.333906</td>\n",
       "      <td>0.034070</td>\n",
       "      <td>-0.016914</td>\n",
       "      <td>0.109423</td>\n",
       "      <td>0.571369</td>\n",
       "      <td>0.242235</td>\n",
       "      <td>-0.451445</td>\n",
       "      <td>0.077276</td>\n",
       "      <td>0.281751</td>\n",
       "      <td>-0.089240</td>\n",
       "      <td>-0.124994</td>\n",
       "      <td>-0.086351</td>\n",
       "      <td>-0.126562</td>\n",
       "      <td>-0.143636</td>\n",
       "      <td>0.267373</td>\n",
       "      <td>0.037608</td>\n",
       "      <td>-0.216466</td>\n",
       "      <td>0.330465</td>\n",
       "      <td>-0.254099</td>\n",
       "      <td>-0.205491</td>\n",
       "      <td>-0.063192</td>\n",
       "      <td>0.374943</td>\n",
       "      <td>-0.210816</td>\n",
       "      <td>0.121589</td>\n",
       "      <td>0.204318</td>\n",
       "      <td>-0.072876</td>\n",
       "      <td>-0.156428</td>\n",
       "      <td>-0.209131</td>\n",
       "      <td>0.099566</td>\n",
       "      <td>-0.091004</td>\n",
       "      <td>0.186336</td>\n",
       "      <td>0.006936</td>\n",
       "      <td>0.131068</td>\n",
       "      <td>-0.287246</td>\n",
       "      <td>0.369959</td>\n",
       "      <td>0.190939</td>\n",
       "      <td>-0.418488</td>\n",
       "      <td>-0.445476</td>\n",
       "      <td>0.517063</td>\n",
       "      <td>-0.079317</td>\n",
       "      <td>0.215381</td>\n",
       "      <td>0.295705</td>\n",
       "      <td>-0.095092</td>\n",
       "      <td>0.136156</td>\n",
       "      <td>0.24517</td>\n",
       "      <td>0.358066</td>\n",
       "      <td>0.03448</td>\n",
       "      <td>0.236458</td>\n",
       "      <td>0.147667</td>\n",
       "      <td>-0.179187</td>\n",
       "      <td>-0.267795</td>\n",
       "      <td>0.608275</td>\n",
       "      <td>-0.188254</td>\n",
       "      <td>0.297166</td>\n",
       "      <td>0.461192</td>\n",
       "      <td>0.132685</td>\n",
       "      <td>-0.082304</td>\n",
       "      <td>-0.623054</td>\n",
       "      <td>0.073393</td>\n",
       "      <td>-0.148308</td>\n",
       "      <td>-0.265301</td>\n",
       "      <td>-0.567054</td>\n",
       "      <td>0.082415</td>\n",
       "      <td>-0.290091</td>\n",
       "      <td>0.585856</td>\n",
       "      <td>0.297383</td>\n",
       "      <td>-0.599376</td>\n",
       "      <td>0.098846</td>\n",
       "      <td>0.528446</td>\n",
       "      <td>-0.156033</td>\n",
       "      <td>-0.165829</td>\n",
       "      <td>0.197538</td>\n",
       "      <td>-0.838182</td>\n",
       "      <td>0.248059</td>\n",
       "      <td>0.09466</td>\n",
       "      <td>-0.162431</td>\n",
       "      <td>-0.033824</td>\n",
       "      <td>0.3998</td>\n",
       "      <td>-0.132172</td>\n",
       "      <td>-0.474925</td>\n",
       "      <td>0.767141</td>\n",
       "      <td>0.403591</td>\n",
       "      <td>-0.713355</td>\n",
       "      <td>0.519344</td>\n",
       "      <td>0.758146</td>\n",
       "      <td>-0.178119</td>\n",
       "      <td>-0.110252</td>\n",
       "      <td>-0.233838</td>\n",
       "      <td>-0.165574</td>\n",
       "      <td>-0.274602</td>\n",
       "      <td>0.318015</td>\n",
       "      <td>-0.056372</td>\n",
       "      <td>-0.286130</td>\n",
       "      <td>0.026785</td>\n",
       "      <td>0.179501</td>\n",
       "      <td>0.458623</td>\n",
       "      <td>-0.240476</td>\n",
       "      <td>-0.064590</td>\n",
       "      <td>0.094259</td>\n",
       "      <td>0.484273</td>\n",
       "      <td>-0.150808</td>\n",
       "      <td>-0.131647</td>\n",
       "      <td>-0.032485</td>\n",
       "      <td>0.127793</td>\n",
       "      <td>0.221601</td>\n",
       "      <td>-0.100044</td>\n",
       "      <td>-0.244020</td>\n",
       "      <td>0.134213</td>\n",
       "      <td>0.046266</td>\n",
       "      <td>-0.165784</td>\n",
       "      <td>-0.071744</td>\n",
       "      <td>0.253602</td>\n",
       "      <td>-0.106493</td>\n",
       "      <td>0.068744</td>\n",
       "      <td>0.527321</td>\n",
       "      <td>0.183170</td>\n",
       "      <td>-0.191628</td>\n",
       "      <td>-0.330677</td>\n",
       "      <td>0.107631</td>\n",
       "      <td>0.138283</td>\n",
       "      <td>0.566952</td>\n",
       "      <td>0.161691</td>\n",
       "      <td>0.590519</td>\n",
       "      <td>0.196585</td>\n",
       "      <td>0.662713</td>\n",
       "      <td>-0.228643</td>\n",
       "      <td>0.311351</td>\n",
       "      <td>0.411112</td>\n",
       "      <td>0.61908</td>\n",
       "      <td>-0.340898</td>\n",
       "      <td>-0.112317</td>\n",
       "      <td>-0.425883</td>\n",
       "      <td>-0.724303</td>\n",
       "      <td>-0.391587</td>\n",
       "      <td>0.751798</td>\n",
       "      <td>-0.190205</td>\n",
       "      <td>-0.684002</td>\n",
       "      <td>0.572923</td>\n",
       "      <td>-0.190265</td>\n",
       "      <td>0.415676</td>\n",
       "      <td>-0.198343</td>\n",
       "      <td>0.845804</td>\n",
       "      <td>-0.200511</td>\n",
       "      <td>-0.452876</td>\n",
       "      <td>0.112702</td>\n",
       "      <td>0.086674</td>\n",
       "      <td>-0.412944</td>\n",
       "      <td>-0.3534</td>\n",
       "    </tr>\n",
       "  </tbody>\n",
       "</table>\n",
       "</div>"
      ],
      "text/plain": [
       "   age  fnlwgt  capital-gain  capital-loss  hours-per-week         0  \\\n",
       "0   32  153588             0             0              40 -0.063990   \n",
       "1   56  225267         14084             0              60 -0.063990   \n",
       "2   62  164518             0             0              38 -0.075348   \n",
       "\n",
       "          1         2         3         4         5         6         7  \\\n",
       "0 -0.298594 -0.129782  0.162171 -0.156641  0.370059  0.804827  0.292165   \n",
       "1 -0.298594 -0.129782  0.162171 -0.156641  0.370059  0.804827  0.292165   \n",
       "2 -0.234939  0.409226  0.150556 -0.133665  0.029027  0.323490  0.139431   \n",
       "\n",
       "          8         9        10        11        12        13        14  \\\n",
       "0 -0.818765  0.094141  0.192468  0.411493 -0.014367 -0.125923  0.300463   \n",
       "1 -0.818765  0.094141  0.192468  0.411493 -0.014367 -0.125923  0.300463   \n",
       "2 -0.222097  0.080492  0.209933  0.270596 -0.189729 -0.137094 -0.306276   \n",
       "\n",
       "         15        16        17        18        19        20        21  \\\n",
       "0 -0.012195  0.327744  0.521209 -0.101185  0.393508 -0.236051 -0.190650   \n",
       "1 -0.012195  0.327744  0.521209 -0.101185  0.393508 -0.236051 -0.190650   \n",
       "2  0.001246  0.286829 -0.011992 -0.228351  0.195317  0.011462 -0.033118   \n",
       "\n",
       "         22        23        24        25        26        27        28  \\\n",
       "0 -0.590477  0.110087 -0.271581  0.142892  0.435929 -0.265933 -0.123486   \n",
       "1 -0.590477  0.110087 -0.271581  0.142892  0.435929 -0.265933 -0.123486   \n",
       "2 -0.297877  0.223163  0.041401 -0.239320  0.518919  0.112047 -0.089205   \n",
       "\n",
       "         29        30        31        32        33        34        35  \\\n",
       "0  0.059443 -0.199081 -0.208639  0.284449  0.106286  0.052192  0.092892   \n",
       "1  0.059443 -0.093409 -0.023199  0.406238 -0.067401 -0.236680  0.564236   \n",
       "2 -0.237114 -0.199081 -0.208639  0.284449  0.106286  0.052192  0.092892   \n",
       "\n",
       "         36        37        38        39        40        41        42  \\\n",
       "0  0.307187  0.319243 -0.369846 -0.270917  0.181433  0.126381  0.031057   \n",
       "1  0.310065  0.388485 -0.369854  0.243603 -0.056869 -0.146280 -0.085541   \n",
       "2  0.307187  0.319243 -0.369846 -0.270917  0.181433  0.126381  0.031057   \n",
       "\n",
       "         43        44        45        46        47        48        49  \\\n",
       "0  0.174139 -0.181120 -0.004368  0.081864  0.029695 -0.125005  0.329806   \n",
       "1 -0.125079 -0.157173 -0.150607  0.117284 -0.210155 -0.335210  0.369843   \n",
       "2  0.174139 -0.181120 -0.004368  0.081864  0.029695 -0.125005  0.329806   \n",
       "\n",
       "         50        51        52       53        54        55        56  \\\n",
       "0  0.137288  0.056059 -0.365842  0.46535  0.062197  0.065861  0.506436   \n",
       "1 -0.135131 -0.150361 -0.076640  0.59797  0.116051  0.190192  0.383343   \n",
       "2  0.137288  0.056059 -0.365842  0.46535  0.062197  0.065861  0.506436   \n",
       "\n",
       "         57        58        59        60        61        62        63  \\\n",
       "0  0.016147 -0.291473 -0.471061 -0.111513 -0.021129  0.504625  0.084763   \n",
       "1 -0.017755 -0.223003 -0.137498 -0.111513 -0.021129  0.504625  0.084763   \n",
       "2  0.016147 -0.291473 -0.471061  0.333041 -0.323713  0.490812  0.494531   \n",
       "\n",
       "         64        65        66        67        68        69        70  \\\n",
       "0 -0.063100  0.066789  0.226816  0.239493 -0.298885  0.046040  0.308998   \n",
       "1 -0.063100  0.066789  0.226816  0.239493 -0.298885  0.046040  0.308998   \n",
       "2 -0.044464 -0.487005  0.449590 -0.008130 -0.277724  0.067307  0.504287   \n",
       "\n",
       "         71        72        73        74        75        76        77  \\\n",
       "0  0.180277  0.188189 -0.135448 -0.034715 -0.180490  0.210587 -0.182120   \n",
       "1  0.180277  0.188189 -0.135448 -0.034715 -0.180490  0.210587 -0.182120   \n",
       "2  0.267130  0.616260 -0.231003 -0.049999 -0.155975  0.387544 -0.029486   \n",
       "\n",
       "         78        79        80        81        82        83        84  \\\n",
       "0  0.000915  0.161706  0.291494 -0.314226 -0.057736  0.382665  0.046224   \n",
       "1  0.000915  0.161706  0.291494 -0.314226 -0.057736  0.382665  0.046224   \n",
       "2 -0.351763  0.020321 -0.263186 -0.119501 -0.237770  0.194375  0.198192   \n",
       "\n",
       "         85        86        87        88        89        90        91  \\\n",
       "0  0.026607  0.536157  0.139671 -0.270350 -0.227796 -0.176128 -0.152576   \n",
       "1  0.026607  0.536157  0.139671 -0.270350 -0.227796 -0.147671 -0.097012   \n",
       "2  0.536739  0.721250  0.455161  0.262953  0.224832 -0.218726 -0.046098   \n",
       "\n",
       "         92        93        94        95        96        97        98  \\\n",
       "0  0.402098  0.004946 -0.205775  0.152889  0.311241  0.354510 -0.377067   \n",
       "1  0.419919  0.057615  0.166260  0.309454  0.474380  0.084180 -0.229626   \n",
       "2  0.333906  0.034070 -0.016914  0.109423  0.571369  0.242235 -0.451445   \n",
       "\n",
       "         99       100       101       102       103       104       105  \\\n",
       "0  0.131478  0.247986  0.184324  0.056058 -0.204214  0.054138 -0.196668   \n",
       "1 -0.095431  0.376508  0.202322 -0.218111 -0.092681 -0.405264 -0.050384   \n",
       "2  0.077276  0.281751 -0.089240 -0.124994 -0.086351 -0.126562 -0.143636   \n",
       "\n",
       "        106       107       108       109       110       111       112  \\\n",
       "0  0.055275 -0.005476 -0.122569  0.210717  0.021196 -0.188258 -0.043141   \n",
       "1  0.311702  0.263210 -0.233168  0.311142  0.185050 -0.147704 -0.432858   \n",
       "2  0.267373  0.037608 -0.216466  0.330465 -0.254099 -0.205491 -0.063192   \n",
       "\n",
       "        113       114       115       116       117       118       119  \\\n",
       "0  0.336747  0.077444  0.183264  0.420072  0.021769 -0.243607 -0.236000   \n",
       "1  0.234736 -0.277756 -0.186943  0.345062  0.035307 -0.267047 -0.094335   \n",
       "2  0.374943 -0.210816  0.121589  0.204318 -0.072876 -0.156428 -0.209131   \n",
       "\n",
       "        120       121       122       123       124       125       126  \\\n",
       "0  0.099566 -0.091004  0.186336  0.006936  0.131068 -0.287246  0.369959   \n",
       "1  0.099566 -0.091004  0.186336  0.006936  0.131068 -0.287246  0.369959   \n",
       "2  0.099566 -0.091004  0.186336  0.006936  0.131068 -0.287246  0.369959   \n",
       "\n",
       "        127       128       129       130       131       132       133  \\\n",
       "0  0.190939 -0.418488 -0.445476  0.517063 -0.079317  0.215381  0.295705   \n",
       "1  0.190939 -0.418488 -0.445476  0.517063 -0.079317  0.215381  0.295705   \n",
       "2  0.190939 -0.418488 -0.445476  0.517063 -0.079317  0.215381  0.295705   \n",
       "\n",
       "        134       135      136       137      138       139       140  \\\n",
       "0 -0.095092  0.136156  0.24517  0.358066  0.03448  0.236458  0.147667   \n",
       "1 -0.095092  0.136156  0.24517  0.358066  0.03448  0.236458  0.147667   \n",
       "2 -0.095092  0.136156  0.24517  0.358066  0.03448  0.236458  0.147667   \n",
       "\n",
       "        141       142       143       144       145       146       147  \\\n",
       "0 -0.179187 -0.267795  0.608275 -0.188254  0.297166  0.461192  0.132685   \n",
       "1 -0.179187 -0.267795  0.608275 -0.188254  0.297166  0.461192  0.132685   \n",
       "2 -0.179187 -0.267795  0.608275 -0.188254  0.297166  0.461192  0.132685   \n",
       "\n",
       "        148       149       150       151       152       153       154  \\\n",
       "0 -0.082304 -0.623054  0.073393 -0.148308 -0.265301 -0.567054  0.082415   \n",
       "1 -0.082304 -0.623054  0.073393 -0.148308 -0.265301 -0.567054  0.082415   \n",
       "2 -0.082304 -0.623054  0.073393 -0.148308 -0.265301 -0.567054  0.082415   \n",
       "\n",
       "        155       156       157       158       159       160       161  \\\n",
       "0 -0.290091  0.585856  0.297383 -0.599376  0.098846  0.528446 -0.156033   \n",
       "1 -0.290091  0.585856  0.297383 -0.599376  0.098846  0.528446 -0.156033   \n",
       "2 -0.290091  0.585856  0.297383 -0.599376  0.098846  0.528446 -0.156033   \n",
       "\n",
       "        162       163       164       165      166       167       168  \\\n",
       "0 -0.165829  0.197538 -0.838182  0.248059  0.09466 -0.162431 -0.033824   \n",
       "1 -0.165829  0.197538 -0.838182  0.248059  0.09466 -0.162431 -0.033824   \n",
       "2 -0.165829  0.197538 -0.838182  0.248059  0.09466 -0.162431 -0.033824   \n",
       "\n",
       "      169       170       171       172       173       174       175  \\\n",
       "0  0.3998 -0.132172 -0.474925  0.767141  0.403591 -0.713355  0.519344   \n",
       "1  0.3998 -0.132172 -0.474925  0.767141  0.403591 -0.713355  0.519344   \n",
       "2  0.3998 -0.132172 -0.474925  0.767141  0.403591 -0.713355  0.519344   \n",
       "\n",
       "        176       177       178       179       180       181       182  \\\n",
       "0  0.758146 -0.178119 -0.110252 -0.233838 -0.012079 -0.207196  0.375253   \n",
       "1  0.758146 -0.178119 -0.110252 -0.233838 -0.012079 -0.207196  0.375253   \n",
       "2  0.758146 -0.178119 -0.110252 -0.233838 -0.165574 -0.274602  0.318015   \n",
       "\n",
       "        183       184       185       186       187       188       189  \\\n",
       "0  0.033008 -0.111318  0.037151  0.098346  0.343860 -0.273226  0.071692   \n",
       "1  0.033008 -0.111318  0.037151  0.098346  0.343860 -0.273226  0.071692   \n",
       "2 -0.056372 -0.286130  0.026785  0.179501  0.458623 -0.240476 -0.064590   \n",
       "\n",
       "        190       191       192       193       194       195       196  \\\n",
       "0  0.330264  0.317229 -0.059002 -0.057168 -0.181095  0.044521  0.302098   \n",
       "1  0.330264  0.317229 -0.059002 -0.057168 -0.181095  0.044521  0.302098   \n",
       "2  0.094259  0.484273 -0.150808 -0.131647 -0.032485  0.127793  0.221601   \n",
       "\n",
       "        197       198       199       200       201       202       203  \\\n",
       "0 -0.049912 -0.183535  0.021009  0.119437 -0.166756 -0.036911  0.362378   \n",
       "1 -0.049912 -0.183535  0.021009  0.119437 -0.166756 -0.036911  0.362378   \n",
       "2 -0.100044 -0.244020  0.134213  0.046266 -0.165784 -0.071744  0.253602   \n",
       "\n",
       "        204       205       206       207       208       209       210  \\\n",
       "0 -0.115903  0.055663  0.525305  0.179827 -0.101319 -0.305782  0.107631   \n",
       "1 -0.115903  0.055663  0.525305  0.179827 -0.101319 -0.305782  0.107631   \n",
       "2 -0.106493  0.068744  0.527321  0.183170 -0.191628 -0.330677  0.107631   \n",
       "\n",
       "        211       212       213       214       215       216       217  \\\n",
       "0  0.138283  0.566952  0.161691  0.590519  0.196585  0.662713 -0.228643   \n",
       "1  0.138283  0.566952  0.161691  0.590519  0.196585  0.662713 -0.228643   \n",
       "2  0.138283  0.566952  0.161691  0.590519  0.196585  0.662713 -0.228643   \n",
       "\n",
       "        218       219      220       221       222       223       224  \\\n",
       "0  0.311351  0.411112  0.61908 -0.340898 -0.112317 -0.425883 -0.724303   \n",
       "1  0.311351  0.411112  0.61908 -0.340898 -0.112317 -0.425883 -0.724303   \n",
       "2  0.311351  0.411112  0.61908 -0.340898 -0.112317 -0.425883 -0.724303   \n",
       "\n",
       "        225       226       227       228       229       230       231  \\\n",
       "0 -0.391587  0.751798 -0.190205 -0.684002  0.572923 -0.190265  0.415676   \n",
       "1 -0.391587  0.751798 -0.190205 -0.684002  0.572923 -0.190265  0.415676   \n",
       "2 -0.391587  0.751798 -0.190205 -0.684002  0.572923 -0.190265  0.415676   \n",
       "\n",
       "        232       233       234       235       236       237       238  \\\n",
       "0 -0.198343  0.845804 -0.200511 -0.452876  0.112702  0.086674 -0.412944   \n",
       "1 -0.198343  0.845804 -0.200511 -0.452876  0.112702  0.086674 -0.412944   \n",
       "2 -0.198343  0.845804 -0.200511 -0.452876  0.112702  0.086674 -0.412944   \n",
       "\n",
       "      239  \n",
       "0 -0.3534  \n",
       "1 -0.3534  \n",
       "2 -0.3534  "
      ]
     },
     "execution_count": 19,
     "metadata": {},
     "output_type": "execute_result"
    }
   ],
   "source": [
    "my_test_data.head(3)"
   ]
  },
  {
   "cell_type": "code",
   "execution_count": 20,
   "id": "3db48330",
   "metadata": {},
   "outputs": [],
   "source": [
    "import time\n",
    "X_train2, X_test2, y_train2, y_test2 = train_test_split(my_data,y_train,test_size=0.2, random_state=1500)\n",
    "stc = StandardScaler()\n",
    "X_scaled = stc.fit_transform(X_train2.values)\n"
   ]
  },
  {
   "cell_type": "code",
   "execution_count": 21,
   "id": "682e3a7e",
   "metadata": {},
   "outputs": [
    {
     "data": {
      "text/html": [
       "<div>\n",
       "<style scoped>\n",
       "    .dataframe tbody tr th:only-of-type {\n",
       "        vertical-align: middle;\n",
       "    }\n",
       "\n",
       "    .dataframe tbody tr th {\n",
       "        vertical-align: top;\n",
       "    }\n",
       "\n",
       "    .dataframe thead th {\n",
       "        text-align: right;\n",
       "    }\n",
       "</style>\n",
       "<table border=\"1\" class=\"dataframe\">\n",
       "  <thead>\n",
       "    <tr style=\"text-align: right;\">\n",
       "      <th></th>\n",
       "      <th>age</th>\n",
       "      <th>fnlwgt</th>\n",
       "      <th>capital-gain</th>\n",
       "      <th>capital-loss</th>\n",
       "      <th>hours-per-week</th>\n",
       "      <th>0</th>\n",
       "      <th>1</th>\n",
       "      <th>2</th>\n",
       "      <th>3</th>\n",
       "      <th>4</th>\n",
       "      <th>5</th>\n",
       "      <th>6</th>\n",
       "      <th>7</th>\n",
       "      <th>8</th>\n",
       "      <th>9</th>\n",
       "      <th>10</th>\n",
       "      <th>11</th>\n",
       "      <th>12</th>\n",
       "      <th>13</th>\n",
       "      <th>14</th>\n",
       "      <th>15</th>\n",
       "      <th>16</th>\n",
       "      <th>17</th>\n",
       "      <th>18</th>\n",
       "      <th>19</th>\n",
       "      <th>20</th>\n",
       "      <th>21</th>\n",
       "      <th>22</th>\n",
       "      <th>23</th>\n",
       "      <th>24</th>\n",
       "      <th>25</th>\n",
       "      <th>26</th>\n",
       "      <th>27</th>\n",
       "      <th>28</th>\n",
       "      <th>29</th>\n",
       "      <th>30</th>\n",
       "      <th>31</th>\n",
       "      <th>32</th>\n",
       "      <th>33</th>\n",
       "      <th>34</th>\n",
       "      <th>35</th>\n",
       "      <th>36</th>\n",
       "      <th>37</th>\n",
       "      <th>38</th>\n",
       "      <th>39</th>\n",
       "      <th>40</th>\n",
       "      <th>41</th>\n",
       "      <th>42</th>\n",
       "      <th>43</th>\n",
       "      <th>44</th>\n",
       "      <th>45</th>\n",
       "      <th>46</th>\n",
       "      <th>47</th>\n",
       "      <th>48</th>\n",
       "      <th>49</th>\n",
       "      <th>50</th>\n",
       "      <th>51</th>\n",
       "      <th>52</th>\n",
       "      <th>53</th>\n",
       "      <th>54</th>\n",
       "      <th>55</th>\n",
       "      <th>56</th>\n",
       "      <th>57</th>\n",
       "      <th>58</th>\n",
       "      <th>59</th>\n",
       "      <th>60</th>\n",
       "      <th>61</th>\n",
       "      <th>62</th>\n",
       "      <th>63</th>\n",
       "      <th>64</th>\n",
       "      <th>65</th>\n",
       "      <th>66</th>\n",
       "      <th>67</th>\n",
       "      <th>68</th>\n",
       "      <th>69</th>\n",
       "      <th>70</th>\n",
       "      <th>71</th>\n",
       "      <th>72</th>\n",
       "      <th>73</th>\n",
       "      <th>74</th>\n",
       "      <th>75</th>\n",
       "      <th>76</th>\n",
       "      <th>77</th>\n",
       "      <th>78</th>\n",
       "      <th>79</th>\n",
       "      <th>80</th>\n",
       "      <th>81</th>\n",
       "      <th>82</th>\n",
       "      <th>83</th>\n",
       "      <th>84</th>\n",
       "      <th>85</th>\n",
       "      <th>86</th>\n",
       "      <th>87</th>\n",
       "      <th>88</th>\n",
       "      <th>89</th>\n",
       "      <th>90</th>\n",
       "      <th>91</th>\n",
       "      <th>92</th>\n",
       "      <th>93</th>\n",
       "      <th>94</th>\n",
       "      <th>95</th>\n",
       "      <th>96</th>\n",
       "      <th>97</th>\n",
       "      <th>98</th>\n",
       "      <th>99</th>\n",
       "      <th>100</th>\n",
       "      <th>101</th>\n",
       "      <th>102</th>\n",
       "      <th>103</th>\n",
       "      <th>104</th>\n",
       "      <th>105</th>\n",
       "      <th>106</th>\n",
       "      <th>107</th>\n",
       "      <th>108</th>\n",
       "      <th>109</th>\n",
       "      <th>110</th>\n",
       "      <th>111</th>\n",
       "      <th>112</th>\n",
       "      <th>113</th>\n",
       "      <th>114</th>\n",
       "      <th>115</th>\n",
       "      <th>116</th>\n",
       "      <th>117</th>\n",
       "      <th>118</th>\n",
       "      <th>119</th>\n",
       "      <th>120</th>\n",
       "      <th>121</th>\n",
       "      <th>122</th>\n",
       "      <th>123</th>\n",
       "      <th>124</th>\n",
       "      <th>125</th>\n",
       "      <th>126</th>\n",
       "      <th>127</th>\n",
       "      <th>128</th>\n",
       "      <th>129</th>\n",
       "      <th>130</th>\n",
       "      <th>131</th>\n",
       "      <th>132</th>\n",
       "      <th>133</th>\n",
       "      <th>134</th>\n",
       "      <th>135</th>\n",
       "      <th>136</th>\n",
       "      <th>137</th>\n",
       "      <th>138</th>\n",
       "      <th>139</th>\n",
       "      <th>140</th>\n",
       "      <th>141</th>\n",
       "      <th>142</th>\n",
       "      <th>143</th>\n",
       "      <th>144</th>\n",
       "      <th>145</th>\n",
       "      <th>146</th>\n",
       "      <th>147</th>\n",
       "      <th>148</th>\n",
       "      <th>149</th>\n",
       "      <th>150</th>\n",
       "      <th>151</th>\n",
       "      <th>152</th>\n",
       "      <th>153</th>\n",
       "      <th>154</th>\n",
       "      <th>155</th>\n",
       "      <th>156</th>\n",
       "      <th>157</th>\n",
       "      <th>158</th>\n",
       "      <th>159</th>\n",
       "      <th>160</th>\n",
       "      <th>161</th>\n",
       "      <th>162</th>\n",
       "      <th>163</th>\n",
       "      <th>164</th>\n",
       "      <th>165</th>\n",
       "      <th>166</th>\n",
       "      <th>167</th>\n",
       "      <th>168</th>\n",
       "      <th>169</th>\n",
       "      <th>170</th>\n",
       "      <th>171</th>\n",
       "      <th>172</th>\n",
       "      <th>173</th>\n",
       "      <th>174</th>\n",
       "      <th>175</th>\n",
       "      <th>176</th>\n",
       "      <th>177</th>\n",
       "      <th>178</th>\n",
       "      <th>179</th>\n",
       "      <th>180</th>\n",
       "      <th>181</th>\n",
       "      <th>182</th>\n",
       "      <th>183</th>\n",
       "      <th>184</th>\n",
       "      <th>185</th>\n",
       "      <th>186</th>\n",
       "      <th>187</th>\n",
       "      <th>188</th>\n",
       "      <th>189</th>\n",
       "      <th>190</th>\n",
       "      <th>191</th>\n",
       "      <th>192</th>\n",
       "      <th>193</th>\n",
       "      <th>194</th>\n",
       "      <th>195</th>\n",
       "      <th>196</th>\n",
       "      <th>197</th>\n",
       "      <th>198</th>\n",
       "      <th>199</th>\n",
       "      <th>200</th>\n",
       "      <th>201</th>\n",
       "      <th>202</th>\n",
       "      <th>203</th>\n",
       "      <th>204</th>\n",
       "      <th>205</th>\n",
       "      <th>206</th>\n",
       "      <th>207</th>\n",
       "      <th>208</th>\n",
       "      <th>209</th>\n",
       "      <th>210</th>\n",
       "      <th>211</th>\n",
       "      <th>212</th>\n",
       "      <th>213</th>\n",
       "      <th>214</th>\n",
       "      <th>215</th>\n",
       "      <th>216</th>\n",
       "      <th>217</th>\n",
       "      <th>218</th>\n",
       "      <th>219</th>\n",
       "      <th>220</th>\n",
       "      <th>221</th>\n",
       "      <th>222</th>\n",
       "      <th>223</th>\n",
       "      <th>224</th>\n",
       "      <th>225</th>\n",
       "      <th>226</th>\n",
       "      <th>227</th>\n",
       "      <th>228</th>\n",
       "      <th>229</th>\n",
       "      <th>230</th>\n",
       "      <th>231</th>\n",
       "      <th>232</th>\n",
       "      <th>233</th>\n",
       "      <th>234</th>\n",
       "      <th>235</th>\n",
       "      <th>236</th>\n",
       "      <th>237</th>\n",
       "      <th>238</th>\n",
       "      <th>239</th>\n",
       "    </tr>\n",
       "  </thead>\n",
       "  <tbody>\n",
       "    <tr>\n",
       "      <th>19999</th>\n",
       "      <td>19</td>\n",
       "      <td>91928</td>\n",
       "      <td>0</td>\n",
       "      <td>0</td>\n",
       "      <td>35</td>\n",
       "      <td>-0.06399</td>\n",
       "      <td>-0.298594</td>\n",
       "      <td>-0.129782</td>\n",
       "      <td>0.162171</td>\n",
       "      <td>-0.156641</td>\n",
       "      <td>0.370059</td>\n",
       "      <td>0.804827</td>\n",
       "      <td>0.292165</td>\n",
       "      <td>-0.818765</td>\n",
       "      <td>0.094141</td>\n",
       "      <td>0.192468</td>\n",
       "      <td>0.411493</td>\n",
       "      <td>-0.014367</td>\n",
       "      <td>-0.125923</td>\n",
       "      <td>0.300463</td>\n",
       "      <td>-0.012195</td>\n",
       "      <td>0.327744</td>\n",
       "      <td>0.521209</td>\n",
       "      <td>-0.101185</td>\n",
       "      <td>0.393508</td>\n",
       "      <td>-0.236051</td>\n",
       "      <td>-0.19065</td>\n",
       "      <td>-0.590477</td>\n",
       "      <td>0.110087</td>\n",
       "      <td>-0.271581</td>\n",
       "      <td>0.142892</td>\n",
       "      <td>0.435929</td>\n",
       "      <td>-0.265933</td>\n",
       "      <td>-0.123486</td>\n",
       "      <td>0.059443</td>\n",
       "      <td>-0.093409</td>\n",
       "      <td>-0.023199</td>\n",
       "      <td>0.406238</td>\n",
       "      <td>-0.067401</td>\n",
       "      <td>-0.236680</td>\n",
       "      <td>0.564236</td>\n",
       "      <td>0.310065</td>\n",
       "      <td>0.388485</td>\n",
       "      <td>-0.369854</td>\n",
       "      <td>0.243603</td>\n",
       "      <td>-0.056869</td>\n",
       "      <td>-0.146280</td>\n",
       "      <td>-0.085541</td>\n",
       "      <td>-0.125079</td>\n",
       "      <td>-0.157173</td>\n",
       "      <td>-0.150607</td>\n",
       "      <td>0.117284</td>\n",
       "      <td>-0.210155</td>\n",
       "      <td>-0.335210</td>\n",
       "      <td>0.369843</td>\n",
       "      <td>-0.135131</td>\n",
       "      <td>-0.150361</td>\n",
       "      <td>-0.076640</td>\n",
       "      <td>0.597970</td>\n",
       "      <td>0.116051</td>\n",
       "      <td>0.190192</td>\n",
       "      <td>0.383343</td>\n",
       "      <td>-0.017755</td>\n",
       "      <td>-0.223003</td>\n",
       "      <td>-0.137498</td>\n",
       "      <td>-0.178460</td>\n",
       "      <td>-0.379757</td>\n",
       "      <td>0.217954</td>\n",
       "      <td>-0.118635</td>\n",
       "      <td>-0.159592</td>\n",
       "      <td>-0.253069</td>\n",
       "      <td>0.320408</td>\n",
       "      <td>0.189412</td>\n",
       "      <td>-0.296653</td>\n",
       "      <td>0.089942</td>\n",
       "      <td>0.307971</td>\n",
       "      <td>0.402724</td>\n",
       "      <td>0.145555</td>\n",
       "      <td>-0.163710</td>\n",
       "      <td>-0.317949</td>\n",
       "      <td>-0.065800</td>\n",
       "      <td>0.051781</td>\n",
       "      <td>0.166864</td>\n",
       "      <td>-0.190304</td>\n",
       "      <td>0.182028</td>\n",
       "      <td>-0.016585</td>\n",
       "      <td>-0.247426</td>\n",
       "      <td>-0.120706</td>\n",
       "      <td>0.183590</td>\n",
       "      <td>-0.048159</td>\n",
       "      <td>0.043180</td>\n",
       "      <td>0.529338</td>\n",
       "      <td>0.043475</td>\n",
       "      <td>0.034167</td>\n",
       "      <td>-0.109085</td>\n",
       "      <td>0.096811</td>\n",
       "      <td>-0.373736</td>\n",
       "      <td>0.056738</td>\n",
       "      <td>0.025080</td>\n",
       "      <td>-0.139803</td>\n",
       "      <td>-0.293616</td>\n",
       "      <td>0.324745</td>\n",
       "      <td>0.094119</td>\n",
       "      <td>-0.386003</td>\n",
       "      <td>0.159390</td>\n",
       "      <td>0.339464</td>\n",
       "      <td>0.204376</td>\n",
       "      <td>0.251734</td>\n",
       "      <td>0.042107</td>\n",
       "      <td>-0.615873</td>\n",
       "      <td>0.066171</td>\n",
       "      <td>0.177275</td>\n",
       "      <td>0.079795</td>\n",
       "      <td>0.100547</td>\n",
       "      <td>0.126805</td>\n",
       "      <td>0.144082</td>\n",
       "      <td>-0.434278</td>\n",
       "      <td>0.090457</td>\n",
       "      <td>0.270119</td>\n",
       "      <td>0.188996</td>\n",
       "      <td>0.139421</td>\n",
       "      <td>0.781980</td>\n",
       "      <td>0.036280</td>\n",
       "      <td>-0.026886</td>\n",
       "      <td>-0.031893</td>\n",
       "      <td>0.187580</td>\n",
       "      <td>0.002364</td>\n",
       "      <td>0.324470</td>\n",
       "      <td>-0.082934</td>\n",
       "      <td>-0.187423</td>\n",
       "      <td>0.160577</td>\n",
       "      <td>0.451007</td>\n",
       "      <td>0.024324</td>\n",
       "      <td>0.195196</td>\n",
       "      <td>0.087352</td>\n",
       "      <td>0.207194</td>\n",
       "      <td>0.214008</td>\n",
       "      <td>-0.281991</td>\n",
       "      <td>-0.489964</td>\n",
       "      <td>-0.242401</td>\n",
       "      <td>0.054512</td>\n",
       "      <td>-0.030086</td>\n",
       "      <td>-0.064687</td>\n",
       "      <td>-0.887419</td>\n",
       "      <td>0.113949</td>\n",
       "      <td>-0.233530</td>\n",
       "      <td>-0.291259</td>\n",
       "      <td>-0.141796</td>\n",
       "      <td>0.469028</td>\n",
       "      <td>-0.410824</td>\n",
       "      <td>-0.558618</td>\n",
       "      <td>0.611981</td>\n",
       "      <td>-0.319466</td>\n",
       "      <td>-0.417289</td>\n",
       "      <td>-0.225011</td>\n",
       "      <td>0.073393</td>\n",
       "      <td>-0.148308</td>\n",
       "      <td>-0.265301</td>\n",
       "      <td>-0.567054</td>\n",
       "      <td>0.082415</td>\n",
       "      <td>-0.290091</td>\n",
       "      <td>0.585856</td>\n",
       "      <td>0.297383</td>\n",
       "      <td>-0.599376</td>\n",
       "      <td>0.098846</td>\n",
       "      <td>0.528446</td>\n",
       "      <td>-0.156033</td>\n",
       "      <td>-0.165829</td>\n",
       "      <td>0.197538</td>\n",
       "      <td>-0.838182</td>\n",
       "      <td>0.248059</td>\n",
       "      <td>0.09466</td>\n",
       "      <td>-0.162431</td>\n",
       "      <td>-0.033824</td>\n",
       "      <td>0.3998</td>\n",
       "      <td>-0.132172</td>\n",
       "      <td>-0.474925</td>\n",
       "      <td>0.767141</td>\n",
       "      <td>0.403591</td>\n",
       "      <td>-0.713355</td>\n",
       "      <td>0.519344</td>\n",
       "      <td>0.758146</td>\n",
       "      <td>-0.178119</td>\n",
       "      <td>-0.110252</td>\n",
       "      <td>-0.233838</td>\n",
       "      <td>-0.165574</td>\n",
       "      <td>-0.274602</td>\n",
       "      <td>0.318015</td>\n",
       "      <td>-0.056372</td>\n",
       "      <td>-0.286130</td>\n",
       "      <td>0.026785</td>\n",
       "      <td>0.179501</td>\n",
       "      <td>0.458623</td>\n",
       "      <td>-0.240476</td>\n",
       "      <td>-0.064590</td>\n",
       "      <td>0.094259</td>\n",
       "      <td>0.484273</td>\n",
       "      <td>-0.150808</td>\n",
       "      <td>-0.131647</td>\n",
       "      <td>-0.032485</td>\n",
       "      <td>0.127793</td>\n",
       "      <td>0.221601</td>\n",
       "      <td>-0.100044</td>\n",
       "      <td>-0.244020</td>\n",
       "      <td>0.134213</td>\n",
       "      <td>0.046266</td>\n",
       "      <td>-0.165784</td>\n",
       "      <td>-0.071744</td>\n",
       "      <td>0.253602</td>\n",
       "      <td>-0.106493</td>\n",
       "      <td>0.068744</td>\n",
       "      <td>0.527321</td>\n",
       "      <td>0.183170</td>\n",
       "      <td>-0.191628</td>\n",
       "      <td>-0.330677</td>\n",
       "      <td>0.107631</td>\n",
       "      <td>0.138283</td>\n",
       "      <td>0.566952</td>\n",
       "      <td>0.161691</td>\n",
       "      <td>0.590519</td>\n",
       "      <td>0.196585</td>\n",
       "      <td>0.662713</td>\n",
       "      <td>-0.228643</td>\n",
       "      <td>0.311351</td>\n",
       "      <td>0.411112</td>\n",
       "      <td>0.61908</td>\n",
       "      <td>-0.340898</td>\n",
       "      <td>-0.112317</td>\n",
       "      <td>-0.425883</td>\n",
       "      <td>-0.724303</td>\n",
       "      <td>-0.391587</td>\n",
       "      <td>0.751798</td>\n",
       "      <td>-0.190205</td>\n",
       "      <td>-0.684002</td>\n",
       "      <td>0.572923</td>\n",
       "      <td>-0.190265</td>\n",
       "      <td>0.415676</td>\n",
       "      <td>-0.198343</td>\n",
       "      <td>0.845804</td>\n",
       "      <td>-0.200511</td>\n",
       "      <td>-0.452876</td>\n",
       "      <td>0.112702</td>\n",
       "      <td>0.086674</td>\n",
       "      <td>-0.412944</td>\n",
       "      <td>-0.3534</td>\n",
       "    </tr>\n",
       "    <tr>\n",
       "      <th>23132</th>\n",
       "      <td>31</td>\n",
       "      <td>147215</td>\n",
       "      <td>0</td>\n",
       "      <td>0</td>\n",
       "      <td>21</td>\n",
       "      <td>-0.06399</td>\n",
       "      <td>-0.298594</td>\n",
       "      <td>-0.129782</td>\n",
       "      <td>0.162171</td>\n",
       "      <td>-0.156641</td>\n",
       "      <td>0.370059</td>\n",
       "      <td>0.804827</td>\n",
       "      <td>0.292165</td>\n",
       "      <td>-0.818765</td>\n",
       "      <td>0.094141</td>\n",
       "      <td>0.192468</td>\n",
       "      <td>0.411493</td>\n",
       "      <td>-0.014367</td>\n",
       "      <td>-0.125923</td>\n",
       "      <td>0.300463</td>\n",
       "      <td>-0.012195</td>\n",
       "      <td>0.327744</td>\n",
       "      <td>0.521209</td>\n",
       "      <td>-0.101185</td>\n",
       "      <td>0.393508</td>\n",
       "      <td>-0.236051</td>\n",
       "      <td>-0.19065</td>\n",
       "      <td>-0.590477</td>\n",
       "      <td>0.110087</td>\n",
       "      <td>-0.271581</td>\n",
       "      <td>0.142892</td>\n",
       "      <td>0.435929</td>\n",
       "      <td>-0.265933</td>\n",
       "      <td>-0.123486</td>\n",
       "      <td>0.059443</td>\n",
       "      <td>-0.028047</td>\n",
       "      <td>-0.157709</td>\n",
       "      <td>0.359288</td>\n",
       "      <td>0.135556</td>\n",
       "      <td>-0.164651</td>\n",
       "      <td>0.232210</td>\n",
       "      <td>0.383800</td>\n",
       "      <td>0.206829</td>\n",
       "      <td>-0.454871</td>\n",
       "      <td>-0.044085</td>\n",
       "      <td>0.252298</td>\n",
       "      <td>0.095188</td>\n",
       "      <td>-0.020833</td>\n",
       "      <td>-0.188481</td>\n",
       "      <td>-0.028975</td>\n",
       "      <td>-0.027771</td>\n",
       "      <td>0.273743</td>\n",
       "      <td>0.070540</td>\n",
       "      <td>-0.171409</td>\n",
       "      <td>0.107570</td>\n",
       "      <td>-0.052529</td>\n",
       "      <td>-0.014793</td>\n",
       "      <td>-0.248805</td>\n",
       "      <td>0.461703</td>\n",
       "      <td>0.061577</td>\n",
       "      <td>0.089918</td>\n",
       "      <td>0.443995</td>\n",
       "      <td>-0.110035</td>\n",
       "      <td>-0.093342</td>\n",
       "      <td>-0.245793</td>\n",
       "      <td>-0.111513</td>\n",
       "      <td>-0.021129</td>\n",
       "      <td>0.504625</td>\n",
       "      <td>0.084763</td>\n",
       "      <td>-0.063100</td>\n",
       "      <td>0.066789</td>\n",
       "      <td>0.226816</td>\n",
       "      <td>0.239493</td>\n",
       "      <td>-0.298885</td>\n",
       "      <td>0.046040</td>\n",
       "      <td>0.308998</td>\n",
       "      <td>0.180277</td>\n",
       "      <td>0.188189</td>\n",
       "      <td>-0.135448</td>\n",
       "      <td>-0.034715</td>\n",
       "      <td>-0.180490</td>\n",
       "      <td>0.210587</td>\n",
       "      <td>-0.182120</td>\n",
       "      <td>0.000915</td>\n",
       "      <td>0.161706</td>\n",
       "      <td>0.291494</td>\n",
       "      <td>-0.314226</td>\n",
       "      <td>-0.057736</td>\n",
       "      <td>0.382665</td>\n",
       "      <td>0.046224</td>\n",
       "      <td>0.026607</td>\n",
       "      <td>0.536157</td>\n",
       "      <td>0.139671</td>\n",
       "      <td>-0.270350</td>\n",
       "      <td>-0.227796</td>\n",
       "      <td>0.096811</td>\n",
       "      <td>-0.373736</td>\n",
       "      <td>0.056738</td>\n",
       "      <td>0.025080</td>\n",
       "      <td>-0.139803</td>\n",
       "      <td>-0.293616</td>\n",
       "      <td>0.324745</td>\n",
       "      <td>0.094119</td>\n",
       "      <td>-0.386003</td>\n",
       "      <td>0.159390</td>\n",
       "      <td>0.339464</td>\n",
       "      <td>0.204376</td>\n",
       "      <td>0.251734</td>\n",
       "      <td>0.042107</td>\n",
       "      <td>-0.615873</td>\n",
       "      <td>0.066171</td>\n",
       "      <td>0.177275</td>\n",
       "      <td>0.079795</td>\n",
       "      <td>0.100547</td>\n",
       "      <td>0.126805</td>\n",
       "      <td>0.144082</td>\n",
       "      <td>-0.434278</td>\n",
       "      <td>0.090457</td>\n",
       "      <td>0.270119</td>\n",
       "      <td>0.188996</td>\n",
       "      <td>0.139421</td>\n",
       "      <td>0.781980</td>\n",
       "      <td>0.036280</td>\n",
       "      <td>-0.026886</td>\n",
       "      <td>-0.031893</td>\n",
       "      <td>0.634521</td>\n",
       "      <td>-0.467208</td>\n",
       "      <td>-0.116459</td>\n",
       "      <td>-0.229512</td>\n",
       "      <td>0.010131</td>\n",
       "      <td>-0.634214</td>\n",
       "      <td>0.421394</td>\n",
       "      <td>0.433630</td>\n",
       "      <td>0.384118</td>\n",
       "      <td>-0.048732</td>\n",
       "      <td>0.025258</td>\n",
       "      <td>-0.068250</td>\n",
       "      <td>-0.319104</td>\n",
       "      <td>-0.781358</td>\n",
       "      <td>-0.630805</td>\n",
       "      <td>0.254464</td>\n",
       "      <td>0.460614</td>\n",
       "      <td>-0.222177</td>\n",
       "      <td>-0.286014</td>\n",
       "      <td>0.580446</td>\n",
       "      <td>-0.142911</td>\n",
       "      <td>-0.531867</td>\n",
       "      <td>-0.121652</td>\n",
       "      <td>0.505264</td>\n",
       "      <td>-0.107479</td>\n",
       "      <td>-0.147909</td>\n",
       "      <td>0.819645</td>\n",
       "      <td>0.089407</td>\n",
       "      <td>-0.515737</td>\n",
       "      <td>-0.108983</td>\n",
       "      <td>0.073393</td>\n",
       "      <td>-0.148308</td>\n",
       "      <td>-0.265301</td>\n",
       "      <td>-0.567054</td>\n",
       "      <td>0.082415</td>\n",
       "      <td>-0.290091</td>\n",
       "      <td>0.585856</td>\n",
       "      <td>0.297383</td>\n",
       "      <td>-0.599376</td>\n",
       "      <td>0.098846</td>\n",
       "      <td>0.528446</td>\n",
       "      <td>-0.156033</td>\n",
       "      <td>-0.165829</td>\n",
       "      <td>0.197538</td>\n",
       "      <td>-0.838182</td>\n",
       "      <td>0.248059</td>\n",
       "      <td>0.09466</td>\n",
       "      <td>-0.162431</td>\n",
       "      <td>-0.033824</td>\n",
       "      <td>0.3998</td>\n",
       "      <td>-0.132172</td>\n",
       "      <td>-0.474925</td>\n",
       "      <td>0.767141</td>\n",
       "      <td>0.403591</td>\n",
       "      <td>-0.713355</td>\n",
       "      <td>0.519344</td>\n",
       "      <td>0.758146</td>\n",
       "      <td>-0.178119</td>\n",
       "      <td>-0.110252</td>\n",
       "      <td>-0.233838</td>\n",
       "      <td>-0.165574</td>\n",
       "      <td>-0.274602</td>\n",
       "      <td>0.318015</td>\n",
       "      <td>-0.056372</td>\n",
       "      <td>-0.286130</td>\n",
       "      <td>0.026785</td>\n",
       "      <td>0.179501</td>\n",
       "      <td>0.458623</td>\n",
       "      <td>-0.240476</td>\n",
       "      <td>-0.064590</td>\n",
       "      <td>0.094259</td>\n",
       "      <td>0.484273</td>\n",
       "      <td>-0.150808</td>\n",
       "      <td>-0.131647</td>\n",
       "      <td>-0.032485</td>\n",
       "      <td>0.127793</td>\n",
       "      <td>0.221601</td>\n",
       "      <td>-0.100044</td>\n",
       "      <td>-0.244020</td>\n",
       "      <td>0.134213</td>\n",
       "      <td>0.046266</td>\n",
       "      <td>-0.165784</td>\n",
       "      <td>-0.071744</td>\n",
       "      <td>0.253602</td>\n",
       "      <td>-0.106493</td>\n",
       "      <td>0.068744</td>\n",
       "      <td>0.527321</td>\n",
       "      <td>0.183170</td>\n",
       "      <td>-0.191628</td>\n",
       "      <td>-0.330677</td>\n",
       "      <td>0.107631</td>\n",
       "      <td>0.138283</td>\n",
       "      <td>0.566952</td>\n",
       "      <td>0.161691</td>\n",
       "      <td>0.590519</td>\n",
       "      <td>0.196585</td>\n",
       "      <td>0.662713</td>\n",
       "      <td>-0.228643</td>\n",
       "      <td>0.311351</td>\n",
       "      <td>0.411112</td>\n",
       "      <td>0.61908</td>\n",
       "      <td>-0.340898</td>\n",
       "      <td>-0.112317</td>\n",
       "      <td>-0.425883</td>\n",
       "      <td>-0.724303</td>\n",
       "      <td>-0.391587</td>\n",
       "      <td>0.751798</td>\n",
       "      <td>-0.190205</td>\n",
       "      <td>-0.684002</td>\n",
       "      <td>0.572923</td>\n",
       "      <td>-0.190265</td>\n",
       "      <td>0.415676</td>\n",
       "      <td>-0.198343</td>\n",
       "      <td>0.845804</td>\n",
       "      <td>-0.200511</td>\n",
       "      <td>-0.452876</td>\n",
       "      <td>0.112702</td>\n",
       "      <td>0.086674</td>\n",
       "      <td>-0.412944</td>\n",
       "      <td>-0.3534</td>\n",
       "    </tr>\n",
       "    <tr>\n",
       "      <th>27830</th>\n",
       "      <td>33</td>\n",
       "      <td>213179</td>\n",
       "      <td>0</td>\n",
       "      <td>0</td>\n",
       "      <td>40</td>\n",
       "      <td>-0.06399</td>\n",
       "      <td>-0.298594</td>\n",
       "      <td>-0.129782</td>\n",
       "      <td>0.162171</td>\n",
       "      <td>-0.156641</td>\n",
       "      <td>0.370059</td>\n",
       "      <td>0.804827</td>\n",
       "      <td>0.292165</td>\n",
       "      <td>-0.818765</td>\n",
       "      <td>0.094141</td>\n",
       "      <td>0.192468</td>\n",
       "      <td>0.411493</td>\n",
       "      <td>-0.014367</td>\n",
       "      <td>-0.125923</td>\n",
       "      <td>0.300463</td>\n",
       "      <td>-0.012195</td>\n",
       "      <td>0.327744</td>\n",
       "      <td>0.521209</td>\n",
       "      <td>-0.101185</td>\n",
       "      <td>0.393508</td>\n",
       "      <td>-0.236051</td>\n",
       "      <td>-0.19065</td>\n",
       "      <td>-0.590477</td>\n",
       "      <td>0.110087</td>\n",
       "      <td>-0.271581</td>\n",
       "      <td>0.142892</td>\n",
       "      <td>0.435929</td>\n",
       "      <td>-0.265933</td>\n",
       "      <td>-0.123486</td>\n",
       "      <td>0.059443</td>\n",
       "      <td>-0.093409</td>\n",
       "      <td>-0.023199</td>\n",
       "      <td>0.406238</td>\n",
       "      <td>-0.067401</td>\n",
       "      <td>-0.236680</td>\n",
       "      <td>0.564236</td>\n",
       "      <td>0.310065</td>\n",
       "      <td>0.388485</td>\n",
       "      <td>-0.369854</td>\n",
       "      <td>0.243603</td>\n",
       "      <td>-0.056869</td>\n",
       "      <td>-0.146280</td>\n",
       "      <td>-0.085541</td>\n",
       "      <td>-0.125079</td>\n",
       "      <td>-0.157173</td>\n",
       "      <td>-0.150607</td>\n",
       "      <td>0.117284</td>\n",
       "      <td>-0.210155</td>\n",
       "      <td>-0.335210</td>\n",
       "      <td>0.369843</td>\n",
       "      <td>-0.135131</td>\n",
       "      <td>-0.150361</td>\n",
       "      <td>-0.076640</td>\n",
       "      <td>0.597970</td>\n",
       "      <td>0.116051</td>\n",
       "      <td>0.190192</td>\n",
       "      <td>0.383343</td>\n",
       "      <td>-0.017755</td>\n",
       "      <td>-0.223003</td>\n",
       "      <td>-0.137498</td>\n",
       "      <td>-0.201672</td>\n",
       "      <td>-0.352843</td>\n",
       "      <td>0.410396</td>\n",
       "      <td>0.049785</td>\n",
       "      <td>0.133481</td>\n",
       "      <td>0.232941</td>\n",
       "      <td>0.360109</td>\n",
       "      <td>0.016217</td>\n",
       "      <td>-0.374509</td>\n",
       "      <td>0.101563</td>\n",
       "      <td>0.569737</td>\n",
       "      <td>0.037454</td>\n",
       "      <td>0.160180</td>\n",
       "      <td>-0.155630</td>\n",
       "      <td>-0.445435</td>\n",
       "      <td>-0.341174</td>\n",
       "      <td>0.198358</td>\n",
       "      <td>0.214878</td>\n",
       "      <td>-0.076205</td>\n",
       "      <td>0.257107</td>\n",
       "      <td>-0.028584</td>\n",
       "      <td>-0.404326</td>\n",
       "      <td>-0.411019</td>\n",
       "      <td>0.281391</td>\n",
       "      <td>0.126478</td>\n",
       "      <td>-0.099777</td>\n",
       "      <td>0.123242</td>\n",
       "      <td>0.141774</td>\n",
       "      <td>0.023121</td>\n",
       "      <td>-0.086671</td>\n",
       "      <td>-0.130938</td>\n",
       "      <td>-0.258902</td>\n",
       "      <td>0.512391</td>\n",
       "      <td>0.477045</td>\n",
       "      <td>-0.030762</td>\n",
       "      <td>0.087987</td>\n",
       "      <td>0.266317</td>\n",
       "      <td>0.185262</td>\n",
       "      <td>-0.453104</td>\n",
       "      <td>0.166078</td>\n",
       "      <td>0.500584</td>\n",
       "      <td>0.298397</td>\n",
       "      <td>-0.143495</td>\n",
       "      <td>0.077598</td>\n",
       "      <td>0.184755</td>\n",
       "      <td>-0.074494</td>\n",
       "      <td>0.379380</td>\n",
       "      <td>-0.088012</td>\n",
       "      <td>-0.021602</td>\n",
       "      <td>-0.040197</td>\n",
       "      <td>0.239560</td>\n",
       "      <td>0.137803</td>\n",
       "      <td>-0.126008</td>\n",
       "      <td>0.335079</td>\n",
       "      <td>0.083810</td>\n",
       "      <td>-0.215399</td>\n",
       "      <td>0.616139</td>\n",
       "      <td>0.319316</td>\n",
       "      <td>-0.150413</td>\n",
       "      <td>-0.225699</td>\n",
       "      <td>-0.258284</td>\n",
       "      <td>-0.292665</td>\n",
       "      <td>0.328456</td>\n",
       "      <td>0.143571</td>\n",
       "      <td>-0.159788</td>\n",
       "      <td>0.090893</td>\n",
       "      <td>0.216613</td>\n",
       "      <td>0.292254</td>\n",
       "      <td>-0.338217</td>\n",
       "      <td>-0.096581</td>\n",
       "      <td>0.133656</td>\n",
       "      <td>0.191191</td>\n",
       "      <td>-0.078194</td>\n",
       "      <td>0.043092</td>\n",
       "      <td>-0.262552</td>\n",
       "      <td>-0.020971</td>\n",
       "      <td>0.200211</td>\n",
       "      <td>-0.126805</td>\n",
       "      <td>-0.194086</td>\n",
       "      <td>0.243346</td>\n",
       "      <td>0.065336</td>\n",
       "      <td>0.099994</td>\n",
       "      <td>-0.374874</td>\n",
       "      <td>0.273208</td>\n",
       "      <td>0.254550</td>\n",
       "      <td>-0.153148</td>\n",
       "      <td>0.489717</td>\n",
       "      <td>0.063104</td>\n",
       "      <td>-0.309111</td>\n",
       "      <td>-0.452519</td>\n",
       "      <td>0.073393</td>\n",
       "      <td>-0.148308</td>\n",
       "      <td>-0.265301</td>\n",
       "      <td>-0.567054</td>\n",
       "      <td>0.082415</td>\n",
       "      <td>-0.290091</td>\n",
       "      <td>0.585856</td>\n",
       "      <td>0.297383</td>\n",
       "      <td>-0.599376</td>\n",
       "      <td>0.098846</td>\n",
       "      <td>0.528446</td>\n",
       "      <td>-0.156033</td>\n",
       "      <td>-0.165829</td>\n",
       "      <td>0.197538</td>\n",
       "      <td>-0.838182</td>\n",
       "      <td>0.248059</td>\n",
       "      <td>0.09466</td>\n",
       "      <td>-0.162431</td>\n",
       "      <td>-0.033824</td>\n",
       "      <td>0.3998</td>\n",
       "      <td>-0.132172</td>\n",
       "      <td>-0.474925</td>\n",
       "      <td>0.767141</td>\n",
       "      <td>0.403591</td>\n",
       "      <td>-0.713355</td>\n",
       "      <td>0.519344</td>\n",
       "      <td>0.758146</td>\n",
       "      <td>-0.178119</td>\n",
       "      <td>-0.110252</td>\n",
       "      <td>-0.233838</td>\n",
       "      <td>-0.012079</td>\n",
       "      <td>-0.207196</td>\n",
       "      <td>0.375253</td>\n",
       "      <td>0.033008</td>\n",
       "      <td>-0.111318</td>\n",
       "      <td>0.037151</td>\n",
       "      <td>0.098346</td>\n",
       "      <td>0.343860</td>\n",
       "      <td>-0.273226</td>\n",
       "      <td>0.071692</td>\n",
       "      <td>0.330264</td>\n",
       "      <td>0.317229</td>\n",
       "      <td>-0.059002</td>\n",
       "      <td>-0.057168</td>\n",
       "      <td>-0.181095</td>\n",
       "      <td>0.044521</td>\n",
       "      <td>0.302098</td>\n",
       "      <td>-0.049912</td>\n",
       "      <td>-0.183535</td>\n",
       "      <td>0.021009</td>\n",
       "      <td>0.119437</td>\n",
       "      <td>-0.166756</td>\n",
       "      <td>-0.036911</td>\n",
       "      <td>0.362378</td>\n",
       "      <td>-0.115903</td>\n",
       "      <td>0.055663</td>\n",
       "      <td>0.525305</td>\n",
       "      <td>0.179827</td>\n",
       "      <td>-0.101319</td>\n",
       "      <td>-0.305782</td>\n",
       "      <td>0.107631</td>\n",
       "      <td>0.138283</td>\n",
       "      <td>0.566952</td>\n",
       "      <td>0.161691</td>\n",
       "      <td>0.590519</td>\n",
       "      <td>0.196585</td>\n",
       "      <td>0.662713</td>\n",
       "      <td>-0.228643</td>\n",
       "      <td>0.311351</td>\n",
       "      <td>0.411112</td>\n",
       "      <td>0.61908</td>\n",
       "      <td>-0.340898</td>\n",
       "      <td>-0.112317</td>\n",
       "      <td>-0.425883</td>\n",
       "      <td>-0.724303</td>\n",
       "      <td>-0.391587</td>\n",
       "      <td>0.751798</td>\n",
       "      <td>-0.190205</td>\n",
       "      <td>-0.684002</td>\n",
       "      <td>0.572923</td>\n",
       "      <td>-0.190265</td>\n",
       "      <td>0.415676</td>\n",
       "      <td>-0.198343</td>\n",
       "      <td>0.845804</td>\n",
       "      <td>-0.200511</td>\n",
       "      <td>-0.452876</td>\n",
       "      <td>0.112702</td>\n",
       "      <td>0.086674</td>\n",
       "      <td>-0.412944</td>\n",
       "      <td>-0.3534</td>\n",
       "    </tr>\n",
       "  </tbody>\n",
       "</table>\n",
       "</div>"
      ],
      "text/plain": [
       "       age  fnlwgt  capital-gain  capital-loss  hours-per-week        0  \\\n",
       "19999   19   91928             0             0              35 -0.06399   \n",
       "23132   31  147215             0             0              21 -0.06399   \n",
       "27830   33  213179             0             0              40 -0.06399   \n",
       "\n",
       "              1         2         3         4         5         6         7  \\\n",
       "19999 -0.298594 -0.129782  0.162171 -0.156641  0.370059  0.804827  0.292165   \n",
       "23132 -0.298594 -0.129782  0.162171 -0.156641  0.370059  0.804827  0.292165   \n",
       "27830 -0.298594 -0.129782  0.162171 -0.156641  0.370059  0.804827  0.292165   \n",
       "\n",
       "              8         9        10        11        12        13        14  \\\n",
       "19999 -0.818765  0.094141  0.192468  0.411493 -0.014367 -0.125923  0.300463   \n",
       "23132 -0.818765  0.094141  0.192468  0.411493 -0.014367 -0.125923  0.300463   \n",
       "27830 -0.818765  0.094141  0.192468  0.411493 -0.014367 -0.125923  0.300463   \n",
       "\n",
       "             15        16        17        18        19        20       21  \\\n",
       "19999 -0.012195  0.327744  0.521209 -0.101185  0.393508 -0.236051 -0.19065   \n",
       "23132 -0.012195  0.327744  0.521209 -0.101185  0.393508 -0.236051 -0.19065   \n",
       "27830 -0.012195  0.327744  0.521209 -0.101185  0.393508 -0.236051 -0.19065   \n",
       "\n",
       "             22        23        24        25        26        27        28  \\\n",
       "19999 -0.590477  0.110087 -0.271581  0.142892  0.435929 -0.265933 -0.123486   \n",
       "23132 -0.590477  0.110087 -0.271581  0.142892  0.435929 -0.265933 -0.123486   \n",
       "27830 -0.590477  0.110087 -0.271581  0.142892  0.435929 -0.265933 -0.123486   \n",
       "\n",
       "             29        30        31        32        33        34        35  \\\n",
       "19999  0.059443 -0.093409 -0.023199  0.406238 -0.067401 -0.236680  0.564236   \n",
       "23132  0.059443 -0.028047 -0.157709  0.359288  0.135556 -0.164651  0.232210   \n",
       "27830  0.059443 -0.093409 -0.023199  0.406238 -0.067401 -0.236680  0.564236   \n",
       "\n",
       "             36        37        38        39        40        41        42  \\\n",
       "19999  0.310065  0.388485 -0.369854  0.243603 -0.056869 -0.146280 -0.085541   \n",
       "23132  0.383800  0.206829 -0.454871 -0.044085  0.252298  0.095188 -0.020833   \n",
       "27830  0.310065  0.388485 -0.369854  0.243603 -0.056869 -0.146280 -0.085541   \n",
       "\n",
       "             43        44        45        46        47        48        49  \\\n",
       "19999 -0.125079 -0.157173 -0.150607  0.117284 -0.210155 -0.335210  0.369843   \n",
       "23132 -0.188481 -0.028975 -0.027771  0.273743  0.070540 -0.171409  0.107570   \n",
       "27830 -0.125079 -0.157173 -0.150607  0.117284 -0.210155 -0.335210  0.369843   \n",
       "\n",
       "             50        51        52        53        54        55        56  \\\n",
       "19999 -0.135131 -0.150361 -0.076640  0.597970  0.116051  0.190192  0.383343   \n",
       "23132 -0.052529 -0.014793 -0.248805  0.461703  0.061577  0.089918  0.443995   \n",
       "27830 -0.135131 -0.150361 -0.076640  0.597970  0.116051  0.190192  0.383343   \n",
       "\n",
       "             57        58        59        60        61        62        63  \\\n",
       "19999 -0.017755 -0.223003 -0.137498 -0.178460 -0.379757  0.217954 -0.118635   \n",
       "23132 -0.110035 -0.093342 -0.245793 -0.111513 -0.021129  0.504625  0.084763   \n",
       "27830 -0.017755 -0.223003 -0.137498 -0.201672 -0.352843  0.410396  0.049785   \n",
       "\n",
       "             64        65        66        67        68        69        70  \\\n",
       "19999 -0.159592 -0.253069  0.320408  0.189412 -0.296653  0.089942  0.307971   \n",
       "23132 -0.063100  0.066789  0.226816  0.239493 -0.298885  0.046040  0.308998   \n",
       "27830  0.133481  0.232941  0.360109  0.016217 -0.374509  0.101563  0.569737   \n",
       "\n",
       "             71        72        73        74        75        76        77  \\\n",
       "19999  0.402724  0.145555 -0.163710 -0.317949 -0.065800  0.051781  0.166864   \n",
       "23132  0.180277  0.188189 -0.135448 -0.034715 -0.180490  0.210587 -0.182120   \n",
       "27830  0.037454  0.160180 -0.155630 -0.445435 -0.341174  0.198358  0.214878   \n",
       "\n",
       "             78        79        80        81        82        83        84  \\\n",
       "19999 -0.190304  0.182028 -0.016585 -0.247426 -0.120706  0.183590 -0.048159   \n",
       "23132  0.000915  0.161706  0.291494 -0.314226 -0.057736  0.382665  0.046224   \n",
       "27830 -0.076205  0.257107 -0.028584 -0.404326 -0.411019  0.281391  0.126478   \n",
       "\n",
       "             85        86        87        88        89        90        91  \\\n",
       "19999  0.043180  0.529338  0.043475  0.034167 -0.109085  0.096811 -0.373736   \n",
       "23132  0.026607  0.536157  0.139671 -0.270350 -0.227796  0.096811 -0.373736   \n",
       "27830 -0.099777  0.123242  0.141774  0.023121 -0.086671 -0.130938 -0.258902   \n",
       "\n",
       "             92        93        94        95        96        97        98  \\\n",
       "19999  0.056738  0.025080 -0.139803 -0.293616  0.324745  0.094119 -0.386003   \n",
       "23132  0.056738  0.025080 -0.139803 -0.293616  0.324745  0.094119 -0.386003   \n",
       "27830  0.512391  0.477045 -0.030762  0.087987  0.266317  0.185262 -0.453104   \n",
       "\n",
       "             99       100       101       102       103       104       105  \\\n",
       "19999  0.159390  0.339464  0.204376  0.251734  0.042107 -0.615873  0.066171   \n",
       "23132  0.159390  0.339464  0.204376  0.251734  0.042107 -0.615873  0.066171   \n",
       "27830  0.166078  0.500584  0.298397 -0.143495  0.077598  0.184755 -0.074494   \n",
       "\n",
       "            106       107       108       109       110       111       112  \\\n",
       "19999  0.177275  0.079795  0.100547  0.126805  0.144082 -0.434278  0.090457   \n",
       "23132  0.177275  0.079795  0.100547  0.126805  0.144082 -0.434278  0.090457   \n",
       "27830  0.379380 -0.088012 -0.021602 -0.040197  0.239560  0.137803 -0.126008   \n",
       "\n",
       "            113       114       115       116       117       118       119  \\\n",
       "19999  0.270119  0.188996  0.139421  0.781980  0.036280 -0.026886 -0.031893   \n",
       "23132  0.270119  0.188996  0.139421  0.781980  0.036280 -0.026886 -0.031893   \n",
       "27830  0.335079  0.083810 -0.215399  0.616139  0.319316 -0.150413 -0.225699   \n",
       "\n",
       "            120       121       122       123       124       125       126  \\\n",
       "19999  0.187580  0.002364  0.324470 -0.082934 -0.187423  0.160577  0.451007   \n",
       "23132  0.634521 -0.467208 -0.116459 -0.229512  0.010131 -0.634214  0.421394   \n",
       "27830 -0.258284 -0.292665  0.328456  0.143571 -0.159788  0.090893  0.216613   \n",
       "\n",
       "            127       128       129       130       131       132       133  \\\n",
       "19999  0.024324  0.195196  0.087352  0.207194  0.214008 -0.281991 -0.489964   \n",
       "23132  0.433630  0.384118 -0.048732  0.025258 -0.068250 -0.319104 -0.781358   \n",
       "27830  0.292254 -0.338217 -0.096581  0.133656  0.191191 -0.078194  0.043092   \n",
       "\n",
       "            134       135       136       137       138       139       140  \\\n",
       "19999 -0.242401  0.054512 -0.030086 -0.064687 -0.887419  0.113949 -0.233530   \n",
       "23132 -0.630805  0.254464  0.460614 -0.222177 -0.286014  0.580446 -0.142911   \n",
       "27830 -0.262552 -0.020971  0.200211 -0.126805 -0.194086  0.243346  0.065336   \n",
       "\n",
       "            141       142       143       144       145       146       147  \\\n",
       "19999 -0.291259 -0.141796  0.469028 -0.410824 -0.558618  0.611981 -0.319466   \n",
       "23132 -0.531867 -0.121652  0.505264 -0.107479 -0.147909  0.819645  0.089407   \n",
       "27830  0.099994 -0.374874  0.273208  0.254550 -0.153148  0.489717  0.063104   \n",
       "\n",
       "            148       149       150       151       152       153       154  \\\n",
       "19999 -0.417289 -0.225011  0.073393 -0.148308 -0.265301 -0.567054  0.082415   \n",
       "23132 -0.515737 -0.108983  0.073393 -0.148308 -0.265301 -0.567054  0.082415   \n",
       "27830 -0.309111 -0.452519  0.073393 -0.148308 -0.265301 -0.567054  0.082415   \n",
       "\n",
       "            155       156       157       158       159       160       161  \\\n",
       "19999 -0.290091  0.585856  0.297383 -0.599376  0.098846  0.528446 -0.156033   \n",
       "23132 -0.290091  0.585856  0.297383 -0.599376  0.098846  0.528446 -0.156033   \n",
       "27830 -0.290091  0.585856  0.297383 -0.599376  0.098846  0.528446 -0.156033   \n",
       "\n",
       "            162       163       164       165      166       167       168  \\\n",
       "19999 -0.165829  0.197538 -0.838182  0.248059  0.09466 -0.162431 -0.033824   \n",
       "23132 -0.165829  0.197538 -0.838182  0.248059  0.09466 -0.162431 -0.033824   \n",
       "27830 -0.165829  0.197538 -0.838182  0.248059  0.09466 -0.162431 -0.033824   \n",
       "\n",
       "          169       170       171       172       173       174       175  \\\n",
       "19999  0.3998 -0.132172 -0.474925  0.767141  0.403591 -0.713355  0.519344   \n",
       "23132  0.3998 -0.132172 -0.474925  0.767141  0.403591 -0.713355  0.519344   \n",
       "27830  0.3998 -0.132172 -0.474925  0.767141  0.403591 -0.713355  0.519344   \n",
       "\n",
       "            176       177       178       179       180       181       182  \\\n",
       "19999  0.758146 -0.178119 -0.110252 -0.233838 -0.165574 -0.274602  0.318015   \n",
       "23132  0.758146 -0.178119 -0.110252 -0.233838 -0.165574 -0.274602  0.318015   \n",
       "27830  0.758146 -0.178119 -0.110252 -0.233838 -0.012079 -0.207196  0.375253   \n",
       "\n",
       "            183       184       185       186       187       188       189  \\\n",
       "19999 -0.056372 -0.286130  0.026785  0.179501  0.458623 -0.240476 -0.064590   \n",
       "23132 -0.056372 -0.286130  0.026785  0.179501  0.458623 -0.240476 -0.064590   \n",
       "27830  0.033008 -0.111318  0.037151  0.098346  0.343860 -0.273226  0.071692   \n",
       "\n",
       "            190       191       192       193       194       195       196  \\\n",
       "19999  0.094259  0.484273 -0.150808 -0.131647 -0.032485  0.127793  0.221601   \n",
       "23132  0.094259  0.484273 -0.150808 -0.131647 -0.032485  0.127793  0.221601   \n",
       "27830  0.330264  0.317229 -0.059002 -0.057168 -0.181095  0.044521  0.302098   \n",
       "\n",
       "            197       198       199       200       201       202       203  \\\n",
       "19999 -0.100044 -0.244020  0.134213  0.046266 -0.165784 -0.071744  0.253602   \n",
       "23132 -0.100044 -0.244020  0.134213  0.046266 -0.165784 -0.071744  0.253602   \n",
       "27830 -0.049912 -0.183535  0.021009  0.119437 -0.166756 -0.036911  0.362378   \n",
       "\n",
       "            204       205       206       207       208       209       210  \\\n",
       "19999 -0.106493  0.068744  0.527321  0.183170 -0.191628 -0.330677  0.107631   \n",
       "23132 -0.106493  0.068744  0.527321  0.183170 -0.191628 -0.330677  0.107631   \n",
       "27830 -0.115903  0.055663  0.525305  0.179827 -0.101319 -0.305782  0.107631   \n",
       "\n",
       "            211       212       213       214       215       216       217  \\\n",
       "19999  0.138283  0.566952  0.161691  0.590519  0.196585  0.662713 -0.228643   \n",
       "23132  0.138283  0.566952  0.161691  0.590519  0.196585  0.662713 -0.228643   \n",
       "27830  0.138283  0.566952  0.161691  0.590519  0.196585  0.662713 -0.228643   \n",
       "\n",
       "            218       219      220       221       222       223       224  \\\n",
       "19999  0.311351  0.411112  0.61908 -0.340898 -0.112317 -0.425883 -0.724303   \n",
       "23132  0.311351  0.411112  0.61908 -0.340898 -0.112317 -0.425883 -0.724303   \n",
       "27830  0.311351  0.411112  0.61908 -0.340898 -0.112317 -0.425883 -0.724303   \n",
       "\n",
       "            225       226       227       228       229       230       231  \\\n",
       "19999 -0.391587  0.751798 -0.190205 -0.684002  0.572923 -0.190265  0.415676   \n",
       "23132 -0.391587  0.751798 -0.190205 -0.684002  0.572923 -0.190265  0.415676   \n",
       "27830 -0.391587  0.751798 -0.190205 -0.684002  0.572923 -0.190265  0.415676   \n",
       "\n",
       "            232       233       234       235       236       237       238  \\\n",
       "19999 -0.198343  0.845804 -0.200511 -0.452876  0.112702  0.086674 -0.412944   \n",
       "23132 -0.198343  0.845804 -0.200511 -0.452876  0.112702  0.086674 -0.412944   \n",
       "27830 -0.198343  0.845804 -0.200511 -0.452876  0.112702  0.086674 -0.412944   \n",
       "\n",
       "          239  \n",
       "19999 -0.3534  \n",
       "23132 -0.3534  \n",
       "27830 -0.3534  "
      ]
     },
     "execution_count": 21,
     "metadata": {},
     "output_type": "execute_result"
    }
   ],
   "source": [
    "X_train2.head(3)"
   ]
  },
  {
   "cell_type": "code",
   "execution_count": null,
   "id": "e9f6b50b-cd79-4fca-ab2d-9c663834d0d2",
   "metadata": {},
   "outputs": [],
   "source": [
    "# Also standardize the test data (my_test_data)\n",
    "X_test_final_scaled = stc.transform(my_test_data.values)"
   ]
  },
  {
   "cell_type": "code",
   "execution_count": 32,
   "id": "6777d069-ed9b-4ad0-8087-43be5d9fedf7",
   "metadata": {},
   "outputs": [
    {
     "name": "stdout",
     "output_type": "stream",
     "text": [
      "Classifier: LR\n",
      "Mean Accuracy: 0.8509 ± 0.0034\n",
      "Mean Precision: 0.7389 ± 0.0100\n",
      "Mean Recall: 0.6157 ± 0.0070\n",
      "Mean F1 Score: 0.6717 ± 0.0070\n",
      "Mean ROC AUC: 0.9056 ± 0.0050\n",
      "Mean Computation Time: 1.1782 ± 0.0745 seconds\n",
      "\n",
      "Classifier: DT\n",
      "Mean Accuracy: 0.8373 ± 0.0037\n",
      "Mean Precision: 0.7723 ± 0.0146\n",
      "Mean Recall: 0.4867 ± 0.0050\n",
      "Mean F1 Score: 0.5971 ± 0.0080\n",
      "Mean ROC AUC: 0.8592 ± 0.0033\n",
      "Mean Computation Time: 0.3087 ± 0.0050 seconds\n",
      "\n",
      "Classifier: MLP\n"
     ]
    },
    {
     "name": "stderr",
     "output_type": "stream",
     "text": [
      "C:\\Users\\P70071469\\AppData\\Local\\anaconda3\\envs\\SLR\\lib\\site-packages\\scikeras\\wrappers.py:925: UserWarning: ``build_fn`` will be renamed to ``model`` in a future release, at which point use of ``build_fn`` will raise an Error instead.\n",
      "  X, y = self._initialize(X, y)\n",
      "C:\\Users\\P70071469\\AppData\\Local\\anaconda3\\envs\\SLR\\lib\\site-packages\\keras\\src\\layers\\core\\dense.py:87: UserWarning: Do not pass an `input_shape`/`input_dim` argument to a layer. When using Sequential models, prefer using an `Input(shape)` object as the first layer in the model instead.\n",
      "  super().__init__(activity_regularizer=activity_regularizer, **kwargs)\n",
      "C:\\Users\\P70071469\\AppData\\Local\\anaconda3\\envs\\SLR\\lib\\site-packages\\scikeras\\wrappers.py:925: UserWarning: ``build_fn`` will be renamed to ``model`` in a future release, at which point use of ``build_fn`` will raise an Error instead.\n",
      "  X, y = self._initialize(X, y)\n",
      "C:\\Users\\P70071469\\AppData\\Local\\anaconda3\\envs\\SLR\\lib\\site-packages\\keras\\src\\layers\\core\\dense.py:87: UserWarning: Do not pass an `input_shape`/`input_dim` argument to a layer. When using Sequential models, prefer using an `Input(shape)` object as the first layer in the model instead.\n",
      "  super().__init__(activity_regularizer=activity_regularizer, **kwargs)\n",
      "C:\\Users\\P70071469\\AppData\\Local\\anaconda3\\envs\\SLR\\lib\\site-packages\\scikeras\\wrappers.py:925: UserWarning: ``build_fn`` will be renamed to ``model`` in a future release, at which point use of ``build_fn`` will raise an Error instead.\n",
      "  X, y = self._initialize(X, y)\n",
      "C:\\Users\\P70071469\\AppData\\Local\\anaconda3\\envs\\SLR\\lib\\site-packages\\keras\\src\\layers\\core\\dense.py:87: UserWarning: Do not pass an `input_shape`/`input_dim` argument to a layer. When using Sequential models, prefer using an `Input(shape)` object as the first layer in the model instead.\n",
      "  super().__init__(activity_regularizer=activity_regularizer, **kwargs)\n",
      "C:\\Users\\P70071469\\AppData\\Local\\anaconda3\\envs\\SLR\\lib\\site-packages\\scikeras\\wrappers.py:925: UserWarning: ``build_fn`` will be renamed to ``model`` in a future release, at which point use of ``build_fn`` will raise an Error instead.\n",
      "  X, y = self._initialize(X, y)\n",
      "C:\\Users\\P70071469\\AppData\\Local\\anaconda3\\envs\\SLR\\lib\\site-packages\\keras\\src\\layers\\core\\dense.py:87: UserWarning: Do not pass an `input_shape`/`input_dim` argument to a layer. When using Sequential models, prefer using an `Input(shape)` object as the first layer in the model instead.\n",
      "  super().__init__(activity_regularizer=activity_regularizer, **kwargs)\n",
      "C:\\Users\\P70071469\\AppData\\Local\\anaconda3\\envs\\SLR\\lib\\site-packages\\scikeras\\wrappers.py:925: UserWarning: ``build_fn`` will be renamed to ``model`` in a future release, at which point use of ``build_fn`` will raise an Error instead.\n",
      "  X, y = self._initialize(X, y)\n",
      "C:\\Users\\P70071469\\AppData\\Local\\anaconda3\\envs\\SLR\\lib\\site-packages\\keras\\src\\layers\\core\\dense.py:87: UserWarning: Do not pass an `input_shape`/`input_dim` argument to a layer. When using Sequential models, prefer using an `Input(shape)` object as the first layer in the model instead.\n",
      "  super().__init__(activity_regularizer=activity_regularizer, **kwargs)\n"
     ]
    },
    {
     "name": "stdout",
     "output_type": "stream",
     "text": [
      "Mean Accuracy: 0.8349 ± 0.0050\n",
      "Mean Precision: 0.6996 ± 0.0310\n",
      "Mean Recall: 0.5899 ± 0.0342\n",
      "Mean F1 Score: 0.6386 ± 0.0103\n",
      "Mean ROC AUC: 0.8832 ± 0.0087\n",
      "Mean Computation Time: 31.3330 ± 5.7525 seconds\n",
      "\n",
      "  Classifier  Mean Accuracy  STD Accuracy  Mean Precision  STD Precision  \\\n",
      "0         LR       0.850938      0.003399        0.738916       0.010026   \n",
      "1         DT       0.837324      0.003732        0.772328       0.014577   \n",
      "2        MLP       0.834871      0.004961        0.699627       0.031037   \n",
      "\n",
      "   Mean Recall  STD Recall  Mean F1 Score  STD F1 Score  Mean ROC AUC  \\\n",
      "0     0.615737    0.007035       0.671694      0.006960      0.905596   \n",
      "1     0.486674    0.004991       0.597080      0.007959      0.859215   \n",
      "2     0.589932    0.034207       0.638570      0.010310      0.883205   \n",
      "\n",
      "   STD ROC AUC  Mean Computation Time  STD Computation Time  \n",
      "0     0.004966               1.178222              0.074512  \n",
      "1     0.003252               0.308726              0.004981  \n",
      "2     0.008666              31.333043              5.752525  \n",
      "Evaluation on validation set (X_test2, y_test2):\n",
      "Final Evaluation for Classifier: LR\n",
      "[[5024  398]\n",
      " [ 712 1102]]\n",
      "              precision    recall  f1-score   support\n",
      "\n",
      "           0     0.8759    0.9266    0.9005      5422\n",
      "           1     0.7347    0.6075    0.6651      1814\n",
      "\n",
      "    accuracy                         0.8466      7236\n",
      "   macro avg     0.8053    0.7670    0.7828      7236\n",
      "weighted avg     0.8405    0.8466    0.8415      7236\n",
      "\n",
      "ROC AUC Score: 0.9036\n",
      "Computation Time: 1.5246 seconds\n",
      "\n",
      "Final Evaluation for Classifier: DT\n",
      "[[5155  267]\n",
      " [ 932  882]]\n",
      "              precision    recall  f1-score   support\n",
      "\n",
      "           0     0.8469    0.9508    0.8958      5422\n",
      "           1     0.7676    0.4862    0.5953      1814\n",
      "\n",
      "    accuracy                         0.8343      7236\n",
      "   macro avg     0.8073    0.7185    0.7456      7236\n",
      "weighted avg     0.8270    0.8343    0.8205      7236\n",
      "\n",
      "ROC AUC Score: 0.8529\n",
      "Computation Time: 0.3380 seconds\n",
      "\n",
      "Final Evaluation for Classifier: MLP\n"
     ]
    },
    {
     "name": "stderr",
     "output_type": "stream",
     "text": [
      "C:\\Users\\P70071469\\AppData\\Local\\anaconda3\\envs\\SLR\\lib\\site-packages\\scikeras\\wrappers.py:925: UserWarning: ``build_fn`` will be renamed to ``model`` in a future release, at which point use of ``build_fn`` will raise an Error instead.\n",
      "  X, y = self._initialize(X, y)\n",
      "C:\\Users\\P70071469\\AppData\\Local\\anaconda3\\envs\\SLR\\lib\\site-packages\\keras\\src\\layers\\core\\dense.py:87: UserWarning: Do not pass an `input_shape`/`input_dim` argument to a layer. When using Sequential models, prefer using an `Input(shape)` object as the first layer in the model instead.\n",
      "  super().__init__(activity_regularizer=activity_regularizer, **kwargs)\n"
     ]
    },
    {
     "name": "stdout",
     "output_type": "stream",
     "text": [
      "[[4913  509]\n",
      " [ 694 1120]]\n",
      "              precision    recall  f1-score   support\n",
      "\n",
      "           0     0.8762    0.9061    0.8909      5422\n",
      "           1     0.6875    0.6174    0.6506      1814\n",
      "\n",
      "    accuracy                         0.8337      7236\n",
      "   macro avg     0.7819    0.7618    0.7708      7236\n",
      "weighted avg     0.8289    0.8337    0.8307      7236\n",
      "\n",
      "ROC AUC Score: 0.8878\n",
      "Computation Time: 37.2473 seconds\n",
      "\n",
      "Evaluation on test set (my_test_data, y_test):\n",
      "Final Evaluation for Classifier: LR\n",
      "[[6283  535]\n",
      " [ 893 1334]]\n",
      "              precision    recall  f1-score   support\n",
      "\n",
      "           0     0.8756    0.9215    0.8980      6818\n",
      "           1     0.7138    0.5990    0.6514      2227\n",
      "\n",
      "    accuracy                         0.8421      9045\n",
      "   macro avg     0.7947    0.7603    0.7747      9045\n",
      "weighted avg     0.8357    0.8421    0.8372      9045\n",
      "\n",
      "ROC AUC Score: 0.8995\n",
      "Computation Time: 1.9372 seconds\n",
      "\n",
      "Final Evaluation for Classifier: DT\n",
      "[[6470  348]\n",
      " [1138 1089]]\n",
      "              precision    recall  f1-score   support\n",
      "\n",
      "           0     0.8504    0.9490    0.8970      6818\n",
      "           1     0.7578    0.4890    0.5944      2227\n",
      "\n",
      "    accuracy                         0.8357      9045\n",
      "   macro avg     0.8041    0.7190    0.7457      9045\n",
      "weighted avg     0.8276    0.8357    0.8225      9045\n",
      "\n",
      "ROC AUC Score: 0.8521\n",
      "Computation Time: 0.4285 seconds\n",
      "\n",
      "Final Evaluation for Classifier: MLP\n"
     ]
    },
    {
     "name": "stderr",
     "output_type": "stream",
     "text": [
      "C:\\Users\\P70071469\\AppData\\Local\\anaconda3\\envs\\SLR\\lib\\site-packages\\scikeras\\wrappers.py:925: UserWarning: ``build_fn`` will be renamed to ``model`` in a future release, at which point use of ``build_fn`` will raise an Error instead.\n",
      "  X, y = self._initialize(X, y)\n",
      "C:\\Users\\P70071469\\AppData\\Local\\anaconda3\\envs\\SLR\\lib\\site-packages\\keras\\src\\layers\\core\\dense.py:87: UserWarning: Do not pass an `input_shape`/`input_dim` argument to a layer. When using Sequential models, prefer using an `Input(shape)` object as the first layer in the model instead.\n",
      "  super().__init__(activity_regularizer=activity_regularizer, **kwargs)\n"
     ]
    },
    {
     "name": "stdout",
     "output_type": "stream",
     "text": [
      "[[6099  719]\n",
      " [ 744 1483]]\n",
      "              precision    recall  f1-score   support\n",
      "\n",
      "           0     0.8913    0.8945    0.8929      6818\n",
      "           1     0.6735    0.6659    0.6697      2227\n",
      "\n",
      "    accuracy                         0.8383      9045\n",
      "   macro avg     0.7824    0.7802    0.7813      9045\n",
      "weighted avg     0.8377    0.8383    0.8379      9045\n",
      "\n",
      "ROC AUC Score: 0.8896\n",
      "Computation Time: 45.8393 seconds\n",
      "\n"
     ]
    }
   ],
   "source": [
    "from sklearn.metrics import accuracy_score, precision_score, recall_score, f1_score, roc_auc_score\n",
    "from sklearn.model_selection import StratifiedKFold\n",
    "from sklearn.base import clone\n",
    "import random\n",
    "# Set the random seed for reproducibility\n",
    "import time\n",
    "\n",
    "random.seed(42)\n",
    "np.random.seed(42)\n",
    "\n",
    "# Define number of runs for cross-validation\n",
    "n_runs = 5\n",
    "kf = StratifiedKFold(n_splits=n_runs, shuffle=True, random_state=seed)\n",
    "seed=42\n",
    "# Initialize list to store results\n",
    "results = []\n",
    "\n",
    "\n",
    "models = [\n",
    "    ('LR', LogisticRegression(solver='lbfgs', random_state=seed, max_iter=1000)),\n",
    "    ('DT', DecisionTreeClassifier(criterion='entropy', max_depth=3, random_state=seed)),\n",
    "    ('RF', RandomForestClassifier(n_estimators=200, max_depth=5, random_state=seed, min_samples_leaf=3)),\n",
    "    ('KNN', KNeighborsClassifier(n_neighbors=3)),\n",
    "    ('XGB', XGBClassifier(eval_metric='logloss')),\n",
    "    ('MLP', KerasClassifier(build_fn=create_network, number_of_features=my_data.shape[1], epochs=100, batch_size=100, verbose=0)),\n",
    "    ('SVM', SVC(gamma='scale', random_state=seed, probability=True))\n",
    "    \n",
    "]\n",
    "\n",
    "# Define number of runs for cross-validation\n",
    "n_runs = 5\n",
    "kf = StratifiedKFold(n_splits=n_runs, shuffle=True, random_state=42)\n",
    "\n",
    "# Initialize list to store results\n",
    "results = []\n",
    "\n",
    "# Loop over the models\n",
    "for name, model in models:\n",
    "    print(f\"Classifier: {name}\")\n",
    "\n",
    "    # Lists to store metrics for each fold\n",
    "    accuracy_scores = []\n",
    "    precision_scores = []\n",
    "    recall_scores = []\n",
    "    f1_scores = []\n",
    "    roc_auc_scores = []\n",
    "    computation_times = []\n",
    "\n",
    "    # Perform cross-validation\n",
    "    for train_idx, val_idx in kf.split(X_scaled, y_train2):\n",
    "        # Clone the model to ensure fresh training for each fold\n",
    "        if name == 'MLP':\n",
    "            # For KerasClassifier, re-instantiate to reset weights\n",
    "            clf = KerasClassifier(build_fn=lambda: create_network(X_scaled.shape[1]),\n",
    "                                  epochs=100, batch_size=100, verbose=0, random_state=seed)\n",
    "        else:\n",
    "            clf = clone(model)\n",
    "\n",
    "        X_train_fold, X_val_fold = X_scaled[train_idx], X_scaled[val_idx]\n",
    "        y_train_fold, y_val_fold = y_train2.iloc[train_idx], y_train2.iloc[val_idx]\n",
    "\n",
    "        start_time = time.time()  # Start time\n",
    "\n",
    "        clf.fit(X_train_fold, y_train_fold)\n",
    "        y_pred = clf.predict(X_val_fold)\n",
    "\n",
    "        # Handle probability predictions\n",
    "        if hasattr(clf, \"predict_proba\"):\n",
    "            y_pred_prob = clf.predict_proba(X_val_fold)[:, 1]\n",
    "        elif hasattr(clf, \"decision_function\"):\n",
    "            # For classifiers like SVM\n",
    "            y_scores = clf.decision_function(X_val_fold)\n",
    "            # Convert scores to probabilities using a sigmoid function\n",
    "            from scipy.special import expit\n",
    "            y_pred_prob = expit(y_scores)\n",
    "        else:\n",
    "            # If probability estimates are not available, use binary predictions\n",
    "            y_pred_prob = y_pred\n",
    "\n",
    "        end_time = time.time()  # End time\n",
    "        computation_time = end_time - start_time  # Computation time\n",
    "\n",
    "        # Append metrics for this fold\n",
    "        accuracy_scores.append(accuracy_score(y_val_fold, y_pred))\n",
    "        precision_scores.append(precision_score(y_val_fold, y_pred, zero_division=0))\n",
    "        recall_scores.append(recall_score(y_val_fold, y_pred, zero_division=0))\n",
    "        f1_scores.append(f1_score(y_val_fold, y_pred, zero_division=0))\n",
    "        roc_auc_scores.append(roc_auc_score(y_val_fold, y_pred_prob))\n",
    "        computation_times.append(computation_time)\n",
    "\n",
    "    # Compute mean and standard deviation of all metrics\n",
    "    mean_accuracy = np.mean(accuracy_scores)\n",
    "    std_accuracy = np.std(accuracy_scores)\n",
    "\n",
    "    mean_precision = np.mean(precision_scores)\n",
    "    std_precision = np.std(precision_scores)\n",
    "\n",
    "    mean_recall = np.mean(recall_scores)\n",
    "    std_recall = np.std(recall_scores)\n",
    "\n",
    "    mean_f1 = np.mean(f1_scores)\n",
    "    std_f1 = np.std(f1_scores)\n",
    "\n",
    "    mean_roc_auc = np.mean(roc_auc_scores)\n",
    "    std_roc_auc = np.std(roc_auc_scores)\n",
    "\n",
    "    mean_time = np.mean(computation_times)\n",
    "    std_time = np.std(computation_times)\n",
    "\n",
    "    # Store results for the current model\n",
    "    results.append({\n",
    "        \"Classifier\": name,\n",
    "        \"Mean Accuracy\": mean_accuracy, \"STD Accuracy\": std_accuracy,\n",
    "        \"Mean Precision\": mean_precision, \"STD Precision\": std_precision,\n",
    "        \"Mean Recall\": mean_recall, \"STD Recall\": std_recall,\n",
    "        \"Mean F1 Score\": mean_f1, \"STD F1 Score\": std_f1,\n",
    "        \"Mean ROC AUC\": mean_roc_auc, \"STD ROC AUC\": std_roc_auc,\n",
    "        \"Mean Computation Time\": mean_time, \"STD Computation Time\": std_time\n",
    "    })\n",
    "\n",
    "    # Print results\n",
    "    print(f\"Mean Accuracy: {mean_accuracy:.4f} ± {std_accuracy:.4f}\")\n",
    "    print(f\"Mean Precision: {mean_precision:.4f} ± {std_precision:.4f}\")\n",
    "    print(f\"Mean Recall: {mean_recall:.4f} ± {std_recall:.4f}\")\n",
    "    print(f\"Mean F1 Score: {mean_f1:.4f} ± {std_f1:.4f}\")\n",
    "    print(f\"Mean ROC AUC: {mean_roc_auc:.4f} ± {std_roc_auc:.4f}\")\n",
    "    print(f\"Mean Computation Time: {mean_time:.4f} ± {std_time:.4f} seconds\")\n",
    "    print()\n",
    "\n",
    "# Create a DataFrame to display all results\n",
    "results_df = pd.DataFrame(results)\n",
    "print(results_df)\n",
    "X_test_scaled = stc.transform(X_test2.values)\n",
    "X_test_final_scaled = stc.transform(my_test_data.values)\n",
    "\n",
    "# Also standardize the test data (my_test_data)\n",
    "X_test_final_scaled = stc.transform(my_test_data.values)\n",
    "# Final evaluation on the validation set (X_test2, y_test2)\n",
    "print(\"Evaluation on validation set (X_test2, y_test2):\")\n",
    "for name, model in models:\n",
    "    print(f\"Final Evaluation for Classifier: {name}\")\n",
    "    start_time = time.time()\n",
    "    if name == 'MLP':\n",
    "        model = KerasClassifier(build_fn=lambda: create_network(X_scaled.shape[1]),\n",
    "                                epochs=100, batch_size=100, verbose=0, random_state=seed)\n",
    "    else:\n",
    "        model = clone(model)\n",
    "    model.fit(X_scaled, y_train2)\n",
    "    end_time = time.time()\n",
    "    computation_time = end_time - start_time\n",
    "\n",
    "    y_pred_test = model.predict(X_test_scaled)\n",
    "\n",
    "    if hasattr(model, \"predict_proba\"):\n",
    "        y_pred_prob_test = model.predict_proba(X_test_scaled)[:, 1]\n",
    "    elif hasattr(model, \"decision_function\"):\n",
    "        y_scores = model.decision_function(X_test_scaled)\n",
    "        from scipy.special import expit\n",
    "        y_pred_prob_test = expit(y_scores)\n",
    "    else:\n",
    "        y_pred_prob_test = y_pred_test\n",
    "\n",
    "    print(confusion_matrix(y_test2, y_pred_test))\n",
    "    print(classification_report(y_test2, y_pred_test, digits=4))\n",
    "    print(f\"ROC AUC Score: {roc_auc_score(y_test2, y_pred_prob_test):.4f}\")\n",
    "    print(f\"Computation Time: {computation_time:.4f} seconds\")\n",
    "    print()\n",
    "\n",
    "# Final evaluation on the test set (my_test_data, y_test)\n",
    "print(\"Evaluation on test set (my_test_data, y_test):\")\n",
    "for name, model in models:\n",
    "    print(f\"Final Evaluation for Classifier: {name}\")\n",
    "    start_time = time.time()\n",
    "    if name == 'MLP':\n",
    "        model = KerasClassifier(build_fn=lambda: create_network(X_scaled.shape[1]),\n",
    "                                epochs=100, batch_size=100, verbose=0, random_state=seed)\n",
    "    else:\n",
    "        model = clone(model)\n",
    "    # Combine X_scaled and X_test_scaled for final training\n",
    "    X_combined = np.vstack((X_scaled, X_test_scaled))\n",
    "    y_combined = pd.concat([y_train2.reset_index(drop=True), y_test2.reset_index(drop=True)], ignore_index=True)\n",
    "    model.fit(X_combined, y_combined)\n",
    "    end_time = time.time()\n",
    "    computation_time = end_time - start_time\n",
    "\n",
    "    y_pred_test = model.predict(X_test_final_scaled)\n",
    "\n",
    "    if hasattr(model, \"predict_proba\"):\n",
    "        y_pred_prob_test = model.predict_proba(X_test_final_scaled)[:, 1]\n",
    "    elif hasattr(model, \"decision_function\"):\n",
    "        y_scores = model.decision_function(X_test_final_scaled)\n",
    "        from scipy.special import expit\n",
    "        y_pred_prob_test = expit(y_scores)\n",
    "    else:\n",
    "        y_pred_prob_test = y_pred_test\n",
    "\n",
    "    print(confusion_matrix(y_test, y_pred_test))\n",
    "    print(classification_report(y_test, y_pred_test, digits=4))\n",
    "    print(f\"ROC AUC Score: {roc_auc_score(y_test, y_pred_prob_test):.4f}\")\n",
    "    print(f\"Computation Time: {computation_time:.4f} seconds\")\n",
    "    print()\n",
    "\n"
   ]
  },
  {
   "cell_type": "code",
   "execution_count": 31,
   "id": "09e04e55",
   "metadata": {},
   "outputs": [
    {
     "name": "stdout",
     "output_type": "stream",
     "text": [
      "Classifier: LR\n",
      "Computation Time: 2.609105348587036 seconds\n",
      "[[6281  537]\n",
      " [ 894 1333]]\n",
      "              precision    recall  f1-score   support\n",
      "\n",
      "           0     0.8754    0.9212    0.8977      6818\n",
      "           1     0.7128    0.5986    0.6507      2227\n",
      "\n",
      "    accuracy                         0.8418      9045\n",
      "   macro avg     0.7941    0.7599    0.7742      9045\n",
      "weighted avg     0.8354    0.8418    0.8369      9045\n",
      "\n",
      "0.899425277893655\n",
      "\n",
      "Classifier: DT\n",
      "Computation Time: 0.4590764045715332 seconds\n",
      "[[6470  348]\n",
      " [1138 1089]]\n",
      "              precision    recall  f1-score   support\n",
      "\n",
      "           0     0.8504    0.9490    0.8970      6818\n",
      "           1     0.7578    0.4890    0.5944      2227\n",
      "\n",
      "    accuracy                         0.8357      9045\n",
      "   macro avg     0.8041    0.7190    0.7457      9045\n",
      "weighted avg     0.8276    0.8357    0.8225      9045\n",
      "\n",
      "0.8521044889890373\n",
      "\n",
      "Classifier: RF\n",
      "Computation Time: 8.663427829742432 seconds\n",
      "[[6407  411]\n",
      " [1104 1123]]\n",
      "              precision    recall  f1-score   support\n",
      "\n",
      "           0     0.8530    0.9397    0.8943      6818\n",
      "           1     0.7321    0.5043    0.5972      2227\n",
      "\n",
      "    accuracy                         0.8325      9045\n",
      "   macro avg     0.7925    0.7220    0.7457      9045\n",
      "weighted avg     0.8232    0.8325    0.8211      9045\n",
      "\n",
      "0.8819480658385586\n",
      "\n",
      "Classifier: KNN\n",
      "Computation Time: 0.06999802589416504 seconds\n",
      "[[6027  791]\n",
      " [ 999 1228]]\n",
      "              precision    recall  f1-score   support\n",
      "\n",
      "           0     0.8578    0.8840    0.8707      6818\n",
      "           1     0.6082    0.5514    0.5784      2227\n",
      "\n",
      "    accuracy                         0.8021      9045\n",
      "   macro avg     0.7330    0.7177    0.7246      9045\n",
      "weighted avg     0.7964    0.8021    0.7987      9045\n",
      "\n",
      "0.79296334895229\n",
      "\n",
      "Classifier: XGB\n",
      "Computation Time: 16.44444441795349 seconds\n",
      "[[6329  489]\n",
      " [ 748 1479]]\n",
      "              precision    recall  f1-score   support\n",
      "\n",
      "           0     0.8943    0.9283    0.9110      6818\n",
      "           1     0.7515    0.6641    0.7051      2227\n",
      "\n",
      "    accuracy                         0.8632      9045\n",
      "   macro avg     0.8229    0.7962    0.8081      9045\n",
      "weighted avg     0.8592    0.8632    0.8603      9045\n",
      "\n",
      "0.9240870431593489\n",
      "\n",
      "Classifier: SVM\n",
      "Computation Time: 1355.939424276352 seconds\n",
      "[[6328  490]\n",
      " [ 978 1249]]\n",
      "              precision    recall  f1-score   support\n",
      "\n",
      "           0     0.8661    0.9281    0.8961      6818\n",
      "           1     0.7182    0.5608    0.6299      2227\n",
      "\n",
      "    accuracy                         0.8377      9045\n",
      "   macro avg     0.7922    0.7445    0.7630      9045\n",
      "weighted avg     0.8297    0.8377    0.8305      9045\n",
      "\n",
      "0.8850757319401887\n",
      "\n"
     ]
    },
    {
     "name": "stderr",
     "output_type": "stream",
     "text": [
      "C:\\Users\\P70071469\\AppData\\Local\\anaconda3\\envs\\SLR\\lib\\site-packages\\scikeras\\wrappers.py:925: UserWarning: ``build_fn`` will be renamed to ``model`` in a future release, at which point use of ``build_fn`` will raise an Error instead.\n",
      "  X, y = self._initialize(X, y)\n",
      "C:\\Users\\P70071469\\AppData\\Local\\anaconda3\\envs\\SLR\\lib\\site-packages\\keras\\src\\layers\\core\\dense.py:87: UserWarning: Do not pass an `input_shape`/`input_dim` argument to a layer. When using Sequential models, prefer using an `Input(shape)` object as the first layer in the model instead.\n",
      "  super().__init__(activity_regularizer=activity_regularizer, **kwargs)\n"
     ]
    },
    {
     "name": "stdout",
     "output_type": "stream",
     "text": [
      "Classifier: MLP\n",
      "Computation Time: 39.61129379272461 seconds\n",
      "[[6086  732]\n",
      " [ 802 1425]]\n",
      "              precision    recall  f1-score   support\n",
      "\n",
      "           0     0.8836    0.8926    0.8881      6818\n",
      "           1     0.6606    0.6399    0.6501      2227\n",
      "\n",
      "    accuracy                         0.8304      9045\n",
      "   macro avg     0.7721    0.7663    0.7691      9045\n",
      "weighted avg     0.8287    0.8304    0.8295      9045\n",
      "\n",
      "0.881198544279696\n",
      "\n"
     ]
    }
   ],
   "source": [
    "seed=42\n",
    "models = [\n",
    "    ('LR', LogisticRegression(solver='lbfgs', random_state=seed, max_iter=1000)),\n",
    "    ('DT', DecisionTreeClassifier(criterion='entropy', max_depth=3, random_state=seed)),\n",
    "    #    3('RF', RandomForestClassifier(n_estimators=200, max_depth=5, random_state=seed, min_samples_leaf=3)),\n",
    "    #('KNN', KNeighborsClassifier(n_neighbors=3)),\n",
    "    #('XGB', XGBClassifier(eval_metric='logloss')),\n",
    "   # ('SVM', SVC(gamma='scale', random_state=seed, probability=True)),\n",
    "    ('MLP', KerasClassifier(build_fn=create_network, number_of_features=my_data.shape[1], epochs=100, batch_size=100, verbose=0))\n",
    "]\n",
    "\n",
    "for name, classifier in models:\n",
    "    start_time = time.time()\n",
    "    classifier.fit(X_scaled, y_train2)\n",
    "    end_time = time.time()\n",
    "    elapsed_time = end_time - start_time\n",
    "\n",
    "    print(f\"Classifier: {name}\")\n",
    "    print(f\"Computation Time: {elapsed_time} seconds\")      \n",
    "#     y_pred = classifier.predict(stc.transform(X_test2.values))\n",
    "#     y_pred_prob = classifier.predict_proba(stc.transform(X_test2.values))\n",
    "\n",
    "#     print(confusion_matrix(y_test2,y_pred))\n",
    "#     print(classification_report(y_test2,y_pred, digits=4))\n",
    "#     print(roc_auc_score(y_test2,y_pred_prob[:,1]))\n",
    "    \n",
    "    y_pred_test = classifier.predict(stc.transform(my_test_data.values))\n",
    "    y_pred_prob_test = classifier.predict_proba(stc.transform(my_test_data.values))\n",
    "\n",
    "    print(confusion_matrix(y_test,y_pred_test))\n",
    "    print(classification_report(y_test,y_pred_test, digits=4))\n",
    "\n",
    "    print(roc_auc_score(y_test,y_pred_prob_test[:,1]))\n",
    "    print()\n",
    "  # Define number of runs for cross-validation\n"
   ]
  }
 ],
 "metadata": {
  "kernelspec": {
   "display_name": "Python 3 (ipykernel)",
   "language": "python",
   "name": "python3"
  },
  "language_info": {
   "codemirror_mode": {
    "name": "ipython",
    "version": 3
   },
   "file_extension": ".py",
   "mimetype": "text/x-python",
   "name": "python",
   "nbconvert_exporter": "python",
   "pygments_lexer": "ipython3",
   "version": "3.9.20"
  }
 },
 "nbformat": 4,
 "nbformat_minor": 5
}
